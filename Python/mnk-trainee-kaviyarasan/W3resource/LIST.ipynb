{
 "cells": [
  {
   "cell_type": "markdown",
   "id": "8b352fd1-2b12-4b1f-86b7-322f78cc5923",
   "metadata": {},
   "source": [
    "list"
   ]
  },
  {
   "cell_type": "code",
   "execution_count": 2,
   "id": "c81010d0-2dbf-4d0a-a980-1107c2bacb4c",
   "metadata": {},
   "outputs": [
    {
     "name": "stdout",
     "output_type": "stream",
     "text": [
      "9\n"
     ]
    }
   ],
   "source": [
    "'''1. Sum Items in List\n",
    "\n",
    "Write a Python program to sum all the items in a list.'''\n",
    "\n",
    "list1 = [4,5,6,-2,-4]\n",
    "\n",
    "sum_num = 0\n",
    "for i in list1:\n",
    "    sum_num += i\n",
    "print(sum_num)\n",
    "    "
   ]
  },
  {
   "cell_type": "code",
   "execution_count": 3,
   "id": "39ecd17f-e154-41c0-815c-446ac20ce4c6",
   "metadata": {},
   "outputs": [
    {
     "name": "stdout",
     "output_type": "stream",
     "text": [
      "960\n"
     ]
    }
   ],
   "source": [
    "'''2. Multiply Items in List\n",
    "\n",
    "Write a Python program to multiply all the items in a list.'''\n",
    "\n",
    "list1 = [4,5,6,-2,-4]\n",
    "\n",
    "mul_num = 1\n",
    "for i in list1:\n",
    "    mul_num *= i\n",
    "print(mul_num)\n"
   ]
  },
  {
   "cell_type": "code",
   "execution_count": 5,
   "id": "abb50432-c4b9-4a12-b619-648ac8d3334e",
   "metadata": {},
   "outputs": [
    {
     "name": "stdout",
     "output_type": "stream",
     "text": [
      "11\n"
     ]
    }
   ],
   "source": [
    "'''3. Get Largest Number in List\n",
    "\n",
    "Write a Python program to get the largest number from a list.'''\n",
    "list1 = [4,5,6,-2,-4,11]\n",
    "\n",
    "large = list1[0]\n",
    "for i in list1:\n",
    "    if i > large:\n",
    "        large = i \n",
    "print(large)"
   ]
  },
  {
   "cell_type": "code",
   "execution_count": 6,
   "id": "53aaadc6-0714-4ea2-9087-6d464c0c7084",
   "metadata": {},
   "outputs": [
    {
     "name": "stdout",
     "output_type": "stream",
     "text": [
      "-4\n"
     ]
    }
   ],
   "source": [
    "'''4. Get Smallest Number in List\n",
    "\n",
    "Write a Python program to get the smallest number from a list.'''\n",
    "list1 = [4,5,6,-2,-4,11]\n",
    "large = list1[0]\n",
    "for i in list1:\n",
    "    if i < large:\n",
    "        large = i \n",
    "print(large)"
   ]
  },
  {
   "cell_type": "code",
   "execution_count": 7,
   "id": "7921d844-0aab-45bb-a344-70f979cc6db9",
   "metadata": {},
   "outputs": [
    {
     "name": "stdout",
     "output_type": "stream",
     "text": [
      "2\n"
     ]
    }
   ],
   "source": [
    "'''5. Count Strings with Same Start and End\n",
    "\n",
    "Write a Python program to count the number of strings from a given list of strings. The string length is 2 or more and the first and last characters are the same.\n",
    "Sample List : ['abc', 'xyz', 'aba', '1221']\n",
    "Expected Result : 2'''\n",
    "\n",
    "List  = ['abc', 'xyz', 'aba', '1221']\n",
    "count = 0\n",
    "for i in List:\n",
    "    if i[0] == i[-1]:\n",
    "        count += 1\n",
    "print(count)\n",
    "        "
   ]
  },
  {
   "cell_type": "code",
   "execution_count": 9,
   "id": "a84b98eb-bf04-4b11-89f4-f9057f3d8748",
   "metadata": {},
   "outputs": [
    {
     "name": "stdout",
     "output_type": "stream",
     "text": [
      "[(2, 1), (1, 2), (2, 3), (4, 4), (2, 5)]\n"
     ]
    }
   ],
   "source": [
    "'''6. Sort Tuples by Last Element\n",
    "\n",
    "Write a Python program to get a list, sorted in increasing order by the last element in each tuple from a given list of non-empty tuples.\n",
    "Sample List : [(2, 5), (1, 2), (4, 4), (2, 3), (2, 1)]\n",
    "Expected Result : [(2, 1), (1, 2), (2, 3), (4, 4), (2, 5)]'''\n",
    "List = [(2, 5), (1, 2), (4, 4), (2, 3), (2, 1)]\n",
    "\n",
    "def last(n):\n",
    "    return n[-1]\n",
    "    \n",
    "def sort_list_last(tuples):  \n",
    "    return sorted(tuples, key=last)\n",
    "\n",
    "print(sort_list_last(List))"
   ]
  },
  {
   "cell_type": "code",
   "execution_count": 12,
   "id": "8d5f0a88-a63f-45a7-8e39-c8a7cb4f3cca",
   "metadata": {},
   "outputs": [
    {
     "name": "stdout",
     "output_type": "stream",
     "text": [
      "[1, 2, 3, 4, 5, 6, 8, 93]\n"
     ]
    }
   ],
   "source": [
    "'''7. Remove Duplicates from List\n",
    "\n",
    "Write a Python program to remove duplicates from a list.'''\n",
    "\n",
    "List = [1,1,2,2,3,8,8,93,2,4,5,6,2,4,4,5]\n",
    "\n",
    "print(list(set(List)))"
   ]
  },
  {
   "cell_type": "code",
   "execution_count": null,
   "id": "76dfbf39-e8e8-45dd-8219-52160f98a73b",
   "metadata": {},
   "outputs": [],
   "source": []
  }
 ],
 "metadata": {
  "kernelspec": {
   "display_name": "Python 3 (ipykernel)",
   "language": "python",
   "name": "python3"
  },
  "language_info": {
   "codemirror_mode": {
    "name": "ipython",
    "version": 3
   },
   "file_extension": ".py",
   "mimetype": "text/x-python",
   "name": "python",
   "nbconvert_exporter": "python",
   "pygments_lexer": "ipython3",
   "version": "3.10.0"
  }
 },
 "nbformat": 4,
 "nbformat_minor": 5
}
