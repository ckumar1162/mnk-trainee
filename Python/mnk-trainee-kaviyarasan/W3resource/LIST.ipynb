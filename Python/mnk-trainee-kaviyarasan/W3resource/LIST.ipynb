{
 "cells": [
  {
   "cell_type": "markdown",
   "id": "8b352fd1-2b12-4b1f-86b7-322f78cc5923",
   "metadata": {},
   "source": [
    "list"
   ]
  },
  {
   "cell_type": "code",
   "execution_count": 2,
   "id": "c81010d0-2dbf-4d0a-a980-1107c2bacb4c",
   "metadata": {},
   "outputs": [
    {
     "name": "stdout",
     "output_type": "stream",
     "text": [
      "9\n"
     ]
    }
   ],
   "source": [
    "'''1. Sum Items in List\n",
    "\n",
    "Write a Python program to sum all the items in a list.'''\n",
    "\n",
    "list1 = [4,5,6,-2,-4]\n",
    "\n",
    "sum_num = 0\n",
    "for i in list1:\n",
    "    sum_num += i\n",
    "print(sum_num)\n",
    "    "
   ]
  },
  {
   "cell_type": "code",
   "execution_count": 3,
   "id": "39ecd17f-e154-41c0-815c-446ac20ce4c6",
   "metadata": {},
   "outputs": [
    {
     "name": "stdout",
     "output_type": "stream",
     "text": [
      "960\n"
     ]
    }
   ],
   "source": [
    "'''2. Multiply Items in List\n",
    "\n",
    "Write a Python program to multiply all the items in a list.'''\n",
    "\n",
    "list1 = [4,5,6,-2,-4]\n",
    "\n",
    "mul_num = 1\n",
    "for i in list1:\n",
    "    mul_num *= i\n",
    "print(mul_num)\n"
   ]
  },
  {
   "cell_type": "code",
   "execution_count": 5,
   "id": "abb50432-c4b9-4a12-b619-648ac8d3334e",
   "metadata": {},
   "outputs": [
    {
     "name": "stdout",
     "output_type": "stream",
     "text": [
      "11\n"
     ]
    }
   ],
   "source": [
    "'''3. Get Largest Number in List\n",
    "\n",
    "Write a Python program to get the largest number from a list.'''\n",
    "list1 = [4,5,6,-2,-4,11]\n",
    "\n",
    "large = list1[0]\n",
    "for i in list1:\n",
    "    if i > large:\n",
    "        large = i \n",
    "print(large)"
   ]
  },
  {
   "cell_type": "code",
   "execution_count": 6,
   "id": "53aaadc6-0714-4ea2-9087-6d464c0c7084",
   "metadata": {},
   "outputs": [
    {
     "name": "stdout",
     "output_type": "stream",
     "text": [
      "-4\n"
     ]
    }
   ],
   "source": [
    "'''4. Get Smallest Number in List\n",
    "\n",
    "Write a Python program to get the smallest number from a list.'''\n",
    "list1 = [4,5,6,-2,-4,11]\n",
    "large = list1[0]\n",
    "for i in list1:\n",
    "    if i < large:\n",
    "        large = i \n",
    "print(large)"
   ]
  },
  {
   "cell_type": "code",
   "execution_count": 7,
   "id": "7921d844-0aab-45bb-a344-70f979cc6db9",
   "metadata": {},
   "outputs": [
    {
     "name": "stdout",
     "output_type": "stream",
     "text": [
      "2\n"
     ]
    }
   ],
   "source": [
    "'''5. Count Strings with Same Start and End\n",
    "\n",
    "Write a Python program to count the number of strings from a given list of strings. The string length is 2 or more and the first and last characters are the same.\n",
    "Sample List : ['abc', 'xyz', 'aba', '1221']\n",
    "Expected Result : 2'''\n",
    "\n",
    "List  = ['abc', 'xyz', 'aba', '1221']\n",
    "count = 0\n",
    "for i in List:\n",
    "    if i[0] == i[-1]:\n",
    "        count += 1\n",
    "print(count)\n",
    "        "
   ]
  },
  {
   "cell_type": "code",
   "execution_count": 9,
   "id": "a84b98eb-bf04-4b11-89f4-f9057f3d8748",
   "metadata": {},
   "outputs": [
    {
     "name": "stdout",
     "output_type": "stream",
     "text": [
      "[(2, 1), (1, 2), (2, 3), (4, 4), (2, 5)]\n"
     ]
    }
   ],
   "source": [
    "'''6. Sort Tuples by Last Element\n",
    "\n",
    "Write a Python program to get a list, sorted in increasing order by the last element in each tuple from a given list of non-empty tuples.\n",
    "Sample List : [(2, 5), (1, 2), (4, 4), (2, 3), (2, 1)]\n",
    "Expected Result : [(2, 1), (1, 2), (2, 3), (4, 4), (2, 5)]'''\n",
    "List = [(2, 5), (1, 2), (4, 4), (2, 3), (2, 1)]\n",
    "\n",
    "def last(n):\n",
    "    return n[-1]\n",
    "    \n",
    "def sort_list_last(tuples):  \n",
    "    return sorted(tuples, key=last)\n",
    "\n",
    "print(sort_list_last(List))"
   ]
  },
  {
   "cell_type": "code",
   "execution_count": 12,
   "id": "8d5f0a88-a63f-45a7-8e39-c8a7cb4f3cca",
   "metadata": {},
   "outputs": [
    {
     "name": "stdout",
     "output_type": "stream",
     "text": [
      "[1, 2, 3, 4, 5, 6, 8, 93]\n"
     ]
    }
   ],
   "source": [
    "'''7. Remove Duplicates from List\n",
    "\n",
    "Write a Python program to remove duplicates from a list.'''\n",
    "\n",
    "List = [1,1,2,2,3,8,8,93,2,4,5,6,2,4,4,5]\n",
    "\n",
    "print(list(set(List)))"
   ]
  },
  {
   "cell_type": "code",
   "execution_count": 2,
   "id": "76dfbf39-e8e8-45dd-8219-52160f98a73b",
   "metadata": {},
   "outputs": [
    {
     "name": "stdout",
     "output_type": "stream",
     "text": [
      "List is empty\n"
     ]
    }
   ],
   "source": [
    "'''8. Check if List is Empty\n",
    "\n",
    "Write a Python program to check if a list is empty or not.'''\n",
    "\n",
    "list1 = []\n",
    "\n",
    "if not list1:\n",
    "    print(\"List is empty\")"
   ]
  },
  {
   "cell_type": "code",
   "execution_count": 9,
   "id": "4bfb143d-3a63-4eba-99ba-4339d0a815a2",
   "metadata": {},
   "outputs": [
    {
     "name": "stdout",
     "output_type": "stream",
     "text": [
      "[3, 4, 5, 6, 7]\n"
     ]
    }
   ],
   "source": [
    "'''9. Clone or Copy a List\n",
    "\n",
    "Write a Python program to clone or copy a list.'''\n",
    "list1 = [3,4,5,6]\n",
    "\n",
    "list2 = list1\n",
    "list2.append(7)\n",
    "print(list1)"
   ]
  },
  {
   "cell_type": "code",
   "execution_count": 10,
   "id": "2c64aa5c-41a5-42ad-9871-6a674d6e0d3b",
   "metadata": {},
   "outputs": [
    {
     "name": "stdout",
     "output_type": "stream",
     "text": [
      "['jeeva', 'kavikkj']\n"
     ]
    }
   ],
   "source": [
    "'''10. Find Words Longer Than n\n",
    "\n",
    "Write a Python program to find the list of words that are longer than n from a given list of words.'''\n",
    "\n",
    "def long_word(list1, n):\n",
    "    words = []\n",
    "    for x in list1:\n",
    "        if len(x) > n:\n",
    "            words.append(x)\n",
    "    return words\n",
    "print(long_word([\"kavi\", \"siva\", \"mani\", \"jeeva\", \"kavikkj\", \"\"],4))"
   ]
  },
  {
   "cell_type": "code",
   "execution_count": 14,
   "id": "3dc0b793-ec8b-4f0c-a54e-e352c82d9792",
   "metadata": {},
   "outputs": [
    {
     "name": "stdout",
     "output_type": "stream",
     "text": [
      "True\n"
     ]
    }
   ],
   "source": [
    "'''11. Check Common Member Between Two Lists\n",
    "\n",
    "Write a Python function that takes two lists and returns True if they have at least one common member.'''\n",
    "\n",
    "def compar_list(list1, list2):\n",
    "   for i in list1:\n",
    "       if i in list2:\n",
    "           return True\n",
    "print(compar_list([3,4,5,2],[8,7,6,3,4]))"
   ]
  },
  {
   "cell_type": "code",
   "execution_count": 31,
   "id": "4e7b504d-a17b-4262-bc20-35a9640b1e0c",
   "metadata": {},
   "outputs": [
    {
     "data": {
      "text/plain": [
       "['Green', 'White', 'Black']"
      ]
     },
     "execution_count": 31,
     "metadata": {},
     "output_type": "execute_result"
    }
   ],
   "source": [
    "'''12. Remove Specific Elements from List\n",
    "\n",
    "Write a Python program to print a specified list after removing the 0th, 4th and 5th elements.\n",
    "Sample List : ['Red', 'Green', 'White', 'Black', 'Pink', 'Yellow']\n",
    "Expected Output : ['Green', 'White', 'Black']'''\n",
    "color = ['Red', 'Green', 'White', 'Black', 'Pink', 'Yellow']\n",
    "color = [x for (i, x) in enumerate(color) if i not in (0, 4, 5)]\n",
    "color"
   ]
  },
  {
   "cell_type": "code",
   "execution_count": 33,
   "id": "bfc8a65c-1cdf-451a-a87b-090ad9cc434f",
   "metadata": {},
   "outputs": [
    {
     "data": {
      "text/plain": [
       "[[['*', '*', '*', '*', '*', '*'],\n",
       "  ['*', '*', '*', '*', '*', '*'],\n",
       "  ['*', '*', '*', '*', '*', '*'],\n",
       "  ['*', '*', '*', '*', '*', '*']],\n",
       " [['*', '*', '*', '*', '*', '*'],\n",
       "  ['*', '*', '*', '*', '*', '*'],\n",
       "  ['*', '*', '*', '*', '*', '*'],\n",
       "  ['*', '*', '*', '*', '*', '*']],\n",
       " [['*', '*', '*', '*', '*', '*'],\n",
       "  ['*', '*', '*', '*', '*', '*'],\n",
       "  ['*', '*', '*', '*', '*', '*'],\n",
       "  ['*', '*', '*', '*', '*', '*']]]"
      ]
     },
     "execution_count": 33,
     "metadata": {},
     "output_type": "execute_result"
    }
   ],
   "source": [
    "'''13. Generate 3D Array\n",
    "\n",
    "Write a Python program to generate a 3*4*6 3D array whose each element is *.'''\n",
    "\n",
    "array = [[[\"*\" for columns in range(6)]for column in range(4)]for row in range(3)]\n",
    "array\n"
   ]
  },
  {
   "cell_type": "code",
   "execution_count": 35,
   "id": "eed5b333-106b-4ad7-9d3b-e2519b545599",
   "metadata": {},
   "outputs": [
    {
     "data": {
      "text/plain": [
       "[2, 4, 6, 8]"
      ]
     },
     "execution_count": 35,
     "metadata": {},
     "output_type": "execute_result"
    }
   ],
   "source": [
    "'''14. Remove Even Numbers from List\n",
    "\n",
    "Write a Python program to print the numbers of a specified list after removing even numbers from it.'''\n",
    "\n",
    "lis1 = [1,2,3,4,5,5,6,9,8,7,5,5,5,43]\n",
    "\n",
    "even_list = [ x for x in lis1 if x % 2 == 0]\n",
    "even_list"
   ]
  },
  {
   "cell_type": "code",
   "execution_count": 1,
   "id": "d587ed5d-762f-4186-9bcf-96f69fb71098",
   "metadata": {},
   "outputs": [
    {
     "name": "stdout",
     "output_type": "stream",
     "text": [
      "['kavi', 'siva', 'mani']\n"
     ]
    }
   ],
   "source": [
    "'''15. Shuffle List\n",
    "\n",
    "Write a Python program to shuffle and print a specified list.'''\n",
    "import random\n",
    "\n",
    "list1 = [\"kavi\", \"mani\", \"siva\"]\n",
    "\n",
    "random.shuffle(list1)\n",
    "print(list1)"
   ]
  },
  {
   "cell_type": "code",
   "execution_count": 59,
   "id": "402ba823-b385-43dc-a2ba-388ccd6554d8",
   "metadata": {},
   "outputs": [
    {
     "name": "stdout",
     "output_type": "stream",
     "text": [
      "[1, 4, 9, 16, 25, 36, 49, 64, 81, 100, 121, 144, 169, 196, 225, 256, 289, 324, 361, 400]\n"
     ]
    }
   ],
   "source": [
    "'''16. Generate Square Numbers in Range\n",
    "\n",
    "Write a Python program to generate and print a list of the first and last 5 elements where the values are square numbers between 1 and 30 (both included).'''\n",
    "\n",
    "l = list()\n",
    "\n",
    "for i in range(1,21):\n",
    "    l.append(i ** 2)\n",
    "print(l)"
   ]
  },
  {
   "cell_type": "code",
   "execution_count": 18,
   "id": "ddcdb838-d982-4f3d-b071-ea6468192884",
   "metadata": {},
   "outputs": [
    {
     "name": "stdout",
     "output_type": "stream",
     "text": [
      "False\n",
      "True\n",
      "False\n",
      "False\n"
     ]
    }
   ],
   "source": [
    "'''17. Check If All Numbers Are Prime\n",
    "\n",
    "Write a  Python program to check if each number is prime in a given list of numbers. Return True if all numbers are prime otherwise False.\n",
    "Sample Data:\n",
    "([0, 3, 4, 7, 9]) -> False\n",
    "([3, 5, 7, 13]) -> True\n",
    "([1, 5, 3]) -> False'''\n",
    "\n",
    "\n",
    "\n",
    "def prime_(i):\n",
    "    if i == 1:\n",
    "        return False\n",
    "    elif i == 2 :\n",
    "        return True\n",
    "    else:\n",
    "        for x in range(2,i):\n",
    "            if i % x == 0:\n",
    "                return False\n",
    "        return True\n",
    "def test(num):\n",
    "    return all(prime_(i) for i in num)\n",
    "        \n",
    "print(test([0, 3, 4, 7, 9]))\n",
    "print(test([3, 5, 7, 13]))\n",
    "print(test([1, 5, 3]))\n",
    "print(test([3,7,11,13,31,47]))"
   ]
  },
  {
   "cell_type": "code",
   "execution_count": 24,
   "id": "6095fc68-37c5-4377-8bc7-886b9dbae4e1",
   "metadata": {},
   "outputs": [
    {
     "name": "stdout",
     "output_type": "stream",
     "text": [
      "[('a', 'b', 'g'), ('a', 'g', 'b'), ('b', 'a', 'g'), ('b', 'g', 'a'), ('g', 'a', 'b'), ('g', 'b', 'a')]\n"
     ]
    }
   ],
   "source": [
    "'''18. Generate All List Permutations\n",
    "\n",
    "Write a Python program to genimerate all permutations of a list in Python.'''\n",
    "import itertools\n",
    "\n",
    "print(list(itertools.permutations(['a','b','g'])))"
   ]
  },
  {
   "cell_type": "code",
   "execution_count": 27,
   "id": "7a1687c4-1007-476f-92e4-0679d9ab0ade",
   "metadata": {},
   "outputs": [
    {
     "name": "stdout",
     "output_type": "stream",
     "text": [
      "[2, 6, 8, 9, 7]\n"
     ]
    }
   ],
   "source": [
    "'''19. Calculate Difference Between Lists\n",
    "\n",
    "Write a Python program to calculate the difference between the two lists.'''\n",
    "\n",
    "list1 = [1,2,3,4,5,6]\n",
    "list2 = [1,4,3,5,7,8,9,3]\n",
    "\n",
    "\n",
    "diff_list = list(set(list1) - set(list2))\n",
    "diff_list1 = list(set(list2) - set(list1))\n",
    "print(list(diff_list + diff_list1))"
   ]
  },
  {
   "cell_type": "code",
   "execution_count": 31,
   "id": "b89e8b84-291b-4be1-825c-dccc3b791458",
   "metadata": {},
   "outputs": [
    {
     "name": "stdout",
     "output_type": "stream",
     "text": [
      "0 23\n",
      "1 5\n",
      "2 6\n",
      "3 78\n",
      "4 5\n",
      "5 3\n",
      "6 3\n"
     ]
    }
   ],
   "source": [
    "'''20. Access List Indices\n",
    "\n",
    "Write a Python program to access the index of a list.'''\n",
    "list1 = [23,5,6,78,5,3,3]\n",
    "\n",
    "for index, values in enumerate(list1):\n",
    "    dict1[index] = values\n",
    "    print(index, values)  "
   ]
  },
  {
   "cell_type": "code",
   "execution_count": 34,
   "id": "42822f0f-81f5-4d13-9b07-e04bfcda0da7",
   "metadata": {},
   "outputs": [
    {
     "name": "stdout",
     "output_type": "stream",
     "text": [
      "kavi your mad become cool and intelegent guy\n"
     ]
    }
   ],
   "source": [
    "'''21. Convert List to String\n",
    "\n",
    "Write a Python program to convert a list of characters into a string.'''\n",
    "\n",
    "list1 = [\"kavi\",\" your\", \" mad\", \" become\", \" cool\", \" and\", \" intelegent guy\"]\n",
    "str1 = \"\".join(list1)\n",
    "print(str1)"
   ]
  },
  {
   "cell_type": "code",
   "execution_count": 40,
   "id": "d8d09808-5b7a-4c86-bca2-d085341502d5",
   "metadata": {},
   "outputs": [
    {
     "name": "stdout",
     "output_type": "stream",
     "text": [
      "2\n",
      "2\n"
     ]
    }
   ],
   "source": [
    "'''22. Find Index of List Item\n",
    "\n",
    "Write a Python program to find the index of an item in a specified list.'''\n",
    "\n",
    "list1 = [1,2,3,4,5]\n",
    "print(list1.index(3))"
   ]
  },
  {
   "cell_type": "code",
   "execution_count": 41,
   "id": "5b73b5ee-91ae-4e3f-a6bc-38f2b74c2ff7",
   "metadata": {},
   "outputs": [
    {
     "name": "stdout",
     "output_type": "stream",
     "text": [
      "[2, 5, 4, 5, 4, 5, 6, 7, 8, 2, 3, 4, 5, 6]\n"
     ]
    }
   ],
   "source": [
    "'''23. Flatten Shallow List\n",
    "\n",
    "Write a Python program to flatten a shallow list.'''\n",
    "\n",
    "import itertools\n",
    "list1 = [[2,5,4,5],[4,5,6,7,8],[2,3,4,5,6]]\n",
    "\n",
    "merge_list = list(itertools.chain(*list1))\n",
    "print(merge_list)"
   ]
  },
  {
   "cell_type": "code",
   "execution_count": 44,
   "id": "23dd1fca-acf1-4b15-83fa-3cab8bb08a64",
   "metadata": {},
   "outputs": [
    {
     "name": "stdout",
     "output_type": "stream",
     "text": [
      "[1, 2, 3, 4, 5, 1, 2, 3, 4]\n",
      "[1, 2, 3, 4, [1, 2, 3, 4, 5]]\n"
     ]
    }
   ],
   "source": [
    "'''24. Append One List to Another\n",
    "Write a Python program to append a list to the second list.'''\n",
    "\n",
    "list1 = [1,2,3,4,5]\n",
    "list2 = [1,2,3,4]\n",
    "list3 = list1 + list2\n",
    "list2.append(list1)\n",
    "print(list3)\n",
    "print(list2)"
   ]
  },
  {
   "cell_type": "code",
   "execution_count": 47,
   "id": "b53a2724-e7c6-475d-a6ba-0e7c95518baf",
   "metadata": {},
   "outputs": [
    {
     "name": "stdout",
     "output_type": "stream",
     "text": [
      "5\n"
     ]
    }
   ],
   "source": [
    "'''25. Select Random Item from List\n",
    "\n",
    "Write a Python program to select an item randomly from a list.'''\n",
    "\n",
    "print(random.choice(list3))"
   ]
  },
  {
   "cell_type": "code",
   "execution_count": null,
   "id": "56b71ab2-d919-4b83-b679-df11f5018160",
   "metadata": {},
   "outputs": [],
   "source": [
    "'''26. Check Circularly Identical Lists\n",
    "Write a Python program to check whether two lists are circularly identical.'''\n",
    "\n"
   ]
  }
 ],
 "metadata": {
  "kernelspec": {
   "display_name": "Python 3 (ipykernel)",
   "language": "python",
   "name": "python3"
  },
  "language_info": {
   "codemirror_mode": {
    "name": "ipython",
    "version": 3
   },
   "file_extension": ".py",
   "mimetype": "text/x-python",
   "name": "python",
   "nbconvert_exporter": "python",
   "pygments_lexer": "ipython3",
   "version": "3.10.0"
  }
 },
 "nbformat": 4,
 "nbformat_minor": 5
}
