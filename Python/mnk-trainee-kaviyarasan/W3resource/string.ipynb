{
 "cells": [
  {
   "cell_type": "markdown",
   "id": "504f9173-d79a-497a-8884-150d9ddb7692",
   "metadata": {},
   "source": [
    "string"
   ]
  },
  {
   "cell_type": "code",
   "execution_count": 3,
   "id": "f40b1a3f-43a0-4262-93cb-1a06a8a4fc78",
   "metadata": {},
   "outputs": [
    {
     "name": "stdout",
     "output_type": "stream",
     "text": [
      "13\n"
     ]
    }
   ],
   "source": [
    "'''1. Calculate string length.\n",
    "\n",
    "Write a Python program to calculate the length of a string.'''\n",
    "\n",
    "def len_str(str1):\n",
    "   \n",
    "    count = 0\n",
    "    for char in str1:\n",
    "        count += 1\n",
    "    return count\n",
    "\n",
    "print(len_str('python trinee')) "
   ]
  },
  {
   "cell_type": "code",
   "execution_count": 1,
   "id": "fe2e0edb-f8d5-41ff-8d8b-ccc0db411459",
   "metadata": {},
   "outputs": [
    {
     "name": "stdout",
     "output_type": "stream",
     "text": [
      "{'k': 1, 'a': 4, 'v': 1, 'i': 1, 'y': 1, 'r': 1, 's': 1, 'n': 1}\n"
     ]
    }
   ],
   "source": [
    "'''2. Count character frequency in a string.\n",
    "\n",
    "Write a Python program to count the number of characters (character frequency) in a string.\n",
    "Sample String : google.com'\n",
    "Expected Result : {'g': 2, 'o': 3, 'l': 1, 'e': 1, '.': 1, 'c': 1, 'm': 1}'''\n",
    "def char_frequency(str1):\n",
    "    dict = {}\n",
    "    \n",
    "    for n in str1:\n",
    "        keys = dict.keys()\n",
    "        \n",
    "        if n in keys:\n",
    "            dict[n] += 1\n",
    "        else:\n",
    "            dict[n] = 1\n",
    "    \n",
    "    return dict\n",
    "\n",
    "print(char_frequency('kaviyarasan')) "
   ]
  },
  {
   "cell_type": "code",
   "execution_count": 4,
   "id": "aa785e9f-3ad1-4d88-9a64-0812629ad885",
   "metadata": {},
   "outputs": [
    {
     "name": "stdout",
     "output_type": "stream",
     "text": [
      "w3ce\n",
      "w3w3\n",
      "\n"
     ]
    }
   ],
   "source": [
    "'''3. Write a Python program to get a string made of the first 2 and last 2 characters of a given string. If the string length is less than 2, return the empty string instead.\n",
    "Sample String : 'w3resource'\n",
    "Expected Result : 'w3ce'\n",
    "Sample String : 'w3'\n",
    "Expected Result : 'w3w3'\n",
    "Sample String : ' w'\n",
    "Expected Result : Empty String'''\n",
    "\n",
    "\n",
    "def string_both_ends(str):\n",
    "    if len(str) < 2:\n",
    "        return ''\n",
    "\n",
    "    return str[0:2] + str[-2:]\n",
    "\n",
    "print(string_both_ends('w3resource'))  \n",
    "print(string_both_ends('w3'))        \n",
    "print(string_both_ends('w'))     "
   ]
  },
  {
   "cell_type": "code",
   "execution_count": 6,
   "id": "0efa4b2e-133c-4242-93e6-39ac41c46ba6",
   "metadata": {},
   "outputs": [
    {
     "name": "stdout",
     "output_type": "stream",
     "text": [
      "resta$t\n"
     ]
    }
   ],
   "source": [
    "'''# Define a function named string_both_ends that takes one argument, 'str'.\n",
    "def string_both_ends(str):\n",
    "    # Check if the length of the input string 'str' is less than 2 characters.\n",
    "    if len(str) < 2:\n",
    "        # If the string is shorter than 2 characters, return an empty string.\n",
    "        return ''\n",
    "\n",
    "    # If the string has at least 2 characters, concatenate the first two characters\n",
    "    # and the last two characters of the input string and return the result.\n",
    "    return str[0:2] + str[-2:]\n",
    "\n",
    "# Call the string_both_ends function with different input strings and print the results.\n",
    "print(string_both_ends('w3resource'))  # Output: 'w3ce'\n",
    "print(string_both_ends('w3'))          # Output: 'w3w3'\n",
    "print(string_both_ends('w'))     '''\n",
    "\n",
    "def change_char(str1):\n",
    "    char = str1[0]\n",
    "\n",
    "    str1 = str1.replace(char, '$')\n",
    "\n",
    "    str1 = char + str1[1:]\n",
    "\n",
    "    return str1\n",
    "\n",
    "print(change_char('restart'))  "
   ]
  },
  {
   "cell_type": "code",
   "execution_count": 5,
   "id": "7c70b1db-33ac-4a52-8a16-ff8cc192c593",
   "metadata": {},
   "outputs": [
    {
     "ename": "SyntaxError",
     "evalue": "unterminated string literal (detected at line 5) (3926563998.py, line 5)",
     "output_type": "error",
     "traceback": [
      "\u001b[1;36m  Cell \u001b[1;32mIn[5], line 5\u001b[1;36m\u001b[0m\n\u001b[1;33m    Expected Result : 'xyc abz''''\u001b[0m\n\u001b[1;37m                                 ^\u001b[0m\n\u001b[1;31mSyntaxError\u001b[0m\u001b[1;31m:\u001b[0m unterminated string literal (detected at line 5)\n"
     ]
    }
   ],
   "source": [
    "'''. Swap first 2 chars of 2 strings.\n",
    "\n",
    "Write a Python program to get a single string from two given strings, separated by a space and swap the first two characters of each string.\n",
    "Sample String : 'abc', 'xyz'\n",
    "Expected Result : 'xyc abz''''\n",
    "\n",
    "def chars_mix_up(a, b):\n",
    "    new_a = b[:2] + a[2:]\n",
    "\n",
    "    new_b = a[:2] + b[2:]\n",
    "\n",
    "    return new_a + ' ' + new_b\n",
    "\n",
    "print(chars_mix_up('abc', 'xyz')) "
   ]
  },
  {
   "cell_type": "code",
   "execution_count": null,
   "id": "03a4f84b-cc9c-43ee-8581-76122cb3b1d5",
   "metadata": {},
   "outputs": [],
   "source": [
    "''''''"
   ]
  },
  {
   "cell_type": "code",
   "execution_count": null,
   "id": "d708f2ad-af1e-41b2-a8cc-9a3f1c84f405",
   "metadata": {},
   "outputs": [],
   "source": [
    "\n",
    "\n",
    "'''Write a Python program to add 'ing' at the end of a given string (length should be at least 3). If the given string already ends with 'ing', add 'ly' instead. If the string length of the given string is less than 3, leave it unchanged.\n",
    "Sample String : 'abc'\n",
    "Expected Result : 'abcing'\n",
    "Sample String : 'string'\n",
    "Expected Result : 'stringly'''''\n",
    "def add_string(str1):\n",
    "    length = len(str1)\n",
    "\n",
    "    if length > 2:\n",
    "        if str1[-3:] == 'ing':\n",
    "            str1 += 'ly'\n",
    "        else:\n",
    "            str1 += 'ing'\n",
    "\n",
    "    return str1\n",
    "\n",
    "print(add_string('ab'))      \n",
    "print(add_string('abc'))     \n",
    "print(add_string('string'))  "
   ]
  },
  {
   "cell_type": "code",
   "execution_count": null,
   "id": "e26d5d60-72c0-4c22-b5a0-7021dd8419cb",
   "metadata": {},
   "outputs": [],
   "source": [
    "'''Write a Python program to find the first appearance of the substrings 'not' and 'poor' in a given string. If 'not' follows 'poor', replace the whole 'not'...'poor' substring with 'good'. Return the resulting string.\n",
    "Sample String : 'The lyrics is not that poor!'\n",
    "'The lyrics is poor!'\n",
    "Expected Result : 'The lyrics is good!'\n",
    "'The lyrics is poor!''''\n",
    "def not_poor(str1):\n",
    "    snot = str1.find('not')\n",
    "    \n",
    "    spoor = str1.find('poor')\n",
    "\n",
    "    if spoor > snot and snot > 0 and spoor > 0:\n",
    "        str1 = str1.replace(str1[snot:(spoor+4)], 'good')\n",
    "        return str1\n",
    "    else:\n",
    "        return str1\n",
    "\n",
    "print(not_poor('The lyrics is not that poor!'))  \n",
    "\n",
    "print(not_poor('The lyrics is poor!')) "
   ]
  },
  {
   "cell_type": "code",
   "execution_count": null,
   "id": "d34b102c-a384-49ac-bb1b-7500c2fa2347",
   "metadata": {},
   "outputs": [],
   "source": [
    "'''Write a Python function that takes a list of words and return the longest word and the length of the longest one.\n",
    "Sample Output:\n",
    "Longest word: Exercises\n",
    "Length of the longest word: 9'''\n",
    "\n",
    "def find_longest_word(words_list):\n",
    "    word_len = []\n",
    "\n",
    "    for n in words_list:\n",
    "        word_len.append((len(n), n))\n",
    "\n",
    "    word_len.sort()\n",
    "\n",
    "    return word_len[-1][0], word_len[-1][1]\n",
    "\n",
    "result = find_longest_word([\"PHP\", \"Exercises\", \"Backend\"])\n",
    "\n",
    "print(\"\\nLongest word: \", result[1])\n",
    "print(\"Length of the longest word: \", result[0])"
   ]
  },
  {
   "cell_type": "code",
   "execution_count": null,
   "id": "29452fbe-0aad-4dce-afff-f0f887f52c05",
   "metadata": {},
   "outputs": [],
   "source": [
    "'''Write a  Python program to remove the nth index character from a nonempty string.'''\n",
    "def remove_char(str, n):\n",
    "    first_part = str[:n]\n",
    "\n",
    "    last_part = str[n+1:]\n",
    "\n",
    "    return first_part + last_part\n",
    "\n",
    "print(remove_char('Python', 0))  \n",
    "print(remove_char('Python', 3)) \n",
    "print(remove_char('Python', 5)) "
   ]
  },
  {
   "cell_type": "code",
   "execution_count": null,
   "id": "87216b17-16c4-4e70-8596-18648290cfb2",
   "metadata": {},
   "outputs": [],
   "source": [
    "'''Write a Python program to change a given string to a newly string where the first and last chars have been exchanged.'''\n",
    "def change_string(str1):\n",
    "    return str1[-1:] + str1[1:-1] + str1[:1]\n",
    "\n",
    "print(change_string('abcd'))   \n",
    "print(change_string('12345'))"
   ]
  },
  {
   "cell_type": "code",
   "execution_count": null,
   "id": "89045f17-705b-4a49-aa73-41a094f0e472",
   "metadata": {},
   "outputs": [],
   "source": [
    "'''11. Remove odd index chars from a string.\n",
    "\n",
    "Write a Python program to remove characters that have odd index values in a given string.'''\n",
    "def odd_values_string(str):\n",
    "    result = \"\"\n",
    "    \n",
    "    for i in range(len(str)):\n",
    "        if i % 2 == 0:\n",
    "            result = result + str[i]\n",
    "    \n",
    "    return result\n",
    "\n",
    "print(odd_values_string('abcdef'))  \n",
    "print(odd_values_string('python'))"
   ]
  },
  {
   "cell_type": "code",
   "execution_count": null,
   "id": "9e6f42bc-1ba5-4596-a1dd-c6bc39b1e82c",
   "metadata": {},
   "outputs": [],
   "source": [
    "'''12. Count word occurrences in a sentence.\n",
    "\n",
    "Write a Python program to count the occurrences of each word in a given sentence'''\n",
    "def word_count(str):\n",
    "    counts = dict()\n",
    "    \n",
    "    words = str.split()\n",
    "\n",
    "    for word in words:\n",
    "        if word in counts:\n",
    "            counts[word] += 1\n",
    "        else:\n",
    "            counts[word] = 1\n",
    "\n",
    "    return counts\n",
    "\n",
    "print( word_count('the quick brown fox jumps over the lazy dog.'))"
   ]
  },
  {
   "cell_type": "code",
   "execution_count": 1,
   "id": "27908a4d-2868-40f7-ad4d-0f3f4680430a",
   "metadata": {},
   "outputs": [
    {
     "name": "stdin",
     "output_type": "stream",
     "text": [
      "What's your favorite language?  python\n"
     ]
    },
    {
     "name": "stdout",
     "output_type": "stream",
     "text": [
      "My favorite language is  PYTHON\n",
      "My favorite language is  python\n"
     ]
    }
   ],
   "source": [
    "'''13. Display input in upper and lower case.\n",
    "\n",
    "Write a Python  script that takes input from the user and displays that input back in upper and lower cases'''\n",
    "user_input = input(\"What's your favorite language? \")\n",
    "\n",
    "print(\"My favorite language is \", user_input.upper())\n",
    "\n",
    "print(\"My favorite language is \", user_input.lower()) "
   ]
  },
  {
   "cell_type": "code",
   "execution_count": 4,
   "id": "7519753e-db31-4df4-8d75-c42e3c7bdfe2",
   "metadata": {},
   "outputs": [
    {
     "name": "stdin",
     "output_type": "stream",
     "text": [
      "Input comma-separated sequence of words  red, white, black, red, green, black\n"
     ]
    },
    {
     "name": "stdout",
     "output_type": "stream",
     "text": [
      " black, green, red, white\n"
     ]
    }
   ],
   "source": [
    "'''14.Write a Python program that accepts a comma-separated sequence of words as input and prints the distinct words in sorted form (alphanumerically).\n",
    "Sample Words : red, white, black, red, green, black\n",
    "Expected Result : black, green, red, white,red'''\n",
    "items = input(\"Input comma-separated sequence of words\")\n",
    "\n",
    "words = [word for word in items.split(\",\")]\n",
    "\n",
    "print(\",\".join(sorted(list(set(words)))))"
   ]
  },
  {
   "cell_type": "code",
   "execution_count": 6,
   "id": "8028acfc-7c37-4024-9e1f-9fffe6371a7f",
   "metadata": {},
   "outputs": [
    {
     "name": "stdout",
     "output_type": "stream",
     "text": [
      "<i>Python</i>\n",
      "<b>Python Tutorial</b>\n"
     ]
    }
   ],
   "source": [
    "'''15.Write a Python function to create an HTML string with tags around the word(s).\n",
    "Sample function and result :\n",
    "add_tags('i', 'Python') -> '<i>Python</i>'\n",
    "add_tags('b', 'Python Tutorial') -> '<b>Python Tutorial </b>'''\n",
    "def add_tags(tag, word):\n",
    "    return \"<%s>%s</%s>\" % (tag, word, tag)\n",
    "\n",
    "print(add_tags('i', 'Python'))\n",
    "\n",
    "print(add_tags('b', 'Python Tutorial'))"
   ]
  },
  {
   "cell_type": "code",
   "execution_count": 54,
   "id": "beed24c5-c82f-40be-b842-8a89a20d1beb",
   "metadata": {},
   "outputs": [
    {
     "name": "stdout",
     "output_type": "stream",
     "text": [
      "[[kavi]]\n"
     ]
    }
   ],
   "source": [
    "'''16. Insert string into middle of another.\n",
    "\n",
    "Write a Python function to insert a string in the middle of a string.\n",
    "Sample function and result :\n",
    "insert_sting_middle('[[]]<<>>', 'Python') -> [[Python]]\n",
    "insert_sting_middle('{{}}', 'PHP') -> {{PHP}}'''\n",
    "\n",
    "def insert_str_middle(str1, str2):\n",
    "    \n",
    "    return str1[:2] + str2 + str1[2:]\n",
    "print(insert_str_middle(\"[[]]\",\"kavi\"))\n"
   ]
  },
  {
   "cell_type": "code",
   "execution_count": 61,
   "id": "6c79a1c2-ab17-437b-b9b0-f95c17c9afc8",
   "metadata": {},
   "outputs": [
    {
     "name": "stdout",
     "output_type": "stream",
     "text": [
      "eseseses\n"
     ]
    }
   ],
   "source": [
    "'''17. Repeat last 2 chars of a string 4 times.\n",
    "\n",
    "Write a Python function to get a string made of 4 copies of the last two characters of a specified string (length must be at least 2).\n",
    "Sample function and result :\n",
    "insert_end('Python') -> onononon\n",
    "insert_end('Exercises') -> eseseses'''\n",
    "\n",
    "def insert_end(str1):\n",
    "    return str1[-2::] * 4\n",
    "print(insert_end(\"Exercises\"))"
   ]
  },
  {
   "cell_type": "code",
   "execution_count": 66,
   "id": "f24e6bd8-8d83-4f31-a2f8-834eb7f341f6",
   "metadata": {},
   "outputs": [
    {
     "name": "stdout",
     "output_type": "stream",
     "text": [
      "pyt\n",
      "ipy\n"
     ]
    }
   ],
   "source": [
    "'''18. Get first 3 chars of a string.\n",
    "\n",
    "Write a Python function to get a string made of the first three characters of a specified string. If the length of the string is less than 3, return the original string.\n",
    "Sample function and result :\n",
    "first_three('ipy') -> ipy\n",
    "first_three('python') -> pyt'''\n",
    "def first_three(str1):\n",
    "    return str1[:3]\n",
    "print(first_three(\"python\"))\n",
    "print(first_three('ipy'))"
   ]
  },
  {
   "cell_type": "code",
   "execution_count": 79,
   "id": "7acb8939-fc37-49ff-9185-b1518cc74279",
   "metadata": {},
   "outputs": [
    {
     "name": "stdout",
     "output_type": "stream",
     "text": [
      "https://www.w3resource.com/python\n"
     ]
    }
   ],
   "source": [
    "'''19. Get substring before a specific character.\n",
    "\n",
    "Write a Python program to get the last part of a string before a specified character.\n",
    "https://www.w3resource.com/python-exercises\n",
    "https://www.w3resource.com/python'''\n",
    "\n",
    "str1 = 'https://www.w3resource.com/python-exercises'\n",
    "print(str1.rsplit(\"-\", 1)[0])"
   ]
  },
  {
   "cell_type": "code",
   "execution_count": 92,
   "id": "c40d3137-2df4-4333-8e8c-a674e5ffacf3",
   "metadata": {},
   "outputs": [
    {
     "name": "stdout",
     "output_type": "stream",
     "text": [
      "hjeasbskkbakinaminaminam\n"
     ]
    }
   ],
   "source": [
    "'''20. Reverse string if length is a multiple of 4.\n",
    "Write a Python function to reverse a string if its length is a multiple of 4.'''\n",
    "\n",
    "str1 = \"mani\"\n",
    "len_str = len(str1)\n",
    "if len_str % 4 == 0:\n",
    "    print(str1[::-1])\n",
    "else:\n",
    "    print(\"the string is not multiple of 4\")"
   ]
  },
  {
   "cell_type": "code",
   "execution_count": 114,
   "id": "863eb318-06e8-4f18-8af8-35a225956c2a",
   "metadata": {},
   "outputs": [
    {
     "name": "stdout",
     "output_type": "stream",
     "text": [
      "PYTHON\n"
     ]
    }
   ],
   "source": [
    "'''21. Uppercase string if 2+ uppercase chars in first 4.\n",
    "Write a Python function to convert a given string to all uppercase if it contains at least 2 uppercase characters in the first 4 characters.'''\n",
    "import re\n",
    "\n",
    "str1 = \"PYthon\"\n",
    "upper_= 0\n",
    "for i in str1[:4]:\n",
    "    if i.isupper:\n",
    "        upper_ += 1\n",
    "if upper_ >= 2:\n",
    "    print(str1.upper())\n",
    "else:\n",
    "    print(\"less then 2 upper\")"
   ]
  },
  {
   "cell_type": "code",
   "execution_count": 110,
   "id": "fb6b9738-3711-4fbe-a439-c9aac135b3b0",
   "metadata": {},
   "outputs": [
    {
     "name": "stdout",
     "output_type": "stream",
     "text": [
      "['3', 'c', 'e', 'e', 'o', 'r', 'r', 's', 'u', 'W']\n"
     ]
    }
   ],
   "source": [
    "'''22. Sort string lexicographically.\n",
    "Write a Python program to sort a string lexicographically.'''\n",
    "\n",
    "str1 = \"W3resource\"\n",
    "\n",
    "print(sorted(sorted(str1),key=str.upper))"
   ]
  },
  {
   "cell_type": "code",
   "execution_count": 119,
   "id": "f5fc9510-771c-4bf5-8c5c-05b53bef11a8",
   "metadata": {},
   "outputs": [
    {
     "name": "stdout",
     "output_type": "stream",
     "text": [
      "python developer\n"
     ]
    }
   ],
   "source": [
    "'''23. Remove newline from a string.\n",
    "Write a Python program to remove a newline in Python.'''\n",
    "\n",
    "str1 = \"python developer \\n\"\n",
    "print(str1.strip())\n"
   ]
  },
  {
   "cell_type": "code",
   "execution_count": 1,
   "id": "e9e2a0a4-fc6a-478f-b663-8ba87adcab46",
   "metadata": {},
   "outputs": [
    {
     "name": "stdout",
     "output_type": "stream",
     "text": [
      "True\n"
     ]
    }
   ],
   "source": [
    "'''24. Check if string starts with specified chars.\n",
    "Write a Python program to check whether a string starts with specified characters.'''\n",
    "\n",
    "string = \"python string\"\n",
    "print(string.startswith(\"pyth\"))"
   ]
  },
  {
   "cell_type": "code",
   "execution_count": 14,
   "id": "584d849e-dd8b-4067-a001-10a5faf46af7",
   "metadata": {},
   "outputs": [
    {
     "name": "stdout",
     "output_type": "stream",
     "text": [
      "KAVIkavi\n"
     ]
    }
   ],
   "source": [
    "'''25. Implement Caesar cipher encryption.\n",
    "\n",
    "Write a Python program to create a Caesar encryption.\n",
    "\n",
    "Note : In cryptography, a Caesar cipher, also known as Caesar's cipher, the shift cipher, \n",
    "Caesar's code or Caesar shift, is one of the simplest and most widely known encryption techniques.\n",
    "It is a type of substitution cipher in which each letter in the plaintext is replaced by a letter some fixed number of positions down the alphabet.\n",
    "For example, with a left shift of 3,D would be replaced by A, E would become B, and so on.\n",
    "The method is named after Julius Caesar, who used it in his private correspondence.'''\n",
    "\n",
    "\n",
    "def caesar_cipher_en(pas, step):\n",
    "\n",
    "    output = []\n",
    "    uppercase = ['A', 'B', 'C', 'D', 'E', 'F', 'G', 'H', 'I', 'J', 'K', 'L', 'M', 'N', 'O', 'P', 'Q', 'R', 'S', 'T', 'U', 'V', 'W', 'X', 'Y', 'Z']\n",
    "    lowercase = ['a', 'b', 'c', 'd', 'e', 'f', 'g', 'h', 'i', 'j', 'k', 'l', 'm', 'n', 'o', 'p', 'q', 'r', 's', 't', 'u', 'v', 'w', 'x', 'y', 'z']\n",
    "    \n",
    "    for chars in pas: # looping through each charater from given \n",
    "\n",
    "        if chars in uppercase:\n",
    "\n",
    "            index = uppercase.index(chars) # getting the index each charater \n",
    "            crypting = (index + step) % 26 # encryting the index number\n",
    "            character = uppercase[crypting] # getting the charater from the uppercase \n",
    "            output.append(character) # \n",
    "            \n",
    "        elif chars in lowercase:\n",
    "            index = lowercase.index(chars)\n",
    "            crypting = (index + step) % 26\n",
    "            character = lowercase[crypting]\n",
    "            output.append(character)\n",
    "    return \"\".join(output)\n",
    "\n",
    "print(caesar_cipher_en(\"QGBOqgbo\",6))\n",
    "\n"
   ]
  },
  {
   "cell_type": "code",
   "execution_count": 24,
   "id": "ed380441-7003-4aec-8557-d1c8bff001f7",
   "metadata": {},
   "outputs": [
    {
     "name": "stdout",
     "output_type": "stream",
     "text": [
      " Text wrapping is a method of\n",
      "formatting a paragraph or\n",
      "block of  text so that each\n",
      "line fits within a specified\n",
      "width. This ensures  that the\n",
      "text remains readable and does\n",
      "not exceed the boundaries  of\n",
      "the display or output medium.\n",
      "In Python, the 'textwrap'\n",
      "module  provides tools to\n",
      "handle text wrapping and\n",
      "indentation, making it  easy\n",
      "to format plain text for\n",
      "better presentation.\n",
      "\n",
      "Text wrapping is a method of formatting a paragraph or block of \n",
      "text so that each line fits within a specified width. This ensures \n",
      "that the text remains readable and does not exceed the boundaries \n",
      "of the display or output medium. In Python, the 'textwrap' module \n",
      "provides tools to handle text wrapping and indentation, making it \n",
      "easy to format plain text for better presentation.\n",
      "\n",
      "[' Text wrapping', 'is a method of', 'formatting a', 'paragraph or', 'block of  text', 'so that each', 'line fits', 'within a', 'specified', 'width. This', 'ensures  that', 'the text', 'remains', 'readable and', 'does not exceed', 'the boundaries', 'of the display', 'or output', 'medium. In', 'Python, the', \"'textwrap'\", 'module', 'provides tools', 'to handle text', 'wrapping and', 'indentation,', 'making it  easy', 'to format plain', 'text for better', 'presentation.']\n"
     ]
    }
   ],
   "source": [
    "'''26. Display formatted text (width=50).\n",
    "Write a  Python program to display formatted text (width=50) as output.'''\n",
    "\n",
    "wrap_description = '''\n",
    "Text wrapping is a method of formatting a paragraph or block of \n",
    "text so that each line fits within a specified width. This ensures \n",
    "that the text remains readable and does not exceed the boundaries \n",
    "of the display or output medium. In Python, the 'textwrap' module \n",
    "provides tools to handle text wrapping and indentation, making it \n",
    "easy to format plain text for better presentation.\n",
    "'''\n",
    "import textwrap\n",
    "print(textwrap.fill(wrap_description,width=30))\n",
    "print(textwrap.dedent(wrap_description))\n",
    "print(textwrap.wrap(wrap_description,width=15))"
   ]
  },
  {
   "cell_type": "code",
   "execution_count": null,
   "id": "d58785a3-f068-4490-aee8-9e6cedf068a1",
   "metadata": {},
   "outputs": [],
   "source": []
  }
 ],
 "metadata": {
  "kernelspec": {
   "display_name": "Python 3 (ipykernel)",
   "language": "python",
   "name": "python3"
  },
  "language_info": {
   "codemirror_mode": {
    "name": "ipython",
    "version": 3
   },
   "file_extension": ".py",
   "mimetype": "text/x-python",
   "name": "python",
   "nbconvert_exporter": "python",
   "pygments_lexer": "ipython3",
   "version": "3.13.1"
  }
 },
 "nbformat": 4,
 "nbformat_minor": 5
}
