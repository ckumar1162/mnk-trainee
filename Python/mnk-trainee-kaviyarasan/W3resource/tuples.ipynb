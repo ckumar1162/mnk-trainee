{
 "cells": [
  {
   "cell_type": "markdown",
   "id": "07a49245-95a4-406e-907f-4b5a69c966f4",
   "metadata": {},
   "source": [
    "tuple\n"
   ]
  },
  {
   "cell_type": "code",
   "execution_count": 1,
   "id": "00760714-e6e9-4f03-b26e-d09fa55ab202",
   "metadata": {},
   "outputs": [
    {
     "name": "stdout",
     "output_type": "stream",
     "text": [
      "(0, 1, 2, 3, 4, 5, 6, 7, 8, 9)\n"
     ]
    }
   ],
   "source": [
    "'''1. Write a Python program to create a tuple.'''\n",
    "\n",
    "print(tuple(range(10)))"
   ]
  },
  {
   "cell_type": "code",
   "execution_count": 2,
   "id": "f91d7fcb-abe0-4d4d-9d80-623a2a03820e",
   "metadata": {},
   "outputs": [
    {
     "name": "stdout",
     "output_type": "stream",
     "text": [
      "('tuple', 'a', 4.5, 4)\n"
     ]
    }
   ],
   "source": [
    "'''2. Write a Python program to create a tuple with different data types.'''\n",
    "\n",
    "print(tuple((\"tuple\", \"a\", 4.5, 4)))"
   ]
  },
  {
   "cell_type": "code",
   "execution_count": 3,
   "id": "9a7b149d-4755-458a-bfa1-97c7e114dfb4",
   "metadata": {},
   "outputs": [
    {
     "name": "stdout",
     "output_type": "stream",
     "text": [
      "(5, 6, 7, 45, 3, 23, 43)\n",
      "(5,)\n"
     ]
    }
   ],
   "source": [
    "'''3. Write a Python program to create a tuple of numbers and print one item.'''\n",
    "tuplexa = 5, 6, 7,45 ,3, 23, 43\n",
    "print(tuplexa)\n",
    "tuples = 5,\n",
    "print(tuples)"
   ]
  },
  {
   "cell_type": "code",
   "execution_count": 4,
   "id": "b3604956-9636-462a-846a-46a08fc504c6",
   "metadata": {},
   "outputs": [
    {
     "name": "stdout",
     "output_type": "stream",
     "text": [
      "3\n"
     ]
    }
   ],
   "source": [
    "'''4. Write a Python program to unpack a tuple into several variables.'''\n",
    "\n",
    "list1 = 5,6,3,3,2,3\n",
    "a, b, c, d, e, f = list1\n",
    "print(f)"
   ]
  },
  {
   "cell_type": "code",
   "execution_count": 5,
   "id": "721e9ff8-c81a-4ca2-a451-d4347cb7a98a",
   "metadata": {},
   "outputs": [
    {
     "name": "stdout",
     "output_type": "stream",
     "text": [
      "(1, 2, 3, 4, 5, 6, 7, 8, 9)\n",
      "(1, 2, 3, 4, 5, 11, 22, 33, 6, 7, 8)\n"
     ]
    }
   ],
   "source": [
    "'''5. Write a Python program to add an item to a tuple.'''\n",
    "\n",
    "tuple1 = (1,2,3,4,5,6,7,8)\n",
    "print(tuple1 +(9,))\n",
    "\n",
    "tuple2 = tuple1[:5] + (11, 22, 33,) + tuple1[5:]\n",
    "print(tuple2)\n"
   ]
  },
  {
   "cell_type": "code",
   "execution_count": 6,
   "id": "17f85862-bb4d-4ab0-a4f6-b8579af638fc",
   "metadata": {},
   "outputs": [
    {
     "name": "stdout",
     "output_type": "stream",
     "text": [
      "<class 'str'>\n"
     ]
    }
   ],
   "source": [
    "'''6. Write a Python program to convert a tuple to a string.'''\n",
    "\n",
    "tuples = (2,3,4,5,4,3,2,1)\n",
    "str_tup = ''.join(str(tuples))\n",
    "print(type(str_tup))"
   ]
  },
  {
   "cell_type": "code",
   "execution_count": 7,
   "id": "f0f1fca7-a4b9-4c89-9729-187dbf4238b7",
   "metadata": {},
   "outputs": [
    {
     "name": "stdout",
     "output_type": "stream",
     "text": [
      "4\n"
     ]
    }
   ],
   "source": [
    "'''7. Write a Python program to get the 4th element from the last element of a tuple.'''\n",
    "\n",
    "tuples = (2,3,4,5,6,6,5,4,3,2,1)\n",
    "\n",
    "print(tuples[-4])"
   ]
  },
  {
   "cell_type": "code",
   "execution_count": 8,
   "id": "025b6953-c523-4466-85e6-808c5e648094",
   "metadata": {},
   "outputs": [
    {
     "name": "stdout",
     "output_type": "stream",
     "text": [
      "('mnk', 7, [7, 20], 7.8)\n",
      "('mnk', 7, [7], 7.8)\n"
     ]
    }
   ],
   "source": [
    "'''8. Write a Python program to create the colon of a tuple.'''\n",
    "from copy import deepcopy\n",
    "tuples = (\"mnk\", 7,[7], 7.8)\n",
    "\n",
    "colon_t = deepcopy(tuples)\n",
    "\n",
    "colon_t[2].append(20)\n",
    "print(colon_t)\n",
    "print(tuples)"
   ]
  },
  {
   "cell_type": "code",
   "execution_count": 9,
   "id": "58fb20da-353e-4d3f-939d-8492b76d61c9",
   "metadata": {},
   "outputs": [
    {
     "data": {
      "text/plain": [
       "2"
      ]
     },
     "execution_count": 9,
     "metadata": {},
     "output_type": "execute_result"
    }
   ],
   "source": [
    "'''9. Write a Python program to find repeated items in a tuple.'''\n",
    "tuples = (2,3,4,5,6,6,5,4,3,2,1)\n",
    "\n",
    "tuples.count(6)\n"
   ]
  },
  {
   "cell_type": "code",
   "execution_count": 10,
   "id": "f20f0966-56b4-4235-901e-1addbc043e57",
   "metadata": {},
   "outputs": [
    {
     "data": {
      "text/plain": [
       "False"
      ]
     },
     "execution_count": 10,
     "metadata": {},
     "output_type": "execute_result"
    }
   ],
   "source": [
    "'''10. Write a Python program to check whether an element exists within a tuple.'''\n",
    "\n",
    "tuples = (2,3,4,5,6,6,5,4,3,2,1)\n",
    "\n",
    "5 in tuples\n",
    "\n",
    "5 not in tuples"
   ]
  },
  {
   "cell_type": "code",
   "execution_count": 12,
   "id": "2dbea656-1110-45f1-8c3e-7dd4d670b40b",
   "metadata": {},
   "outputs": [
    {
     "data": {
      "text/plain": [
       "(1, 2, 3, 4, 5, 6, 7, 8)"
      ]
     },
     "execution_count": 12,
     "metadata": {},
     "output_type": "execute_result"
    }
   ],
   "source": [
    "'''11. Write a Python program to convert a list to a tuple.'''\n",
    "\n",
    "list1 = [1, 2, 3, 4, 5, 6, 7, 8]\n",
    "tup1 = tuple(list1)\n",
    "tup1"
   ]
  },
  {
   "cell_type": "code",
   "execution_count": 14,
   "id": "3ed11104-bef2-4ffd-a735-6bd241a7f3eb",
   "metadata": {},
   "outputs": [
    {
     "name": "stdout",
     "output_type": "stream",
     "text": [
      "(2, 3, 4, 6, 6, 5, 4, 3, 2, 1)\n"
     ]
    }
   ],
   "source": [
    "'''12. Write a Python program to remove an item from a tuple.'''\n",
    "\n",
    "tuples = (2,3,4,5,6,6,5,4,3,2,1)\n",
    "\n",
    "list1 = list(tuples)\n",
    "list1.remove(5)\n",
    "\n",
    "tuples = tuple(list1)\n",
    "print(tuples)"
   ]
  },
  {
   "cell_type": "code",
   "execution_count": 21,
   "id": "4e1785af-ec8b-41a6-8670-dc2fa8a085f2",
   "metadata": {},
   "outputs": [
    {
     "name": "stdout",
     "output_type": "stream",
     "text": [
      "(5, 3)\n",
      "3\n",
      "(4, 6, 5, 3, 1)\n"
     ]
    }
   ],
   "source": [
    "'''13. Write a Python program to slice a tuple.'''\n",
    "tuples = (2,3,4,5,6,6,5,4,3,2,1)\n",
    "\n",
    "print(tuples[3::-2])\n",
    "print(tuples[1])\n",
    "print(tuples[2::2])"
   ]
  },
  {
   "cell_type": "code",
   "execution_count": 28,
   "id": "ec3b1244-734e-472e-8c20-f6039058074d",
   "metadata": {},
   "outputs": [
    {
     "name": "stdout",
     "output_type": "stream",
     "text": [
      "1\n"
     ]
    }
   ],
   "source": [
    "'''14. Write a Python program to find the index of an item in a tuple.'''\n",
    "\n",
    "tuple_in= (\"k\", \"hello\", \"j\", 3, 5, 7, 2)\n",
    "\n",
    "print(tuple_in.index(\"hello\"))\n",
    "# print(tuple_in[1][4])"
   ]
  },
  {
   "cell_type": "code",
   "execution_count": 29,
   "id": "5963f69b-1fb7-44b8-a880-9acd1f8fee1c",
   "metadata": {},
   "outputs": [
    {
     "name": "stdout",
     "output_type": "stream",
     "text": [
      "7\n"
     ]
    }
   ],
   "source": [
    "'''15. Write a Python program to find the length of a tuple.'''\n",
    "\n",
    "tuple_in= (\"k\", \"hello\", \"j\", 3, 5, 7, 2)\n",
    "print(len(tuple_in))"
   ]
  },
  {
   "cell_type": "code",
   "execution_count": 31,
   "id": "dab1d42f-6dbe-4d74-bb6e-f30a4360a971",
   "metadata": {},
   "outputs": [
    {
     "name": "stdout",
     "output_type": "stream",
     "text": [
      "{3: 4, 'mnk': 2, 'kavi': 100}\n"
     ]
    }
   ],
   "source": [
    "'''16. Write a Python program to convert a tuple to a dictionary.'''\n",
    "\n",
    "tuple_dict = ((3, 4), (\"mnk\", 2), (\"kavi\", 100))\n",
    "\n",
    "dict_tup = dict((x, y) for x, y in tuple_dict)\n",
    "\n",
    "print(dict_tup)"
   ]
  },
  {
   "cell_type": "code",
   "execution_count": 32,
   "id": "a8e517f2-8fc8-46cc-bc2f-6a47bf671e83",
   "metadata": {},
   "outputs": [
    {
     "name": "stdout",
     "output_type": "stream",
     "text": [
      "[(3, 'mnk', 'kavi'), (4, 2, 100)]\n"
     ]
    }
   ],
   "source": [
    "'''17. Write a Python program to unzip a list of tuples into individual lists.'''\n",
    "tuple_ = ((3, 4), (\"mnk\", 2), (\"kavi\", 100))\n",
    "\n",
    "lists = list(zip(*tuple_))\n",
    "\n",
    "print(lists)"
   ]
  },
  {
   "cell_type": "code",
   "execution_count": 38,
   "id": "3f39d5b6-f407-486b-ac83-b0294a4d708d",
   "metadata": {},
   "outputs": [
    {
     "name": "stdout",
     "output_type": "stream",
     "text": [
      "(2, 7, 5, 3, 'j', 'hello', 'k')\n"
     ]
    }
   ],
   "source": [
    "'''18. Write a Python program to reverse a tuple.'''\n",
    "\n",
    "tuple_in= (\"k\", \"hello\", \"j\", 3, 5, 7, 2)\n",
    "\n",
    "print(tuple_in[::-1])\n"
   ]
  },
  {
   "cell_type": "code",
   "execution_count": 59,
   "id": "0ce85e74-41e9-4640-b750-54f6ac611062",
   "metadata": {},
   "outputs": [
    {
     "name": "stdout",
     "output_type": "stream",
     "text": [
      "{'k': [1], 'a': [2, 6, 8, 10], 'v': [3], 'i': [4], 'y': [5], 'r': [7], 's': [9], 'n': [11]}\n"
     ]
    }
   ],
   "source": [
    "'''19. Write a Python program to convert a list of tuples into a dictionary.'''\n",
    "\n",
    "list_tuples = [(\"k\", 1), (\"a\", 2), (\"v\", 3), (\"i\", 4), (\"y\", 5), (\"a\", 6), (\"r\", 7), (\"a\", 8), (\"s\", 9), (\"a\", 10), (\"n\", 11)]\n",
    "\n",
    "dict_list = {}\n",
    "for k, a in list_tuples:\n",
    "    dict_list.setdefault(k,[]).append(a)\n",
    "print(dict_list)"
   ]
  },
  {
   "cell_type": "code",
   "execution_count": 64,
   "id": "82d7fdbf-fea7-4d4e-a5f9-602d7befe7a0",
   "metadata": {},
   "outputs": [
    {
     "name": "stdout",
     "output_type": "stream",
     "text": [
      "This is a tuple (100, 200, 300)\n"
     ]
    }
   ],
   "source": [
    "'''20. Write a Python program to print a tuple with string formatting.\n",
    "Sample tuple : (100, 200, 300)\n",
    "Output : This is a tuple (100, 200, 300)'''\n",
    "\n",
    "tuple_st = (100, 200, 300)\n",
    "\n",
    "\n",
    "print(f'This is a tuple {tuple_st}')"
   ]
  },
  {
   "cell_type": "code",
   "execution_count": 93,
   "id": "27ba67a4-e2b2-4a76-9632-5728092fa333",
   "metadata": {},
   "outputs": [
    {
     "name": "stdout",
     "output_type": "stream",
     "text": [
      "[(10, 20, 100), (40, 50, 100), (70, 80, 100)]\n",
      "[(40, 20, 10, 100), (60, 50, 40, 100), (90, 80, 70, 100)]\n",
      "[(10, 20, 100), (40, 50, 100), (70, 80, 100)]\n"
     ]
    }
   ],
   "source": [
    "'''21. Write a Python program to replace the last value of tuples in a list.\n",
    "Sample list: [(10, 20, 40), (40, 50, 60), (70, 80, 90)]\n",
    "Expected Output: [(10, 20, 100), (40, 50, 100), (70, 80, 100)]'''\n",
    "\n",
    "list1  =  [(10, 20, 40), (40, 50, 60), (70, 80, 90)]\n",
    "\n",
    "print([t[:-1] + (100,) for t in list1])\n",
    "# print([t[::-1] + (100,) for t in list1])\n",
    "print([t[:2] + (100,) for t in list1])\n"
   ]
  },
  {
   "cell_type": "code",
   "execution_count": 107,
   "id": "97921386-a8fe-454c-9c5b-b9146f397d74",
   "metadata": {},
   "outputs": [
    {
     "name": "stdout",
     "output_type": "stream",
     "text": [
      "['h', ('',), ('a', 'b'), ('a', 'b', 'c'), 'd']\n"
     ]
    }
   ],
   "source": [
    "'''22. Write a Python program to remove an empty tuple(s) from a list of tuples.\n",
    "Sample data: [(), (), ('',), ('a', 'b'), ('a', 'b', 'c'), ('d')]\n",
    "Expected output: [('',), ('a', 'b'), ('a', 'b', 'c'), 'd']'''\n",
    "\n",
    "list_tuple =  [(\"h\"), (), ('',), ('a', 'b'), ('a', 'b', 'c'), ('d')]\n",
    "\n",
    "print([t for t in list_tuple if t])"
   ]
  },
  {
   "cell_type": "code",
   "execution_count": 118,
   "id": "ef633d65-71e1-4437-9650-9ed57f56c63b",
   "metadata": {},
   "outputs": [
    {
     "name": "stdout",
     "output_type": "stream",
     "text": [
      "[('item3', '24.5'), ('item2', '15.10'), ('item1', '12.20')]\n"
     ]
    }
   ],
   "source": [
    "'''23. Write a Python program to sort a tuple by its float element.\n",
    "Sample data: [('item1', '12.20'), ('item2', '15.10'), ('item3', '24.5')]\n",
    "Expected Output: [('item3', '24.5'), ('item2', '15.10'), ('item1', '12.20')]'''\n",
    "\n",
    "list1 = [('item1', '12.20'), ('item2', '15.10'), ('item3', '24.5')]\n",
    "\n",
    "sorted_price = sorted(list1, key=lambda x: float(x[1]), reverse=True)\n",
    "\n",
    "print(sorted_price)"
   ]
  },
  {
   "cell_type": "code",
   "execution_count": 136,
   "id": "b4349ae2-4db6-4b0d-8655-1f413ce19af6",
   "metadata": {},
   "outputs": [
    {
     "name": "stdout",
     "output_type": "stream",
     "text": [
      "3\n",
      "7\n",
      "kavi\n",
      "6\n",
      "the tuple index 4\n"
     ]
    }
   ],
   "source": [
    "'''24. Write a  Python program to count the elements in a list until an element is a tuple.'''\n",
    "\n",
    "list1 = [\"3\", 7, \"kavi\", 6, (\"tuple\",),\"kavi\"]\n",
    "\n",
    "count = 0\n",
    "for i in list1:\n",
    "    if isinstance(i, tuple):\n",
    "        break\n",
    "    else:\n",
    "        print(i)\n",
    "    \n",
    "    count += 1\n",
    "print(\"the tuple index\",count)"
   ]
  },
  {
   "cell_type": "code",
   "execution_count": 148,
   "id": "6829940e-fa56-4d0a-8523-f00243024189",
   "metadata": {},
   "outputs": [
    {
     "name": "stdout",
     "output_type": "stream",
     "text": [
      "('p', 'y', 't', 'h', 'o', 'n', '3', '.', '0')\n"
     ]
    }
   ],
   "source": [
    "'''25. Write a Python program to convert a given string list to a tuple.\n",
    "Original string:  python 3.0\n",
    "<class 'str'>\n",
    "Convert the said string to a tuple:\n",
    "('p', 'y', 't', 'h', 'o', 'n', '3', '.', '0')\n",
    "<class 'tuple'>'''\n",
    "\n",
    "str_ = 'python 3.0'\n",
    "tuple_ = tuple(x for x in str_ if not x.isspace())\n",
    "print(tuple_)"
   ]
  },
  {
   "cell_type": "code",
   "execution_count": 149,
   "id": "00b5ecdf-548b-4a87-950a-fef12af2ac77",
   "metadata": {},
   "outputs": [
    {
     "name": "stdout",
     "output_type": "stream",
     "text": [
      "-864\n",
      "27648\n"
     ]
    }
   ],
   "source": [
    "'''26. Write a Python program to calculate the product, multiplying all the numbers in a given tuple.\n",
    "Original Tuple:\n",
    "(4, 3, 2, 2, -1, 18)\n",
    "Product - multiplying all the numbers of the said tuple: -864\n",
    "Original Tuple:\n",
    "(2, 4, 8, 8, 3, 2, 9)\n",
    "Product - multiplying all the numbers of the said tuple: 27648'''\n",
    "\n",
    "tuple1 = (4, 3, 2, 2, -1, 18)\n",
    "tuple2 = (2, 4, 8, 8, 3, 2, 9)\n",
    "\n",
    "def multi_tuple(nums):\n",
    "    multiples = 1\n",
    "    for i in nums:\n",
    "        multiples *= i\n",
    "    print(multiples)\n",
    "multi_tuple(tuple1)\n",
    "multi_tuple(tuple2)\n",
    "        \n",
    "        \n",
    "        "
   ]
  },
  {
   "cell_type": "code",
   "execution_count": 174,
   "id": "69c7b3af-f1aa-4e71-aefe-2b02e80827ea",
   "metadata": {},
   "outputs": [
    {
     "data": {
      "text/plain": [
       "[30.5, 34.25, 27.0, 23.25]"
      ]
     },
     "execution_count": 174,
     "metadata": {},
     "output_type": "execute_result"
    }
   ],
   "source": [
    "'''27. Write a Python program to calculate the average value of the numbers in a given tuple of tuples.\n",
    "Original Tuple:\n",
    "((10, 10, 10, 12), (30, 45, 56, 45), (81, 80, 39, 32), (1, 2, 3, 4))\n",
    "Average value of the numbers of the said tuple of tuples:\n",
    "[30.5, 34.25, 27.0, 23.25]\n",
    "Original Tuple:\n",
    "((1, 1, -5), (30, -15, 56), (81, -60, -39), (-10, 2, 3))\n",
    "Average value of the numbers of the said tuple of tuples:\n",
    "[25.5, -18.0, 3.75]'''\n",
    "\n",
    "def average_va(nums):\n",
    "\n",
    "    average = [sum(x) / len(x) for x in zip(*nums)]\n",
    "    # v = (x for x in zip(*nums))\n",
    "    # print(v)\n",
    "    return average\n",
    "\n",
    "\n",
    "tuple1 = ((10, 10, 10, 12), (30, 45, 56, 45), (81, 80, 39, 32), (1, 2, 3, 4))\n",
    "average_va(tuple1)"
   ]
  },
  {
   "cell_type": "code",
   "execution_count": 165,
   "id": "3de26d46-e3aa-4e9d-891f-bdc8f6c7a56a",
   "metadata": {},
   "outputs": [
    {
     "name": "stdout",
     "output_type": "stream",
     "text": [
      "((333, 33), (1416, 55))\n"
     ]
    }
   ],
   "source": [
    "'''28. Write a Python program to convert a tuple of string values to a tuple of integer values.\n",
    "Original tuple values:\n",
    "(('333', '33'), ('1416', '55'))\n",
    "New tuple values:\n",
    "((333, 33), (1416, 55))'''\n",
    "\n",
    "\n",
    "def str_tuple(str_tu):\n",
    "\n",
    "    tuple_int = tuple((int(x[0]),int(x[1])) for x in str_tu)\n",
    "    print(tuple_int)\n",
    "\n",
    "x = (('333', '33'), ('1416', '55'))\n",
    "str_tuple(x)"
   ]
  },
  {
   "cell_type": "code",
   "execution_count": 16,
   "id": "8f909161-e26d-4e81-97e1-6a00073a0196",
   "metadata": {},
   "outputs": [
    {
     "name": "stdout",
     "output_type": "stream",
     "text": [
      "102040570\n"
     ]
    }
   ],
   "source": [
    "'''29. Write a Python program to convert a given tuple of positive integers into an integer.\n",
    "Original tuple:\n",
    "(1, 2, 3)\n",
    "Convert the said tuple of positive integers into an integer:\n",
    "123Data management toolsComputer programming courses\n",
    "Original tuple:\n",
    "(10, 20, 40, 5, 70)\n",
    "Convert the said tuple of positive integers into an integer:\n",
    "102040570'''\n",
    "\n",
    "integers = (10, 20, 40, 5, 70)\n",
    "\n",
    "integer = int(''.join(map(str, integers)))\n",
    "\n",
    "print(integer)"
   ]
  },
  {
   "cell_type": "code",
   "execution_count": 29,
   "id": "53845ad4-2add-40c5-9455-fbc78b0ddec1",
   "metadata": {},
   "outputs": [
    {
     "name": "stdout",
     "output_type": "stream",
     "text": [
      "True\n"
     ]
    }
   ],
   "source": [
    "'''30. Write a Python program to check if a specified element appears in a tuple of tuples.\n",
    "Original list:\n",
    "(('Red', 'White', 'Blue'), ('Green', 'Pink', 'Purple'), ('Orange', 'Yellow', 'Lime'))\n",
    "Check if White presenet in said tuple of tuples!\n",
    "True\n",
    "Check if White presenet in said tuple of tuples!\n",
    "True\n",
    "Check if Olive presenet in said tuple of tuples!\n",
    "False'''\n",
    "def check_color(tuples,color):\n",
    "    \n",
    "    result = any (color in c for c in tuples)\n",
    "    return result\n",
    "    \n",
    "tuples = (('Red', 'White', 'Blue'), ('Green', 'Pink', 'Purple'), ('Orange', 'Yellow', 'Lime')) \n",
    "\n",
    "print(check_color(tuples, \"Pink\"))"
   ]
  },
  {
   "cell_type": "code",
   "execution_count": 45,
   "id": "96ea909d-a7a9-406c-ae1a-17c5e49bcabe",
   "metadata": {},
   "outputs": [
    {
     "name": "stdout",
     "output_type": "stream",
     "text": [
      "(6, 9, 8, 6)\n"
     ]
    }
   ],
   "source": [
    "'''31. Write a Python program to compute the element-wise sum of given tuples.\n",
    "Original lists:\n",
    "(1, 2, 3, 4)\n",
    "(3, 5, 2, 1)\n",
    "(2, 2, 3, 1)\n",
    "Element-wise sum of the said tuples:\n",
    "(6, 9, 8, 6)'''\n",
    "\n",
    "tuples = ((1, 2, 3, 4),(3, 5, 2, 1),(2, 2, 3, 1))\n",
    "print(tuple(map(sum,zip(tuples[0], tuples[1], tuples[2]))))"
   ]
  },
  {
   "cell_type": "code",
   "execution_count": 61,
   "id": "beaeb4b7-3547-4602-84c9-e4892e5b685f",
   "metadata": {},
   "outputs": [
    {
     "name": "stdout",
     "output_type": "stream",
     "text": [
      "[3, 5, 7]\n"
     ]
    }
   ],
   "source": [
    "'''32. Write a Python program to compute the sum of all the elements of each tuple stored inside a list of tuples.\n",
    "Original list of tuples:\n",
    "[(1, 2), (2, 3), (3, 4)]\n",
    "Sum of all the elements of each tuple stored inside the said list of tuples:\n",
    "[3, 5, 7]\n",
    "Original list of tuples:\n",
    "[(1, 2, 6), (2, 3, -6), (3, 4), (2, 2, 2, 2)]\n",
    "Sum of all the elements of each tuple stored inside the said list of tuples:\n",
    "[9, -1, 7, 8]'''\n",
    "\n",
    "tuples = [(1, 2), (2, 3), (3, 4)]\n",
    "list_ = list( map(sum,tuples))\n",
    "\n",
    "print(list_)"
   ]
  },
  {
   "cell_type": "code",
   "execution_count": 66,
   "id": "29c99b68-be72-42fd-94b4-1d7dfc275def",
   "metadata": {},
   "outputs": [
    {
     "name": "stdout",
     "output_type": "stream",
     "text": [
      "[[1, 2], [2, 3], [3, 4]]\n"
     ]
    }
   ],
   "source": [
    "'''33. Write a Python program to convert a given list of tuples to a list of lists.\n",
    "Original list of tuples: [(1, 2), (2, 3), (3, 4)]\n",
    "Convert the said list of tuples to a list of lists: [[1, 2], [2, 3], [3, 4]]\n",
    "Original list of tuples: [(1, 2), (2, 3, 5), (3, 4), (2, 3, 4, 2)]\n",
    "Convert the said list of tuples to a list of lists: [[1, 2], [2, 3, 5], [3, 4], [2, 3, 4, 2]]'''\n",
    "\n",
    "tuples = [(1, 2), (2, 3), (3, 4)]\n",
    "list1 = [list(el) for el in tuples]\n",
    "print(list1)"
   ]
  },
  {
   "cell_type": "code",
   "execution_count": null,
   "id": "6834f5b1-7433-4cc2-866b-a643792f984f",
   "metadata": {},
   "outputs": [],
   "source": []
  }
 ],
 "metadata": {
  "kernelspec": {
   "display_name": "Python 3 (ipykernel)",
   "language": "python",
   "name": "python3"
  },
  "language_info": {
   "codemirror_mode": {
    "name": "ipython",
    "version": 3
   },
   "file_extension": ".py",
   "mimetype": "text/x-python",
   "name": "python",
   "nbconvert_exporter": "python",
   "pygments_lexer": "ipython3",
   "version": "3.10.0"
  }
 },
 "nbformat": 4,
 "nbformat_minor": 5
}
