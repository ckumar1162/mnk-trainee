{
 "cells": [
  {
   "cell_type": "markdown",
   "id": "5a180635-03bf-42e1-a096-6a334c494a11",
   "metadata": {},
   "source": [
    " Basic (Part-II)"
   ]
  },
  {
   "cell_type": "code",
   "execution_count": null,
   "id": "3f75952e-4b3b-4441-9916-7ed5216c11f9",
   "metadata": {},
   "outputs": [],
   "source": []
  },
  {
   "cell_type": "code",
   "execution_count": 3,
   "id": "819e2a5f-13a3-4283-adcb-e4e1a922d344",
   "metadata": {},
   "outputs": [
    {
     "name": "stdout",
     "output_type": "stream",
     "text": [
      "False\n"
     ]
    }
   ],
   "source": [
    "'''1. Unique Numbers Check\n",
    "\n",
    "Write a Python function that takes a sequence of numbers and determines whether all the numbers are different from each other.'''\n",
    "\n",
    "def test_data(testdata):\n",
    "\n",
    "    if len(testdata) == len(set(testdata)):\n",
    "        return True\n",
    "    else:\n",
    "        return False\n",
    "print(test_data([1,2,3,5,6,7,7,9,8,9,8,]))"
   ]
  },
  {
   "cell_type": "code",
   "execution_count": 11,
   "id": "52a97502-0b0f-4159-a95d-45fdfafac9bc",
   "metadata": {},
   "outputs": [
    {
     "name": "stdout",
     "output_type": "stream",
     "text": [
      "Ioeai\n"
     ]
    }
   ],
   "source": [
    "'''2. All Unique Strings\n",
    "\n",
    "Write a Python program that creates all possible strings using the letters 'a', 'e', 'i', 'o', and 'I'. Ensure that each character is used only once.'''\n",
    "\n",
    "import random\n",
    "char_lists = [\"a\", \"e\", \"i\", \"o\", \"I\"]\n",
    "\n",
    "random.shuffle(char_lists)\n",
    "print(''.join(char_lists))\n"
   ]
  },
  {
   "cell_type": "code",
   "execution_count": 16,
   "id": "5656bf02-7c3f-4637-af76-56320f134c88",
   "metadata": {},
   "outputs": [
    {
     "name": "stdout",
     "output_type": "stream",
     "text": [
      "5\n",
      "3\n",
      "9\n",
      "5\n",
      "4\n",
      "4\n",
      "4\n",
      "6\n",
      "43\n",
      "2\n",
      "3\n",
      "8\n",
      "33\n"
     ]
    }
   ],
   "source": [
    "'''3. Remove Every Third\n",
    "\n",
    "Write a Python program that removes and prints every third number from a list of numbers until the list is empty.'''\n",
    "\n",
    "def remove_every_third(num):\n",
    "    index = 0\n",
    "    while num:\n",
    "        index = (index + 2) % len(num)\n",
    "        print(num[index])\n",
    "        remove = num.pop(index)\n",
    "        \n",
    "remove_every_third([3,4,5,6,2,3,4,8,9,43,4,5,33])"
   ]
  },
  {
   "cell_type": "code",
   "execution_count": 24,
   "id": "f5a996f6-2eb4-4a34-a71d-28b232ea9151",
   "metadata": {},
   "outputs": [
    {
     "name": "stdout",
     "output_type": "stream",
     "text": [
      "[[-4, 1, 3]]\n"
     ]
    }
   ],
   "source": [
    "'''4. Zero Sum Triplets\n",
    "\n",
    "Write a Python program to identify unique triplets whose three elements sum to zero from an array of n integers.'''\n",
    "\n",
    "array1 = [-1,-4,2,3,1,6,7,8]\n",
    "\n",
    "def zero_sum_triplets(array):\n",
    "    triplenum = []\n",
    "    n = len(array)\n",
    "    for i in range(n - 2):\n",
    "       for j  in range(i + 1, n - 1):\n",
    "            for k in range(j + 1, n):\n",
    "                if array[i] + array[j] + array[k] == 0 :\n",
    "                    triplenums = sorted([array[i], array[j], array[k]])\n",
    "                    if triplenums not in triplenum:\n",
    "                        triplenum.append(triplenums)\n",
    "                        \n",
    "    return triplenum\n",
    "\n",
    "print(zero_sum_triplets(array1))"
   ]
  },
  {
   "cell_type": "code",
   "execution_count": 37,
   "id": "1c52fb8a-1234-4571-a11d-cf136a2b6366",
   "metadata": {},
   "outputs": [
    {
     "name": "stdout",
     "output_type": "stream",
     "text": [
      "999\n"
     ]
    }
   ],
   "source": [
    "'''5. 3-Digit Combinations\n",
    "\n",
    "Write a Python program to make combinations of 3 digits.'''\n",
    "\n",
    "\n",
    "for num in range(1,1000):\n",
    "    nums = str(num).zfill(3)\n",
    "    \n",
    "print(nums)\n"
   ]
  },
  {
   "cell_type": "code",
   "execution_count": 51,
   "id": "bc9de46a-7452-42bc-9a07-b150a46b343d",
   "metadata": {},
   "outputs": [
    {
     "name": "stdout",
     "output_type": "stream",
     "text": [
      "Word Frequency Counter\n",
      "\n",
      "Write a Python program that prints long text, converts it to a list, and prints all the words and the frequency of each word.\n",
      "[('W', 2), ('o', 10), ('r', 12), ('d', 5), (' ', 25), ('F', 1), ('r', 12), ('e', 11), ('q', 2), ('u', 3), ('e', 11), ('n', 10), ('c', 4), ('y', 3), (' ', 25), ('C', 1), ('o', 10), ('u', 3), ('n', 10), ('t', 15), ('e', 11), ('r', 12), ('\\n', 2), ('\\n', 2), ('W', 2), ('r', 12), ('i', 5), ('t', 15), ('e', 11), (' ', 25), ('a', 8), (' ', 25), ('P', 1), ('y', 3), ('t', 15), ('h', 5), ('o', 10), ('n', 10), (' ', 25), ('p', 3), ('r', 12), ('o', 10), ('g', 2), ('r', 12), ('a', 8), ('m', 1), (' ', 25), ('t', 15), ('h', 5), ('a', 8), ('t', 15), (' ', 25), ('p', 3), ('r', 12), ('i', 5), ('n', 10), ('t', 15), ('s', 5), (' ', 25), ('l', 4), ('o', 10), ('n', 10), ('g', 2), (' ', 25), ('t', 15), ('e', 11), ('x', 1), ('t', 15), (',', 2), (' ', 25), ('c', 4), ('o', 10), ('n', 10), ('v', 1), ('e', 11), ('r', 12), ('t', 15), ('s', 5), (' ', 25), ('i', 5), ('t', 15), (' ', 25), ('t', 15), ('o', 10), (' ', 25), ('a', 8), (' ', 25), ('l', 4), ('i', 5), ('s', 5), ('t', 15), (',', 2), (' ', 25), ('a', 8), ('n', 10), ('d', 5), (' ', 25), ('p', 3), ('r', 12), ('i', 5), ('n', 10), ('t', 15), ('s', 5), (' ', 25), ('a', 8), ('l', 4), ('l', 4), (' ', 25), ('t', 15), ('h', 5), ('e', 11), (' ', 25), ('w', 2), ('o', 10), ('r', 12), ('d', 5), ('s', 5), (' ', 25), ('a', 8), ('n', 10), ('d', 5), (' ', 25), ('t', 15), ('h', 5), ('e', 11), (' ', 25), ('f', 2), ('r', 12), ('e', 11), ('q', 2), ('u', 3), ('e', 11), ('n', 10), ('c', 4), ('y', 3), (' ', 25), ('o', 10), ('f', 2), (' ', 25), ('e', 11), ('a', 8), ('c', 4), ('h', 5), (' ', 25), ('w', 2), ('o', 10), ('r', 12), ('d', 5), ('.', 1)]\n"
     ]
    }
   ],
   "source": [
    "'''6. Word Frequency Counter\n",
    "\n",
    "Write a Python program that prints long text, converts it to a list, and prints all the words and the frequency of each word.'''\n",
    "\n",
    "string_words = ''' Word Frequency Counter\n",
    "\n",
    "Write a Python program that prints long text, converts it to a list, and prints all the words and the frequency of each word.'''\n",
    "\n",
    "word_list = string_words.strip()\n",
    "print(word_list)\n",
    "word_fre = [word_list.count(n) for n in word_list]\n",
    "print(str(list(zip(word_list, word_fre))))"
   ]
  },
  {
   "cell_type": "code",
   "execution_count": 61,
   "id": "0b1e9473-b99c-4718-b994-afa04bbbd8a4",
   "metadata": {},
   "outputs": [
    {
     "name": "stdout",
     "output_type": "stream",
     "text": [
      "Counter({' ': 93, 'E': 64, 'N': 45, 'A': 42, 'T': 40, 'I': 36, 'O': 31, 'R': 29, 'H': 25, 'D': 19, 'M': 17, 'Y': 17, 'F': 15, 'L': 15, 'U': 14, 'G': 13, 'C': 13, 'S': 12, ',': 7, 'B': 6, 'W': 5, '9': 5, 'P': 4, '.': 4, '\\n': 3, '1': 3, '3': 2, '0': 2, 'K': 1, '(': 1, ':': 1, ')': 1, 'V': 1, '-': 1})\n"
     ]
    }
   ],
   "source": [
    "'''7. Character Frequency in File\n",
    "\n",
    "Write a Python program to count the number of each character in a text file.'''\n",
    "\n",
    "import collections\n",
    "import pprint\n",
    "\n",
    "a = open(\"abc.txt\",\"r\")\n",
    "\n",
    "print(collections.Counter(a.read().upper()))"
   ]
  },
  {
   "cell_type": "code",
   "execution_count": 70,
   "id": "27b3edae-7165-43a4-9935-09efa3dfafde",
   "metadata": {},
   "outputs": [
    {
     "ename": "FeatureNotFound",
     "evalue": "Couldn't find a tree builder with the features you requested: xml. Do you need to install a parser library?",
     "output_type": "error",
     "traceback": [
      "\u001b[1;31m---------------------------------------------------------------------------\u001b[0m",
      "\u001b[1;31mFeatureNotFound\u001b[0m                           Traceback (most recent call last)",
      "Cell \u001b[1;32mIn[70], line 13\u001b[0m\n\u001b[0;32m      9\u001b[0m xml_page \u001b[38;5;241m=\u001b[39m client\u001b[38;5;241m.\u001b[39mread()\n\u001b[0;32m     11\u001b[0m client\u001b[38;5;241m.\u001b[39mclose()\n\u001b[1;32m---> 13\u001b[0m so_pages \u001b[38;5;241m=\u001b[39m \u001b[43mso\u001b[49m\u001b[43m(\u001b[49m\u001b[43mxml_page\u001b[49m\u001b[43m,\u001b[49m\u001b[38;5;124;43m\"\u001b[39;49m\u001b[38;5;124;43mxml\u001b[39;49m\u001b[38;5;124;43m\"\u001b[39;49m\u001b[43m)\u001b[49m\n\u001b[0;32m     15\u001b[0m so_items \u001b[38;5;241m=\u001b[39m so_pages\u001b[38;5;241m.\u001b[39mfindAll(\u001b[38;5;124m\"\u001b[39m\u001b[38;5;124mitem\u001b[39m\u001b[38;5;124m\"\u001b[39m)\n\u001b[0;32m     17\u001b[0m \u001b[38;5;28;01mfor\u001b[39;00m items \u001b[38;5;129;01min\u001b[39;00m so_items:\n",
      "File \u001b[1;32m~\\AppData\\Local\\Programs\\Python\\Python310\\lib\\site-packages\\bs4\\__init__.py:250\u001b[0m, in \u001b[0;36mBeautifulSoup.__init__\u001b[1;34m(self, markup, features, builder, parse_only, from_encoding, exclude_encodings, element_classes, **kwargs)\u001b[0m\n\u001b[0;32m    248\u001b[0m     builder_class \u001b[38;5;241m=\u001b[39m builder_registry\u001b[38;5;241m.\u001b[39mlookup(\u001b[38;5;241m*\u001b[39mfeatures)\n\u001b[0;32m    249\u001b[0m     \u001b[38;5;28;01mif\u001b[39;00m builder_class \u001b[38;5;129;01mis\u001b[39;00m \u001b[38;5;28;01mNone\u001b[39;00m:\n\u001b[1;32m--> 250\u001b[0m         \u001b[38;5;28;01mraise\u001b[39;00m FeatureNotFound(\n\u001b[0;32m    251\u001b[0m             \u001b[38;5;124m\"\u001b[39m\u001b[38;5;124mCouldn\u001b[39m\u001b[38;5;124m'\u001b[39m\u001b[38;5;124mt find a tree builder with the features you \u001b[39m\u001b[38;5;124m\"\u001b[39m\n\u001b[0;32m    252\u001b[0m             \u001b[38;5;124m\"\u001b[39m\u001b[38;5;124mrequested: \u001b[39m\u001b[38;5;132;01m%s\u001b[39;00m\u001b[38;5;124m. Do you need to install a parser library?\u001b[39m\u001b[38;5;124m\"\u001b[39m\n\u001b[0;32m    253\u001b[0m             \u001b[38;5;241m%\u001b[39m \u001b[38;5;124m\"\u001b[39m\u001b[38;5;124m,\u001b[39m\u001b[38;5;124m\"\u001b[39m\u001b[38;5;241m.\u001b[39mjoin(features))\n\u001b[0;32m    255\u001b[0m \u001b[38;5;66;03m# At this point either we have a TreeBuilder instance in\u001b[39;00m\n\u001b[0;32m    256\u001b[0m \u001b[38;5;66;03m# builder, or we have a builder_class that we can instantiate\u001b[39;00m\n\u001b[0;32m    257\u001b[0m \u001b[38;5;66;03m# with the remaining **kwargs.\u001b[39;00m\n\u001b[0;32m    258\u001b[0m \u001b[38;5;28;01mif\u001b[39;00m builder \u001b[38;5;129;01mis\u001b[39;00m \u001b[38;5;28;01mNone\u001b[39;00m:\n",
      "\u001b[1;31mFeatureNotFound\u001b[0m: Couldn't find a tree builder with the features you requested: xml. Do you need to install a parser library?"
     ]
    }
   ],
   "source": [
    "'''8. Google News Top Stories\n",
    "\n",
    "Write a Python program that retrieves the top stories from Google News.'''\n",
    "import bs4\n",
    "from bs4 import BeautifulSoup as so\n",
    "from urllib.request import urlopen\n",
    "\n",
    "client = urlopen(\"https://news.google.com/news/rss\")\n",
    "xml_page = client.read()\n",
    "\n",
    "client.close()\n",
    "\n",
    "so_pages = so(xml_page,\"xml\")\n",
    "\n",
    "so_items = so_pages.findAll(\"item\")\n",
    "\n",
    "for items in so_items:\n",
    "    print(items.tittle.items)\n",
    "\n"
   ]
  },
  {
   "cell_type": "code",
   "execution_count": 84,
   "id": "0677c440-1463-4c18-89dd-599ac8e901da",
   "metadata": {},
   "outputs": [
    {
     "name": "stdout",
     "output_type": "stream",
     "text": [
      "[('wrapt', '1.16.0'), ('wheel', '0.44.0'), ('werkzeug', '3.1.1'), ('websocket-client', '1.8.0'), ('webencodings', '0.5.1'), ('webcolors', '24.8.0'), ('wcwidth', '0.2.13'), ('urllib3', '2.2.3'), ('uri-template', '1.3.0'), ('tzdata', '2024.2'), ('typing-extensions', '4.12.2'), ('types-python-dateutil', '2.9.0.20241003'), ('traitlets', '5.14.3'), ('tornado', '6.4.1'), ('tomli', '2.0.2'), ('tinycss2', '1.4.0'), ('threadpoolctl', '3.5.0'), ('terminado', '0.18.1'), ('termcolor', '2.5.0'), ('tensorflow', '2.18.0'), ('tensorflow-io-gcs-filesystem', '0.31.0'), ('tensorflow-intel', '2.18.0'), ('tensorboard', '2.18.0'), ('tensorboard-data-server', '0.7.2'), ('stack-data', '0.6.3'), ('soupsieve', '2.6'), ('sniffio', '1.3.1'), ('six', '1.16.0'), ('shortuuid', '1.0.13'), ('setuptools', '57.4.0'), ('send2trash', '1.8.3'), ('seaborn', '0.13.2'), ('scipy', '1.14.1'), ('scikit-learn', '1.5.2'), ('rpds-py', '0.20.1'), ('rich', '13.9.4'), ('rfc3986-validator', '0.1.1'), ('rfc3339-validator', '0.1.4'), ('requests', '2.32.3'), ('referencing', '0.35.1'), ('pyzmq', '26.2.0'), ('pyyaml', '6.0.2'), ('pywinpty', '2.0.14'), ('pywin32', '308'), ('pywavelets', '1.7.0'), ('pytz', '2024.2'), ('python-json-logger', '2.0.7'), ('python-dateutil', '2.9.0.post0'), ('pyparsing', '3.2.0'), ('pygments', '2.18.0'), ('pycparser', '2.22'), ('pure-eval', '0.2.3'), ('psutil', '6.1.0'), ('protobuf', '5.28.3'), ('prompt-toolkit', '3.0.48'), ('prometheus-client', '0.21.0'), ('platformdirs', '4.3.6'), ('pip', '24.3.1'), ('pillow', '11.0.0'), ('parso', '0.8.4'), ('pandocfilters', '1.5.1'), ('pandas', '2.2.3'), ('packaging', '24.1'), ('overrides', '7.7.0'), ('optree', '0.13.0'), ('opt-einsum', '3.4.0'), ('opencv-python', '4.10.0.84'), ('numpy', '2.0.2'), ('notebook', '7.2.2'), ('notebook-shim', '0.2.4'), ('nest-asyncio', '1.6.0'), ('nbformat', '5.10.4'), ('nbconvert', '7.16.4'), ('nbclient', '0.10.0'), ('namex', '0.0.8'), ('mock', '5.1.0'), ('ml-dtypes', '0.4.1'), ('mistune', '3.0.2'), ('mdurl', '0.1.2'), ('matplotlib', '3.9.2'), ('matplotlib-inline', '0.1.7'), ('markupsafe', '3.0.2'), ('markdown', '3.7'), ('markdown-it-py', '3.0.0'), ('lxml', '5.3.0'), ('libclang', '18.1.1'), ('kiwisolver', '1.4.7'), ('keras', '3.6.0'), ('jupyterlab', '4.2.6'), ('jupyterlab-server', '2.27.3'), ('jupyterlab-pygments', '0.3.0'), ('jupyter-server', '2.14.2'), ('jupyter-server-terminals', '0.5.3'), ('jupyter-lsp', '2.2.5'), ('jupyter-events', '0.10.0'), ('jupyter-core', '5.7.2'), ('jupyter-client', '8.6.3'), ('jsonschema', '4.23.0'), ('jsonschema-specifications', '2024.10.1'), ('jsonpointer', '3.0.0'), ('json5', '0.9.25'), ('joblib', '1.4.2'), ('jinja2', '3.1.4'), ('jedi', '0.19.1'), ('isoduration', '20.11.0'), ('ipython', '8.29.0'), ('ipykernel', '6.29.5'), ('idna', '3.10'), ('httpx', '0.27.2'), ('httpcore', '1.0.6'), ('h11', '0.14.0'), ('h5py', '3.12.1'), ('grpcio', '1.67.1'), ('google-pasta', '0.2.0'), ('gast', '0.6.0'), ('fqdn', '1.5.1'), ('fonttools', '4.54.1'), ('flatbuffers', '24.3.25'), ('fastjsonschema', '2.20.0'), ('executing', '2.1.0'), ('exceptiongroup', '1.2.2'), ('defusedxml', '0.7.1'), ('decorator', '5.1.1'), ('debugpy', '1.8.7'), ('cycler', '0.12.1'), ('contourpy', '1.3.0'), ('comm', '0.2.2'), ('colorama', '0.4.6'), ('charset-normalizer', '3.4.0'), ('cffi', '1.17.1'), ('certifi', '2024.8.30'), ('bleach', '6.2.0'), ('biosppy', '2.2.2'), ('bidict', '0.23.1'), ('beautifulsoup4', '4.12.3'), ('babel', '2.16.0'), ('attrs', '24.2.0'), ('async-lru', '2.0.4'), ('astunparse', '1.6.3'), ('asttokens', '2.4.1'), ('arrow', '1.3.0'), ('argon2-cffi', '23.1.0'), ('argon2-cffi-bindings', '21.2.0'), ('anyio', '4.6.2.post1'), ('absl-py', '2.1.0')]\n"
     ]
    }
   ],
   "source": [
    "'''9. Locally Installed Modules\n",
    "\n",
    "Write a Python program to get a list of locally installed Python modules.'''\n",
    "\n",
    "import pkg_resources\n",
    "\n",
    "installed_pack = pkg_resources.working_set\n",
    "\n",
    "packeges = [(i.key, i.version) for i in installed_pack]\n",
    "\n",
    "print(packeges)"
   ]
  },
  {
   "cell_type": "code",
   "execution_count": 86,
   "id": "c3ec621e-0617-406c-aec3-2153a0d34b85",
   "metadata": {},
   "outputs": [
    {
     "name": "stdout",
     "output_type": "stream",
     "text": [
      "architecture ('64bit', 'WindowsPE')\n",
      "mac_ver ('', ('', '', ''), '')\n",
      "machine AMD64\n",
      "node itachi\n",
      "platform Windows-10-10.0.26100-SP0\n",
      "processor Intel64 Family 6 Model 140 Stepping 1, GenuineIntel\n",
      "python_build ('tags/v3.10.0:b494f59', 'Oct  4 2021 19:00:18')\n",
      "python_compiler MSC v.1929 64 bit (AMD64)\n",
      "python_version 3.10.0\n",
      "release 10\n",
      "system Windows\n",
      "uname uname_result(system='Windows', node='itachi', release='10', version='10.0.26100', machine='AMD64')\n",
      "version 10.0.26100\n"
     ]
    }
   ],
   "source": [
    "'''10. OS Information Display\n",
    "\n",
    "Write a Python program to display some information about the OS where the script is running.'''\n",
    "\n",
    "import platform as pl\n",
    "\n",
    "os_profile = [\n",
    "    'architecture',\n",
    "    'linux_distribution',\n",
    "    'mac_ver',\n",
    "    'machine',\n",
    "    'node',\n",
    "    'platform',\n",
    "    'processor',\n",
    "    'python_build',\n",
    "    'python_compiler',\n",
    "    'python_version',\n",
    "    'release',\n",
    "    'system',\n",
    "    'uname',\n",
    "    'version',\n",
    "]\n",
    "\n",
    "for key in os_profile:\n",
    "    if hasattr(pl, key):\n",
    "        print(key, str(getattr(pl,key)()))\n"
   ]
  },
  {
   "cell_type": "code",
   "execution_count": 96,
   "id": "551ada97-e854-4ae1-b1ae-eff139a10f9c",
   "metadata": {},
   "outputs": [
    {
     "name": "stdout",
     "output_type": "stream",
     "text": [
      "(10, 20, 40)\n",
      "(20, 40, 10)\n",
      "(20, 20, 30)\n",
      "(20, 10, 40)\n",
      "(10, 40, 20)\n",
      "(20, 30, 20)\n",
      "(10, 30, 30)\n"
     ]
    }
   ],
   "source": [
    "'''11. Three Array Sum Combinations\n",
    "\n",
    "Write a Python program to check the sum of three elements (each from an array) from three arrays is equal to a target value. Print all those three-element combinations.\n",
    "Sample data:\n",
    "/*\n",
    "X = [10, 20, 20, 20]\n",
    "Y = [10, 20, 30, 40]\n",
    "Z = [10, 30, 40, 20]\n",
    "target = 70\n",
    "*/'''\n",
    "\n",
    "X = [10, 20, 20, 20]\n",
    "Y = [10, 20, 30, 40]\n",
    "Z = [10, 30, 40, 20]\n",
    "T = 70\n",
    "\n",
    "result = set()\n",
    "\n",
    "for x in X:\n",
    "    for y in Y:\n",
    "        for z in Z:\n",
    "            if x + y + z == T:\n",
    "                result.add((x, y, z)) \n",
    "\n",
    "\n",
    "for combination in result:\n",
    "    print(combination)"
   ]
  },
  {
   "cell_type": "code",
   "execution_count": 97,
   "id": "c6c22699-a543-454e-ba17-2835375f6403",
   "metadata": {},
   "outputs": [
    {
     "name": "stdout",
     "output_type": "stream",
     "text": [
      "(1, 2, 3)\n",
      "(1, 3, 2)\n",
      "(2, 1, 3)\n",
      "(2, 3, 1)\n",
      "(3, 1, 2)\n",
      "(3, 2, 1)\n"
     ]
    }
   ],
   "source": [
    "'''12. List Permutations Generator\n",
    "\n",
    "Write a Python program that generates a list of all possible permutations from a given collection of distinct numbers.'''\n",
    "\n",
    "import itertools\n",
    "\n",
    "\n",
    "numbers = [1, 2, 3]\n",
    "\n",
    "\n",
    "permutations = list(itertools.permutations(numbers))\n",
    "\n",
    "\n",
    "for perm in permutations:\n",
    "    print(perm)\n"
   ]
  },
  {
   "cell_type": "code",
   "execution_count": 102,
   "id": "67f0d39f-bc58-419f-a26e-305947866f40",
   "metadata": {},
   "outputs": [
    {
     "name": "stdout",
     "output_type": "stream",
     "text": [
      "['ag', 'ah', 'ai', 'bg', 'bh', 'bi', 'cg', 'ch', 'ci']\n",
      "['gt', 'gu', 'gv', 'ht', 'hu', 'hv', 'it', 'iu', 'iv']\n"
     ]
    }
   ],
   "source": [
    "'''13. Two-Digit Letter Combos\n",
    "\n",
    "Write a Python program to get all possible two-digit letter combinations from a 1-9 digit string.'''\n",
    "\n",
    "\n",
    "def letter_combinations(digits):\n",
    "    if digits == \"\":\n",
    "        return []\n",
    "        \n",
    "    string_maps = {\n",
    "        \"1\": \"abc\",\n",
    "        \"2\": \"def\",\n",
    "        \"3\": \"ghi\",\n",
    "        \"4\": \"jkl\",\n",
    "        \"5\": \"mno\",\n",
    "        \"6\": \"pqrs\",\n",
    "        \"7\": \"tuv\",\n",
    "        \"8\": \"wxy\",\n",
    "        \"9\": \"z\"\n",
    "    }\n",
    "    \n",
    "    result = [\"\"]\n",
    "    \n",
    "    for num in digits:\n",
    "       \n",
    "        temp = []    \n",
    "        for an in result:\n",
    "            \n",
    "            for char in string_maps[num]:\n",
    "                temp.append(an + char)       \n",
    "        result = temp \n",
    "    return result\n",
    "\n",
    "digit_string = \"13\"\n",
    "print(letter_combinations(digit_string))\n",
    "digit_string = \"37\"\n",
    "print(letter_combinations(digit_string))\n"
   ]
  },
  {
   "cell_type": "code",
   "execution_count": 6,
   "id": "7a4acdb2-0bd3-44b4-a148-06282b9a0b2d",
   "metadata": {},
   "outputs": [
    {
     "name": "stdout",
     "output_type": "stream",
     "text": [
      "10\n"
     ]
    }
   ],
   "source": [
    "'''14. Add Without Plus\n",
    "\n",
    "Write a Python program to add two positive integers without using the '+' operator.\n",
    "Note: Use bit wise operations to add two numbers.'''\n",
    "def add_without_plus_operator(a, b):\n",
    "   \n",
    "    while b != 0:\n",
    "        \n",
    "        data = a & b\n",
    "        a = a ^ b\n",
    "        b = data << 1\n",
    "   \n",
    "    return a\n",
    "print(add_without_plus_operator(7,3))"
   ]
  },
  {
   "cell_type": "code",
   "execution_count": 11,
   "id": "46138b7a-e055-409b-9d20-9f47ddcf29f8",
   "metadata": {},
   "outputs": [
    {
     "name": "stdout",
     "output_type": "stream",
     "text": [
      "True\n"
     ]
    }
   ],
   "source": [
    "'''15. Operator Priority Checker\n",
    "\n",
    "Write a Python program to check the priority of the four operators (+, -, *, /).'''\n",
    "\n",
    "def priority_check(a, b):\n",
    "    \n",
    "    operators = {\n",
    "        \"+\" : 0,\n",
    "        \"-\" : 0,\n",
    "        \"*\" : 1, \n",
    "        \"/\" : 1\n",
    "    }\n",
    "\n",
    "    return operators[a] >= operators[b]\n",
    "\n",
    "print(priority_check(\"*\",\"-\"))\n"
   ]
  },
  {
   "cell_type": "code",
   "execution_count": 22,
   "id": "0cd2e6a0-3c84-4a72-811c-6bcbab88c318",
   "metadata": {},
   "outputs": [
    {
     "name": "stdout",
     "output_type": "stream",
     "text": [
      "4.47213595499958\n"
     ]
    }
   ],
   "source": [
    "'''16. Right Triangle Third Side\n",
    "\n",
    "Write a Python program to get the third side of a right-angled triangle from two given sides.'''\n",
    "\n",
    "import math\n",
    "def third_side(a, b, hyp = False):\n",
    "\n",
    "    if hyp == True:\n",
    "        return math.sqrt(a**2  + b**2)\n",
    "    if hyp == False:\n",
    "        return math.sqrt(abs(a**2 - b**2))\n",
    "print(third_side(2,4,hyp = True))"
   ]
  },
  {
   "cell_type": "code",
   "execution_count": 25,
   "id": "7339335b-84c7-4d82-99b9-bcd81e4e29e5",
   "metadata": {},
   "outputs": [
    {
     "name": "stdout",
     "output_type": "stream",
     "text": [
      "['818', '111', '916', '619', '808', '101', '906', '609', '888', '181', '986', '689']\n"
     ]
    }
   ],
   "source": [
    "'''17. Strobogrammatic Numbers\n",
    "\n",
    "Write a  Python program to get all strobogrammatic numbers that are of length n.\n",
    "A strobogrammatic number is a number whose numeral is rotationally symmetric, so that it appears the same when rotated 180 degrees. In other words, \n",
    "the numeral looks the same right-side up and upside down (e.g., 69, 96, 1001).\n",
    "For example,\n",
    "Given n = 2, return [\"11\", \"69\", \"88\", \"96\"].\n",
    "Given n = 3, return ['818', '111', '916', '619', '808', '101', '906', '609', '888', '181', '986', '689']'''\n",
    "\n",
    "def gen_strobogrammatic(n):\n",
    "    \"\"\"\n",
    "    :type n: int\n",
    "    :rtype: List[str]\n",
    "    \"\"\"\n",
    "    result = helper(n, n)\n",
    "    return result\n",
    "\n",
    "\n",
    "def helper(n, length):\n",
    "    \n",
    "    if n == 0:\n",
    "        return [\"\"]\n",
    "  \n",
    "    if n == 1:\n",
    "        return [\"1\", \"0\", \"8\"]\n",
    "    middles = helper(n-2, length)\n",
    "    result = []\n",
    "    \n",
    "    for middle in middles:\n",
    "        if n != length:\n",
    "            result.append(\"0\" + middle + \"0\")\n",
    "        result.append(\"8\" + middle + \"8\")\n",
    "        result.append(\"1\" + middle + \"1\")\n",
    "        result.append(\"9\" + middle + \"6\")\n",
    "        result.append(\"6\" + middle + \"9\")\n",
    "    return result\n",
    "print(gen_strobogrammatic(3))"
   ]
  },
  {
   "cell_type": "code",
   "execution_count": 29,
   "id": "0a300497-f9b2-4350-8a8f-ab723c25993f",
   "metadata": {},
   "outputs": [
    {
     "name": "stdout",
     "output_type": "stream",
     "text": [
      "5\n",
      "8\n"
     ]
    }
   ],
   "source": [
    "'''18. Find Median of Three\n",
    "\n",
    "Write a Python program to find the median among three given numbers.'''\n",
    "\n",
    "def find_three(a, b, c):\n",
    "\n",
    "    if a < b and b < c:\n",
    "        print(b)\n",
    "    elif b < a and a < c:\n",
    "        print(a)\n",
    "    elif a < c and c < b:\n",
    "        print(c)\n",
    "    elif c < a and a < b:\n",
    "        print(a)\n",
    "    elif b < c and c < a:\n",
    "        print(c)\n",
    "    elif c < b and b < a:\n",
    "        print(b)\n",
    "\n",
    "find_three(5, 4, 11)\n",
    "find_three(9,8,7)"
   ]
  },
  {
   "cell_type": "markdown",
   "id": "647685c6-4f2d-4b53-972a-4d8ae0a9369b",
   "metadata": {},
   "source": [
    "# "
   ]
  }
 ],
 "metadata": {
  "kernelspec": {
   "display_name": "Python 3 (ipykernel)",
   "language": "python",
   "name": "python3"
  },
  "language_info": {
   "codemirror_mode": {
    "name": "ipython",
    "version": 3
   },
   "file_extension": ".py",
   "mimetype": "text/x-python",
   "name": "python",
   "nbconvert_exporter": "python",
   "pygments_lexer": "ipython3",
   "version": "3.10.0"
  }
 },
 "nbformat": 4,
 "nbformat_minor": 5
}
