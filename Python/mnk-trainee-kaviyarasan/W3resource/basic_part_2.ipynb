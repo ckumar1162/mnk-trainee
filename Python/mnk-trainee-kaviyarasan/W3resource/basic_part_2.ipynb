{
 "cells": [
  {
   "cell_type": "markdown",
   "id": "5a180635-03bf-42e1-a096-6a334c494a11",
   "metadata": {},
   "source": [
    " Basic (Part-II)"
   ]
  },
  {
   "cell_type": "code",
   "execution_count": null,
   "id": "3f75952e-4b3b-4441-9916-7ed5216c11f9",
   "metadata": {},
   "outputs": [],
   "source": []
  },
  {
   "cell_type": "code",
   "execution_count": 1,
   "id": "819e2a5f-13a3-4283-adcb-e4e1a922d344",
   "metadata": {},
   "outputs": [
    {
     "name": "stdout",
     "output_type": "stream",
     "text": [
      "False\n"
     ]
    }
   ],
   "source": [
    "'''1. Unique Numbers Check\n",
    "\n",
    "Write a Python function that takes a sequence of numbers and determines whether all the numbers are different from each other.'''\n",
    "\n",
    "def test_data(testdata):\n",
    "\n",
    "    if len(testdata) == len(set(testdata)):\n",
    "        return True\n",
    "    else:\n",
    "        return False\n",
    "print(test_data([1,2,3,5,6,7,7,9,8,9,8,]))"
   ]
  },
  {
   "cell_type": "code",
   "execution_count": 2,
   "id": "52a97502-0b0f-4159-a95d-45fdfafac9bc",
   "metadata": {},
   "outputs": [
    {
     "name": "stdout",
     "output_type": "stream",
     "text": [
      "oiaeI\n"
     ]
    }
   ],
   "source": [
    "'''2. All Unique Strings\n",
    "\n",
    "Write a Python program that creates all possible strings using the letters 'a', 'e', 'i', 'o', and 'I'. Ensure that each character is used only once.'''\n",
    "\n",
    "import random\n",
    "char_lists = [\"a\", \"e\", \"i\", \"o\", \"I\"]\n",
    "\n",
    "random.shuffle(char_lists)\n",
    "print(''.join(char_lists))\n"
   ]
  },
  {
   "cell_type": "code",
   "execution_count": 3,
   "id": "5656bf02-7c3f-4637-af76-56320f134c88",
   "metadata": {},
   "outputs": [
    {
     "name": "stdout",
     "output_type": "stream",
     "text": [
      "5\n",
      "3\n",
      "9\n",
      "5\n",
      "4\n",
      "4\n",
      "4\n",
      "6\n",
      "43\n",
      "2\n",
      "3\n",
      "8\n",
      "33\n"
     ]
    }
   ],
   "source": [
    "'''3. Remove Every Third\n",
    "\n",
    "Write a Python program that removes and prints every third number from a list of numbers until the list is empty.'''\n",
    "\n",
    "def remove_every_third(num):\n",
    "    index = 0\n",
    "    while num:\n",
    "        index = (index + 2) % len(num)\n",
    "        print(num[index])\n",
    "        remove = num.pop(index)\n",
    "        \n",
    "remove_every_third([3,4,5,6,2,3,4,8,9,43,4,5,33])"
   ]
  },
  {
   "cell_type": "code",
   "execution_count": 4,
   "id": "f5a996f6-2eb4-4a34-a71d-28b232ea9151",
   "metadata": {},
   "outputs": [
    {
     "name": "stdout",
     "output_type": "stream",
     "text": [
      "[[-4, 1, 3]]\n"
     ]
    }
   ],
   "source": [
    "'''4. Zero Sum Triplets\n",
    "\n",
    "Write a Python program to identify unique triplets whose three elements sum to zero from an array of n integers.'''\n",
    "\n",
    "array1 = [-1,-4,2,3,1,6,7,8]\n",
    "\n",
    "def zero_sum_triplets(array):\n",
    "    triplenum = []\n",
    "    n = len(array)\n",
    "    for i in range(n - 2):\n",
    "       for j  in range(i + 1, n - 1):\n",
    "            for k in range(j + 1, n):\n",
    "                if array[i] + array[j] + array[k] == 0 :\n",
    "                    triplenums = sorted([array[i], array[j], array[k]])\n",
    "                    if triplenums not in triplenum:\n",
    "                        triplenum.append(triplenums)\n",
    "                        \n",
    "    return triplenum\n",
    "\n",
    "print(zero_sum_triplets(array1))"
   ]
  },
  {
   "cell_type": "code",
   "execution_count": 5,
   "id": "1c52fb8a-1234-4571-a11d-cf136a2b6366",
   "metadata": {},
   "outputs": [
    {
     "name": "stdout",
     "output_type": "stream",
     "text": [
      "999\n"
     ]
    }
   ],
   "source": [
    "'''5. 3-Digit Combinations\n",
    "\n",
    "Write a Python program to make combinations of 3 digits.'''\n",
    "\n",
    "\n",
    "for num in range(1,1000):\n",
    "    nums = str(num).zfill(3)\n",
    "    \n",
    "print(nums)\n"
   ]
  },
  {
   "cell_type": "code",
   "execution_count": 6,
   "id": "bc9de46a-7452-42bc-9a07-b150a46b343d",
   "metadata": {},
   "outputs": [
    {
     "name": "stdout",
     "output_type": "stream",
     "text": [
      "Word Frequency Counter\n",
      "\n",
      "Write a Python program that prints long text, converts it to a list, and prints all the words and the frequency of each word.\n",
      "[('W', 2), ('o', 10), ('r', 12), ('d', 5), (' ', 25), ('F', 1), ('r', 12), ('e', 11), ('q', 2), ('u', 3), ('e', 11), ('n', 10), ('c', 4), ('y', 3), (' ', 25), ('C', 1), ('o', 10), ('u', 3), ('n', 10), ('t', 15), ('e', 11), ('r', 12), ('\\n', 2), ('\\n', 2), ('W', 2), ('r', 12), ('i', 5), ('t', 15), ('e', 11), (' ', 25), ('a', 8), (' ', 25), ('P', 1), ('y', 3), ('t', 15), ('h', 5), ('o', 10), ('n', 10), (' ', 25), ('p', 3), ('r', 12), ('o', 10), ('g', 2), ('r', 12), ('a', 8), ('m', 1), (' ', 25), ('t', 15), ('h', 5), ('a', 8), ('t', 15), (' ', 25), ('p', 3), ('r', 12), ('i', 5), ('n', 10), ('t', 15), ('s', 5), (' ', 25), ('l', 4), ('o', 10), ('n', 10), ('g', 2), (' ', 25), ('t', 15), ('e', 11), ('x', 1), ('t', 15), (',', 2), (' ', 25), ('c', 4), ('o', 10), ('n', 10), ('v', 1), ('e', 11), ('r', 12), ('t', 15), ('s', 5), (' ', 25), ('i', 5), ('t', 15), (' ', 25), ('t', 15), ('o', 10), (' ', 25), ('a', 8), (' ', 25), ('l', 4), ('i', 5), ('s', 5), ('t', 15), (',', 2), (' ', 25), ('a', 8), ('n', 10), ('d', 5), (' ', 25), ('p', 3), ('r', 12), ('i', 5), ('n', 10), ('t', 15), ('s', 5), (' ', 25), ('a', 8), ('l', 4), ('l', 4), (' ', 25), ('t', 15), ('h', 5), ('e', 11), (' ', 25), ('w', 2), ('o', 10), ('r', 12), ('d', 5), ('s', 5), (' ', 25), ('a', 8), ('n', 10), ('d', 5), (' ', 25), ('t', 15), ('h', 5), ('e', 11), (' ', 25), ('f', 2), ('r', 12), ('e', 11), ('q', 2), ('u', 3), ('e', 11), ('n', 10), ('c', 4), ('y', 3), (' ', 25), ('o', 10), ('f', 2), (' ', 25), ('e', 11), ('a', 8), ('c', 4), ('h', 5), (' ', 25), ('w', 2), ('o', 10), ('r', 12), ('d', 5), ('.', 1)]\n"
     ]
    }
   ],
   "source": [
    "'''6. Word Frequency Counter\n",
    "\n",
    "Write a Python program that prints long text, converts it to a list, and prints all the words and the frequency of each word.'''\n",
    "\n",
    "string_words = ''' Word Frequency Counter\n",
    "\n",
    "Write a Python program that prints long text, converts it to a list, and prints all the words and the frequency of each word.'''\n",
    "\n",
    "word_list = string_words.strip()\n",
    "print(word_list)\n",
    "word_fre = [word_list.count(n) for n in word_list]\n",
    "print(str(list(zip(word_list, word_fre))))"
   ]
  },
  {
   "cell_type": "code",
   "execution_count": 7,
   "id": "0b1e9473-b99c-4718-b994-afa04bbbd8a4",
   "metadata": {},
   "outputs": [
    {
     "name": "stdout",
     "output_type": "stream",
     "text": [
      "Counter({' ': 93, 'E': 64, 'N': 45, 'A': 42, 'T': 40, 'I': 36, 'O': 31, 'R': 29, 'H': 25, 'D': 19, 'M': 17, 'Y': 17, 'F': 15, 'L': 15, 'U': 14, 'G': 13, 'C': 13, 'S': 12, ',': 7, 'B': 6, 'W': 5, '9': 5, 'P': 4, '.': 4, '\\n': 3, '1': 3, '3': 2, '0': 2, 'K': 1, '(': 1, ':': 1, ')': 1, 'V': 1, '-': 1})\n"
     ]
    }
   ],
   "source": [
    "'''7. Character Frequency in File\n",
    "\n",
    "Write a Python program to count the number of each character in a text file.'''\n",
    "\n",
    "import collections\n",
    "import pprint\n",
    "\n",
    "a = open(\"abc.txt\",\"r\")\n",
    "\n",
    "print(collections.Counter(a.read().upper()))"
   ]
  },
  {
   "cell_type": "code",
   "execution_count": 8,
   "id": "27b3edae-7165-43a4-9935-09efa3dfafde",
   "metadata": {},
   "outputs": [
    {
     "ename": "NameError",
     "evalue": "name 'items' is not defined",
     "output_type": "error",
     "traceback": [
      "\u001b[1;31m---------------------------------------------------------------------------\u001b[0m",
      "\u001b[1;31mNameError\u001b[0m                                 Traceback (most recent call last)",
      "Cell \u001b[1;32mIn[8], line 18\u001b[0m\n\u001b[0;32m     15\u001b[0m so_items \u001b[38;5;241m=\u001b[39m so_pages\u001b[38;5;241m.\u001b[39mfindAll(\u001b[38;5;124m\"\u001b[39m\u001b[38;5;124mitem\u001b[39m\u001b[38;5;124m\"\u001b[39m)\n\u001b[0;32m     17\u001b[0m \u001b[38;5;28;01mfor\u001b[39;00m item \u001b[38;5;129;01min\u001b[39;00m so_items:\n\u001b[1;32m---> 18\u001b[0m     \u001b[38;5;28mprint\u001b[39m(\u001b[43mitems\u001b[49m\u001b[38;5;241m.\u001b[39mtittle\u001b[38;5;241m.\u001b[39mitem)\n",
      "\u001b[1;31mNameError\u001b[0m: name 'items' is not defined"
     ]
    }
   ],
   "source": [
    "'''8. Google News Top Stories\n",
    "\n",
    "Write a Python program that retrieves the top stories from Google News.'''\n",
    "import bs4\n",
    "from bs4 import BeautifulSoup as so\n",
    "from urllib.request import urlopen\n",
    "\n",
    "client = urlopen(\"https://news.google.com/news/rss\")\n",
    "xml_page = client.read()\n",
    "\n",
    "client.close()\n",
    "\n",
    "so_pages = so(xml_page,\"xml\")\n",
    "\n",
    "so_items = so_pages.findAll(\"item\")\n",
    "\n",
    "for item in so_items:\n",
    "    print(items.tittle.item)\n",
    "\n"
   ]
  },
  {
   "cell_type": "code",
   "execution_count": null,
   "id": "0677c440-1463-4c18-89dd-599ac8e901da",
   "metadata": {},
   "outputs": [],
   "source": [
    "'''9. Locally Installed Modules\n",
    "\n",
    "Write a Python program to get a list of locally installed Python modules.'''\n",
    "\n",
    "import pkg_resources\n",
    "\n",
    "installed_pack = pkg_resources.working_set\n",
    "\n",
    "packeges = [(i.key, i.version) for i in installed_pack]\n",
    "\n",
    "print(packeges)"
   ]
  },
  {
   "cell_type": "code",
   "execution_count": null,
   "id": "c3ec621e-0617-406c-aec3-2153a0d34b85",
   "metadata": {},
   "outputs": [],
   "source": [
    "'''10. OS Information Display\n",
    "\n",
    "Write a Python program to display some information about the OS where the script is running.'''\n",
    "\n",
    "import platform as pl\n",
    "\n",
    "os_profile = [\n",
    "    'architecture',\n",
    "    'linux_distribution',\n",
    "    'mac_ver',\n",
    "    'machine',\n",
    "    'node',\n",
    "    'platform',\n",
    "    'processor',\n",
    "    'python_build',\n",
    "    'python_compiler',\n",
    "    'python_version',\n",
    "    'release',\n",
    "    'system',\n",
    "    'uname',\n",
    "    'version',\n",
    "]\n",
    "\n",
    "for key in os_profile:\n",
    "    if hasattr(pl, key):\n",
    "        print(key, str(getattr(pl,key)()))\n"
   ]
  },
  {
   "cell_type": "code",
   "execution_count": null,
   "id": "551ada97-e854-4ae1-b1ae-eff139a10f9c",
   "metadata": {},
   "outputs": [],
   "source": [
    "'''11. Three Array Sum Combinations\n",
    "\n",
    "Write a Python program to check the sum of three elements (each from an array) from three arrays is equal to a target value. Print all those three-element combinations.\n",
    "Sample data:\n",
    "/*\n",
    "X = [10, 20, 20, 20]\n",
    "Y = [10, 20, 30, 40]\n",
    "Z = [10, 30, 40, 20]\n",
    "target = 70\n",
    "*/'''\n",
    "\n",
    "X = [10, 20, 20, 20]\n",
    "Y = [10, 20, 30, 40]\n",
    "Z = [10, 30, 40, 20]\n",
    "T = 70\n",
    "\n",
    "result = set()\n",
    "\n",
    "for x in X:\n",
    "    for y in Y:\n",
    "        for z in Z:\n",
    "            if x + y + z == T:\n",
    "                result.add((x, y, z)) \n",
    "\n",
    "\n",
    "for combination in result:\n",
    "    print(combination)"
   ]
  },
  {
   "cell_type": "code",
   "execution_count": null,
   "id": "c6c22699-a543-454e-ba17-2835375f6403",
   "metadata": {},
   "outputs": [],
   "source": [
    "'''12. List Permutations Generator\n",
    "\n",
    "Write a Python program that generates a list of all possible permutations from a given collection of distinct numbers.'''\n",
    "\n",
    "import itertools\n",
    "\n",
    "\n",
    "numbers = [1, 2, 3]\n",
    "\n",
    "\n",
    "permutations = list(itertools.permutations(numbers))\n",
    "\n",
    "\n",
    "for perm in permutations:\n",
    "    print(perm)\n"
   ]
  },
  {
   "cell_type": "code",
   "execution_count": null,
   "id": "67f0d39f-bc58-419f-a26e-305947866f40",
   "metadata": {},
   "outputs": [],
   "source": [
    "'''13. Two-Digit Letter Combos\n",
    "\n",
    "Write a Python program to get all possible two-digit letter combinations from a 1-9 digit string.'''\n",
    "\n",
    "\n",
    "def letter_combinations(digits):\n",
    "    if digits == \"\":\n",
    "        return []\n",
    "        \n",
    "    string_maps = {\n",
    "        \"1\": \"abc\",\n",
    "        \"2\": \"def\",\n",
    "        \"3\": \"ghi\",\n",
    "        \"4\": \"jkl\",\n",
    "        \"5\": \"mno\",\n",
    "        \"6\": \"pqrs\",\n",
    "        \n",
    "        \"7\": \"tuv\",\n",
    "        \"8\": \"wxy\",\n",
    "        \"9\": \"z\"\n",
    "    }\n",
    "    \n",
    "    result = [\"\"]\n",
    "    \n",
    "    for num in digits:\n",
    "       \n",
    "        temp = []    \n",
    "        for an in result:\n",
    "            \n",
    "            for char in string_maps[num]:\n",
    "                temp.append(an + char)       \n",
    "        result = temp \n",
    "    return result\n",
    "\n",
    "digit_string = \"13\"\n",
    "print(letter_combinations(digit_string))\n",
    "digit_string = \"37\"\n",
    "print(letter_combinations(digit_string))\n"
   ]
  },
  {
   "cell_type": "code",
   "execution_count": null,
   "id": "7a4acdb2-0bd3-44b4-a148-06282b9a0b2d",
   "metadata": {},
   "outputs": [],
   "source": [
    "'''14. Add Without Plus\n",
    "\n",
    "Write a Python program to add two positive integers without using the '+' operator.\n",
    "Note: Use bit wise operations to add two numbers.'''\n",
    "def add_without_plus_operator(a, b):\n",
    "   \n",
    "    while b != 0:\n",
    "        \n",
    "        data = a & b\n",
    "        a = a ^ b\n",
    "        b = data << 1\n",
    "   \n",
    "    return a\n",
    "print(add_without_plus_operator(7,3))"
   ]
  },
  {
   "cell_type": "code",
   "execution_count": null,
   "id": "46138b7a-e055-409b-9d20-9f47ddcf29f8",
   "metadata": {},
   "outputs": [],
   "source": [
    "'''15. Operator Priority Checker\n",
    "\n",
    "Write a Python program to check the priority of the four operators (+, -, *, /).'''\n",
    "\n",
    "def priority_check(a, b):\n",
    "    \n",
    "    operators = {\n",
    "        \"+\" : 0,\n",
    "        \"-\" : 0,\n",
    "        \"*\" : 1, \n",
    "        \"/\" : 1\n",
    "    }\n",
    "\n",
    "    return operators[a] >= operators[b]\n",
    "\n",
    "print(priority_check(\"*\",\"-\"))\n"
   ]
  },
  {
   "cell_type": "code",
   "execution_count": null,
   "id": "0cd2e6a0-3c84-4a72-811c-6bcbab88c318",
   "metadata": {},
   "outputs": [],
   "source": [
    "'''16. Right Triangle Third Side\n",
    "\n",
    "Write a Python program to get the third side of a right-angled triangle from two given sides.'''\n",
    "\n",
    "import math\n",
    "def third_side(a, b, hyp = False):\n",
    "\n",
    "    if hyp == True:\n",
    "        return math.sqrt(a**2  + b**2)\n",
    "    if hyp == False:\n",
    "        return math.sqrt(abs(a**2 - b**2))\n",
    "print(third_side(2,4,hyp = True))"
   ]
  },
  {
   "cell_type": "code",
   "execution_count": null,
   "id": "7339335b-84c7-4d82-99b9-bcd81e4e29e5",
   "metadata": {},
   "outputs": [],
   "source": [
    "'''17. Strobogrammatic Numbers\n",
    "\n",
    "Write a  Python program to get all strobogrammatic numbers that are of length n.\n",
    "A strobogrammatic number is a number whose numeral is rotationally symmetric, so that it appears the same when rotated 180 degrees. In other words, \n",
    "the numeral looks the same right-side up and upside down (e.g., 69, 96, 1001).\n",
    "For example,\n",
    "Given n = 2, return [\"11\", \"69\", \"88\", \"96\"].\n",
    "Given n = 3, return ['818', '111', '916', '619', '808', '101', '906', '609', '888', '181', '986', '689']'''\n",
    "\n",
    "def gen_strobogrammatic(n):\n",
    "    \"\"\"\n",
    "    :type n: int\n",
    "    :rtype: List[str]\n",
    "    \"\"\"\n",
    "    result = helper(n, n)\n",
    "    return result\n",
    "\n",
    "\n",
    "def helper(n, length):\n",
    "    \n",
    "    if n == 0:\n",
    "        return [\"\"]\n",
    "  \n",
    "    if n == 1:\n",
    "        return [\"1\", \"0\", \"8\"]\n",
    "    middles = helper(n-2, length)\n",
    "    result = []\n",
    "    \n",
    "    for middle in middles:\n",
    "        if n != length:\n",
    "            result.append(\"0\" + middle + \"0\")\n",
    "        result.append(\"8\" + middle + \"8\")\n",
    "        result.append(\"1\" + middle + \"1\")\n",
    "        result.append(\"9\" + middle + \"6\")\n",
    "        result.append(\"6\" + middle + \"9\")\n",
    "    return result\n",
    "print(gen_strobogrammatic(3))"
   ]
  },
  {
   "cell_type": "code",
   "execution_count": null,
   "id": "0a300497-f9b2-4350-8a8f-ab723c25993f",
   "metadata": {},
   "outputs": [],
   "source": [
    "'''18. Find Median of Three\n",
    "\n",
    "Write a Python program to find the median among three given numbers.'''\n",
    "\n",
    "def find_three(a, b, c):\n",
    "\n",
    "    if a < b and b < c:\n",
    "        print(b)\n",
    "    elif b < a and a < c:\n",
    "        print(a)\n",
    "    elif a < c and c < b:\n",
    "        print(c)\n",
    "    elif c < a and a < b:\n",
    "        print(a)\n",
    "    elif b < c and c < a:\n",
    "        print(c)\n",
    "    elif c < b and b < a:\n",
    "        print(b)\n",
    "\n",
    "find_three(5, 4, 11)\n",
    "find_three(9,8,7)"
   ]
  },
  {
   "cell_type": "code",
   "execution_count": null,
   "id": "1ba56dca-cde9-4263-8563-cf31671025f3",
   "metadata": {},
   "outputs": [],
   "source": [
    "'''19. Sequential Powers of Two\n",
    "\n",
    "Write a Python program that finds the value of n when n degrees of number 2 are written sequentially on a line without spaces between them.'''\n",
    "\n",
    "def ndegrees(num):\n",
    "    answer = True\n",
    "\n",
    "    n, temp, i = 2, 2, 2\n",
    "\n",
    "    while answer:\n",
    "\n",
    "        if str(temp) in num:\n",
    "            i += 1\n",
    "            temp = pow(n, i)\n",
    "        else:\n",
    "            answer = False\n",
    "    return i - 1\n",
    "print(ndegrees(\"2481632\"))"
   ]
  },
  {
   "cell_type": "code",
   "execution_count": null,
   "id": "c707fe90-8027-4ec0-a2c6-807774f33f2e",
   "metadata": {},
   "outputs": [],
   "source": [
    "'''20. Factorial Trailing Zeros\n",
    "\n",
    "Write a Python program to find the number of zeros at the end of a factorial of a given positive number.\n",
    "Range of the number(n): (1 <= n <= 2*109).'''\n",
    "\n",
    "def factorndZero(num):\n",
    "\n",
    "    x = num // 5\n",
    "    y = x\n",
    "    while x > 0:\n",
    "        x /= 5\n",
    "        y += int(x)\n",
    "\n",
    "    return y\n",
    "print(factorndZero(12))"
   ]
  },
  {
   "cell_type": "code",
   "execution_count": 12,
   "id": "62d1697a-0927-4559-90be-c4da77df4421",
   "metadata": {},
   "outputs": [
    {
     "name": "stdout",
     "output_type": "stream",
     "text": [
      "total  number of notes 8\n",
      "num of notes 500  \n",
      " 4 \n",
      "num of notes 200  \n",
      " 1 \n",
      "num of notes 100  \n",
      " 1 \n",
      "num of notes 50  \n",
      " 0 \n",
      "num of notes 20  \n",
      " 1 \n",
      "num of notes 10  \n",
      " 1\n"
     ]
    }
   ],
   "source": [
    "'''21. Notes Count from Amount\n",
    "\n",
    "Write a Python program to find the number of notes (Samples of notes: 10, 20, 50, 100, 200, 500) against an amount.\n",
    "Range - Number of notes(n) : n (1 <= n <= 1000000).'''\n",
    "\n",
    "num = 2330\n",
    "notes_500 = 0\n",
    "notes_200 = 0\n",
    "notes_100 = 0\n",
    "notes_50 = 0\n",
    "notes_20 = 0\n",
    "notes_10 = 0\n",
    "notes = 0\n",
    "while num > 0:\n",
    "    if num >= 500:\n",
    "        notes_500 += 1\n",
    "        notes += 1\n",
    "        num -= 500\n",
    "    elif num >= 200:\n",
    "        notes_200 += 1\n",
    "        notes += 1\n",
    "        num -= 200\n",
    "    elif num >= 100:\n",
    "        notes_100 += 1\n",
    "        notes += 1\n",
    "        num -= 100\n",
    "    elif num >= 50:\n",
    "        notes_50 += 1\n",
    "        notes += 1\n",
    "        num -= 50\n",
    "    elif num >= 20:\n",
    "        notes_20 += 1\n",
    "        notes += 1\n",
    "        num -= 20\n",
    "    elif num >= 10:\n",
    "        notes_10 += 1\n",
    "        notes += 1\n",
    "        num -= 10\n",
    "        \n",
    "        \n",
    "    \n",
    "print(\"total  number of notes\",notes)\n",
    "print(\"num of notes 500 \",\"\\n\",notes_500,\n",
    "      \"\\nnum of notes 200 \",\"\\n\",notes_200,\n",
    "     \"\\nnum of notes 100 \",\"\\n\",notes_100,\n",
    "     \"\\nnum of notes 50 \",\"\\n\",notes_50,\n",
    "     \"\\nnum of notes 20 \",\"\\n\",notes_20,\n",
    "     \"\\nnum of notes 10 \",\"\\n\",notes_10)\n"
   ]
  },
  {
   "cell_type": "code",
   "execution_count": 13,
   "id": "11a14f1d-b97e-46d9-88e6-53447ce3b01d",
   "metadata": {},
   "outputs": [
    {
     "name": "stdout",
     "output_type": "stream",
     "text": [
      "13\n"
     ]
    }
   ],
   "source": [
    "'''22. Nth Member of Sequence\n",
    "\n",
    "Write a Python program to create a sequence where the first four members of the sequence are equal to one. \n",
    "Each successive term of the sequence is equal to the sum of the four previous ones. Find the Nth member of the sequence.'''\n",
    "\n",
    "def new_seq(n):\n",
    "\n",
    "    if n == 1 or n == 2 or n == 3 or n == 4 :\n",
    "        return 1\n",
    "\n",
    "    return new_seq(n -1) + new_seq(n - 2) + new_seq(n - 3) + new_seq(n - 4)\n",
    "\n",
    "print(new_seq(7))"
   ]
  },
  {
   "cell_type": "code",
   "execution_count": 18,
   "id": "40b094f8-deb6-40b3-aee8-5bc0478e4560",
   "metadata": {},
   "outputs": [
    {
     "name": "stdout",
     "output_type": "stream",
     "text": [
      "0\n"
     ]
    }
   ],
   "source": [
    "'''23. Subtract Sum of Digits\n",
    "\n",
    "Write a Python program that accepts a positive number and subtracts from it the sum of its digits, and so on.\n",
    "Continue this operation until the number is positive.\n",
    "'''\n",
    "\n",
    "def repeat_times(n):\n",
    "   \n",
    "    n_str = str(n)\n",
    "    while n > 0:\n",
    "       \n",
    "        n -= sum([int(i) for i in list(n_str)])\n",
    "        n_str = list(str(n))\n",
    "    \n",
    "    return n\n",
    "\n",
    "print(repeat_times(67))"
   ]
  },
  {
   "cell_type": "code",
   "execution_count": null,
   "id": "a3324d2e-bd36-403e-8cf6-b4d2b1564c91",
   "metadata": {},
   "outputs": [],
   "source": [
    "''''''"
   ]
  }
 ],
 "metadata": {
  "kernelspec": {
   "display_name": "Python 3 (ipykernel)",
   "language": "python",
   "name": "python3"
  },
  "language_info": {
   "codemirror_mode": {
    "name": "ipython",
    "version": 3
   },
   "file_extension": ".py",
   "mimetype": "text/x-python",
   "name": "python",
   "nbconvert_exporter": "python",
   "pygments_lexer": "ipython3",
   "version": "3.13.1"
  }
 },
 "nbformat": 4,
 "nbformat_minor": 5
}
