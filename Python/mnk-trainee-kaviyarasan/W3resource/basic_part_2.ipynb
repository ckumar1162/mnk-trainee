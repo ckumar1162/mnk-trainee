{
 "cells": [
  {
   "cell_type": "markdown",
   "id": "5a180635-03bf-42e1-a096-6a334c494a11",
   "metadata": {},
   "source": [
    " Basic (Part-II)"
   ]
  },
  {
   "cell_type": "code",
   "execution_count": null,
   "id": "3f75952e-4b3b-4441-9916-7ed5216c11f9",
   "metadata": {},
   "outputs": [],
   "source": []
  },
  {
   "cell_type": "code",
   "execution_count": 3,
   "id": "819e2a5f-13a3-4283-adcb-e4e1a922d344",
   "metadata": {},
   "outputs": [
    {
     "name": "stdout",
     "output_type": "stream",
     "text": [
      "False\n"
     ]
    }
   ],
   "source": [
    "'''1. Unique Numbers Check\n",
    "\n",
    "Write a Python function that takes a sequence of numbers and determines whether all the numbers are different from each other.'''\n",
    "\n",
    "def test_data(testdata):\n",
    "\n",
    "    if len(testdata) == len(set(testdata)):\n",
    "        return True\n",
    "    else:\n",
    "        return False\n",
    "print(test_data([1,2,3,5,6,7,7,9,8,9,8,]))"
   ]
  },
  {
   "cell_type": "code",
   "execution_count": 11,
   "id": "52a97502-0b0f-4159-a95d-45fdfafac9bc",
   "metadata": {},
   "outputs": [
    {
     "name": "stdout",
     "output_type": "stream",
     "text": [
      "Ioeai\n"
     ]
    }
   ],
   "source": [
    "'''2. All Unique Strings\n",
    "\n",
    "Write a Python program that creates all possible strings using the letters 'a', 'e', 'i', 'o', and 'I'. Ensure that each character is used only once.'''\n",
    "\n",
    "import random\n",
    "char_lists = [\"a\", \"e\", \"i\", \"o\", \"I\"]\n",
    "\n",
    "random.shuffle(char_lists)\n",
    "print(''.join(char_lists))\n"
   ]
  },
  {
   "cell_type": "code",
   "execution_count": 16,
   "id": "5656bf02-7c3f-4637-af76-56320f134c88",
   "metadata": {},
   "outputs": [
    {
     "name": "stdout",
     "output_type": "stream",
     "text": [
      "5\n",
      "3\n",
      "9\n",
      "5\n",
      "4\n",
      "4\n",
      "4\n",
      "6\n",
      "43\n",
      "2\n",
      "3\n",
      "8\n",
      "33\n"
     ]
    }
   ],
   "source": [
    "'''3. Remove Every Third\n",
    "\n",
    "Write a Python program that removes and prints every third number from a list of numbers until the list is empty.'''\n",
    "\n",
    "def remove_every_third(num):\n",
    "    index = 0\n",
    "    while num:\n",
    "        index = (index + 2) % len(num)\n",
    "        print(num[index])\n",
    "        remove = num.pop(index)\n",
    "        \n",
    "remove_every_third([3,4,5,6,2,3,4,8,9,43,4,5,33])"
   ]
  },
  {
   "cell_type": "code",
   "execution_count": null,
   "id": "f5a996f6-2eb4-4a34-a71d-28b232ea9151",
   "metadata": {},
   "outputs": [],
   "source": [
    "'''4. Zero Sum Triplets\n",
    "\n",
    "Write a Python program to identify unique triplets whose three elements sum to zero from an array of n integers.'''\n",
    "\n",
    "array1 = [-1,-4,2,3,1,6,7,8]\n",
    "\n",
    "def zero_sum_triplets():\n",
    "    "
   ]
  }
 ],
 "metadata": {
  "kernelspec": {
   "display_name": "Python 3 (ipykernel)",
   "language": "python",
   "name": "python3"
  },
  "language_info": {
   "codemirror_mode": {
    "name": "ipython",
    "version": 3
   },
   "file_extension": ".py",
   "mimetype": "text/x-python",
   "name": "python",
   "nbconvert_exporter": "python",
   "pygments_lexer": "ipython3",
   "version": "3.10.0"
  }
 },
 "nbformat": 4,
 "nbformat_minor": 5
}
