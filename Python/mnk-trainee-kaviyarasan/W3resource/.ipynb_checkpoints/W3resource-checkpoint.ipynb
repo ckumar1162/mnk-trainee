{
 "cells": [
  {
   "cell_type": "markdown",
   "id": "ad8d5395-073d-4cba-8db9-92e863092fa5",
   "metadata": {},
   "source": [
    "basic part 1"
   ]
  },
  {
   "cell_type": "code",
   "execution_count": 1,
   "id": "3d1a9eb5-ec81-49b5-9460-a106c37ae63a",
   "metadata": {},
   "outputs": [
    {
     "name": "stdout",
     "output_type": "stream",
     "text": [
      "Twinkle, twinkle, little star, \n",
      "\tHow I wonder what you are! \n",
      "\t\tUp above the world so high, \n",
      "\t\tLike a diamond in the sky. \n",
      "Twinkle, twinkle, little star, \n",
      "\tHow I wonder what you are\n"
     ]
    }
   ],
   "source": [
    "'''\n",
    "1. Write a Python program to print the following string in a specific format (see the output).\n",
    "Sample String : \"Twinkle, twinkle, little star, How I wonder what you are! Up above the world so high, Like a diamond in the sky. Twinkle, twinkle, little star, How I wonder what you are\"\n",
    "Output :\n",
    "\n",
    "Twinkle, twinkle, little star,\n",
    "\tHow I wonder what you are! \n",
    "\t\tUp above the world so high,   \t\t\n",
    "\t\tLike a diamond in the sky. \n",
    "Twinkle, twinkle, little star, \n",
    "\tHow I wonder what you are\n",
    "'''\n",
    "\n",
    "print(\"Twinkle, twinkle, little star, \\n\\tHow I wonder what you are! \\n\\t\\tUp above the world so high, \\n\\t\\tLike a diamond in the sky. \\nTwinkle, twinkle, little star, \\n\\tHow I wonder what you are\")"
   ]
  },
  {
   "cell_type": "code",
   "execution_count": 2,
   "id": "f90f362c-a855-40ad-bbb8-d14156435309",
   "metadata": {},
   "outputs": [
    {
     "name": "stdout",
     "output_type": "stream",
     "text": [
      "3.10.0 (tags/v3.10.0:b494f59, Oct  4 2021, 19:00:18) [MSC v.1929 64 bit (AMD64)]\n",
      "sys.version_info(major=3, minor=10, micro=0, releaselevel='final', serial=0)\n"
     ]
    }
   ],
   "source": [
    "'''\n",
    "2. Write a Python program to find out what version of Python you are using.\n",
    "'''\n",
    "import sys\n",
    "\n",
    "print(sys.version)\n",
    "print(sys.version_info)"
   ]
  },
  {
   "cell_type": "code",
   "execution_count": 3,
   "id": "cf086559-444f-4da0-bf74-e5f25f4914fe",
   "metadata": {},
   "outputs": [
    {
     "name": "stdout",
     "output_type": "stream",
     "text": [
      "current date and time\n",
      "2024-15-11/26/24 14:15:49\n"
     ]
    }
   ],
   "source": [
    "'''\n",
    "3. Write a Python program to display the current date and time.\n",
    "Sample Output :\n",
    "Current date and time :\n",
    "2014-07-05 14:34:14\n",
    "'''\n",
    "import datetime \n",
    "\n",
    "current_dt = datetime.datetime.now()\n",
    "print(\"current date and time\")\n",
    "print(current_dt.strftime(\"%Y-%M-%D %H:%M:%S\"))\n"
   ]
  },
  {
   "cell_type": "code",
   "execution_count": 4,
   "id": "3dcfc9dd-a9b5-4d3d-8d5b-03012b5829a6",
   "metadata": {},
   "outputs": [
    {
     "name": "stdin",
     "output_type": "stream",
     "text": [
      "Enter circle radius: 7\n"
     ]
    },
    {
     "name": "stdout",
     "output_type": "stream",
     "text": [
      "The Area of the circle for radius(7.0),Area = 153.93804002589985\n"
     ]
    }
   ],
   "source": [
    "'''4. Write a Python program that calculates the area of a circle based on the radius entered by the user.\n",
    "Sample Output :\n",
    "r = 1.1\n",
    "Area = 3.8013271108436504'''\n",
    "\n",
    "import math\n",
    "\n",
    "r = float(input(\"Enter circle radius:\"))\n",
    "Area = math.pi*(r**2)\n",
    "print(f\"The Area of the circle for radius({r}),Area = {Area}\")"
   ]
  },
  {
   "cell_type": "code",
   "execution_count": 5,
   "id": "a932213f-f21a-4080-85f3-5d6605d4e183",
   "metadata": {},
   "outputs": [
    {
     "name": "stdin",
     "output_type": "stream",
     "text": [
      "Enter your first name : 7\n",
      "Enter your last name : 6\n"
     ]
    },
    {
     "name": "stdout",
     "output_type": "stream",
     "text": [
      "6 7\n"
     ]
    }
   ],
   "source": [
    "'''5. Write a Python program that accepts the user's first and last name and prints them in reverse order with a space between them.'''\n",
    "first_name = str(input(\"Enter your first name :\"))\n",
    "last_name = str(input(\"Enter your last name :\"))\n",
    "\n",
    "print(last_name[::-1] + \" \" + first_name[::-1])"
   ]
  },
  {
   "cell_type": "code",
   "execution_count": 6,
   "id": "92c21718-b791-44e4-b541-bc8831d64cfd",
   "metadata": {},
   "outputs": [
    {
     "name": "stdin",
     "output_type": "stream",
     "text": [
      "Enter a sequence of number to generate list and tuple: hai\n"
     ]
    },
    {
     "name": "stdout",
     "output_type": "stream",
     "text": [
      "List :['hai']\n",
      "Tuple :('hai',)\n"
     ]
    }
   ],
   "source": [
    "'''6. Write a Python program that accepts a sequence of comma-separated numbers from the user and generates a list and a tuple of those numbers.\n",
    "Sample data : 3, 5, 7, 23\n",
    "Output :\n",
    "List : ['3', ' 5', ' 7', ' 23']\n",
    "Tuple : ('3', ' 5', ' 7', ' 23') '''\n",
    "\n",
    "sequence_of_number = input(\"Enter a sequence of number to generate list and tuple:\")\n",
    "\n",
    "List = sequence_of_number.split(\",\")\n",
    "Tuple = tuple(List)\n",
    "print(f\"List :{List}\")\n",
    "print(f\"Tuple :{Tuple}\")"
   ]
  },
  {
   "cell_type": "code",
   "execution_count": 7,
   "id": "349e8b85-e47d-47dd-adb6-0322eb8d021e",
   "metadata": {},
   "outputs": [
    {
     "name": "stdin",
     "output_type": "stream",
     "text": [
      "Enter the file name : kavi.ka\n"
     ]
    },
    {
     "name": "stdout",
     "output_type": "stream",
     "text": [
      "your file extension :  ka\n"
     ]
    }
   ],
   "source": [
    "'''7. Write a Python program that accepts a filename from the user and prints the extension of the file.\n",
    "Sample filename : abc.java\n",
    "Output : java'''\n",
    "\n",
    "file_name = input(\"Enter the file name :\")\n",
    "\n",
    "f_extension = file_name.split(\".\")\n",
    "\n",
    "print(f\"your file extension : \",(f_extension[-1]))"
   ]
  },
  {
   "cell_type": "code",
   "execution_count": 8,
   "id": "1c15b84b-bc70-4f9d-8b64-7332ac8133d1",
   "metadata": {},
   "outputs": [
    {
     "name": "stdout",
     "output_type": "stream",
     "text": [
      "first color of the list : Red\n",
      "last color of the list : Black\n"
     ]
    }
   ],
   "source": [
    "'''8. Write a Python program to display the first and last colors from the following list.\n",
    "color_list = [\"Red\",\"Green\",\"White\" ,\"Black\"]'''\n",
    "\n",
    "color_list = [\"Red\",\"Green\",\"White\" ,\"Black\"]\n",
    "\n",
    "print(f\"first color of the list : {color_list[0]}\\nlast color of the list : {color_list[-1]}\")"
   ]
  },
  {
   "cell_type": "code",
   "execution_count": 9,
   "id": "ca54555b-5254-47ce-ab50-e95c84c781b7",
   "metadata": {},
   "outputs": [
    {
     "name": "stdout",
     "output_type": "stream",
     "text": [
      "Exam date 11/12/2014\n",
      "Exam will be start from: 11 / 12 / 2014 \n"
     ]
    }
   ],
   "source": [
    "'''9. Write a Python program to display the examination schedule. (extract the date from exam_st_date).\n",
    "exam_st_date = (11, 12, 2014)\n",
    "Sample Output : The examination will start from : 11 / 12 / 2014'''\n",
    "\n",
    "exam_st_date = (11, 12, 2014)\n",
    "\n",
    "print(f\"Exam date {exam_st_date[0]}/{exam_st_date[1]}/{exam_st_date[-1]}\")\n",
    "print(f\"Exam will be start from: %i / %i / %i \" % exam_st_date)"
   ]
  },
  {
   "cell_type": "code",
   "execution_count": 10,
   "id": "1f4d834b-aabf-420b-a43d-70f60453f720",
   "metadata": {},
   "outputs": [
    {
     "name": "stdin",
     "output_type": "stream",
     "text": [
      "Input an integer:  8\n"
     ]
    },
    {
     "name": "stdout",
     "output_type": "stream",
     "text": [
      "984\n"
     ]
    }
   ],
   "source": [
    "'''10. Write a Python program that accepts an integer (n) and computes the value of n+nn+nnn.\n",
    "Sample value of n is 5\n",
    "Expected Result : 615\n",
    "'''\n",
    "\n",
    "n = int(input(\"Input an integer: \"))\n",
    "\n",
    "n1 = n        7\n",
    "\n",
    "n2 = int(str(n)*2 )  \n",
    "n3 = int(str(n)*3)\n",
    "\n",
    "print(n1 + n2 + n3)"
   ]
  },
  {
   "cell_type": "code",
   "execution_count": 11,
   "id": "d5018234-4575-4772-a3ce-e0b7ed9fdbdb",
   "metadata": {},
   "outputs": [
    {
     "name": "stdout",
     "output_type": "stream",
     "text": [
      "Return a new list containing all items from the iterable in ascending order.\n",
      "\n",
      "A custom key function can be supplied to customize the sort order, and the\n",
      "reverse flag can be set to request the result in descending order.\n"
     ]
    }
   ],
   "source": [
    "'''11. Write a Python program to print the documents (syntax, description etc.) of Python built-in function(s).\n",
    "Sample function : abs()\n",
    "Expected Result :\n",
    "abs(number) -> number\n",
    "Return the absolute value of the argument.'''\n",
    "abs.__doc__\n",
    "# print(help(abs))\n",
    "print(sorted.__doc__)"
   ]
  },
  {
   "cell_type": "code",
   "execution_count": 12,
   "id": "ae9ff010-338c-4e3a-8082-1a7668d4f06c",
   "metadata": {},
   "outputs": [
    {
     "name": "stdin",
     "output_type": "stream",
     "text": [
      "Enter the year : 6000\n",
      "Enter the month : 12\n"
     ]
    },
    {
     "name": "stdout",
     "output_type": "stream",
     "text": [
      "   December 6000\n",
      "Mo Tu We Th Fr Sa Su\n",
      "             1  2  3\n",
      " 4  5  6  7  8  9 10\n",
      "11 12 13 14 15 16 17\n",
      "18 19 20 21 22 23 24\n",
      "25 26 27 28 29 30 31\n",
      "\n"
     ]
    }
   ],
   "source": [
    "'''12. Write a Python program that prints the calendar for a given month and year.\n",
    "Note : Use 'calendar' module.'''\n",
    "from calendar import month\n",
    "\n",
    "year = int(input(\"Enter the year :\"))\n",
    "m = int(input(\"Enter the month :\"))\n",
    "print(month(year,m))"
   ]
  },
  {
   "cell_type": "code",
   "execution_count": 13,
   "id": "5fc2edc1-caf3-40c3-a243-55fe0863fb02",
   "metadata": {},
   "outputs": [
    {
     "name": "stdout",
     "output_type": "stream",
     "text": [
      "\n",
      "a string that you \"don't\" have to escape\n",
      "This\n",
      "is a ....... multi-line\n",
      "heredoc string --------> example'''\n"
     ]
    }
   ],
   "source": [
    "'''13. Write a Python program to print the following 'here document'.\n",
    "Sample string :\n",
    "a string that you \"don't\" have to escape\n",
    "This\n",
    "is a ....... multi-line\n",
    "heredoc string --------> example'''\n",
    "\n",
    "print(\"\"\"\n",
    "a string that you \"don't\" have to escape\n",
    "This\n",
    "is a ....... multi-line\n",
    "heredoc string --------> example'''\"\"\")"
   ]
  },
  {
   "cell_type": "code",
   "execution_count": 14,
   "id": "c79f6877-4d89-44e5-a76a-237f09770105",
   "metadata": {},
   "outputs": [
    {
     "name": "stdout",
     "output_type": "stream",
     "text": [
      "9\n"
     ]
    }
   ],
   "source": [
    "'''14. Write a Python program to calculate the number of days between two dates.\n",
    "Sample dates : (2014, 7, 2), (2014, 7, 11)\n",
    "Expected output : 9 days'''\n",
    "\n",
    "from datetime import date\n",
    "\n",
    "s_date , e_date = date(2014, 7, 2), date(2014, 7, 11)\n",
    "\n",
    "dates = e_date - s_date\n",
    "\n",
    "print(dates.days)"
   ]
  },
  {
   "cell_type": "code",
   "execution_count": 15,
   "id": "c7a31ef9-85e4-47fb-b518-9d842b61a031",
   "metadata": {},
   "outputs": [
    {
     "name": "stdin",
     "output_type": "stream",
     "text": [
      "enter the radius to calculate the volume : 5\n"
     ]
    },
    {
     "name": "stdout",
     "output_type": "stream",
     "text": [
      "523.5987755982989\n"
     ]
    }
   ],
   "source": [
    "'''15. Write a  Python program to get the volume of a sphere with radius six.'''\n",
    "import math\n",
    "\n",
    "pi = math.pi\n",
    "\n",
    "r  = float(input(\"enter the radius to calculate the volume :\"))\n",
    "\n",
    "Volume = 4/3 * pi * r**3\n",
    "\n",
    "print(Volume)\n"
   ]
  },
  {
   "cell_type": "code",
   "execution_count": 16,
   "id": "a1bf3950-a5bf-44c4-9048-151a861c29c3",
   "metadata": {},
   "outputs": [
    {
     "name": "stdout",
     "output_type": "stream",
     "text": [
      "26\n",
      "0\n"
     ]
    }
   ],
   "source": [
    "'''16. Write a Python program to calculate the difference between a given number and 17. \n",
    "If the number is greater than 17, return twice the absolute difference.'''\n",
    "\n",
    "def difference(n):\n",
    "    if n <= 17:\n",
    "        return 17 - n\n",
    "    if n > 17 :\n",
    "        return (n - 17) * 2\n",
    "print(difference(30))\n",
    "print(difference(17))"
   ]
  },
  {
   "cell_type": "code",
   "execution_count": 17,
   "id": "195b61d2-456d-4a21-9a4b-34643b9804ce",
   "metadata": {},
   "outputs": [
    {
     "name": "stdout",
     "output_type": "stream",
     "text": [
      "number(999) is within 100 of 1000\n",
      "number(2088) is within 100 of 2000\n",
      "number(10) not withn 100 of 1000 or 2000\n"
     ]
    }
   ],
   "source": [
    "'''17. Write a Python program to test whether a number is within 100 of 1000 or 2000.'''\n",
    "\n",
    "def test_number(n):\n",
    "    if 900 <= n <= 1100 :\n",
    "        return f\"number({n}) is within 100 of 1000\"\n",
    "    elif 1900 <= n <= 2100 :\n",
    "        return f\"number({n}) is within 100 of 2000\"\n",
    "    else:\n",
    "        return f\"number({n}) not withn 100 of 1000 or 2000\"\n",
    "print(test_number(999))\n",
    "print(test_number(2088))\n",
    "print(test_number(10))"
   ]
  },
  {
   "cell_type": "code",
   "execution_count": 18,
   "id": "0031adcc-298b-4fb4-95ce-05c2340d3c47",
   "metadata": {},
   "outputs": [
    {
     "name": "stdout",
     "output_type": "stream",
     "text": [
      "numbers are equal so three times of sum_of_three 54\n",
      "sum of three numbers = 21\n"
     ]
    }
   ],
   "source": [
    "'''18. Write a Python program to calculate the sum of three given numbers.\n",
    "If the values are equal, return three times their sum.'''\n",
    "\n",
    "def sum_of_three(n,r,k):\n",
    "    sum3m = n + r + k\n",
    "    if n == r and r == k :\n",
    "        return f\"numbers are equal so three times of sum_of_three {sum3m * 3}\"\n",
    "    else:\n",
    "        return f\"sum of three numbers = {sum3m}\"\n",
    "print(sum_of_three(6,6,6))\n",
    "print(sum_of_three(6,6,9))"
   ]
  },
  {
   "cell_type": "code",
   "execution_count": 19,
   "id": "907dee81-6cd3-46d8-9d21-47c1361cc946",
   "metadata": {},
   "outputs": [
    {
     "name": "stdout",
     "output_type": "stream",
     "text": [
      "Iskavi\n",
      "Issiva\n"
     ]
    }
   ],
   "source": [
    "'''19. Write a Python program to get a newly-generated string from a given string where \"Is\" has been added to the front.\n",
    "Return the string unchanged if the given string already begins with \"Is\".'''\n",
    "\n",
    "def string_is(strings):\n",
    "    if strings.startswith(\"Is\"):\n",
    "        return strings\n",
    "    else:\n",
    "        return \"Is\" + strings\n",
    "print(string_is(\"Iskavi\"))\n",
    "print(string_is(\"siva\"))\n",
    "    "
   ]
  },
  {
   "cell_type": "code",
   "execution_count": 20,
   "id": "bbf866d3-8619-472e-94c7-36e7dc7b3e78",
   "metadata": {},
   "outputs": [
    {
     "name": "stdout",
     "output_type": "stream",
     "text": [
      "no string\n",
      "hihihihihihihi\n"
     ]
    }
   ],
   "source": [
    "'''20. Write a Python program that returns a string that is n (non-negative integer) copies of a given string.'''\n",
    "\n",
    "def string_n_times(st,n):\n",
    "    \n",
    "    if n == 0 :\n",
    "        return \"no string\"\n",
    "    else:\n",
    "        return st * n\n",
    "print(string_n_times(\"kavi\",0))\n",
    "print(string_n_times(\"hi\",7))"
   ]
  },
  {
   "cell_type": "code",
   "execution_count": 21,
   "id": "57752ecc-63ae-46ec-bdfa-aa957412876c",
   "metadata": {},
   "outputs": [
    {
     "name": "stdout",
     "output_type": "stream",
     "text": [
      "Given number is odd\n",
      "Given number is even\n",
      "Given number is even\n"
     ]
    }
   ],
   "source": [
    "'''21. Write a Python program that determines whether a given number (accepted from the user) is even or odd,\n",
    "and prints an appropriate message to the user.'''\n",
    "\n",
    "def odd_even(n):\n",
    "    if n == 0 :\n",
    "        return \"Given number is even\"\n",
    "    if n % 2 == 0 :\n",
    "        return \"Given number is even\"\n",
    "    else:\n",
    "        return \"Given number is odd\"\n",
    "print(odd_even(17))\n",
    "print(odd_even(1982))\n",
    "print(odd_even(0))"
   ]
  },
  {
   "cell_type": "code",
   "execution_count": 22,
   "id": "06453887-81c1-424e-a82f-c1b125a85954",
   "metadata": {},
   "outputs": [
    {
     "name": "stdout",
     "output_type": "stream",
     "text": [
      "number of 4 in the list=8\n",
      "number of 4 in the list=0\n"
     ]
    }
   ],
   "source": [
    "'''22. Write a Python program to count the number 4 in a given list.'''\n",
    "\n",
    "def count_num(List):\n",
    "    count = 0\n",
    "    for i in List:\n",
    "        if i == 4 :\n",
    "            count += 1\n",
    "    return f\"number of 4 in the list={count}\"\n",
    "print(count_num([8,4,5,3,2,4,4,5,4,4,5,6,4,3,4,5,6,7,8,4]))\n",
    "print(count_num([1,2,3,5,6,7]))"
   ]
  },
  {
   "cell_type": "code",
   "execution_count": 23,
   "id": "61cd7ac4-a980-411e-9472-78fe65107b20",
   "metadata": {},
   "outputs": [
    {
     "name": "stdout",
     "output_type": "stream",
     "text": [
      "\n",
      "kakakakakakakaka\n"
     ]
    }
   ],
   "source": [
    "'''23. Write a Python program to get n (non-negative integer) copies of the first 2 characters of a given string.\n",
    "Return n copies of the whole string if the length is less than 2.'''\n",
    "\n",
    "def repeat_substring(s,n):\n",
    "    if len(s) >= 2 :\n",
    "        return s[:2] * n\n",
    "    elif len(s) < 2 :\n",
    "        return s * 2\n",
    "print(repeat_substring(\"\",6))\n",
    "print(repeat_substring(\"kavi\",8))\n"
   ]
  },
  {
   "cell_type": "code",
   "execution_count": 24,
   "id": "29303e6c-0bb2-44cc-a034-52cf161694f7",
   "metadata": {},
   "outputs": [
    {
     "name": "stdout",
     "output_type": "stream",
     "text": [
      "the letter(a) is vowel\n"
     ]
    }
   ],
   "source": [
    "'''24. Write a Python program to test whether a passed letter is a vowel or not.'''\n",
    "\n",
    "def vowel(letter):\n",
    "    v = \"aeiouAEIOU\"\n",
    "    if letter in v :\n",
    "        return f\"the letter({letter}) is vowel\"\n",
    "print(vowel(\"a\"))        "
   ]
  },
  {
   "cell_type": "code",
   "execution_count": 25,
   "id": "f3c56819-ec53-4821-a81b-90a8662116b7",
   "metadata": {},
   "outputs": [
    {
     "name": "stdin",
     "output_type": "stream",
     "text": [
      "Enter the number you want to check: 6\n"
     ]
    },
    {
     "name": "stdout",
     "output_type": "stream",
     "text": [
      "False\n"
     ]
    }
   ],
   "source": [
    "'''25. Write a Python program that checks whether a specified value is contained within a group of values.\n",
    "Test Data :\n",
    "3 -> [1, 5, 8, 3] : True\n",
    "-1 -> [1, 5, 8, 3] : False'''\n",
    "\n",
    "List = [1, 5, 8, 3]\n",
    "def Test_data(list):\n",
    "    num = int(input(\"Enter the number you want to check:\"))\n",
    "    if num in List:\n",
    "        return True\n",
    "    else:\n",
    "        return False\n",
    "print(Test_data(List))     "
   ]
  },
  {
   "cell_type": "code",
   "execution_count": 26,
   "id": "77466d5d-93b5-4af2-8429-aabc4ffbda4c",
   "metadata": {},
   "outputs": [
    {
     "name": "stdout",
     "output_type": "stream",
     "text": [
      "*******\n",
      "***\n",
      "****\n",
      "**\n",
      "*****\n",
      "\n",
      "******\n"
     ]
    }
   ],
   "source": [
    "'''26. List Histogram Write a Python program to create a histogram from a given list of integers.'''\n",
    "\n",
    "def histogram(items):\n",
    "    for n in items:\n",
    "        histo = \"\"\n",
    "        times = n\n",
    "\n",
    "        while times > 0:\n",
    "            histo += \"*\"\n",
    "            times = times - 1\n",
    "        print(histo)\n",
    "\n",
    "histogram([7,3,4,2,5,0,6])\n"
   ]
  },
  {
   "cell_type": "code",
   "execution_count": 27,
   "id": "139a7de6-9f18-4ef9-83ac-8e6f59b556f5",
   "metadata": {
    "editable": true,
    "slideshow": {
     "slide_type": ""
    },
    "tags": []
   },
   "outputs": [
    {
     "name": "stdout",
     "output_type": "stream",
     "text": [
      "kavi study\n",
      "kavi study\n"
     ]
    }
   ],
   "source": [
    "'''\n",
    "27. List to String Concatenator\n",
    "\n",
    "Write a Python program that concatenates all elements in a list into a string and returns it.'''\n",
    "\n",
    "\n",
    "ST_L = [\"kavi\", \" study\"]\n",
    "\n",
    "st = \"\"\n",
    "for s in ST_L:\n",
    "    st += s\n",
    "\n",
    "print(st)\n",
    "\n",
    "st = \"\".join(ST_L)\n",
    "print(st)"
   ]
  },
  {
   "cell_type": "code",
   "execution_count": 28,
   "id": "f0deddbf-dde6-42b3-bc3b-68c951204980",
   "metadata": {},
   "outputs": [
    {
     "name": "stdout",
     "output_type": "stream",
     "text": [
      "386 462 418 344 236 566 978 328 162 758 918 "
     ]
    }
   ],
   "source": [
    "'''28. Even Numbers Until 237\n",
    "\n",
    "Write a Python program to print all even numbers from a given list of numbers in the same order and stop printing any after 237 in the sequence.\n",
    "Sample numbers list :\n",
    "'''\n",
    "numbers = [    \n",
    "    386, 462, 47, 418, 907, 344, 236, 375, 823, 566, 597, 978, 328, 615, 953, 345, \n",
    "    399, 162, 758, 219, 918, 237, 412, 566, 826, 248, 866, 950, 626, 949, 687, 217, \n",
    "    815, 67, 104, 58, 512, 24, 892, 894, 767, 553, 81, 379, 843, 831, 445, 742, 717, \n",
    "    958,743, 527\n",
    "    ]\n",
    "\n",
    "def even_numbers(L): # creating a function to find even numbers \n",
    "    for i in L:\n",
    "        if i == 237:\n",
    "            break # break the loop when conndition met\n",
    "            \n",
    "        elif i % 2 == 0 :\n",
    "            print(i,end = \" \") # printing the even numbers\n",
    "even_numbers(numbers)    \n",
    "\n",
    "    \n",
    "    "
   ]
  },
  {
   "cell_type": "code",
   "execution_count": 29,
   "id": "22eee296-7aea-4f5c-83fe-85e1d7bb95f5",
   "metadata": {},
   "outputs": [
    {
     "name": "stdout",
     "output_type": "stream",
     "text": [
      "{'White', 'Black'}\n"
     ]
    }
   ],
   "source": [
    "'''29. Unique Colors Finder\n",
    "\n",
    "Write a Python program that prints out all colors from color_list_1 that are not present in color_list_2.\n",
    "Test Data :\n",
    "color_list_1 = set([\"White\", \"Black\", \"Red\"])\n",
    "color_list_2 = set([\"Red\", \"Green\"])\n",
    "Expected Output :\n",
    "{'Black', 'White'}'''\n",
    "color_list_1 = set([\"White\", \"Black\", \"Red\"])\n",
    "color_list_2 = set([\"Red\", \"Green\"])\n",
    "def Uniqu_color(l1,l2):\n",
    "\n",
    "    uniqu_cl = []\n",
    "    for i in l1:\n",
    "        if i not in l2 :\n",
    "            uniqu_cl.append(i)\n",
    "    return set(uniqu_cl)\n",
    "print(Uniqu_color(color_list_1,color_list_2))"
   ]
  },
  {
   "cell_type": "code",
   "execution_count": 30,
   "id": "43db7f66-deb7-4741-bc4b-5c0f66577ff6",
   "metadata": {},
   "outputs": [
    {
     "name": "stdout",
     "output_type": "stream",
     "text": [
      "area of the triangle = 28.0\n"
     ]
    }
   ],
   "source": [
    "'''30. Triangle Area Calculator\n",
    "\n",
    "Write a Python program that will accept the base and height of a triangle and compute its area.'''\n",
    "\n",
    "def triangle_area(b,h):\n",
    "\n",
    "    A = 1/2 * b * h\n",
    "    return f\"area of the triangle = {A}\"\n",
    "print(triangle_area(7,8))"
   ]
  },
  {
   "cell_type": "code",
   "execution_count": 31,
   "id": "cecaa646-2eda-4345-ab35-b64a40dfcba5",
   "metadata": {},
   "outputs": [
    {
     "name": "stdout",
     "output_type": "stream",
     "text": [
      "8\n"
     ]
    }
   ],
   "source": [
    "'''31. GCD Calculator\n",
    "\n",
    "Write a Python program that computes the greatest common divisor (GCD) of two positive integers.'''\n",
    "\n",
    "def GCD(a,b):\n",
    "    while b != 0:\n",
    "\n",
    "        a , b = b , a % b\n",
    "    return a\n",
    "print(GCD(48,8))\n"
   ]
  },
  {
   "cell_type": "code",
   "execution_count": 32,
   "id": "df105879-90eb-48af-baa9-5d38f69b5d73",
   "metadata": {},
   "outputs": [
    {
     "name": "stdout",
     "output_type": "stream",
     "text": [
      "4\n"
     ]
    }
   ],
   "source": [
    "print(GCD(76, 16))"
   ]
  },
  {
   "cell_type": "code",
   "execution_count": 33,
   "id": "f2af8ca4-40dd-443d-8eeb-2432084e1e41",
   "metadata": {},
   "outputs": [
    {
     "name": "stdout",
     "output_type": "stream",
     "text": [
      "252\n"
     ]
    }
   ],
   "source": [
    "'''32. LCM Calculator\n",
    "\n",
    "Write a Python program to find the least common multiple (LCM) of two positive integers.'''\n",
    "\n",
    "def LCM(a,b):\n",
    "    return abs(a * b) // GCD(a,b)\n",
    "print(LCM(28,9))"
   ]
  },
  {
   "cell_type": "code",
   "execution_count": 34,
   "id": "900e4968-049e-496d-8504-b8f1969f60ac",
   "metadata": {},
   "outputs": [
    {
     "name": "stdout",
     "output_type": "stream",
     "text": [
      "0\n"
     ]
    }
   ],
   "source": [
    "'''33. Triple Sum with Equality Rule\n",
    "\n",
    "Write a  Python program to sum three given integers. However, if two values are equal, the sum will be zero.'''\n",
    "\n",
    "def Tri_sum_epual(a,b,c):\n",
    "\n",
    "    if a == b or b == c or a == c:\n",
    "        return  0 \n",
    "    else:\n",
    "        return f\"sum of three num  {a + b + c }\"\n",
    "print(Tri_sum_epual(7,9,7))"
   ]
  },
  {
   "cell_type": "code",
   "execution_count": 35,
   "id": "bd088df8-10a1-4628-aaa7-33d5ecb1ba67",
   "metadata": {},
   "outputs": [
    {
     "name": "stdout",
     "output_type": "stream",
     "text": [
      "28\n"
     ]
    }
   ],
   "source": [
    "'''34. Conditional Sum to 20\n",
    "\n",
    "Write a Python program to sum two given integers. However, if the sum is between 15 and 20 it will return 20.'''\n",
    "\n",
    "def sum_con_20(a,b):\n",
    "\n",
    "    sum_of_two = a + b\n",
    "    if 15 <= sum_of_two <= 20 :\n",
    "        return 20\n",
    "    else: \n",
    "        return sum_of_two\n",
    "print(sum_con_20(10, 18))\n"
   ]
  },
  {
   "cell_type": "code",
   "execution_count": 36,
   "id": "e64c9fd8-1c04-4628-adbb-9143798effdf",
   "metadata": {},
   "outputs": [
    {
     "name": "stdout",
     "output_type": "stream",
     "text": [
      "False\n"
     ]
    }
   ],
   "source": [
    "'''35. Equality or 5 Rule Checker\n",
    "\n",
    "Write a Python program that returns true if the two given integer values are equal or their sum or difference is 5.'''\n",
    "\n",
    "def check_rule_5(a, b):\n",
    "    if a == b :\n",
    "        return True\n",
    "    elif (a - b) == 5 or (a + b) == 5 :\n",
    "        return True\n",
    "    else:\n",
    "        return False\n",
    "print(check_rule_5(4,3))"
   ]
  },
  {
   "cell_type": "code",
   "execution_count": 42,
   "id": "e0f23793-a83b-4191-99f3-ee2fc5b8a5a0",
   "metadata": {},
   "outputs": [
    {
     "name": "stdout",
     "output_type": "stream",
     "text": [
      "given to objects or not integers\n"
     ]
    }
   ],
   "source": [
    "'''36. Add Integers Validator\n",
    "\n",
    "Write a Python program to add two objects if both objects are integers'''\n",
    "\n",
    "def int_validator(a,b):\n",
    "\n",
    "    if a == int and b == int:\n",
    "        return a + b\n",
    "    else:\n",
    "        return \"given to objects or not integers\"\n",
    "print(int_validator(6,\"h\"))\n"
   ]
  },
  {
   "cell_type": "code",
   "execution_count": 54,
   "id": "1bf8aa23-58d0-445b-b72c-06c5cdee97ff",
   "metadata": {},
   "outputs": [
    {
     "name": "stdout",
     "output_type": "stream",
     "text": [
      "False\n"
     ]
    }
   ],
   "source": [
    "def is_prime(n):\n",
    "    if n < 2:\n",
    "        return False\n",
    "    for i in range(2, n):\n",
    "        if n % i == 0:\n",
    "            return False\n",
    "    return True\n",
    "\n",
    "print(is_prime(10))"
   ]
  },
  {
   "cell_type": "code",
   "execution_count": 1,
   "id": "8f637908-16f3-4a16-958e-0caf873d4958",
   "metadata": {},
   "outputs": [
    {
     "name": "stdout",
     "output_type": "stream",
     "text": [
      "Name : Kaviyarasan\n",
      "Age : 23\n",
      "Address : 12/199 , kakkarakuttai, Rangasumudhuram, Ukkaram, sathyamangalam\n"
     ]
    }
   ],
   "source": [
    "'''37. Personal Info Formatter\n",
    "\n",
    "Write a Python program that displays your name, age, and address on three different lines.'''\n",
    "\n",
    "print(\"Name : Kaviyarasan\\nAge : 23\\nAddress : 12/199 , kakkarakuttai, Rangasumudhuram, Ukkaram, sathyamangalam\")"
   ]
  },
  {
   "cell_type": "code",
   "execution_count": 3,
   "id": "05e40b47-3074-4bb8-8198-d551b7c581fa",
   "metadata": {},
   "outputs": [
    {
     "name": "stdout",
     "output_type": "stream",
     "text": [
      "49\n"
     ]
    }
   ],
   "source": [
    "'''38. Expression Solver\n",
    "\n",
    "Write a Python program to solve (x + y) * (x + y).\n",
    "Test Data : x = 4, y = 3\n",
    "Expected Output : (4 + 3) ^ 2) = 49'''\n",
    "\n",
    "print((4 + 3) ** 2)"
   ]
  },
  {
   "cell_type": "code",
   "execution_count": 8,
   "id": "96232b73-7fb1-4002-9a32-8b7fcb380be3",
   "metadata": {},
   "outputs": [
    {
     "name": "stdout",
     "output_type": "stream",
     "text": [
      "12722.792627665729\n"
     ]
    }
   ],
   "source": [
    "'''39. Future Value Calculator\n",
    "\n",
    "Write a Python program to compute the future value of a specified principal amount, rate of interest, and number of years.\n",
    "Test Data : amt = 10000, int = 3.5, years = 7\n",
    "Expected Output : 12722.79'''\n",
    "\n",
    "def future_vaule(amt, inte, years):\n",
    "    intrest = inte / 100\n",
    "    return amt * (1 + intrest) ** years\n",
    "print(future_vaule(10000,3.5,7))"
   ]
  },
  {
   "cell_type": "code",
   "execution_count": 19,
   "id": "83a9c9f0-1e12-4691-ae20-b6dd3435a476",
   "metadata": {},
   "outputs": [
    {
     "name": "stdout",
     "output_type": "stream",
     "text": [
      "2.23606797749979\n"
     ]
    }
   ],
   "source": [
    "'''40. Distance Between Points\n",
    "\n",
    "Write a Python program to calculate the distance between the points (x1, y1) and (x2, y2).'''\n",
    "\n",
    "import math\n",
    "def distance_xy(x1,x2,y1,y2):\n",
    "    dx = x2 - x1\n",
    "    dy = y2 - y1\n",
    "\n",
    "    squar_xy = dx ** 2 + dy ** 2\n",
    "    distance = math.sqrt(squar_xy)\n",
    "    return distance\n",
    "print(distance_xy(3,4,6,8))"
   ]
  },
  {
   "cell_type": "code",
   "execution_count": 30,
   "id": "2856b1b3-9a82-4311-86a9-cb1db8241435",
   "metadata": {},
   "outputs": [
    {
     "name": "stdout",
     "output_type": "stream",
     "text": [
      "file does not exist\n"
     ]
    }
   ],
   "source": [
    "'''41. File Existence Checker\n",
    "\n",
    "Write a Python program to check whether a file exists.'''\n",
    "\n",
    "import os.path\n",
    "\n",
    "def file_checker(fname):\n",
    "\n",
    "    if os.path.isfile(fname):\n",
    "        print(\"file exists\")\n",
    "    else:\n",
    "        print(\"file does not exist\")\n",
    "f = 'LICENSE.txt'\n",
    "file_checker(f)\n"
   ]
  },
  {
   "cell_type": "code",
   "execution_count": 40,
   "id": "42cbb289-b1ff-4ed7-b3dc-f0ce95794403",
   "metadata": {},
   "outputs": [
    {
     "name": "stdout",
     "output_type": "stream",
     "text": [
      "64\n"
     ]
    }
   ],
   "source": [
    "'''42. Shell Mode Detector\n",
    "\n",
    "Write a Python program to determine if a Python shell is executing in 32bit or 64bit mode on OS.'''\n",
    "\n",
    "import struct\n",
    "\n",
    "print(struct.calcsize(\"P\") * 8)"
   ]
  },
  {
   "cell_type": "code",
   "execution_count": 50,
   "id": "8563ccdf-abea-448c-8bba-d1e56c292d92",
   "metadata": {},
   "outputs": [
    {
     "name": "stdout",
     "output_type": "stream",
     "text": [
      "nt\n",
      "Windows\n",
      "10\n"
     ]
    }
   ],
   "source": [
    "'''43. OS and Platform Info\n",
    "\n",
    "Write a Python program to get OS name, platform and release information.'''\n",
    "\n",
    "import os \n",
    "import platform\n",
    "print(os.name)\n",
    "print(platform.system())\n",
    "print(platform.release())"
   ]
  },
  {
   "cell_type": "code",
   "execution_count": 51,
   "id": "2fbe7e49-910e-428a-8ecb-7c5e3dbd4434",
   "metadata": {},
   "outputs": [
    {
     "name": "stdout",
     "output_type": "stream",
     "text": [
      "['C:\\\\Users\\\\demon\\\\AppData\\\\Local\\\\Programs\\\\Python\\\\Python310', 'C:\\\\Users\\\\demon\\\\AppData\\\\Local\\\\Programs\\\\Python\\\\Python310\\\\lib\\\\site-packages']\n"
     ]
    }
   ],
   "source": [
    "'''44. Python Site Packages Locator\n",
    "\n",
    "Write a Python program to locate Python site packages.'''\n",
    "\n",
    "import site\n",
    "\n",
    "print(site.getsitepackages())\n"
   ]
  },
  {
   "cell_type": "code",
   "execution_count": 60,
   "id": "190215c1-cd53-48fb-89f9-a537f8462014",
   "metadata": {},
   "outputs": [
    {
     "name": "stdout",
     "output_type": "stream",
     "text": [
      "1\n"
     ]
    }
   ],
   "source": [
    "'''45. External Command Runner\n",
    "\n",
    "Write a Python program that calls an external command.'''\n",
    "\n",
    "import os\n",
    "\n",
    "print(os.system('Is -1'))\n",
    "\n",
    "# from subprocess import call\n",
    "\n",
    "# call([\"Is\",\"-1\"])"
   ]
  },
  {
   "cell_type": "code",
   "execution_count": 68,
   "id": "e87d9c82-cf32-4e39-9f09-0afd2d984364",
   "metadata": {},
   "outputs": [],
   "source": [
    "'''46. File Path and Name Finder\n",
    "\n",
    "Write a Python program to retrieve the path and name of the file currently being executed.'''\n",
    "\n",
    "import os\n",
    "\n",
    "print(os.path.realpath(__file__))"
   ]
  },
  {
   "cell_type": "code",
   "execution_count": 70,
   "id": "9a50f88c-7418-4469-87a3-0d776f3e3cee",
   "metadata": {},
   "outputs": [
    {
     "name": "stdout",
     "output_type": "stream",
     "text": [
      "4\n"
     ]
    }
   ],
   "source": [
    "'''47. CPU Count Finder\n",
    "\n",
    "Write a Python program to find out the number of CPUs used.'''\n",
    "\n",
    "import os\n",
    "\n",
    "print(os.cpu_count())"
   ]
  },
  {
   "cell_type": "code",
   "execution_count": 71,
   "id": "62b877f4-a637-422a-96f9-31dec666ec19",
   "metadata": {},
   "outputs": [
    {
     "name": "stdout",
     "output_type": "stream",
     "text": [
      "245.893\n",
      "245\n"
     ]
    }
   ],
   "source": [
    "'''48. String to Numeric Parser\n",
    "\n",
    "Write a Python program to parse a string to float or integer.'''\n",
    "\n",
    "n = \"245.893\"\n",
    "\n",
    "print(float(n))\n",
    "\n",
    "print(int(float(n)))"
   ]
  },
  {
   "cell_type": "code",
   "execution_count": 74,
   "id": "3a71452e-ae10-464d-a4b9-4e76a936fc49",
   "metadata": {},
   "outputs": [
    {
     "name": "stdout",
     "output_type": "stream",
     "text": [
      "['practice.py']\n"
     ]
    }
   ],
   "source": [
    "'''49. Directory Files Lister\n",
    "\n",
    "Write a Python program to list all files in a directory.'''\n",
    "\n",
    "from os import listdir\n",
    "from os.path import isfile, join\n",
    "\n",
    "files_list = [f for f in listdir('C:/Users/demon/OneDrive/Desktop/GIT') if isfile(join('C:/Users/demon/OneDrive/Desktop/GIT', f))]\n",
    "\n",
    "print(files_list)"
   ]
  },
  {
   "cell_type": "code",
   "execution_count": 5,
   "id": "c68f1d7a-1dd6-4fc6-ab4b-be121a122d41",
   "metadata": {},
   "outputs": [
    {
     "name": "stdout",
     "output_type": "stream",
     "text": [
      "0 \n",
      "\n",
      "1 \n",
      "\n",
      "2 \n",
      "\n",
      "3 \n",
      "\n",
      "4 \n",
      "\n",
      "5 \n",
      "\n",
      "6 \n",
      "\n",
      "7 \n",
      "\n",
      "8 \n",
      "\n",
      "9 \n",
      "\n"
     ]
    }
   ],
   "source": [
    "'''50. Print Without Newline\n",
    "\n",
    "Write a Python program to print without a newline or space.'''\n",
    "\n",
    "for i in range(0,10):\n",
    "    print(i, end = \" \" )\n",
    "    print(\"\\n\")"
   ]
  },
  {
   "cell_type": "code",
   "execution_count": 14,
   "id": "e7d1e792-fc96-44b3-9dd5-02a30a6159e8",
   "metadata": {},
   "outputs": [
    {
     "name": "stdout",
     "output_type": "stream",
     "text": [
      "         3 function calls in 0.000 seconds\n",
      "\n",
      "   Ordered by: standard name\n",
      "\n",
      "   ncalls  tottime  percall  cumtime  percall filename:lineno(function)\n",
      "        1    0.000    0.000    0.000    0.000 <string>:1(<module>)\n",
      "        1    0.000    0.000    0.000    0.000 {built-in method builtins.exec}\n",
      "        1    0.000    0.000    0.000    0.000 {method 'disable' of '_lsprof.Profiler' objects}\n",
      "\n",
      "\n",
      "None\n"
     ]
    }
   ],
   "source": [
    "'''51. Program Profiler\n",
    "\n",
    "Write a Python program to determine the profiling of Python programs.\n",
    "Note: A profile is a set of statistics that describes how often and for how long various parts of the program executed. \n",
    "These statistics can be formatted into reports via the pstats module.'''\n",
    "\n",
    "import cProfile\n",
    "\n",
    "Sum = 4 + 5\n",
    "\n",
    "print(cProfile.run('Sum'))"
   ]
  },
  {
   "cell_type": "code",
   "execution_count": 18,
   "id": "f95b1bbd-e541-4a9e-a456-bf1335320618",
   "metadata": {},
   "outputs": [
    {
     "name": "stdout",
     "output_type": "stream",
     "text": [
      "8\n"
     ]
    },
    {
     "name": "stderr",
     "output_type": "stream",
     "text": [
      "hi what\n"
     ]
    }
   ],
   "source": [
    "'''52. Print to STDERR\n",
    "\n",
    "Write a Python program to print to STDERR.'''\n",
    "\n",
    "import sys\n",
    "\n",
    "print(sys.stderr.write(\"hi what\\n\"))"
   ]
  },
  {
   "cell_type": "code",
   "execution_count": 26,
   "id": "08c2e155-003e-48fb-8367-d4d42b113699",
   "metadata": {},
   "outputs": [
    {
     "name": "stdout",
     "output_type": "stream",
     "text": [
      "environ({'ALLUSERSPROFILE': 'C:\\\\ProgramData', 'APPDATA': 'C:\\\\Users\\\\demon\\\\AppData\\\\Roaming', 'COMMONPROGRAMFILES': 'C:\\\\Program Files\\\\Common Files', 'COMMONPROGRAMFILES(X86)': 'C:\\\\Program Files (x86)\\\\Common Files', 'COMMONPROGRAMW6432': 'C:\\\\Program Files\\\\Common Files', 'COMPUTERNAME': 'ITACHI', 'COMSPEC': 'C:\\\\WINDOWS\\\\system32\\\\cmd.exe', 'DRIVERDATA': 'C:\\\\Windows\\\\System32\\\\Drivers\\\\DriverData', 'EFC_25284': '1', 'HOMEDRIVE': 'C:', 'HOMEPATH': '\\\\Users\\\\demon', 'LOCALAPPDATA': 'C:\\\\Users\\\\demon\\\\AppData\\\\Local', 'LOGONSERVER': '\\\\\\\\ITACHI', 'NUMBER_OF_PROCESSORS': '4', 'ONEDRIVE': 'C:\\\\Users\\\\demon\\\\OneDrive', 'ONEDRIVECONSUMER': 'C:\\\\Users\\\\demon\\\\OneDrive', 'OS': 'Windows_NT', 'PATH': 'C:\\\\WINDOWS\\\\system32;C:\\\\WINDOWS;C:\\\\WINDOWS\\\\System32\\\\Wbem;C:\\\\WINDOWS\\\\System32\\\\WindowsPowerShell\\\\v1.0\\\\;C:\\\\WINDOWS\\\\System32\\\\OpenSSH\\\\;C:\\\\Program Files\\\\Git\\\\cmd;C:\\\\Users\\\\demon\\\\AppData\\\\Local\\\\Programs\\\\Python\\\\Python310\\\\Scripts\\\\;C:\\\\Users\\\\demon\\\\AppData\\\\Local\\\\Programs\\\\Python\\\\Python310\\\\;C:\\\\Users\\\\demon\\\\AppData\\\\Local\\\\Programs\\\\Python\\\\Launcher\\\\;C:\\\\Users\\\\demon\\\\AppData\\\\Local\\\\Microsoft\\\\WindowsApps;', 'PATHEXT': '.COM;.EXE;.BAT;.CMD;.VBS;.VBE;.JS;.JSE;.WSF;.WSH;.MSC', 'PROCESSOR_ARCHITECTURE': 'AMD64', 'PROCESSOR_IDENTIFIER': 'Intel64 Family 6 Model 140 Stepping 1, GenuineIntel', 'PROCESSOR_LEVEL': '6', 'PROCESSOR_REVISION': '8c01', 'PROGRAMDATA': 'C:\\\\ProgramData', 'PROGRAMFILES': 'C:\\\\Program Files', 'PROGRAMFILES(X86)': 'C:\\\\Program Files (x86)', 'PROGRAMW6432': 'C:\\\\Program Files', 'PROMPT': '$P$G', 'PSMODULEPATH': 'C:\\\\Program Files\\\\WindowsPowerShell\\\\Modules;C:\\\\WINDOWS\\\\system32\\\\WindowsPowerShell\\\\v1.0\\\\Modules', 'PUBLIC': 'C:\\\\Users\\\\Public', 'SESSIONNAME': 'Console', 'SYSTEMDRIVE': 'C:', 'SYSTEMROOT': 'C:\\\\WINDOWS', 'TEMP': 'C:\\\\Users\\\\demon\\\\AppData\\\\Local\\\\Temp', 'TMP': 'C:\\\\Users\\\\demon\\\\AppData\\\\Local\\\\Temp', 'USERDOMAIN': 'ITACHI', 'USERDOMAIN_ROAMINGPROFILE': 'ITACHI', 'USERNAME': 'demon', 'USERPROFILE': 'C:\\\\Users\\\\demon', 'WINDIR': 'C:\\\\WINDOWS', 'ZES_ENABLE_SYSMAN': '1', 'JPY_SESSION_NAME': 'C:\\\\Users\\\\demon\\\\matfile\\\\GIT\\\\W3resource.ipynb', 'JPY_INTERRUPT_EVENT': '3192', 'IPY_INTERRUPT_EVENT': '3192', 'JPY_PARENT_PID': '2784', 'PYDEVD_USE_FRAME_EVAL': 'NO', 'TERM': 'xterm-color', 'CLICOLOR': '1', 'FORCE_COLOR': '1', 'CLICOLOR_FORCE': '1', 'PAGER': 'cat', 'GIT_PAGER': 'cat', 'MPLBACKEND': 'module://matplotlib_inline.backend_inline'})\n",
      "C:\\WINDOWS\\system32;C:\\WINDOWS;C:\\WINDOWS\\System32\\Wbem;C:\\WINDOWS\\System32\\WindowsPowerShell\\v1.0\\;C:\\WINDOWS\\System32\\OpenSSH\\;C:\\Program Files\\Git\\cmd;C:\\Users\\demon\\AppData\\Local\\Programs\\Python\\Python310\\Scripts\\;C:\\Users\\demon\\AppData\\Local\\Programs\\Python\\Python310\\;C:\\Users\\demon\\AppData\\Local\\Programs\\Python\\Launcher\\;C:\\Users\\demon\\AppData\\Local\\Microsoft\\WindowsApps;\n"
     ]
    }
   ],
   "source": [
    "'''53. Access Environment Variables\n",
    "\n",
    "Write a Python program to access environment variables.'''\n",
    "\n",
    "import os\n",
    "\n",
    "print(os.environ)\n",
    "\n",
    "print(os.environ['PATH'])"
   ]
  },
  {
   "cell_type": "code",
   "execution_count": 30,
   "id": "70b2cc72-479c-4c09-b18f-42a7a6c26b6b",
   "metadata": {},
   "outputs": [
    {
     "name": "stdout",
     "output_type": "stream",
     "text": [
      "demon\n"
     ]
    }
   ],
   "source": [
    "'''54. Get Current Username\n",
    "\n",
    "Write a Python program to get the current username.'''\n",
    "\n",
    "import getpass\n",
    "\n",
    "print(getpass.getuser())"
   ]
  },
  {
   "cell_type": "code",
   "execution_count": 37,
   "id": "0695d140-94d2-430a-89bb-23e38786d244",
   "metadata": {},
   "outputs": [
    {
     "name": "stdout",
     "output_type": "stream",
     "text": [
      "['192.168.0.209']\n"
     ]
    }
   ],
   "source": [
    "'''55. Find Local IPs\n",
    "\n",
    "Write a Python program to find local IP addresses using Python's stdlib.'''\n",
    "\n",
    "\n",
    "\n",
    "import socket # to work with network related\n",
    "\n",
    "local_host = socket.gethostname()\n",
    "\n",
    "ip_address = socket.gethostbyname_ex(local_host)[2]\n",
    "\n",
    "print(ip_address)\n",
    "\n"
   ]
  },
  {
   "cell_type": "code",
   "execution_count": null,
   "id": "92033810-8101-45b0-95eb-75ad8f4330c6",
   "metadata": {},
   "outputs": [],
   "source": [
    "'''56. Console Dimensions\n",
    "\n",
    "Write a Python program to get the height and width of the console window.'''\n",
    "\n"
   ]
  },
  {
   "cell_type": "code",
   "execution_count": 48,
   "id": "96dd67bf-868c-45f3-83f6-1d6f17d4bbf8",
   "metadata": {},
   "outputs": [
    {
     "name": "stdout",
     "output_type": "stream",
     "text": [
      "The execution time =  (50000005000000, 0.4051063060760498)\n"
     ]
    }
   ],
   "source": [
    "'''57. Method Execution Time\n",
    "\n",
    "Write a Python program to get the execution time of a  Python method.'''\n",
    "\n",
    "import time\n",
    "\n",
    "def sum_of_n_time(n):\n",
    "\n",
    "    start_t = time.time()\n",
    "\n",
    "    s = 0 \n",
    "    for i in range(1, n + 1):\n",
    "        s = s + i\n",
    "\n",
    "    end_t = time.time()\n",
    "\n",
    "    return s , end_t - start_t\n",
    "n = 10000000\n",
    "print(\"The execution time = \",sum_of_n_time(n))"
   ]
  },
  {
   "cell_type": "code",
   "execution_count": 56,
   "id": "1be83008-007a-4135-82bc-b3b14619fc6b",
   "metadata": {},
   "outputs": [
    {
     "name": "stdout",
     "output_type": "stream",
     "text": [
      "sum of the first n positives =  171\n"
     ]
    }
   ],
   "source": [
    "'''58. Sum of First n Positives\n",
    "\n",
    "Write a Python program to sum the first n positive integers.'''\n",
    "\n",
    "def sum_first_n_positive(n):\n",
    "\n",
    "    return n*(n+1)//2\n",
    "print(\"sum of the first n positives = \",sum_first_n_positive(n))"
   ]
  },
  {
   "cell_type": "code",
   "execution_count": 66,
   "id": "25265ec3-fc5e-4041-992d-8c55e108e39f",
   "metadata": {},
   "outputs": [
    {
     "name": "stdin",
     "output_type": "stream",
     "text": [
      "Enter your feet : 5\n",
      "Enter your inch : 4\n"
     ]
    },
    {
     "name": "stdout",
     "output_type": "stream",
     "text": [
      "162.6\n"
     ]
    }
   ],
   "source": [
    "'''59. Height to Centimeters\n",
    "\n",
    "Write a Python program to convert height (in feet and inches) to centimeters.'''\n",
    "\n",
    "hig_f = int(input(\"Enter your feet :\"))\n",
    "\n",
    "high_in = int(input(\"Enter your inch :\"))\n",
    "\n",
    "high_in += hig_f * 12\n",
    "high_cm = round(high_in * 2.54, 1)\n",
    "\n",
    "print(high_cm)\n"
   ]
  },
  {
   "cell_type": "code",
   "execution_count": 67,
   "id": "5e03771e-8043-4779-ac76-f4acea864f0a",
   "metadata": {},
   "outputs": [
    {
     "name": "stdin",
     "output_type": "stream",
     "text": [
      "Enter the short side: 4\n",
      "Enter the long side: 3\n"
     ]
    },
    {
     "name": "stdout",
     "output_type": "stream",
     "text": [
      "5.0\n"
     ]
    }
   ],
   "source": [
    "'''60. Triangle Hypotenuse Calculator\n",
    "\n",
    "Write a Python program to calculate the hypotenuse of a right angled triangle.'''\n",
    "\n",
    "from math import sqrt\n",
    "\n",
    "short_side = int(input(\"Enter the short side:\"))\n",
    "long_side = int(input(\"Enter the long side:\"))\n",
    "\n",
    "hypo_side = sqrt(short_side ** 2 + long_side ** 2)\n",
    "\n",
    "print(hypo_side)\n"
   ]
  },
  {
   "cell_type": "code",
   "execution_count": 13,
   "id": "b6c55319-03ff-48c7-ab29-8a77a44faf3d",
   "metadata": {},
   "outputs": [
    {
     "name": "stdout",
     "output_type": "stream",
     "text": [
      "100 feet in inches = 1200 inches\n",
      "100 feet in yards = 33.333333333333336 yards\n",
      "100 feet in miles = 0.01893939393939394 miles\n"
     ]
    }
   ],
   "source": [
    "'''61. Feet to Other Units\n",
    "\n",
    "Write a Python program to convert the distance (in feet) to inches, yards, and miles.'''\n",
    "\n",
    "\n",
    "def convert_distance(feet_inches, feet_yards, feet_miles):\n",
    "    \n",
    "    print(f\"{feet_inches} feet in inches = {feet_inches * 12} inches\")\n",
    "    print(f\"{feet_yards} feet in yards = {feet_yards * 1/3} yards\")\n",
    "    print(f\"{feet_miles} feet in miles = {feet_miles * 1 / 5280 } miles\")\n",
    "\n",
    "convert_distance(100,100,100)\n"
   ]
  },
  {
   "cell_type": "code",
   "execution_count": 22,
   "id": "fdc3ce25-0779-451c-a3ec-fb48e662feeb",
   "metadata": {},
   "outputs": [
    {
     "name": "stdout",
     "output_type": "stream",
     "text": [
      "95400\n"
     ]
    }
   ],
   "source": [
    "'''62. Time to Seconds Converter\n",
    "\n",
    "Write a Python program to convert all units of time into seconds.'''\n",
    "\n",
    "def seconds_converter(hours, minutes, days):\n",
    "    hour = hours * 3600\n",
    "    minute = minutes * 60 \n",
    "    day = days * 86400\n",
    "    # print(hours,munites, day)\n",
    "    \n",
    "    total_time = hour + minute + day\n",
    "    return total_time\n",
    "\n",
    "    \n",
    "print(seconds_converter(2,30,1))"
   ]
  },
  {
   "cell_type": "code",
   "execution_count": 25,
   "id": "336bae92-346e-40e6-8486-d2dca2238685",
   "metadata": {},
   "outputs": [
    {
     "name": "stdout",
     "output_type": "stream",
     "text": [
      "C:\\Users\\demon\\matfile\\GIT\\kavi.txt\n"
     ]
    }
   ],
   "source": [
    "'''63. Absolute File Path Finder\n",
    "\n",
    "Write a Python program to get an absolute file path.'''\n",
    "import os\n",
    "\n",
    "def file_path_finder():\n",
    "    # to check the file path with the file name\n",
    "    print(os.path.abspath('kavi.txt'))\n",
    "file_path_finder()"
   ]
  },
  {
   "cell_type": "code",
   "execution_count": 31,
   "id": "108f5a60-2dd2-40b8-9d1e-c970a8f8e1a1",
   "metadata": {},
   "outputs": [
    {
     "name": "stdout",
     "output_type": "stream",
     "text": [
      "modified date Sat Nov 30 23:50:52 2024\n",
      "created date Thu Nov 28 09:37:32 2024\n"
     ]
    }
   ],
   "source": [
    "'''64. File Timestamps\n",
    "\n",
    "Write a Python program that retrieves the date and time of file creation and modification.'''\n",
    "\n",
    "import os.path, time\n",
    "def file_timestamp(file):\n",
    "    print(f\"modified date {time.ctime(os.path.getmtime(file))}\")\n",
    "    print(f\"created date {time.ctime(os.path.getctime(file))}\")\n",
    "file_timestamp('C:/Users/demon/PycharmProjects')"
   ]
  },
  {
   "cell_type": "code",
   "execution_count": 5,
   "id": "61c56f2f-bfba-4229-8d2f-811d005622a4",
   "metadata": {},
   "outputs": [
    {
     "name": "stdout",
     "output_type": "stream",
     "text": [
      "(1, 2, 30, 0)\n"
     ]
    }
   ],
   "source": [
    "'''65. Seconds to DHMS Converter\n",
    "\n",
    "Write a Python program that converts seconds into days, hours, minutes, and seconds.'''\n",
    "\n",
    "def DHMS_converter(total_second):\n",
    "    \n",
    "    days = total_second // 86400\n",
    "    total_second %= 86400\n",
    "    hours = total_second // 3600\n",
    "    total_second %= 3600\n",
    "    minute = total_second // 60 \n",
    "    second = total_second % 60\n",
    "\n",
    "    return days, hours, minute, second\n",
    "print(DHMS_converter(95400))"
   ]
  },
  {
   "cell_type": "code",
   "execution_count": 6,
   "id": "75645422-ce2c-4026-8652-3947ef151917",
   "metadata": {},
   "outputs": [
    {
     "name": "stdout",
     "output_type": "stream",
     "text": [
      "Normal_weight :18.591130340724717\n"
     ]
    }
   ],
   "source": [
    "'''66. BMI Calculator\n",
    "\n",
    "Write a Python program to calculate the body mass index.'''\n",
    "\n",
    "def BMI_cal(hight,weight):\n",
    "\n",
    "    bmi = weight/ hight ** 2\n",
    "\n",
    "    if bmi < 18.5:\n",
    "        print(f\"under_weight :{bmi}\")\n",
    "    elif 18.5 < bmi < 25 :\n",
    "        print(f\"Normal_weight :{bmi}\")\n",
    "    elif 25 < bmi < 30 :\n",
    "        print(f\"Overweight_weight :{bmi}\")\n",
    "    else:\n",
    "        print(F\"Obesity_weight :{bmi}\")\n",
    "BMI_cal(1.72,55)"
   ]
  },
  {
   "cell_type": "code",
   "execution_count": 7,
   "id": "30d9678d-9deb-4f5f-aaaf-2591b672aa02",
   "metadata": {},
   "outputs": [
    {
     "name": "stdout",
     "output_type": "stream",
     "text": [
      "(6.52671, 337.5279, 0.44411534999999996)\n"
     ]
    }
   ],
   "source": [
    "'''67. Pressure Unit Converter\n",
    "\n",
    "Write a Python program to convert pressure in kilopascals to pounds per square inch, \n",
    "a millimeter of mercury (mmHg) and atmosphere pressure.'''\n",
    "\n",
    "def Unit_coverter(kpa):\n",
    "\n",
    "    psi = kpa * 0.145038\n",
    "    mmHg = kpa * 7.50062\n",
    "    atm = kpa * 0.00986923\n",
    "\n",
    "    return psi, mmHg, atm\n",
    "\n",
    "print(Unit_coverter(45))\n",
    "    \n"
   ]
  },
  {
   "cell_type": "code",
   "execution_count": 15,
   "id": "83f814be-e15a-467b-ac52-241c24fe3285",
   "metadata": {},
   "outputs": [
    {
     "name": "stdout",
     "output_type": "stream",
     "text": [
      "15\n"
     ]
    }
   ],
   "source": [
    "'''68. Sum of Digits\n",
    "\n",
    "Write a Python program to calculate sum of digits of a number.'''\n",
    "\n",
    "def sum_of_digits(number):\n",
    "    \n",
    "    number = abs(number)\n",
    "    digit_sum = 0\n",
    "    \n",
    "    while number > 0:\n",
    "        digit_sum += number % 10  \n",
    "        number //= 10  \n",
    "    \n",
    "    return digit_sum\n",
    "print(sum_of_digits(12345))"
   ]
  },
  {
   "cell_type": "code",
   "execution_count": 18,
   "id": "f4a1bb4d-1579-4f8d-815f-a97dadccfe5b",
   "metadata": {},
   "outputs": [
    {
     "name": "stdout",
     "output_type": "stream",
     "text": [
      "[2, 56, 82]\n"
     ]
    }
   ],
   "source": [
    "'''69. Sort Three Numbers\n",
    "\n",
    "Write a Python program to sort three integers without using conditional statements and loops.\n",
    "Click me to see the sample solution'''\n",
    "\n",
    "def sort_three_number(a, b, c):\n",
    "\n",
    "    sort = sorted([a, b, c])\n",
    "\n",
    "    print(sort)\n",
    "sort_three_number(56, 82, 2)"
   ]
  },
  {
   "cell_type": "code",
   "execution_count": null,
   "id": "f042e199-6067-464f-bd1d-6579bbe35eb9",
   "metadata": {},
   "outputs": [],
   "source": [
    "'''70. Sort Files by Date\n",
    "\n",
    "Write a Python program to sort files by date.'''\n",
    "\n",
    "import os.path, time\n",
    "\n"
   ]
  }
 ],
 "metadata": {
  "kernelspec": {
   "display_name": "Python 3 (ipykernel)",
   "language": "python",
   "name": "python3"
  },
  "language_info": {
   "codemirror_mode": {
    "name": "ipython",
    "version": 3
   },
   "file_extension": ".py",
   "mimetype": "text/x-python",
   "name": "python",
   "nbconvert_exporter": "python",
   "pygments_lexer": "ipython3",
   "version": "3.10.0"
  }
 },
 "nbformat": 4,
 "nbformat_minor": 5
}
