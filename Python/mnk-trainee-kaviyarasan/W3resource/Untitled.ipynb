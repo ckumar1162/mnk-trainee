{
 "cells": [
  {
   "cell_type": "code",
   "execution_count": 1,
   "id": "f40b1a3f-43a0-4262-93cb-1a06a8a4fc78",
   "metadata": {},
   "outputs": [
    {
     "name": "stdout",
     "output_type": "stream",
     "text": [
      "14\n"
     ]
    }
   ],
   "source": [
    "'''1. Calculate string length.\n",
    "\n",
    "Write a Python program to calculate the length of a string.'''\n",
    "\n",
    "def string_length(str1):\n",
    "   \n",
    "    count = 0\n",
    "\n",
    "\n",
    "    for char in str1:\n",
    "        count += 1\n",
    "\n",
    "    return count\n",
    "\n",
    "print(string_length('w3resource.com')) "
   ]
  },
  {
   "cell_type": "code",
   "execution_count": 2,
   "id": "fe2e0edb-f8d5-41ff-8d8b-ccc0db411459",
   "metadata": {},
   "outputs": [
    {
     "name": "stdout",
     "output_type": "stream",
     "text": [
      "{'g': 2, 'o': 3, 'l': 1, 'e': 1, '.': 1, 'c': 1, 'm': 1}\n"
     ]
    }
   ],
   "source": [
    "'''2. Count character frequency in a string.\n",
    "\n",
    "Write a Python program to count the number of characters (character frequency) in a string.\n",
    "Sample String : google.com'\n",
    "Expected Result : {'g': 2, 'o': 3, 'l': 1, 'e': 1, '.': 1, 'c': 1, 'm': 1}'''\n",
    "def char_frequency(str1):\n",
    "    dict = {}\n",
    "    \n",
    "    for n in str1:\n",
    "        keys = dict.keys()\n",
    "        \n",
    "        if n in keys:\n",
    "            dict[n] += 1\n",
    "        else:\n",
    "            dict[n] = 1\n",
    "    \n",
    "    return dict\n",
    "\n",
    "print(char_frequency('google.com')) "
   ]
  },
  {
   "cell_type": "code",
   "execution_count": 4,
   "id": "aa785e9f-3ad1-4d88-9a64-0812629ad885",
   "metadata": {},
   "outputs": [
    {
     "name": "stdout",
     "output_type": "stream",
     "text": [
      "w3ce\n",
      "w3w3\n",
      "\n"
     ]
    }
   ],
   "source": [
    "'''3. Write a Python program to get a string made of the first 2 and last 2 characters of a given string. If the string length is less than 2, return the empty string instead.\n",
    "Sample String : 'w3resource'\n",
    "Expected Result : 'w3ce'\n",
    "Sample String : 'w3'\n",
    "Expected Result : 'w3w3'\n",
    "Sample String : ' w'\n",
    "Expected Result : Empty String'''\n",
    "def string_both_ends(str):\n",
    "    if len(str) < 2:\n",
    "        return ''\n",
    "\n",
    "    return str[0:2] + str[-2:]\n",
    "\n",
    "print(string_both_ends('w3resource'))  \n",
    "print(string_both_ends('w3'))        \n",
    "print(string_both_ends('w'))     "
   ]
  },
  {
   "cell_type": "code",
   "execution_count": null,
   "id": "0efa4b2e-133c-4242-93e6-39ac41c46ba6",
   "metadata": {},
   "outputs": [],
   "source": [
    "'''# Define a function named string_both_ends that takes one argument, 'str'.\n",
    "def string_both_ends(str):\n",
    "    # Check if the length of the input string 'str' is less than 2 characters.\n",
    "    if len(str) < 2:\n",
    "        # If the string is shorter than 2 characters, return an empty string.\n",
    "        return ''\n",
    "\n",
    "    # If the string has at least 2 characters, concatenate the first two characters\n",
    "    # and the last two characters of the input string and return the result.\n",
    "    return str[0:2] + str[-2:]\n",
    "\n",
    "# Call the string_both_ends function with different input strings and print the results.\n",
    "print(string_both_ends('w3resource'))  # Output: 'w3ce'\n",
    "print(string_both_ends('w3'))          # Output: 'w3w3'\n",
    "print(string_both_ends('w'))     '''\n",
    "\n",
    "def change_char(str1):\n",
    "    char = str1[0]\n",
    "\n",
    "    str1 = str1.replace(char, '$')\n",
    "\n",
    "    str1 = char + str1[1:]\n",
    "\n",
    "    return str1\n",
    "\n",
    "print(change_char('restart'))  "
   ]
  },
  {
   "cell_type": "code",
   "execution_count": null,
   "id": "7c70b1db-33ac-4a52-8a16-ff8cc192c593",
   "metadata": {},
   "outputs": [],
   "source": [
    "'''. Swap first 2 chars of 2 strings.\n",
    "\n",
    "Write a Python program to get a single string from two given strings, separated by a space and swap the first two characters of each string.\n",
    "Sample String : 'abc', 'xyz'\n",
    "Expected Result : 'xyc abz''''\n",
    "\n",
    "def chars_mix_up(a, b):\n",
    "    new_a = b[:2] + a[2:]\n",
    "\n",
    "    new_b = a[:2] + b[2:]\n",
    "\n",
    "    return new_a + ' ' + new_b\n",
    "\n",
    "print(chars_mix_up('abc', 'xyz')) "
   ]
  },
  {
   "cell_type": "code",
   "execution_count": null,
   "id": "03a4f84b-cc9c-43ee-8581-76122cb3b1d5",
   "metadata": {},
   "outputs": [],
   "source": [
    "''''''"
   ]
  },
  {
   "cell_type": "code",
   "execution_count": null,
   "id": "d708f2ad-af1e-41b2-a8cc-9a3f1c84f405",
   "metadata": {},
   "outputs": [],
   "source": [
    "\n",
    "\n",
    "'''Write a Python program to add 'ing' at the end of a given string (length should be at least 3). If the given string already ends with 'ing', add 'ly' instead. If the string length of the given string is less than 3, leave it unchanged.\n",
    "Sample String : 'abc'\n",
    "Expected Result : 'abcing'\n",
    "Sample String : 'string'\n",
    "Expected Result : 'stringly'''''\n",
    "def add_string(str1):\n",
    "    length = len(str1)\n",
    "\n",
    "    if length > 2:\n",
    "        if str1[-3:] == 'ing':\n",
    "            str1 += 'ly'\n",
    "        else:\n",
    "            str1 += 'ing'\n",
    "\n",
    "    return str1\n",
    "\n",
    "print(add_string('ab'))      \n",
    "print(add_string('abc'))     \n",
    "print(add_string('string'))  "
   ]
  },
  {
   "cell_type": "code",
   "execution_count": null,
   "id": "e26d5d60-72c0-4c22-b5a0-7021dd8419cb",
   "metadata": {},
   "outputs": [],
   "source": [
    "'''Write a Python program to find the first appearance of the substrings 'not' and 'poor' in a given string. If 'not' follows 'poor', replace the whole 'not'...'poor' substring with 'good'. Return the resulting string.\n",
    "Sample String : 'The lyrics is not that poor!'\n",
    "'The lyrics is poor!'\n",
    "Expected Result : 'The lyrics is good!'\n",
    "'The lyrics is poor!''''\n",
    "def not_poor(str1):\n",
    "    snot = str1.find('not')\n",
    "    \n",
    "    spoor = str1.find('poor')\n",
    "\n",
    "    if spoor > snot and snot > 0 and spoor > 0:\n",
    "        str1 = str1.replace(str1[snot:(spoor+4)], 'good')\n",
    "        return str1\n",
    "    else:\n",
    "        return str1\n",
    "\n",
    "print(not_poor('The lyrics is not that poor!'))  \n",
    "\n",
    "print(not_poor('The lyrics is poor!')) "
   ]
  },
  {
   "cell_type": "code",
   "execution_count": null,
   "id": "d34b102c-a384-49ac-bb1b-7500c2fa2347",
   "metadata": {},
   "outputs": [],
   "source": [
    "'''Write a Python function that takes a list of words and return the longest word and the length of the longest one.\n",
    "Sample Output:\n",
    "Longest word: Exercises\n",
    "Length of the longest word: 9'''\n",
    "\n",
    "def find_longest_word(words_list):\n",
    "    word_len = []\n",
    "\n",
    "    for n in words_list:\n",
    "        word_len.append((len(n), n))\n",
    "\n",
    "    word_len.sort()\n",
    "\n",
    "    return word_len[-1][0], word_len[-1][1]\n",
    "\n",
    "result = find_longest_word([\"PHP\", \"Exercises\", \"Backend\"])\n",
    "\n",
    "print(\"\\nLongest word: \", result[1])\n",
    "print(\"Length of the longest word: \", result[0])"
   ]
  },
  {
   "cell_type": "code",
   "execution_count": null,
   "id": "29452fbe-0aad-4dce-afff-f0f887f52c05",
   "metadata": {},
   "outputs": [],
   "source": [
    "'''Write a  Python program to remove the nth index character from a nonempty string.'''\n",
    "def remove_char(str, n):\n",
    "    first_part = str[:n]\n",
    "\n",
    "    last_part = str[n+1:]\n",
    "\n",
    "    return first_part + last_part\n",
    "\n",
    "print(remove_char('Python', 0))  \n",
    "print(remove_char('Python', 3)) \n",
    "print(remove_char('Python', 5)) "
   ]
  },
  {
   "cell_type": "code",
   "execution_count": null,
   "id": "87216b17-16c4-4e70-8596-18648290cfb2",
   "metadata": {},
   "outputs": [],
   "source": [
    "'''Write a Python program to change a given string to a newly string where the first and last chars have been exchanged.'''\n",
    "def change_string(str1):\n",
    "    return str1[-1:] + str1[1:-1] + str1[:1]\n",
    "\n",
    "print(change_string('abcd'))   \n",
    "print(change_string('12345'))"
   ]
  },
  {
   "cell_type": "code",
   "execution_count": null,
   "id": "89045f17-705b-4a49-aa73-41a094f0e472",
   "metadata": {},
   "outputs": [],
   "source": [
    "'''11. Remove odd index chars from a string.\n",
    "\n",
    "Write a Python program to remove characters that have odd index values in a given string.'''\n",
    "def odd_values_string(str):\n",
    "    result = \"\"\n",
    "    \n",
    "    for i in range(len(str)):\n",
    "        if i % 2 == 0:\n",
    "            result = result + str[i]\n",
    "    \n",
    "    return result\n",
    "\n",
    "print(odd_values_string('abcdef'))  \n",
    "print(odd_values_string('python'))"
   ]
  },
  {
   "cell_type": "code",
   "execution_count": null,
   "id": "9e6f42bc-1ba5-4596-a1dd-c6bc39b1e82c",
   "metadata": {},
   "outputs": [],
   "source": [
    "'''12. Count word occurrences in a sentence.\n",
    "\n",
    "Write a Python program to count the occurrences of each word in a given sentence'''\n",
    "def word_count(str):\n",
    "    counts = dict()\n",
    "    \n",
    "    words = str.split()\n",
    "\n",
    "    for word in words:\n",
    "        if word in counts:\n",
    "            counts[word] += 1\n",
    "        else:\n",
    "            counts[word] = 1\n",
    "\n",
    "    return counts\n",
    "\n",
    "print( word_count('the quick brown fox jumps over the lazy dog.'))"
   ]
  },
  {
   "cell_type": "code",
   "execution_count": null,
   "id": "27908a4d-2868-40f7-ad4d-0f3f4680430a",
   "metadata": {},
   "outputs": [],
   "source": [
    "'''13. Display input in upper and lower case.\n",
    "\n",
    "Write a Python  script that takes input from the user and displays that input back in upper and lower cases'''\n",
    "user_input = input(\"What's your favorite language? \")\n",
    "\n",
    "print(\"My favorite language is \", user_input.upper())\n",
    "\n",
    "print(\"My favorite language is \", user_input.lower()) "
   ]
  },
  {
   "cell_type": "markdown",
   "id": "2af22a45-e105-4a1a-8a82-92e1382302fe",
   "metadata": {},
   "source": [
    "##### '''14.Write a Python program that accepts a comma-separated sequence of words as input and prints the distinct words in sorted form (alphanumerically).\n",
    "Sample Words : red, white, black, red, green, black\n",
    "Expected Result : black, green, red, white,red'''\n",
    "items = input(\"Input comma-separated sequence of words\")\n",
    "\n",
    "words = [word for word in items.split(\",\")]\n",
    "\n",
    "print(\",\".join(sorted(list(set(words)))))"
   ]
  },
  {
   "cell_type": "code",
   "execution_count": 6,
   "id": "8028acfc-7c37-4024-9e1f-9fffe6371a7f",
   "metadata": {},
   "outputs": [
    {
     "name": "stdout",
     "output_type": "stream",
     "text": [
      "<i>Python</i>\n",
      "<b>Python Tutorial</b>\n"
     ]
    }
   ],
   "source": [
    "'''15.Write a Python function to create an HTML string with tags around the word(s).\n",
    "Sample function and result :\n",
    "add_tags('i', 'Python') -> '<i>Python</i>'\n",
    "add_tags('b', 'Python Tutorial') -> '<b>Python Tutorial </b>'''\n",
    "def add_tags(tag, word):\n",
    "    return \"<%s>%s</%s>\" % (tag, word, tag)\n",
    "\n",
    "print(add_tags('i', 'Python'))\n",
    "\n",
    "print(add_tags('b', 'Python Tutorial'))"
   ]
  },
  {
   "cell_type": "code",
   "execution_count": null,
   "id": "beed24c5-c82f-40be-b842-8a89a20d1beb",
   "metadata": {},
   "outputs": [],
   "source": [
    "'''16. Insert string into middle of another.\n",
    "\n",
    "Write a Python function to insert a string in the middle of a string.\n",
    "Sample function and result :\n",
    "insert_sting_middle('[[]]<<>>', 'Python') -> [[Python]]\n",
    "insert_sting_middle('{{}}', 'PHP') -> {{PHP}}'''"
   ]
  },
  {
   "cell_type": "code",
   "execution_count": null,
   "id": "b7b42baa-4dbe-45f9-876c-f6cbd495aa82",
   "metadata": {},
   "outputs": [],
   "source": []
  },
  {
   "cell_type": "code",
   "execution_count": null,
   "id": "971c1692-28b1-4f66-b0b2-29e82cdfa788",
   "metadata": {},
   "outputs": [],
   "source": []
  },
  {
   "cell_type": "code",
   "execution_count": null,
   "id": "96137151-e62d-423a-ada5-d5cf3f452477",
   "metadata": {},
   "outputs": [],
   "source": []
  }
 ],
 "metadata": {
  "kernelspec": {
   "display_name": "Python 3 (ipykernel)",
   "language": "python",
   "name": "python3"
  },
  "language_info": {
   "codemirror_mode": {
    "name": "ipython",
    "version": 3
   },
   "file_extension": ".py",
   "mimetype": "text/x-python",
   "name": "python",
   "nbconvert_exporter": "python",
   "pygments_lexer": "ipython3",
   "version": "3.10.0"
  }
 },
 "nbformat": 4,
 "nbformat_minor": 5
}
