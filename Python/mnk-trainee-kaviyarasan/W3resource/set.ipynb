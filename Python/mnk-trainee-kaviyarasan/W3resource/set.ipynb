{
 "cells": [
  {
   "cell_type": "code",
   "execution_count": 1,
   "id": "e8199e90-9d5a-4ef5-9b5e-a98337ff3d8e",
   "metadata": {},
   "outputs": [
    {
     "data": {
      "text/plain": [
       "set()"
      ]
     },
     "execution_count": 1,
     "metadata": {},
     "output_type": "execute_result"
    }
   ],
   "source": [
    "'''1. Write a Python program to create a set.'''\n",
    "a = set()\n",
    "a"
   ]
  },
  {
   "cell_type": "code",
   "execution_count": 12,
   "id": "9bd00eca-bde4-4e67-a597-8a3b5c79fd79",
   "metadata": {},
   "outputs": [
    {
     "name": "stdout",
     "output_type": "stream",
     "text": [
      "1\n",
      "2\n",
      "3\n",
      "4\n",
      "5\n",
      "6\n",
      "8\n",
      "v\n",
      "k\n",
      "a\n",
      "r\n",
      "s\n",
      "i\n",
      "n\n",
      "y\n"
     ]
    }
   ],
   "source": [
    " '''2. Write a Python program to iterate over sets.'''\n",
    "\n",
    "a = set([1,2,3,4,5,6,8])\n",
    "for i in a:\n",
    "    print(i)\n",
    "b = set(\"kaviyarasan\")\n",
    "for i in b:\n",
    "    print(i)"
   ]
  },
  {
   "cell_type": "code",
   "execution_count": 19,
   "id": "b2e4971c-7c96-478c-9e96-7dd3e669ee5e",
   "metadata": {},
   "outputs": [
    {
     "data": {
      "text/plain": [
       "{'a', 'b', 'c', 'p', 'q', 'san'}"
      ]
     },
     "execution_count": 19,
     "metadata": {},
     "output_type": "execute_result"
    }
   ],
   "source": [
    "'''3. Write a Python program to add member(s) to a set.'''\n",
    "a = set(\"abc\")\n",
    "a.add(\"san\")\n",
    "a.update([\"q\",\"p\"])\n",
    "a"
   ]
  },
  {
   "cell_type": "code",
   "execution_count": 81,
   "id": "8e83c172-a412-4c97-8d86-42e5a94d944e",
   "metadata": {},
   "outputs": [
    {
     "name": "stdout",
     "output_type": "stream",
     "text": [
      "e\n"
     ]
    }
   ],
   "source": [
    "'''4. Write a Python program to remove item(s) from a given set.'''\n",
    "a = set(\"abcdefghijklmnop\")\n",
    "print(a.pop())\n"
   ]
  },
  {
   "cell_type": "code",
   "execution_count": 82,
   "id": "e4a0a9af-cace-4dcd-9cd4-e8daaa9fd2aa",
   "metadata": {},
   "outputs": [
    {
     "name": "stdout",
     "output_type": "stream",
     "text": [
      "None\n"
     ]
    },
    {
     "data": {
      "text/plain": [
       "{'a', 'b', 'd', 'f', 'g', 'h', 'i', 'j', 'k', 'l', 'm', 'n', 'o', 'p'}"
      ]
     },
     "execution_count": 82,
     "metadata": {},
     "output_type": "execute_result"
    }
   ],
   "source": [
    "'''5. Write a Python program to remove an item from a set if it is present in the set.'''\n",
    "b = a.discard(\"c\")\n",
    "print(b)\n",
    "a"
   ]
  },
  {
   "cell_type": "code",
   "execution_count": 89,
   "id": "1b9164c5-bd82-40ba-99c8-81e25f1a6c85",
   "metadata": {},
   "outputs": [
    {
     "name": "stdout",
     "output_type": "stream",
     "text": [
      "{'i', 'v', 'k', 'a'}\n"
     ]
    },
    {
     "data": {
      "text/plain": [
       "{'a', 'i', 'k', 'v'}"
      ]
     },
     "execution_count": 89,
     "metadata": {},
     "output_type": "execute_result"
    }
   ],
   "source": [
    "'''6. Write a Python program to create an intersection of sets.\n",
    "\n",
    "'''\n",
    "a = set(\"kavi\")\n",
    "b = set(\"kavi\")\n",
    "n = a & b\n",
    "\n",
    "c = a.intersection(b)\n",
    "print(c)\n",
    "n"
   ]
  },
  {
   "cell_type": "code",
   "execution_count": 100,
   "id": "5adfb045-8b3d-4fcf-b514-8089c5d3ba8a",
   "metadata": {},
   "outputs": [],
   "source": [
    "'''7. Write a Python program to create a union of sets.'''\n",
    "\n",
    "a = set([1,2,5,1])\n",
    "b = set([1,6,7,8,9])\n",
    "\n",
    "# print(a.union(b))"
   ]
  },
  {
   "cell_type": "code",
   "execution_count": 102,
   "id": "23ea6580-20d2-4bc9-a926-b5dd6aa335d8",
   "metadata": {},
   "outputs": [
    {
     "name": "stdout",
     "output_type": "stream",
     "text": [
      "{8, 9, 6, 7}\n"
     ]
    }
   ],
   "source": [
    "'''8. Write a Python program to create set difference.'''\n",
    "\n",
    "c = b.difference(a)\n",
    "print(c)"
   ]
  },
  {
   "cell_type": "code",
   "execution_count": 105,
   "id": "08e8a65f-7056-4bb3-b75b-39092460a07a",
   "metadata": {},
   "outputs": [
    {
     "name": "stdout",
     "output_type": "stream",
     "text": [
      "{2, 5, 6, 7, 8, 9}\n"
     ]
    },
    {
     "data": {
      "text/plain": [
       "{2, 5, 6, 7, 8, 9}"
      ]
     },
     "execution_count": 105,
     "metadata": {},
     "output_type": "execute_result"
    }
   ],
   "source": [
    "'''9. Write a Python program to create a symmetric difference.'''\n",
    "d = a.symmetric_difference(b)\n",
    "\n",
    "print(a ^ b)\n",
    "d"
   ]
  },
  {
   "cell_type": "code",
   "execution_count": 120,
   "id": "98ca1369-c82b-4790-85a3-4665712836b1",
   "metadata": {},
   "outputs": [
    {
     "name": "stdout",
     "output_type": "stream",
     "text": [
      "True\n"
     ]
    }
   ],
   "source": [
    "'''10. Write a Python program to check if a set is a subset of another set.'''\n",
    "a = {1,2,3}\n",
    "b = {1,2,3}\n",
    "print(b.issubset(a))"
   ]
  },
  {
   "cell_type": "code",
   "execution_count": 123,
   "id": "13ed0e8c-0c47-407b-a5b4-3a4604762322",
   "metadata": {},
   "outputs": [
    {
     "name": "stdout",
     "output_type": "stream",
     "text": [
      "{2, 4, 6, 8, 9}\n"
     ]
    }
   ],
   "source": [
    "'''11. Write a Python program to create a shallow copy of sets.'''\n",
    "b = {9,8,4,4,6,2,4}\n",
    "a = b.copy()\n",
    "print(a)"
   ]
  },
  {
   "cell_type": "code",
   "execution_count": 124,
   "id": "e42f412c-29e7-4588-b25e-88f45c3483b0",
   "metadata": {},
   "outputs": [
    {
     "name": "stdout",
     "output_type": "stream",
     "text": [
      "set()\n"
     ]
    }
   ],
   "source": [
    "'''12. Write a Python program to remove all elements from a given set.'''\n",
    "a = {1,2,4,5,6,7,8}\n",
    "a.clear()\n",
    "print(a)"
   ]
  },
  {
   "cell_type": "code",
   "execution_count": 126,
   "id": "29573cf7-8496-4436-9c80-8abbddff1b65",
   "metadata": {},
   "outputs": [
    {
     "name": "stdout",
     "output_type": "stream",
     "text": [
      "frozenset({1, 2, 3, 4, 6, 7, 8})\n"
     ]
    }
   ],
   "source": [
    "'''13. Write a Python program that uses frozensets.\n",
    "Note: Frozensets behave just like sets except they are immutable.'''\n",
    "a = frozenset([1,2,3,4,6,7,8])\n",
    "print(a)"
   ]
  },
  {
   "cell_type": "code",
   "execution_count": null,
   "id": "941f2acc-acc1-42e7-8087-6f7e7a259958",
   "metadata": {},
   "outputs": [],
   "source": []
  }
 ],
 "metadata": {
  "kernelspec": {
   "display_name": "Python 3 (ipykernel)",
   "language": "python",
   "name": "python3"
  },
  "language_info": {
   "codemirror_mode": {
    "name": "ipython",
    "version": 3
   },
   "file_extension": ".py",
   "mimetype": "text/x-python",
   "name": "python",
   "nbconvert_exporter": "python",
   "pygments_lexer": "ipython3",
   "version": "3.13.1"
  }
 },
 "nbformat": 4,
 "nbformat_minor": 5
}
