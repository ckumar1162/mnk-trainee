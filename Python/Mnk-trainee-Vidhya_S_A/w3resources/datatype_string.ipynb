{
 "cells": [
  {
   "cell_type": "code",
   "execution_count": 2,
   "metadata": {},
   "outputs": [
    {
     "name": "stdout",
     "output_type": "stream",
     "text": [
      "5\n",
      "6\n"
     ]
    }
   ],
   "source": [
    "#1 Write a Python program to calculate the length of a string\n",
    "print(len(\"apple\"))\n",
    "\n",
    "def length(text):\n",
    "    count = 0\n",
    "    for i in text:\n",
    "        count +=1\n",
    "    return count\n",
    "print(length(\"Vidhya\"))        \n",
    "\n"
   ]
  },
  {
   "cell_type": "code",
   "execution_count": 3,
   "metadata": {},
   "outputs": [
    {
     "name": "stdout",
     "output_type": "stream",
     "text": [
      "{'r': 2, 'e': 2, 's': 2, 'o': 1, 'u': 1, 'c': 1}\n"
     ]
    }
   ],
   "source": [
    "#2 Write a Python program to count the number of characters (character frequency) in a string.\n",
    "#Sample String : google.com'\n",
    "#Expected Result : {'g': 2, 'o': 3, 'l': 1, 'e': 1, '.': 1, 'c': 1, 'm': 1}\n",
    "def no_of_characters(s):\n",
    "    result = {}\n",
    "    for i in s:\n",
    "        if i  in result:\n",
    "            result[i] +=1\n",
    "        else :\n",
    "            result[i] = 1\n",
    "    return result \n",
    "print(no_of_characters(\"resources\"))            \n"
   ]
  },
  {
   "cell_type": "code",
   "execution_count": null,
   "metadata": {},
   "outputs": [
    {
     "name": "stdout",
     "output_type": "stream",
     "text": [
      "Pyon\n",
      "empty string\n"
     ]
    }
   ],
   "source": [
    "#3 Write a Python program to get a string made of the first 2 and last 2 characters of a given string.\n",
    "#  If the string length is less than 2, return the empty string instead.\n",
    "def string1(txt):\n",
    "    if txt == \"\":\n",
    "        return \"empty string\"\n",
    "    else:\n",
    "        return txt[:2] + txt[-2:]\n",
    "    \n",
    "print(string1(\"Python\")) \n",
    "print(string1(\"\"))   "
   ]
  },
  {
   "cell_type": "code",
   "execution_count": null,
   "metadata": {},
   "outputs": [
    {
     "name": "stdout",
     "output_type": "stream",
     "text": [
      "EL$PHANT\n"
     ]
    }
   ],
   "source": [
    "#4 Write a Python program to get a string from a given string where all occurrences\n",
    "#  of its first char have been changed to '$', except the first char itself.\n",
    "txt = \"elephant\".upper()\n",
    "char = txt[0]\n",
    "result = char + txt[1:].replace(char,\"$\")\n",
    "print(result)   "
   ]
  },
  {
   "cell_type": "code",
   "execution_count": null,
   "metadata": {},
   "outputs": [
    {
     "name": "stdout",
     "output_type": "stream",
     "text": [
      "xyc abz\n",
      "sadhya vi\n"
     ]
    }
   ],
   "source": [
    "#5 Write a Python program to get a single string from two given strings, \n",
    "# separated by a space and swap the first two characters of each string.\n",
    "def single_string(s1,s2):\n",
    "   new_s1 = s2[:2] + s1[2:]\n",
    "   new_s2 = s1[:2] + s2[2:]\n",
    "   result  = new_s1 + \" \" +  new_s2\n",
    "   return result\n",
    "\n",
    "print(single_string(\"abc\",\"xyz\"))\n",
    "print(single_string(\"vidhya\",\"sa\"))\n",
    "\n",
    "\n"
   ]
  },
  {
   "cell_type": "code",
   "execution_count": null,
   "metadata": {},
   "outputs": [
    {
     "name": "stdout",
     "output_type": "stream",
     "text": [
      "typing\n",
      "god\n",
      "accordingly\n"
     ]
    }
   ],
   "source": [
    "#6 Write a Python program to add 'ing' at the end of a given string (length should be at least 3).\n",
    "#  If the given string already ends with 'ing', add 'ly' instead.\n",
    "#  If the string length of the given string is less than 3, leave it unchanged.\n",
    "\n",
    "def adding_sufix(txt):\n",
    "    if len(txt)<= 3 :\n",
    "        return txt\n",
    "    elif txt[-3:] == \"ing\":\n",
    "        txt += \"ly\"\n",
    "        return txt\n",
    "        \n",
    "    else:\n",
    "       suffix =  txt[:-1] + \"ing\"\n",
    "       return suffix\n",
    "\n",
    "\n",
    "print(adding_sufix(\"type\")) \n",
    "print(adding_sufix(\"god\")) \n",
    "print(adding_sufix(\"according\")) \n"
   ]
  },
  {
   "cell_type": "code",
   "execution_count": null,
   "metadata": {},
   "outputs": [
    {
     "name": "stdout",
     "output_type": "stream",
     "text": [
      "The movie is good \n",
      "the movie is poor\n"
     ]
    }
   ],
   "source": [
    "#7 Write a Python program to find the first appearance of the substrings 'not' and 'poor' in a given string.\n",
    "#  If 'not' follows 'poor', replace the whole 'not'...'poor' substring with 'good'. Return the resulting string.\n",
    "def substring(sentence):\n",
    "    find_not = sentence.find(\"not\")\n",
    "    find_poor = sentence.find(\"poor\")\n",
    "\n",
    "    if find_not != -1 and find_poor != -1 and find_not < find_poor:\n",
    "        return sentence[:find_not] + \"good\" + sentence[find_poor+4:]\n",
    "    return sentence\n",
    "   \n",
    "print(substring(\"The movie is not that poor \") )\n",
    "print(substring(\"the movie is poor\"))   \n"
   ]
  },
  {
   "cell_type": "code",
   "execution_count": null,
   "metadata": {},
   "outputs": [
    {
     "name": "stdout",
     "output_type": "stream",
     "text": [
      "dragon fruit : 12\n"
     ]
    }
   ],
   "source": [
    "#8 Write a Python function that takes a list of words and return the longest word and the length of the longest one.\n",
    "# words = [\"apple\", \"banana\" , \"MAngo\" , \"Grapes\",\"kiwi\",\"dragon fruit\"]\n",
    "def longest_word(word):\n",
    "    longest = 0\n",
    "    for i in word:\n",
    "        if longest < len(i):\n",
    "            longest = len(i)\n",
    "    print(f'{i} : {longest}')\n",
    "\n",
    "longest_word([\"apple\", \"banana\" , \"MAngo\" , \"Grapes\",\"kiwi\",\"dragon fruit\"])        "
   ]
  },
  {
   "cell_type": "code",
   "execution_count": null,
   "metadata": {},
   "outputs": [
    {
     "name": "stdout",
     "output_type": "stream",
     "text": [
      "pyhon\n"
     ]
    }
   ],
   "source": [
    "#9 Write a  Python program to remove the nth index character from a nonempty string.\n",
    "def remove_char(txt,index_num):\n",
    "    if 0 <= index_num <= len(txt):\n",
    "        return txt[:index_num] + txt[index_num+1:]\n",
    "print(remove_char(\"python\",2))\n"
   ]
  },
  {
   "cell_type": "code",
   "execution_count": null,
   "metadata": {},
   "outputs": [
    {
     "name": "stdout",
     "output_type": "stream",
     "text": [
      "dbca\n"
     ]
    }
   ],
   "source": [
    "#10 Write a Python program to change a given string to a newly string where the first and last chars have been exchanged.\n",
    "def swap_string(txt):\n",
    "    return txt[-1] + txt[1:-1] + txt[0]\n",
    "print(swap_string(\"abcd\"))"
   ]
  },
  {
   "cell_type": "code",
   "execution_count": 7,
   "metadata": {},
   "outputs": [
    {
     "name": "stdout",
     "output_type": "stream",
     "text": [
      "hlowrd\n"
     ]
    }
   ],
   "source": [
    "#11 Write a Python program to remove characters that have odd index values in a given string.\n",
    "def remove_odd(txt):\n",
    "    empty = \"\"\n",
    "    for i in range(len(txt)):\n",
    "        if i % 2 ==0:\n",
    "            empty += txt[i]\n",
    "    return empty\n",
    "        \n",
    "print(remove_odd(\"hello world\"))        \n",
    "\n",
    "            "
   ]
  },
  {
   "cell_type": "code",
   "execution_count": 11,
   "metadata": {},
   "outputs": [
    {
     "name": "stdout",
     "output_type": "stream",
     "text": [
      "{'p': 2, 'y': 1, 't': 1, 'h': 3, 'o': 2, 'n': 3, ' ': 6, 'i': 3, 's': 1, 'a': 4, 'g': 5, 'l': 3, 'e': 3, 'v': 1, 'r': 2, 'm': 2, 'u': 1}\n"
     ]
    }
   ],
   "source": [
    "#12 Write a Python program to count the occurrences of each word in a given sentence.\n",
    "def occurence(sentence):\n",
    "    dict = {}\n",
    "    case = sentence.lower()\n",
    "    for i in case:\n",
    "        if i not in dict:\n",
    "            dict[i] = 1\n",
    "        else:\n",
    "            dict[i] += 1\n",
    "    return dict\n",
    "\n",
    "print(occurence(\"Python is a high level programming language\"))    \n"
   ]
  },
  {
   "cell_type": "code",
   "execution_count": 12,
   "metadata": {},
   "outputs": [
    {
     "name": "stdout",
     "output_type": "stream",
     "text": [
      "HELLOO WORLD\n",
      "helloo world\n"
     ]
    }
   ],
   "source": [
    "#13 Write a Python  script that takes input from the user and displays that input back in upper and lower cases.\n",
    "userinput = input(\"enter something:\\n\")\n",
    "print(userinput.upper())\n",
    "print(userinput.lower())"
   ]
  },
  {
   "cell_type": "code",
   "execution_count": 13,
   "metadata": {},
   "outputs": [
    {
     "name": "stdout",
     "output_type": "stream",
     "text": [
      "['apple', 'grapes', 'jack fruit', 'orange']\n"
     ]
    }
   ],
   "source": [
    "#14 Write a Python program that accepts a comma-separated \n",
    "# sequence of words as input and prints the distinct words in sorted form (alphanumerically).\n",
    "def alpha_order(words):\n",
    "    for i in words:\n",
    "        return sorted(words)\n",
    "    \n",
    "print(alpha_order([\"grapes\",\"orange\",\"apple\",\"jack fruit\"]))    "
   ]
  },
  {
   "cell_type": "code",
   "execution_count": 16,
   "metadata": {},
   "outputs": [
    {
     "name": "stdout",
     "output_type": "stream",
     "text": [
      "<i> Python </i>\n"
     ]
    }
   ],
   "source": [
    "#15 Write a Python function to create an HTML string with tags around the word(s).\n",
    "def html_tags(tag,element):\n",
    "    return f\"<{tag}> {element} </{tag}>\"\n",
    "\n",
    "print(html_tags('i','Python'))"
   ]
  },
  {
   "cell_type": "code",
   "execution_count": 19,
   "metadata": {},
   "outputs": [
    {
     "name": "stdout",
     "output_type": "stream",
     "text": [
      "[[Python]]\n",
      "{{Python}}\n"
     ]
    }
   ],
   "source": [
    "#16 Write a Python function to insert a string in the middle of a string.\n",
    "def insert_string(s,word):\n",
    "    return s[:2] + word + s[2:]\n",
    "\n",
    "print(insert_string('[[]]','Python'))\n",
    "print(insert_string('{{}}','Python'))"
   ]
  },
  {
   "cell_type": "code",
   "execution_count": 20,
   "metadata": {},
   "outputs": [
    {
     "name": "stdout",
     "output_type": "stream",
     "text": [
      "onononon\n"
     ]
    }
   ],
   "source": [
    "#17 Write a Python function to get a string made of 4 copies \n",
    "# of the last two characters of a specified string (length must be at least 2).\n",
    "def stringify(word):\n",
    "    return word[-2:] *4\n",
    "print(stringify('python'))"
   ]
  },
  {
   "cell_type": "code",
   "execution_count": 24,
   "metadata": {},
   "outputs": [
    {
     "name": "stdout",
     "output_type": "stream",
     "text": [
      "Pyt\n",
      "dog\n"
     ]
    }
   ],
   "source": [
    "#18 Write a Python function to get a string made of the first three characters of a specified string. \n",
    "# If the length of the string is less than 3, return the original string.\n",
    "def first_three(txt):\n",
    "    if len(txt) <= 3:\n",
    "        return txt\n",
    "    else:\n",
    "        return txt[:3]\n",
    "    \n",
    "print(first_three('Python')) \n",
    "print(first_three('dog'))   "
   ]
  },
  {
   "cell_type": "code",
   "execution_count": 26,
   "metadata": {},
   "outputs": [
    {
     "name": "stdout",
     "output_type": "stream",
     "text": [
      "https://www.w3resource.com/python-exercises\n"
     ]
    }
   ],
   "source": [
    "#19 Write a Python program to get the last part of a string before a specified character.\n",
    "str1 = 'https://www.w3resource.com/python-exercises/string'\n",
    "print(str1.rsplit('/',1)[0])\n"
   ]
  },
  {
   "cell_type": "code",
   "execution_count": 29,
   "metadata": {},
   "outputs": [
    {
     "name": "stdout",
     "output_type": "stream",
     "text": [
      "tebahpla\n",
      "Python\n"
     ]
    }
   ],
   "source": [
    "#20 Write a Python function to reverse a string if its length is a multiple of 4.\n",
    "def reverse_string(txt):\n",
    "    if len(txt) % 4 ==0:\n",
    "        return txt[::-1]\n",
    "    return txt\n",
    "    \n",
    "print(reverse_string('alphabet'))\n",
    "print(reverse_string('Python'))    "
   ]
  },
  {
   "cell_type": "code",
   "execution_count": 31,
   "metadata": {},
   "outputs": [
    {
     "name": "stdout",
     "output_type": "stream",
     "text": [
      "nohTyP\n",
      "Programming\n"
     ]
    }
   ],
   "source": [
    "#21 Write a Python function to convert a given string to all uppercase \n",
    "# if it contains at least 2 uppercase characters in the first 4 characters.\n",
    "def reverse_cond(str1):\n",
    "    num_upper = 0\n",
    "    for i in str1[:4]:\n",
    "        if i.upper() == i:\n",
    "            num_upper +=1\n",
    "    if num_upper >= 2:\n",
    "        return str1[::-1]\n",
    "    return str1 \n",
    "print(reverse_cond('PyThon'))\n",
    "print(reverse_cond('Programming'))\n",
    "       "
   ]
  },
  {
   "cell_type": "code",
   "execution_count": 32,
   "metadata": {},
   "outputs": [
    {
     "name": "stdout",
     "output_type": "stream",
     "text": [
      "['3', 'c', 'e', 'e', 'o', 'r', 'r', 's', 's', 'u', 'w']\n"
     ]
    }
   ],
   "source": [
    "#22 Write a Python program to sort a string lexicographically.\n",
    "\n",
    "def lexicographic(txt):\n",
    "    return sorted(txt)\n",
    "print(lexicographic('w3resources'))"
   ]
  },
  {
   "cell_type": "code",
   "execution_count": 38,
   "metadata": {},
   "outputs": [
    {
     "name": "stdout",
     "output_type": "stream",
     "text": [
      "welcome to MNK GCS\n"
     ]
    }
   ],
   "source": [
    "#23 Write a Python program to remove a newline in Python.\n",
    "str1 = 'welcome to MNK GCS\\n'\n",
    "print(str1.rstrip())\n"
   ]
  },
  {
   "cell_type": "code",
   "execution_count": 39,
   "metadata": {},
   "outputs": [
    {
     "name": "stdout",
     "output_type": "stream",
     "text": [
      "True\n"
     ]
    }
   ],
   "source": [
    "#24 Write a Python program to check whether a string starts with specified characters.\n",
    "txt = \"w3school tutorial\"\n",
    "print(txt.startswith('w3'))"
   ]
  },
  {
   "cell_type": "code",
   "execution_count": null,
   "metadata": {},
   "outputs": [
    {
     "name": "stdout",
     "output_type": "stream",
     "text": [
      "hello\n"
     ]
    }
   ],
   "source": [
    "#25 Write a Python program to create a Caesar encryption.\n",
    "alphabet =['a', 'b', 'c', 'd', 'e', 'f', 'g', 'h', 'i', 'j', 'k', 'l', 'm', \n",
    " 'n', 'o', 'p', 'q', 'r', 's', 't', 'u', 'v', 'w', 'x', 'y', 'z']\n",
    "\n",
    "def encrpyt(og_text,shift_num):\n",
    "    cipher_caeser = \"\"\n",
    "    for i in og_text:\n",
    "        shift_position = alphabet.index(i) - shift_num\n",
    "        shift_position %=len(alphabet) \n",
    "        cipher_caeser += alphabet[shift_position]\n",
    "    print(cipher_caeser)\n",
    "encrpyt('hello',3)        \n"
   ]
  },
  {
   "cell_type": "code",
   "execution_count": 42,
   "metadata": {},
   "outputs": [
    {
     "name": "stdout",
     "output_type": "stream",
     "text": [
      "\n",
      " Python is a widely used high-level, general-\n",
      "purpose, interpreted,   dynamic programming\n",
      "language. Its design philosophy emphasizes   code\n",
      "readability, and its syntax allows programmers to\n",
      "express   concepts in fewer lines of code than\n",
      "possible in languages such   as C++ or Java.\n"
     ]
    }
   ],
   "source": [
    "#26 Write a  Python program to display formatted text (width=50) as output.\n",
    "import textwrap\n",
    "sample_txt = \"\"\"\n",
    "Python is a widely used high-level, general-purpose, interpreted,\n",
    "  dynamic programming language. Its design philosophy emphasizes\n",
    "  code readability, and its syntax allows programmers to express\n",
    "  concepts in fewer lines of code than possible in languages such\n",
    "  as C++ or Java.\n",
    "\"\"\"\n",
    "print()\n",
    "\n",
    "print(textwrap.fill(sample_txt,width = 50))"
   ]
  },
  {
   "cell_type": "code",
   "execution_count": 49,
   "metadata": {},
   "outputs": [
    {
     "name": "stdout",
     "output_type": "stream",
     "text": [
      "\n",
      "  Python is a widely used high-level, general-purpose, interpreted,\n",
      "  dynamic programming language. Its design philosophy emphasizes\n",
      "  code readability, and its syntax allows programmers to express\n",
      "  concepts in fewer lines of code than possible in languages such\n",
      "  as C++ or Java.\n",
      "\n",
      "\n",
      "Python is a widely used high-level, general-purpose, interpreted,\n",
      "dynamic programming language. Its design philosophy emphasizes\n",
      "code readability, and its syntax allows programmers to express\n",
      "concepts in fewer lines of code than possible in languages such\n",
      "as C++ or Java.\n",
      "\n"
     ]
    }
   ],
   "source": [
    "#27 Write a Python program to remove existing indentation from all of the lines in a given text.\n",
    "import textwrap\n",
    "sample_txt = \"\"\"\n",
    "  Python is a widely used high-level, general-purpose, interpreted,\n",
    "  dynamic programming language. Its design philosophy emphasizes\n",
    "  code readability, and its syntax allows programmers to express\n",
    "  concepts in fewer lines of code than possible in languages such\n",
    "  as C++ or Java.\n",
    "\"\"\"\n",
    "print(sample_txt)\n",
    "\n",
    "print(textwrap.dedent(sample_txt))\n"
   ]
  },
  {
   "cell_type": "code",
   "execution_count": 55,
   "metadata": {},
   "outputs": [
    {
     "name": "stdout",
     "output_type": "stream",
     "text": [
      "\n",
      "\n",
      ">  Python is a widely used high-level, general-purpose, interpreted,\n",
      ">  dynamic programming language. Its design philosophy emphasizes\n",
      ">  code readability, and its syntax allows programmers to express\n",
      ">  concepts in fewer lines of code than possible in languages such\n",
      ">  as C++ or Java.\n",
      "\n"
     ]
    }
   ],
   "source": [
    "#28 Write a Python program to add prefix text to all of the lines in a string.\n",
    "import textwrap\n",
    "sample_txt = \"\"\"\n",
    "  Python is a widely used high-level, general-purpose, interpreted,\n",
    "  dynamic programming language. Its design philosophy emphasizes\n",
    "  code readability, and its syntax allows programmers to express\n",
    "  concepts in fewer lines of code than possible in languages such\n",
    "  as C++ or Java.\n",
    "\"\"\"\n",
    "print()\n",
    "\n",
    "print(textwrap.indent(sample_txt,'>'))\n"
   ]
  },
  {
   "cell_type": "code",
   "execution_count": 56,
   "metadata": {},
   "outputs": [
    {
     "name": "stdout",
     "output_type": "stream",
     "text": [
      "\n",
      "Python is a widely used high-level, general-purpose, interpreted, dynamic\n",
      "    programming language. Its design philosophy emphasizes code readability, and\n",
      "    its syntax allows programmers to express concepts in fewer lines of code\n",
      "    than possible in languages such as C++ or Java.\n"
     ]
    }
   ],
   "source": [
    "#29 Write a Python program to set the indentation of the first line.\n",
    "import textwrap\n",
    "sample_text ='''\n",
    "Python is a widely used high-level, general-purpose, interpreted, dynamic\n",
    "programming language. Its design philosophy emphasizes code readability,\n",
    "and its syntax allows programmers to express concepts in fewer lines of\n",
    "code than possible in languages such as C++ or Java.\n",
    "    '''\n",
    "text1 = textwrap.dedent(sample_text).strip()\n",
    "\n",
    "print()\n",
    "\n",
    "print(textwrap.fill(text1,\n",
    "                    initial_indent='',\n",
    "                    subsequent_indent=' ' * 4,\n",
    "                    width=80,\n",
    "                    ))"
   ]
  },
  {
   "cell_type": "code",
   "execution_count": 61,
   "metadata": {},
   "outputs": [
    {
     "name": "stdout",
     "output_type": "stream",
     "text": [
      "Formated number:3.14\n",
      "Formatted Number: 2.35\n"
     ]
    }
   ],
   "source": [
    "#30 Write a Python program to print the following numbers up to 2 decimal places.\n",
    "num1= 3.1423567\n",
    "num2 = 2.3456789\n",
    "print(\"Formated number:\"+\"{:.2f}\".format(num1))\n",
    "print(\"Formatted Number: \"+\"{:.2f}\".format(num2))"
   ]
  }
 ],
 "metadata": {
  "kernelspec": {
   "display_name": "Python 3",
   "language": "python",
   "name": "python3"
  },
  "language_info": {
   "codemirror_mode": {
    "name": "ipython",
    "version": 3
   },
   "file_extension": ".py",
   "mimetype": "text/x-python",
   "name": "python",
   "nbconvert_exporter": "python",
   "pygments_lexer": "ipython3",
   "version": "3.11.9"
  }
 },
 "nbformat": 4,
 "nbformat_minor": 2
}
