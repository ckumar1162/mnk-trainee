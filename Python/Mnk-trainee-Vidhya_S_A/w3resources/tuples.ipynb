{
 "cells": [
  {
   "cell_type": "code",
   "execution_count": 1,
   "metadata": {},
   "outputs": [
    {
     "name": "stdout",
     "output_type": "stream",
     "text": [
      "(1, 2, 3, 4, 5)\n"
     ]
    }
   ],
   "source": [
    "#1.Write a Python program to create a tuple.\n",
    "t1 = [1,2,3,4,5]\n",
    "print(tuple(t1))"
   ]
  },
  {
   "cell_type": "code",
   "execution_count": 3,
   "metadata": {},
   "outputs": [
    {
     "name": "stdout",
     "output_type": "stream",
     "text": [
      "(1, 3.14, 'string', True)\n"
     ]
    }
   ],
   "source": [
    "#2. Write a Python program to create a tuple with different data types.\n",
    "print(tuple((1,3.14,'string',True)))"
   ]
  },
  {
   "cell_type": "code",
   "execution_count": 5,
   "metadata": {},
   "outputs": [
    {
     "name": "stdout",
     "output_type": "stream",
     "text": [
      "10\n"
     ]
    }
   ],
   "source": [
    "#3. Write a Python program to create a tuple of numbers and print one item.\n",
    "t1 = tuple(range(5,30,5))\n",
    "print(t1[1])"
   ]
  },
  {
   "cell_type": "code",
   "execution_count": 7,
   "metadata": {},
   "outputs": [
    {
     "name": "stdout",
     "output_type": "stream",
     "text": [
      "(1, 2, 3, 4)\n",
      "1 2 3 4\n"
     ]
    }
   ],
   "source": [
    "#4. Write a Python program to unpack a tuple into several variables.\n",
    "t1 = (1,2,3,4)\n",
    "print(t1)\n",
    "a,b,c,d = t1\n",
    "print(a,b,c,d)"
   ]
  },
  {
   "cell_type": "code",
   "execution_count": 11,
   "metadata": {},
   "outputs": [
    {
     "name": "stdout",
     "output_type": "stream",
     "text": [
      "(1, 2, 3, 4, 5, (6, 7, 8))\n"
     ]
    }
   ],
   "source": [
    "#5.Write a Python program to add an item to a tuple.\n",
    "t1 = (1,2,3,4,5)\n",
    "t2 = list(t1)\n",
    "t2.append((6,7,8))\n",
    "print(tuple(t2))"
   ]
  },
  {
   "cell_type": "code",
   "execution_count": 15,
   "metadata": {},
   "outputs": [
    {
     "name": "stdout",
     "output_type": "stream",
     "text": [
      "hello\n"
     ]
    }
   ],
   "source": [
    "#6.Write a Python program to convert a tuple to a string\n",
    "t1 = (\"h\",\"e\",\"l\",\"l\",\"o\")\n",
    "str1 = ''.join(t1)\n",
    "print(str1)"
   ]
  },
  {
   "cell_type": "code",
   "execution_count": 16,
   "metadata": {},
   "outputs": [
    {
     "name": "stdout",
     "output_type": "stream",
     "text": [
      "o o\n"
     ]
    }
   ],
   "source": [
    "#7.Write a Python program to get the 4th element from the last element of a tuple.\n",
    "t1 = ('h','e','l','l','o','w','o','r','l','d')\n",
    "print(t1[4],t1[-4])"
   ]
  },
  {
   "cell_type": "code",
   "execution_count": 21,
   "metadata": {},
   "outputs": [
    {
     "name": "stdout",
     "output_type": "stream",
     "text": [
      "('vidhya', 31, [])\n",
      "('vidhya', 31, [8])\n"
     ]
    }
   ],
   "source": [
    "#8.Write a Python program to create the colon of a tuple.\n",
    "from copy import deepcopy\n",
    "t1= ('vidhya',31,[])\n",
    "copy_t1 = deepcopy(t1)\n",
    "print(copy_t1)\n",
    "copy_t1[2].append(8)\n",
    "print(copy_t1)\n"
   ]
  },
  {
   "cell_type": "code",
   "execution_count": 26,
   "metadata": {},
   "outputs": [
    {
     "name": "stdout",
     "output_type": "stream",
     "text": [
      "(1, 2, 3, 4, 5, 6)\n"
     ]
    }
   ],
   "source": [
    "#9. Write a Python program to find repeated items in a tuple\n",
    "t1 = (1,1,2,3,4,4,5,5,6)\n",
    "l1 = []\n",
    "for i in t1:\n",
    "    if i not in l1:\n",
    "        l1.append(i)\n",
    "print(tuple(l1))        "
   ]
  },
  {
   "cell_type": "code",
   "execution_count": 29,
   "metadata": {},
   "outputs": [
    {
     "name": "stdout",
     "output_type": "stream",
     "text": [
      "True\n",
      "False\n"
     ]
    }
   ],
   "source": [
    "#10. Write a Python program to check whether an element exists within a tuple.\n",
    "t1 = ('v','i','d','h','y','a')\n",
    "print('d' in t1)\n",
    "print('s' in t1)\n",
    "    "
   ]
  }
 ],
 "metadata": {
  "kernelspec": {
   "display_name": "Python 3",
   "language": "python",
   "name": "python3"
  },
  "language_info": {
   "codemirror_mode": {
    "name": "ipython",
    "version": 3
   },
   "file_extension": ".py",
   "mimetype": "text/x-python",
   "name": "python",
   "nbconvert_exporter": "python",
   "pygments_lexer": "ipython3",
   "version": "3.11.9"
  }
 },
 "nbformat": 4,
 "nbformat_minor": 2
}
