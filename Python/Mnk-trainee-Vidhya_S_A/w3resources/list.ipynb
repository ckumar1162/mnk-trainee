{
 "cells": [
  {
   "cell_type": "code",
   "execution_count": 2,
   "metadata": {},
   "outputs": [
    {
     "name": "stdout",
     "output_type": "stream",
     "text": [
      "Sum of all the items in list :81\n"
     ]
    }
   ],
   "source": [
    "#1 Write a Python program to sum all the items in a list.\n",
    "l1 = [1,2,3,4,56,7,8]\n",
    "count = 0 \n",
    "for i in l1:\n",
    "    count += i\n",
    "print(f\"Sum of all the items in list :{count}\")    \n"
   ]
  },
  {
   "cell_type": "code",
   "execution_count": null,
   "metadata": {},
   "outputs": [
    {
     "name": "stdout",
     "output_type": "stream",
     "text": [
      "mul of all the items in list :0\n"
     ]
    }
   ],
   "source": [
    "#2 Write a Python program to multiply all the items in a list.\n",
    "l2 = [1,2,3,4,56,7,8]\n",
    "mul = 1 \n",
    "for i in l2:\n",
    "    mul *= i\n",
    "print(f\"mul of all the items in list :{mul}\") "
   ]
  },
  {
   "cell_type": "code",
   "execution_count": 11,
   "metadata": {},
   "outputs": [
    {
     "name": "stdout",
     "output_type": "stream",
     "text": [
      "largest number in the list 908\n"
     ]
    }
   ],
   "source": [
    "#3 Write a Python program to get the largest number from a list.\n",
    "list1 = [100,34,567,89,90,456,789,908]\n",
    "largest = 0\n",
    "for i in list1:\n",
    "    if largest < i :\n",
    "        largest = i\n",
    "\n",
    "print(f\"largest number in the list {largest}\")        \n"
   ]
  },
  {
   "cell_type": "code",
   "execution_count": 18,
   "metadata": {},
   "outputs": [
    {
     "name": "stdout",
     "output_type": "stream",
     "text": [
      "smallest number in the list -90\n"
     ]
    }
   ],
   "source": [
    "#4 Write a Python program to get the smallest number from a list.\n",
    "list1 = [100,34,567,89,-90,456,789,908]\n",
    "smallest = list1[0]\n",
    "for i in list1:\n",
    "    if i < smallest :\n",
    "        smallest = i\n",
    "\n",
    "print(f\"smallest number in the list {smallest}\")        \n",
    "\n"
   ]
  },
  {
   "cell_type": "code",
   "execution_count": 9,
   "metadata": {},
   "outputs": [
    {
     "name": "stdout",
     "output_type": "stream",
     "text": [
      "3\n"
     ]
    }
   ],
   "source": [
    "#5 Write a Python program to count the number of strings from a given list of strings. \n",
    "# The string length is 2 or more and the first and last characters are the same.\n",
    "def count_string_list(list1):\n",
    "    count = 0\n",
    "    for i in list1:\n",
    "        if len(i) > 2 and i[0] == i[-1]:\n",
    "            count +=1\n",
    "    return count\n",
    "\n",
    "print(count_string_list([\"aba\",\"abc\",\"xac\",\"xax\",\"1223\",\"121\"]))        \n"
   ]
  },
  {
   "cell_type": "code",
   "execution_count": 11,
   "metadata": {},
   "outputs": [
    {
     "name": "stdout",
     "output_type": "stream",
     "text": [
      "Sorted list: [(2, 1), (1, 2), (2, 3), (4, 4), (2, 5)]\n"
     ]
    }
   ],
   "source": [
    "#6 Write a Python program to get a list,\n",
    "#  sorted in increasing order by the last element in each tuple from a given list of non-empty tuples.\n",
    "def last_element(tuple):\n",
    "    return tuple[-1]\n",
    "\n",
    "list1 = [(2, 5), (1, 2), (4, 4), (2, 3), (2, 1)]\n",
    "list1.sort(key=last_element)\n",
    "\n",
    "print(\"Sorted list:\", list1)  "
   ]
  },
  {
   "cell_type": "code",
   "execution_count": 12,
   "metadata": {},
   "outputs": [
    {
     "name": "stdout",
     "output_type": "stream",
     "text": [
      "List after removing duplicates: [1, 2, 3, 4, 5, 6]\n"
     ]
    }
   ],
   "source": [
    "#7 Write a Python program to remove duplicates from a list\n",
    "list1 = [1,1,2,3,4,5,4,6,5,6,4,6]\n",
    "duplicates = []\n",
    "for i in list1:\n",
    "    if i not in duplicates:\n",
    "        duplicates.append(i)\n",
    "print(f\"List after removing duplicates: {duplicates}\")           "
   ]
  },
  {
   "cell_type": "code",
   "execution_count": 13,
   "metadata": {},
   "outputs": [
    {
     "name": "stdout",
     "output_type": "stream",
     "text": [
      "empty list\n",
      "[1, 2, 3, 4, 5]\n"
     ]
    }
   ],
   "source": [
    "#8 Write a Python program to check if a list is empty or not.\n",
    "def check_list(list1):\n",
    "    if list1 == []:\n",
    "        return f\"empty list\"\n",
    "    else:\n",
    "        return list1\n",
    "    \n",
    "print(check_list([]))\n",
    "print(check_list([1,2,3,4,5]))"
   ]
  },
  {
   "cell_type": "code",
   "execution_count": 17,
   "metadata": {},
   "outputs": [
    {
     "name": "stdout",
     "output_type": "stream",
     "text": [
      "[1, 2, 3, 4, 5]\n",
      "[1, 2, 3, 4, 5]\n"
     ]
    }
   ],
   "source": [
    "#9 Write a Python program to clone or copy a list\n",
    "sample_list = [1,2,3,4,5]\n",
    "new_list = list(sample_list)\n",
    "print(sample_list)\n",
    "print(new_list)"
   ]
  },
  {
   "cell_type": "code",
   "execution_count": 15,
   "metadata": {},
   "outputs": [
    {
     "name": "stdout",
     "output_type": "stream",
     "text": [
      "['quick', 'brown', 'jumps', 'over', 'lazy']\n"
     ]
    }
   ],
   "source": [
    "#10 Write a Python program to find the list of words that are longer than n from a given list of words.\n",
    "def long_words(n, str):\n",
    "    word_len = []\n",
    "    txt = str.split(\" \")\n",
    "    for x in txt:\n",
    "        if len(x) > n:\n",
    "            word_len.append(x)\n",
    "    return word_len\n",
    "print(long_words(3, \"The quick brown fox jumps over the lazy dog\"))"
   ]
  }
 ],
 "metadata": {
  "kernelspec": {
   "display_name": "Python 3",
   "language": "python",
   "name": "python3"
  },
  "language_info": {
   "codemirror_mode": {
    "name": "ipython",
    "version": 3
   },
   "file_extension": ".py",
   "mimetype": "text/x-python",
   "name": "python",
   "nbconvert_exporter": "python",
   "pygments_lexer": "ipython3",
   "version": "3.11.9"
  }
 },
 "nbformat": 4,
 "nbformat_minor": 2
}
