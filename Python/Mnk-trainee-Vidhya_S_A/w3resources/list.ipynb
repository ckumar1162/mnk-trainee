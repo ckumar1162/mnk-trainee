{
 "cells": [
  {
   "cell_type": "code",
   "execution_count": 2,
   "metadata": {},
   "outputs": [
    {
     "name": "stdout",
     "output_type": "stream",
     "text": [
      "Sum of all the items in list :81\n"
     ]
    }
   ],
   "source": [
    "#1 Write a Python program to sum all the items in a list.\n",
    "l1 = [1,2,3,4,56,7,8]\n",
    "count = 0 \n",
    "for i in l1:\n",
    "    count += i\n",
    "print(f\"Sum of all the items in list :{count}\")    \n"
   ]
  },
  {
   "cell_type": "code",
   "execution_count": null,
   "metadata": {},
   "outputs": [
    {
     "name": "stdout",
     "output_type": "stream",
     "text": [
      "mul of all the items in list :0\n"
     ]
    }
   ],
   "source": [
    "#2 Write a Python program to multiply all the items in a list.\n",
    "l2 = [1,2,3,4,56,7,8]\n",
    "mul = 1 \n",
    "for i in l2:\n",
    "    mul *= i\n",
    "print(f\"mul of all the items in list :{mul}\") "
   ]
  },
  {
   "cell_type": "code",
   "execution_count": 11,
   "metadata": {},
   "outputs": [
    {
     "name": "stdout",
     "output_type": "stream",
     "text": [
      "largest number in the list 908\n"
     ]
    }
   ],
   "source": [
    "#3 Write a Python program to get the largest number from a list.\n",
    "list1 = [100,34,567,89,90,456,789,908]\n",
    "largest = 0\n",
    "for i in list1:\n",
    "    if largest < i :\n",
    "        largest = i\n",
    "\n",
    "print(f\"largest number in the list {largest}\")        \n"
   ]
  },
  {
   "cell_type": "code",
   "execution_count": 18,
   "metadata": {},
   "outputs": [
    {
     "name": "stdout",
     "output_type": "stream",
     "text": [
      "smallest number in the list -90\n"
     ]
    }
   ],
   "source": [
    "#4 Write a Python program to get the smallest number from a list.\n",
    "list1 = [100,34,567,89,-90,456,789,908]\n",
    "smallest = list1[0]\n",
    "for i in list1:\n",
    "    if i < smallest :\n",
    "        smallest = i\n",
    "\n",
    "print(f\"smallest number in the list {smallest}\")        \n",
    "\n"
   ]
  },
  {
   "cell_type": "code",
   "execution_count": 9,
   "metadata": {},
   "outputs": [
    {
     "name": "stdout",
     "output_type": "stream",
     "text": [
      "3\n"
     ]
    }
   ],
   "source": [
    "#5 Write a Python program to count the number of strings from a given list of strings. \n",
    "# The string length is 2 or more and the first and last characters are the same.\n",
    "def count_string_list(list1):\n",
    "    count = 0\n",
    "    for i in list1:\n",
    "        if len(i) > 2 and i[0] == i[-1]:\n",
    "            count +=1\n",
    "    return count\n",
    "\n",
    "print(count_string_list([\"aba\",\"abc\",\"xac\",\"xax\",\"1223\",\"121\"]))        \n"
   ]
  },
  {
   "cell_type": "code",
   "execution_count": 11,
   "metadata": {},
   "outputs": [
    {
     "name": "stdout",
     "output_type": "stream",
     "text": [
      "Sorted list: [(2, 1), (1, 2), (2, 3), (4, 4), (2, 5)]\n"
     ]
    }
   ],
   "source": [
    "#6 Write a Python program to get a list,\n",
    "#  sorted in increasing order by the last element in each tuple from a given list of non-empty tuples.\n",
    "def last_element(tuple):\n",
    "    return tuple[-1]\n",
    "\n",
    "list1 = [(2, 5), (1, 2), (4, 4), (2, 3), (2, 1)]\n",
    "list1.sort(key=last_element)\n",
    "\n",
    "print(\"Sorted list:\", list1)  "
   ]
  },
  {
   "cell_type": "code",
   "execution_count": 12,
   "metadata": {},
   "outputs": [
    {
     "name": "stdout",
     "output_type": "stream",
     "text": [
      "List after removing duplicates: [1, 2, 3, 4, 5, 6]\n"
     ]
    }
   ],
   "source": [
    "#7 Write a Python program to remove duplicates from a list\n",
    "list1 = [1,1,2,3,4,5,4,6,5,6,4,6]\n",
    "duplicates = []\n",
    "for i in list1:\n",
    "    if i not in duplicates:\n",
    "        duplicates.append(i)\n",
    "print(f\"List after removing duplicates: {duplicates}\")           "
   ]
  },
  {
   "cell_type": "code",
   "execution_count": 13,
   "metadata": {},
   "outputs": [
    {
     "name": "stdout",
     "output_type": "stream",
     "text": [
      "empty list\n",
      "[1, 2, 3, 4, 5]\n"
     ]
    }
   ],
   "source": [
    "#8 Write a Python program to check if a list is empty or not.\n",
    "def check_list(list1):\n",
    "    if list1 == []:\n",
    "        return f\"empty list\"\n",
    "    else:\n",
    "        return list1\n",
    "    \n",
    "print(check_list([]))\n",
    "print(check_list([1,2,3,4,5]))"
   ]
  },
  {
   "cell_type": "code",
   "execution_count": 17,
   "metadata": {},
   "outputs": [
    {
     "name": "stdout",
     "output_type": "stream",
     "text": [
      "[1, 2, 3, 4, 5]\n",
      "[1, 2, 3, 4, 5]\n"
     ]
    }
   ],
   "source": [
    "#9 Write a Python program to clone or copy a list\n",
    "sample_list = [1,2,3,4,5]\n",
    "new_list = list(sample_list)\n",
    "print(sample_list)\n",
    "print(new_list)"
   ]
  },
  {
   "cell_type": "code",
   "execution_count": 15,
   "metadata": {},
   "outputs": [
    {
     "name": "stdout",
     "output_type": "stream",
     "text": [
      "['quick', 'brown', 'jumps', 'over', 'lazy']\n"
     ]
    }
   ],
   "source": [
    "#10 Write a Python program to find the list of words that are longer than n from a given list of words.\n",
    "def long_words(n, str):\n",
    "    word_len = []\n",
    "    txt = str.split(\" \")\n",
    "    for x in txt:\n",
    "        if len(x) > n:\n",
    "            word_len.append(x)\n",
    "    return word_len\n",
    "print(long_words(3, \"The quick brown fox jumps over the lazy dog\"))"
   ]
  },
  {
   "cell_type": "code",
   "execution_count": 3,
   "metadata": {},
   "outputs": [
    {
     "name": "stdout",
     "output_type": "stream",
     "text": [
      "False\n"
     ]
    }
   ],
   "source": [
    "#11 Write a Python function that takes two lists and returns True if they have at least one common member.\n",
    "def check_list(l1,l2):\n",
    "    for i in l1 and l2:\n",
    "        if i in l1 and l2:\n",
    "            return \"True\"\n",
    "        else:\n",
    "            return \"False\"\n",
    "        \n",
    "print(check_list([1,2,3,4],[13,14,5,6]))        "
   ]
  },
  {
   "cell_type": "code",
   "execution_count": 12,
   "metadata": {},
   "outputs": [
    {
     "name": "stdout",
     "output_type": "stream",
     "text": [
      "['Annadurai', 'Praveen', 'Sudha']\n"
     ]
    }
   ],
   "source": [
    "#12 Write a Python program to print a specified list after removing the 0th, 4th and 5th elements.\n",
    "sample = [\"Vidhya\",\"Annadurai\",\"Praveen\",\"Sudha\",\"Padma\",\"Arvind\"]\n",
    "sample.pop(5)\n",
    "sample.pop(4)\n",
    "sample.pop(0)\n",
    "print(sample)"
   ]
  },
  {
   "cell_type": "code",
   "execution_count": 15,
   "metadata": {},
   "outputs": [
    {
     "name": "stdout",
     "output_type": "stream",
     "text": [
      "[[['*' '*' '*' '*' '*' '*']\n",
      "  ['*' '*' '*' '*' '*' '*']\n",
      "  ['*' '*' '*' '*' '*' '*']\n",
      "  ['*' '*' '*' '*' '*' '*']]\n",
      "\n",
      " [['*' '*' '*' '*' '*' '*']\n",
      "  ['*' '*' '*' '*' '*' '*']\n",
      "  ['*' '*' '*' '*' '*' '*']\n",
      "  ['*' '*' '*' '*' '*' '*']]\n",
      "\n",
      " [['*' '*' '*' '*' '*' '*']\n",
      "  ['*' '*' '*' '*' '*' '*']\n",
      "  ['*' '*' '*' '*' '*' '*']\n",
      "  ['*' '*' '*' '*' '*' '*']]]\n"
     ]
    }
   ],
   "source": [
    "#13 Write a Python program to generate a 3*4*6 3D array whose each element is *.\n",
    "\n",
    "import numpy as np\n",
    "array = np.array([[['*' for _ in range(6)]for _ in range(4)]for _ in range(3)])\n",
    "print(array)\n",
    "\n",
    "\n"
   ]
  },
  {
   "cell_type": "code",
   "execution_count": 16,
   "metadata": {},
   "outputs": [
    {
     "name": "stdout",
     "output_type": "stream",
     "text": [
      "[1, 3, 5, 7, 9]\n"
     ]
    }
   ],
   "source": [
    "#14 Write a Python program to print the numbers of a specified list after removing even numbers from it.\n",
    "sample = [1,2,3,4,5,6,7,8,9]\n",
    "result = [i for i in sample if i%2!=0]\n",
    "print(result)"
   ]
  },
  {
   "cell_type": "code",
   "execution_count": 1,
   "metadata": {},
   "outputs": [
    {
     "name": "stdout",
     "output_type": "stream",
     "text": [
      "['6', '3', '5', '4', '2', '1']\n"
     ]
    }
   ],
   "source": [
    "#15 Write a Python program to shuffle and print a specified list.\n",
    "\n",
    "import random\n",
    "dice = [\"1\",\"2\",\"3\",\"4\",\"5\",\"6\"]\n",
    "random.shuffle(dice)\n",
    "print(dice)"
   ]
  },
  {
   "cell_type": "code",
   "execution_count": 4,
   "metadata": {},
   "outputs": [
    {
     "name": "stdout",
     "output_type": "stream",
     "text": [
      "[1, 4, 9, 16, 25, 36, 49, 64, 81, 100, 121, 144, 169, 196, 225, 256, 289, 324, 361, 400, 441, 484, 529, 576, 625, 676, 729, 784, 841, 900]\n",
      "[1, 4, 9, 16, 25]\n",
      "[676, 729, 784, 841, 900]\n"
     ]
    }
   ],
   "source": [
    "#16 Write a Python program to generate and print a list of the first and last 5 elements \n",
    "# where the values are square numbers between 1 and 30 (both included).\n",
    "def square():\n",
    "    list1 = []\n",
    "    for i in range(1,31):\n",
    "        list1.append(i**2)\n",
    "    print(list1)    \n",
    "    print(list1[:5])\n",
    "    print(list1[-5:]) \n",
    "square()           "
   ]
  },
  {
   "cell_type": "code",
   "execution_count": 13,
   "metadata": {},
   "outputs": [
    {
     "name": "stdout",
     "output_type": "stream",
     "text": [
      "False\n",
      "True\n"
     ]
    }
   ],
   "source": [
    "#17 Write a  Python program to check if each number is prime in a given list of numbers.\n",
    "#  Return True if all numbers are prime otherwise False.\n",
    "def prime(n):\n",
    "    if n <= 1:\n",
    "        return False\n",
    "    for i in range(2,n):\n",
    "        if n % i==0:\n",
    "            return False\n",
    "        return True\n",
    "\n",
    "def check_prime(l):\n",
    "    return all(prime(i) for i in l) \n",
    "\n",
    "print(check_prime([1,2,3,4])) \n",
    "print(check_prime([5,7,11]))\n"
   ]
  },
  {
   "cell_type": "code",
   "execution_count": 14,
   "metadata": {},
   "outputs": [
    {
     "name": "stdout",
     "output_type": "stream",
     "text": [
      "[(1, 2, 3), (1, 3, 2), (2, 1, 3), (2, 3, 1), (3, 1, 2), (3, 2, 1)]\n"
     ]
    }
   ],
   "source": [
    "#18 Write a Python program to generate all permutations of a list in Python.\n",
    "import itertools\n",
    "print(list(itertools.permutations([1,2,3])))"
   ]
  },
  {
   "cell_type": "code",
   "execution_count": 28,
   "metadata": {},
   "outputs": [
    {
     "name": "stdout",
     "output_type": "stream",
     "text": [
      "[1, 3, 5, 6, 7]\n"
     ]
    }
   ],
   "source": [
    "#19 Write a Python program to calculate the difference between the two lists.\n",
    "def diff_bw_list(l1,l2):\n",
    "    new =[]\n",
    "    for i in l1:\n",
    "        if i not in l2 and i not in new:\n",
    "            new.append(i)\n",
    "    for i in l2:\n",
    "        if i not in l1 and i not in new:\n",
    "            new.append(i)\n",
    "    return new    \n",
    "        \n",
    "print(diff_bw_list([1,2,3,4],[2,4,5,6,7]) )       "
   ]
  },
  {
   "cell_type": "code",
   "execution_count": 31,
   "metadata": {},
   "outputs": [
    {
     "name": "stdout",
     "output_type": "stream",
     "text": [
      "0  51\n",
      "1  12\n",
      "2  33\n",
      "3  34\n",
      "4  45\n"
     ]
    }
   ],
   "source": [
    "#20 Write a Python program to access the index of a list.\n",
    "sample = [51,12,33,34,45]\n",
    "for i in sample:\n",
    "    index=sample.index(i)\n",
    "    print(f\"{index}  {i}\")"
   ]
  }
 ],
 "metadata": {
  "kernelspec": {
   "display_name": "Python 3",
   "language": "python",
   "name": "python3"
  },
  "language_info": {
   "codemirror_mode": {
    "name": "ipython",
    "version": 3
   },
   "file_extension": ".py",
   "mimetype": "text/x-python",
   "name": "python",
   "nbconvert_exporter": "python",
   "pygments_lexer": "ipython3",
   "version": "3.11.9"
  }
 },
 "nbformat": 4,
 "nbformat_minor": 2
}
