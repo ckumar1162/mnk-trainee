{
 "cells": [
  {
   "cell_type": "code",
   "execution_count": 12,
   "metadata": {},
   "outputs": [
    {
     "name": "stdout",
     "output_type": "stream",
     "text": [
      "ascending order: [1, 2, 3, 4]\n",
      "descending order: [4, 3, 2, 1]\n"
     ]
    }
   ],
   "source": [
    "#1. Write a Python script to sort (ascending and descending) a dictionary by value.\n",
    "dict1 = {1:3,2:4,3:1,4:2}\n",
    "asc = sorted(dict1.values())\n",
    "desc = sorted(dict1.values() , reverse = True)\n",
    "print(\"ascending order:\",asc)\n",
    "print(\"descending order:\",desc)"
   ]
  },
  {
   "cell_type": "code",
   "execution_count": 13,
   "metadata": {},
   "outputs": [
    {
     "name": "stdout",
     "output_type": "stream",
     "text": [
      "{0: 10, 1: 20, 2: 30}\n"
     ]
    }
   ],
   "source": [
    "#2.Write a Python script to add a key to a dictionary.\n",
    "# Sample Dictionary : {0: 10, 1: 20}\n",
    "# Expected Result : {0: 10, 1: 20, 2: 30}\n",
    "dict1 = {0: 10, 1: 20}\n",
    "dict1[2] = 30\n",
    "print(dict1)\n",
    "\n"
   ]
  },
  {
   "cell_type": "code",
   "execution_count": 16,
   "metadata": {},
   "outputs": [
    {
     "name": "stdout",
     "output_type": "stream",
     "text": [
      "{1: 10, 2: 20, 3: 30, 4: 40, 5: 50, 6: 60}\n"
     ]
    }
   ],
   "source": [
    "#3.Write a Python script to concatenate the following dictionaries to create a new one.\n",
    "\n",
    "# Sample Dictionary :\n",
    "# dic1={1:10, 2:20}\n",
    "# dic2={3:30, 4:40}\n",
    "# dic3={5:50,6:60}\n",
    "# Expected Result : {1: 10, 2: 20, 3: 30, 4: 40, 5: 50, 6: 60}\n",
    "\n",
    "\n",
    "dic1={1:10, 2:20}\n",
    "dic2={3:30, 4:40}\n",
    "dic3={5:50,6:60}\n",
    "dic4 = {}\n",
    "for i in (dic1,dic2,dic3):\n",
    "    dic4.update(i)\n",
    "\n",
    "print(dic4)    \n"
   ]
  },
  {
   "cell_type": "code",
   "execution_count": 19,
   "metadata": {},
   "outputs": [
    {
     "name": "stdout",
     "output_type": "stream",
     "text": [
      "key already present\n",
      "key doesnot present\n"
     ]
    }
   ],
   "source": [
    "#4.Write a Python script to check whether a given key already exists in a dictionary.\n",
    "num = {1: 10, 2: 20, 3: 30, 4: 40, 5: 50, 6: 60}\n",
    "def check_key(n):\n",
    "    if n in num:\n",
    "        print(\"key already present\")\n",
    "    else :\n",
    "        print(\"key doesnot present\") \n",
    "\n",
    "check_key(4)\n",
    "check_key(9)                "
   ]
  },
  {
   "cell_type": "code",
   "execution_count": 20,
   "metadata": {},
   "outputs": [
    {
     "name": "stdout",
     "output_type": "stream",
     "text": [
      "1 10\n",
      "2 20\n",
      "3 30\n",
      "4 40\n",
      "5 50\n",
      "6 60\n"
     ]
    }
   ],
   "source": [
    "#5.Write a Python program to iterate over dictionaries using for loops.\n",
    "dic = {1: 10, 2: 20, 3: 30, 4: 40, 5: 50, 6: 60}\n",
    "for key,value in dic.items():\n",
    "    print(key,value)"
   ]
  },
  {
   "cell_type": "code",
   "execution_count": 3,
   "metadata": {},
   "outputs": [
    {
     "name": "stdout",
     "output_type": "stream",
     "text": [
      "{1: 1, 2: 4, 3: 9, 4: 16, 5: 25}\n"
     ]
    }
   ],
   "source": [
    "#6.Write a Python script to generate and print a dictionary that contains a number (between 1 and n) in the form (x, x*x).\n",
    "# Sample Dictionary ( n = 5) :\n",
    "# Expected Output : {1: 1, 2: 4, 3: 9, 4: 16, 5: 25}\n",
    "n=5\n",
    "dict = {key:(key*key) for key in range(1,n+1)}\n",
    "print(dict)"
   ]
  },
  {
   "cell_type": "code",
   "execution_count": 4,
   "metadata": {},
   "outputs": [
    {
     "name": "stdout",
     "output_type": "stream",
     "text": [
      "{1: 1, 2: 4, 3: 9, 4: 16, 5: 25, 6: 36, 7: 49, 8: 64, 9: 81, 10: 100, 11: 121, 12: 144, 13: 169, 14: 196, 15: 225}\n"
     ]
    }
   ],
   "source": [
    "#7. Write a Python script to print a dictionary where the keys are numbers between 1 and 15 (both included)\n",
    "#  and the values are the square of the keys\n",
    "n=15\n",
    "dict = {key:(key*key) for key in range(1,n+1)}\n",
    "print(dict)"
   ]
  },
  {
   "cell_type": "code",
   "execution_count": 7,
   "metadata": {},
   "outputs": [
    {
     "name": "stdout",
     "output_type": "stream",
     "text": [
      "{1: 'a', 2: 'b', 3: 'c', 4: 'd'}\n"
     ]
    }
   ],
   "source": [
    "#8.Write a Python script to merge two Python dictionaries.\n",
    "dict1={1:'a',2:'b'}\n",
    "dict2 = {3:'c',4:'d'}\n",
    "dict1.update(dict2)\n",
    "print(dict1)"
   ]
  },
  {
   "cell_type": "code",
   "execution_count": 9,
   "metadata": {},
   "outputs": [
    {
     "name": "stdout",
     "output_type": "stream",
     "text": [
      "1 a\n",
      "2 b\n",
      "3 c\n",
      "4 d\n"
     ]
    }
   ],
   "source": [
    "#9.Write a Python program to iterate over dictionaries using for loops.\n",
    "dict1 = {1: 'a', 2: 'b', 3: 'c', 4: 'd'}\n",
    "for key,value in dict1.items():\n",
    "    print(key,value)"
   ]
  },
  {
   "cell_type": "code",
   "execution_count": 10,
   "metadata": {},
   "outputs": [
    {
     "name": "stdout",
     "output_type": "stream",
     "text": [
      "600\n"
     ]
    }
   ],
   "source": [
    "#10. Write a Python program to sum all the items in a dictionary.\n",
    "dict1 = {'a':100,'b':200,'c':300}\n",
    "res = sum(dict1.values())\n",
    "print(res)"
   ]
  },
  {
   "cell_type": "code",
   "execution_count": 14,
   "metadata": {},
   "outputs": [
    {
     "name": "stdout",
     "output_type": "stream",
     "text": [
      "6000000\n"
     ]
    }
   ],
   "source": [
    "#11. Write a Python program to multiply all the items in a dictionary.\n",
    "dict1 = {'a':100,'b':200,'c':300}\n",
    "res = 1\n",
    "for i in dict1.values():\n",
    "    res *= i\n",
    "print(res)"
   ]
  },
  {
   "cell_type": "code",
   "execution_count": 15,
   "metadata": {},
   "outputs": [
    {
     "name": "stdout",
     "output_type": "stream",
     "text": [
      "[10, 20, 30, 40, 50]\n"
     ]
    }
   ],
   "source": [
    "x = [10, 20, 30, 40, 50]\n",
    "y = x[1:4]\n",
    "y[0] = 100\n",
    "print(x)"
   ]
  },
  {
   "cell_type": "code",
   "execution_count": 16,
   "metadata": {},
   "outputs": [
    {
     "name": "stdout",
     "output_type": "stream",
     "text": [
      "True\n"
     ]
    }
   ],
   "source": [
    "x = 'Python'\n",
    "y = 'Python'\n",
    "\n",
    "print(id(x) == id(y))"
   ]
  },
  {
   "cell_type": "code",
   "execution_count": 17,
   "metadata": {},
   "outputs": [
    {
     "name": "stdout",
     "output_type": "stream",
     "text": [
      "[10, 2, 3]\n"
     ]
    }
   ],
   "source": [
    "x = [1, 2, 3]\n",
    "y = x  # y points to the same list as x\n",
    "y[0] = 10  # This will change the first element of the list\n",
    "print(x)"
   ]
  }
 ],
 "metadata": {
  "kernelspec": {
   "display_name": "Python 3",
   "language": "python",
   "name": "python3"
  },
  "language_info": {
   "codemirror_mode": {
    "name": "ipython",
    "version": 3
   },
   "file_extension": ".py",
   "mimetype": "text/x-python",
   "name": "python",
   "nbconvert_exporter": "python",
   "pygments_lexer": "ipython3",
   "version": "3.11.9"
  }
 },
 "nbformat": 4,
 "nbformat_minor": 2
}
