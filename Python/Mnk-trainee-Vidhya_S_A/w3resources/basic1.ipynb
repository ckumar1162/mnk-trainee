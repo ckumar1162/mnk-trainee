{
 "cells": [
  {
   "cell_type": "code",
   "execution_count": null,
   "metadata": {},
   "outputs": [
    {
     "name": "stdout",
     "output_type": "stream",
     "text": [
      "Twinkle, twinkle, little star,\n",
      "\t How I wonder what you are!\n",
      "\t\t Up above the world so high,\n",
      "\t\t Like a diamond in the sky.\n",
      " Twinkle, twinkle, little star,\n",
      "\t How I wonder what you are\n"
     ]
    }
   ],
   "source": [
    "#1 Write a Python program to print the following string in a specific format (see the output).\n",
    "#Sample String : \"Twinkle, twinkle, little star, How I wonder what you are! Up above the world so high, Like a diamond in the sky. Twinkle, twinkle, little star, How I wonder what you are\"\n",
    "print(\"Twinkle, twinkle, little star,\\n\\t How I wonder what you are!\\n\\t\\t Up above the world so high,\\n\\t\\t Like a diamond in the sky.\\n Twinkle, twinkle, little star,\\n\\t How I wonder what you are\")"
   ]
  },
  {
   "cell_type": "code",
   "execution_count": null,
   "metadata": {},
   "outputs": [
    {
     "name": "stdout",
     "output_type": "stream",
     "text": [
      "2024-11-25 13:21:17.567214\n"
     ]
    }
   ],
   "source": [
    "#2 Write a Python program to display the current date and time.\n",
    "import datetime\n",
    "print(datetime.datetime.now())"
   ]
  },
  {
   "cell_type": "code",
   "execution_count": null,
   "metadata": {},
   "outputs": [
    {
     "name": "stdout",
     "output_type": "stream",
     "text": [
      "the area of the cirlce is :78.5\n"
     ]
    }
   ],
   "source": [
    "#3 Write a Python program that calculates the area of a circle based on the radius entered by the user.\n",
    "radius = float(input(\"Enter the radius ?\\n\"))\n",
    "area = 3.14 * (radius**2)\n",
    "print(f\"the area of the cirlce is :{area}\")"
   ]
  },
  {
   "cell_type": "code",
   "execution_count": null,
   "metadata": {},
   "outputs": [
    {
     "name": "stdout",
     "output_type": "stream",
     "text": [
      "A S ayhdiV\n"
     ]
    }
   ],
   "source": [
    "#4 Write a Python program that accepts the user's first and last name and prints them in reverse order with a space between them.\n",
    "name = input(\"Enter your name?\\n\")\n",
    "print(name[::-1])"
   ]
  },
  {
   "cell_type": "code",
   "execution_count": null,
   "metadata": {},
   "outputs": [
    {
     "name": "stdout",
     "output_type": "stream",
     "text": [
      "[1, 2, 34, 5]\n",
      "(1, 2, 3, 4, 5)\n"
     ]
    }
   ],
   "source": [
    "#5 Write a Python program that accepts a sequence of comma-separated numbers from the user and generates a list and a tuple of those numbers.\n",
    "#Sample data : 3, 5, 7, 23\n",
    "list1 = [1,2,34,5]\n",
    "tuple1 = (1,2,3,4,5)\n",
    "print(list1)\n",
    "print(tuple1)"
   ]
  },
  {
   "cell_type": "code",
   "execution_count": null,
   "metadata": {},
   "outputs": [
    {
     "name": "stdout",
     "output_type": "stream",
     "text": [
      "java\n"
     ]
    }
   ],
   "source": [
    "#6 Write a Python program that accepts a filename from the user and prints the extension of the file.\n",
    "#Sample filename : abc.java\n",
    "filename = input(\"Enter the file name \")\n",
    "name,extension = filename.split(\".\")\n",
    "print(extension)\n"
   ]
  },
  {
   "cell_type": "code",
   "execution_count": null,
   "metadata": {},
   "outputs": [
    {
     "name": "stdout",
     "output_type": "stream",
     "text": [
      "First color :Red, last color : Black \n"
     ]
    }
   ],
   "source": [
    "#7 Write a Python program to display the first and last colors from the following list.\n",
    "color_list = [\"Red\",\"Green\",\"White\" ,\"Black\"]\n",
    "first = color_list[0]\n",
    "last = color_list[-1]\n",
    "print(f\"First color :{first}, last color : {last} \")"
   ]
  },
  {
   "cell_type": "code",
   "execution_count": null,
   "metadata": {},
   "outputs": [
    {
     "name": "stdout",
     "output_type": "stream",
     "text": [
      "The examination will start from 11/12/2014\n"
     ]
    }
   ],
   "source": [
    "#8 Write a Python program to display the examination schedule. (extract the date from exam_st_date).\n",
    "exam_st_date = (11, 12, 2014)\n",
    "#Sample Output : The examination will start from : 11 / 12 / 2014\n",
    "print(\"The examination will start from %i/%i/%i\"%exam_st_date)"
   ]
  },
  {
   "cell_type": "code",
   "execution_count": null,
   "metadata": {},
   "outputs": [
    {
     "name": "stdout",
     "output_type": "stream",
     "text": [
      "Expected output: 615\n"
     ]
    }
   ],
   "source": [
    "#9 Write a Python program that accepts an integer (n) and computes the value of n+nn+nnn.\n",
    "#Sample value of n is 5\n",
    "#Expected Result : 615\n",
    "n = int(input(\"enter a value\"))\n",
    "n1 = int(\"%s\"%(n))\n",
    "n2 = int(\"%s%s\"%(n,n))\n",
    "n3 = int(\"%s%s%s\"%(n,n,n))\n",
    "result = n1+n2+n3\n",
    "print(f\"Expected output: {result}\")"
   ]
  },
  {
   "cell_type": "code",
   "execution_count": null,
   "metadata": {},
   "outputs": [
    {
     "name": "stdout",
     "output_type": "stream",
     "text": [
      "Return the absolute value of the argument.\n",
      "Return the number of items in a container.\n"
     ]
    }
   ],
   "source": [
    "#10 Write a Python program to print the documents (syntax, description etc.) of Python built-in function(s).\n",
    "print(abs.__doc__)\n",
    "print(len.__doc__)"
   ]
  },
  {
   "cell_type": "code",
   "execution_count": null,
   "metadata": {},
   "outputs": [
    {
     "name": "stdout",
     "output_type": "stream",
     "text": [
      "    August 2002\n",
      "Mo Tu We Th Fr Sa Su\n",
      "          1  2  3  4\n",
      " 5  6  7  8  9 10 11\n",
      "12 13 14 15 16 17 18\n",
      "19 20 21 22 23 24 25\n",
      "26 27 28 29 30 31\n",
      "\n"
     ]
    }
   ],
   "source": [
    "#11 Write a Python program that prints the calendar for a given month and year.\n",
    "import calendar\n",
    "year = int(input(\"enter year\"))\n",
    "month = int(input(\"enter month\"))\n",
    "print(calendar.month(year,month))"
   ]
  },
  {
   "cell_type": "code",
   "execution_count": null,
   "metadata": {},
   "outputs": [
    {
     "name": "stdout",
     "output_type": "stream",
     "text": [
      "904.3199999999999\n"
     ]
    }
   ],
   "source": [
    "#12 Write a Python program to get the volume of a sphere with radius six.\n",
    "pi = 3.14\n",
    "radius = 6.0\n",
    "vol_of_sphere = 4.0/3.0*pi*radius**3\n",
    "print(vol_of_sphere)"
   ]
  },
  {
   "cell_type": "code",
   "execution_count": 1,
   "metadata": {},
   "outputs": [
    {
     "name": "stdout",
     "output_type": "stream",
     "text": [
      "9\n"
     ]
    }
   ],
   "source": [
    "#13 Write a  Python program to calculate the number of days between two dates.\n",
    "#Sample dates : (2014, 7, 2), (2014, 7, 11)\n",
    "from datetime import date\n",
    "first_date = date(2014, 7, 2)\n",
    "last_date = date(2014, 7, 11)\n",
    "diff = last_date-first_date\n",
    "print(diff.days)"
   ]
  },
  {
   "cell_type": "code",
   "execution_count": 2,
   "metadata": {},
   "outputs": [
    {
     "name": "stdout",
     "output_type": "stream",
     "text": [
      "46\n",
      "7\n"
     ]
    }
   ],
   "source": [
    "#14 Write a Python program to calculate the difference between a given number and 17. If the number is greater than 17, return twice the absolute difference.\n",
    "def difference(n):\n",
    "    if n <= 17:\n",
    "        return 17 - n\n",
    "    else:\n",
    "        return (n - 17) * 2\n",
    "print(difference(40))\n",
    "\n",
    "print(difference(10))"
   ]
  },
  {
   "cell_type": "code",
   "execution_count": null,
   "metadata": {},
   "outputs": [
    {
     "name": "stdout",
     "output_type": "stream",
     "text": [
      "True\n",
      "True\n",
      "False\n",
      "False\n"
     ]
    }
   ],
   "source": [
    "#15 Write a Python program to test whether a number is within 100 of 1000 or 2000.\n",
    "def new_func(n):\n",
    "\n",
    "    return ((abs(1000 - n) <= 100) or (abs(2000 - n) <= 100))\n",
    "\n",
    "print(new_func(1000))\n",
    "\n",
    "print(new_func(900))\n",
    "\n",
    "print(new_func(800))\n",
    "\n",
    "print(new_func(2200))"
   ]
  },
  {
   "cell_type": "code",
   "execution_count": 5,
   "metadata": {},
   "outputs": [
    {
     "name": "stdout",
     "output_type": "stream",
     "text": [
      "91\n",
      "27\n"
     ]
    }
   ],
   "source": [
    "#16 Write a Python program to calculate the sum of three given numbers. If the values are equal, return three times their sum.\n",
    "def sum(a,b,c):\n",
    "    sum = a+b+c\n",
    "    if a==b==c:\n",
    "        sum = sum*3\n",
    "    return sum\n",
    "print(sum(12,34,45))\n",
    "print(sum(3,3,3))    "
   ]
  },
  {
   "cell_type": "code",
   "execution_count": 6,
   "metadata": {},
   "outputs": [
    {
     "name": "stdout",
     "output_type": "stream",
     "text": [
      "IsHello\n",
      "Isalnum\n"
     ]
    }
   ],
   "source": [
    "#17 Write a Python program to get a newly-generated string from a given string where \"Is\" has been added to the front. Return the string unchanged if the given string already begins with \"Is\".\n",
    "def new_string(s):\n",
    "    if s[:2] == \"Is\":\n",
    "        return s\n",
    "    else:\n",
    "        return \"Is\" + s\n",
    "\n",
    "print(new_string(\"Hello\")) \n",
    "print(new_string(\"Isalnum\"))   "
   ]
  },
  {
   "cell_type": "code",
   "execution_count": null,
   "metadata": {},
   "outputs": [
    {
     "name": "stdout",
     "output_type": "stream",
     "text": [
      ".py.py\n"
     ]
    }
   ],
   "source": [
    "#18 Write a Python program that returns a string that is n (non-negative integer) copies of a given string.\n",
    "def strings(text, n):\n",
    "    result = \"\"\n",
    "    result = text *n \n",
    "\n",
    "    return result\n",
    "\n",
    "print(strings('vidhya', 2))\n",
    "\n"
   ]
  },
  {
   "cell_type": "code",
   "execution_count": 15,
   "metadata": {},
   "outputs": [
    {
     "name": "stdout",
     "output_type": "stream",
     "text": [
      "34 is even \n",
      "113 is odd \n"
     ]
    }
   ],
   "source": [
    "#19 Write a Python program that determines whether a given number (accepted from the user) is even or odd, and prints an appropriate message to the user.\n",
    "def even_or_odd(n):\n",
    "    if n%2 == 0:\n",
    "        print(f\"{n} is even \")\n",
    "    else:\n",
    "        print(f\"{n} is odd \")\n",
    "\n",
    "even_or_odd(34) \n",
    "even_or_odd(113) \n"
   ]
  },
  {
   "cell_type": "code",
   "execution_count": 20,
   "metadata": {},
   "outputs": [
    {
     "name": "stdout",
     "output_type": "stream",
     "text": [
      "2\n"
     ]
    }
   ],
   "source": [
    "#20 Write a Python program to count the number 4 in a given list.\n",
    "def list_count(l1):\n",
    "    count = 0\n",
    "    for i in l1:\n",
    "        if i == 4:\n",
    "            count +=1\n",
    "    return count    \n",
    "print(list_count([1,2,4,3,5,4,5,6]))        "
   ]
  },
  {
   "cell_type": "code",
   "execution_count": 3,
   "metadata": {},
   "outputs": [
    {
     "name": "stdout",
     "output_type": "stream",
     "text": [
      "\n",
      "vivivivivivivivi\n"
     ]
    }
   ],
   "source": [
    "#21 Write a Python program to get n (non-negative integer) copies of the first 2 characters of a given string.\n",
    "# Return n copies of the whole string if the length is less than 2.\n",
    "\n",
    "def repeat_substring(s,n):\n",
    "    if len(s) <= 2:\n",
    "        return s*n\n",
    "    else:\n",
    "        return s[:2] *n\n",
    "print(repeat_substring(\"\",6))\n",
    "print(repeat_substring(\"vidhya\",8))"
   ]
  },
  {
   "cell_type": "code",
   "execution_count": 5,
   "metadata": {},
   "outputs": [
    {
     "name": "stdout",
     "output_type": "stream",
     "text": [
      "the letter'a' is vowel\n",
      "The letter 'v' is consonant\n"
     ]
    }
   ],
   "source": [
    "#22 Write a Python program to test whether a passed letter is a vowel or not.\n",
    "\n",
    "def vowel(letter):\n",
    "    v = \"aeiouAEIOU\"\n",
    "    if letter in v :\n",
    "        return f\"the letter'{letter}' is vowel\"\n",
    "    return f\"The letter '{letter}' is consonant\"\n",
    "print(vowel(\"a\"))\n",
    "print(vowel(\"v\"))"
   ]
  },
  {
   "cell_type": "code",
   "execution_count": 6,
   "metadata": {},
   "outputs": [
    {
     "name": "stdout",
     "output_type": "stream",
     "text": [
      "False\n"
     ]
    }
   ],
   "source": [
    "#23 Write a Python program that checks whether a specified value is contained within a group of values.\n",
    "# Test Data :\n",
    "# 3 -> [1, 5, 8, 3] : True\n",
    "# -1 -> [1, 5, 8, 3] : False\n",
    "\n",
    "List = [1, 5, 8, 3]\n",
    "def Test_data(list):\n",
    "    num = int(input(\"Enter the number you want to check:\"))\n",
    "    if num in List:\n",
    "        return True\n",
    "    else:\n",
    "        return False\n",
    "print(Test_data(List))"
   ]
  },
  {
   "cell_type": "code",
   "execution_count": 7,
   "metadata": {},
   "outputs": [
    {
     "name": "stdout",
     "output_type": "stream",
     "text": [
      "*******\n",
      "***\n",
      "****\n",
      "**\n",
      "*****\n",
      "\n",
      "******\n"
     ]
    }
   ],
   "source": [
    "#24 List Histogram Write a Python program to create a histogram from a given list of integers.\n",
    "\n",
    "def histogram(items):\n",
    "    for n in items:\n",
    "        histo = \"\"\n",
    "        times = n\n",
    "\n",
    "        while times > 0:\n",
    "            histo += \"*\"\n",
    "            times = times - 1\n",
    "        print(histo)\n",
    "\n",
    "histogram([7,3,4,2,5,0,6])"
   ]
  },
  {
   "cell_type": "code",
   "execution_count": 10,
   "metadata": {},
   "outputs": [
    {
     "name": "stdout",
     "output_type": "stream",
     "text": [
      "vidhya S A\n"
     ]
    }
   ],
   "source": [
    "#25 Write a Python program that concatenates all elements in a list into a string and returns it.\n",
    "\n",
    "\n",
    "ST_L = [\"vidhya\", \" S A\"]\n",
    "\n",
    "st = \"\"\n",
    "for s in ST_L:\n",
    "    st += s\n",
    "\n",
    "print(st)\n"
   ]
  },
  {
   "cell_type": "code",
   "execution_count": 11,
   "metadata": {},
   "outputs": [
    {
     "name": "stdout",
     "output_type": "stream",
     "text": [
      "386 462 418 344 236 566 978 328 162 758 918 "
     ]
    }
   ],
   "source": [
    "#26 Write a Python program to print all even numbers from a given list of numbers in the \n",
    "# same order and stop printing any after 237 in the sequence.\n",
    "# Sample numbers list :\n",
    "numbers = [    \n",
    "    386, 462, 47, 418, 907, 344, 236, 375, 823, 566, 597, 978, 328, 615, 953, 345, \n",
    "    399, 162, 758, 219, 918, 237, 412, 566, 826, 248, 866, 950, 626, 949, 687, 217, \n",
    "    815, 67, 104, 58, 512, 24, 892, 894, 767, 553, 81, 379, 843, 831, 445, 742, 717, \n",
    "    958,743, 527\n",
    "    ]\n",
    "\n",
    "def even_numbers(L): # creating a function to find even numbers \n",
    "    for i in L:\n",
    "        if i == 237:\n",
    "            break # break the loop when conndition met\n",
    "            \n",
    "        elif i % 2 == 0 :\n",
    "            print(i,end = \" \") # printing the even numbers\n",
    "even_numbers(numbers)    "
   ]
  },
  {
   "cell_type": "code",
   "execution_count": 12,
   "metadata": {},
   "outputs": [
    {
     "name": "stdout",
     "output_type": "stream",
     "text": [
      "{'Black', 'White'}\n"
     ]
    }
   ],
   "source": [
    "#27 Write a Python program that prints out all colors from color_list_1 that are not present in color_list_2.\n",
    "# Test Data :\n",
    "# color_list_1 = set([\"White\", \"Black\", \"Red\"])\n",
    "# color_list_2 = set([\"Red\", \"Green\"])\n",
    "# Expected Output :\n",
    "# {'Black', 'White'}\n",
    "color_list_1 = set([\"White\", \"Black\", \"Red\"])\n",
    "color_list_2 = set([\"Red\", \"Green\"])\n",
    "def Uniqu_color(l1,l2):\n",
    "\n",
    "    uniqu_cl = []\n",
    "    for i in l1:\n",
    "        if i not in l2 :\n",
    "            uniqu_cl.append(i)\n",
    "    return set(uniqu_cl)\n",
    "print(Uniqu_color(color_list_1,color_list_2))"
   ]
  },
  {
   "cell_type": "code",
   "execution_count": 13,
   "metadata": {},
   "outputs": [
    {
     "name": "stdout",
     "output_type": "stream",
     "text": [
      "area of the triangle = 28.0\n"
     ]
    }
   ],
   "source": [
    "#28 Write a Python program that will accept the base and height of a triangle and compute its area.\n",
    "\n",
    "def triangle_area(b,h):\n",
    "\n",
    "    A = 1/2 * b * h\n",
    "    return f\"area of the triangle = {A}\"\n",
    "print(triangle_area(7,8))"
   ]
  },
  {
   "cell_type": "code",
   "execution_count": 22,
   "metadata": {},
   "outputs": [
    {
     "name": "stdout",
     "output_type": "stream",
     "text": [
      "2\n"
     ]
    }
   ],
   "source": [
    "#29 Write a Python program that computes the greatest common divisor (GCD) of two positive integers.\n",
    "\n",
    "def GCD(a,b):\n",
    "    while b != 0:\n",
    "\n",
    "        a , b = b , a % b\n",
    "    return a\n",
    "print(GCD(12,14))"
   ]
  },
  {
   "cell_type": "code",
   "execution_count": 23,
   "metadata": {},
   "outputs": [
    {
     "name": "stdout",
     "output_type": "stream",
     "text": [
      "84\n"
     ]
    }
   ],
   "source": [
    "#30 Write a Python program to find the least common multiple (LCM) of two positive integers.'''\n",
    "\n",
    "def LCM(a,b):\n",
    "    return abs(a * b) // GCD(a,b)\n",
    "print(LCM(12,14))\n"
   ]
  }
 ],
 "metadata": {
  "kernelspec": {
   "display_name": "Python 3",
   "language": "python",
   "name": "python3"
  },
  "language_info": {
   "codemirror_mode": {
    "name": "ipython",
    "version": 3
   },
   "file_extension": ".py",
   "mimetype": "text/x-python",
   "name": "python",
   "nbconvert_exporter": "python",
   "pygments_lexer": "ipython3",
   "version": "3.11.9"
  }
 },
 "nbformat": 4,
 "nbformat_minor": 2
}
