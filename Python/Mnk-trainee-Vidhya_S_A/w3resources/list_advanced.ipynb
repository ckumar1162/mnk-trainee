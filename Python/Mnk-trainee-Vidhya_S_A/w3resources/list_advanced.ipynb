{
 "cells": [
  {
   "cell_type": "code",
   "execution_count": 10,
   "metadata": {},
   "outputs": [
    {
     "name": "stdout",
     "output_type": "stream",
     "text": [
      "[10, 20, 30, 60, 50, 40, 70]\n",
      "[10, 60, 30, 40, 50, 20, 70]\n"
     ]
    }
   ],
   "source": [
    "#1. Write a Python function to reverse a list at a specific location.\n",
    "def reverse_list(og_list,start_pos,end_pos):\n",
    "    if start_pos < end_pos:\n",
    "        og_list[start_pos] , og_list[end_pos] = og_list[end_pos], og_list[start_pos]\n",
    "         \n",
    "    return og_list\n",
    "\n",
    "print(reverse_list([10,20,30,40,50,60,70],3,5) )\n",
    "print(reverse_list([10,20,30,40,50,60,70],1,5) ) "
   ]
  },
  {
   "cell_type": "code",
   "execution_count": null,
   "metadata": {},
   "outputs": [],
   "source": [
    "\n"
   ]
  }
 ],
 "metadata": {
  "kernelspec": {
   "display_name": "Python 3",
   "language": "python",
   "name": "python3"
  },
  "language_info": {
   "codemirror_mode": {
    "name": "ipython",
    "version": 3
   },
   "file_extension": ".py",
   "mimetype": "text/x-python",
   "name": "python",
   "nbconvert_exporter": "python",
   "pygments_lexer": "ipython3",
   "version": "3.11.9"
  }
 },
 "nbformat": 4,
 "nbformat_minor": 2
}
