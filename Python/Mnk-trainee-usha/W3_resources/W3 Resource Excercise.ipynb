{
 "cells": [
  {
   "cell_type": "code",
   "execution_count": 1,
   "id": "0f9c13a7",
   "metadata": {},
   "outputs": [
    {
     "name": "stdout",
     "output_type": "stream",
     "text": [
      "Twinkle, Twinkle, little star,\n",
      "\tHow i wonder what you are! \n",
      "\t\tUp above the worls so high, \n",
      "\t\tLike a diamond in the sky\n",
      " Twinkle, Twinkle, little star, \n",
      "\t How i wonder what you are!\n"
     ]
    }
   ],
   "source": [
    "print(\"Twinkle, Twinkle, little star,\\n\\tHow i wonder what you are! \\n\\t\\tUp above the worls so high, \\n\\t\\tLike a diamond in the sky\\n Twinkle, Twinkle, little star, \\n\\t How i wonder what you are!\")"
   ]
  },
  {
   "cell_type": "code",
   "execution_count": 2,
   "id": "d59e4cfa",
   "metadata": {},
   "outputs": [
    {
     "name": "stdout",
     "output_type": "stream",
     "text": [
      "Python version\n",
      "3.11.5 | packaged by Anaconda, Inc. | (main, Sep 11 2023, 13:26:23) [MSC v.1916 64 bit (AMD64)]\n"
     ]
    }
   ],
   "source": [
    "#To check pythin version we are using\n",
    "import sys\n",
    "print(\"Python version\")\n",
    "print(sys.version)"
   ]
  },
  {
   "cell_type": "code",
   "execution_count": 3,
   "id": "7bd9b535",
   "metadata": {},
   "outputs": [
    {
     "name": "stdout",
     "output_type": "stream",
     "text": [
      "current date and time:\n",
      "2024-11-07 18:21:04.676789\n"
     ]
    }
   ],
   "source": [
    "import datetime\n",
    "now=datetime.datetime.now()\n",
    "print(\"current date and time:\")\n",
    "print(now)"
   ]
  },
  {
   "cell_type": "code",
   "execution_count": 4,
   "id": "b96e135e",
   "metadata": {},
   "outputs": [
    {
     "name": "stdout",
     "output_type": "stream",
     "text": [
      "enter the radius2\n",
      "12.568\n"
     ]
    }
   ],
   "source": [
    "#Area of a circle\n",
    "r=int(input(\"enter the radius\"))\n",
    "area=3.142*r**2\n",
    "print(area)"
   ]
  },
  {
   "cell_type": "code",
   "execution_count": 1,
   "id": "ae0fff5e",
   "metadata": {},
   "outputs": [
    {
     "name": "stdout",
     "output_type": "stream",
     "text": [
      "Enter the first nameusha\n",
      "Enter the last namek\n",
      "k usha\n"
     ]
    }
   ],
   "source": [
    "fname=input(\"Enter the first name\")\n",
    "lname=input(\"Enter the last name\")\n",
    "#temp=fname\n",
    "#fname=lname\n",
    "#lname=temp\n",
    "fname,lname=lname,fname\n",
    "print(fname,lname)\n"
   ]
  },
  {
   "cell_type": "code",
   "execution_count": 7,
   "id": "887a6bcc",
   "metadata": {},
   "outputs": [
    {
     "name": "stdout",
     "output_type": "stream",
     "text": [
      "enter some numbers2,3,5,7\n",
      "List:  ['2,3,5,7']\n",
      "Tuple:  ('2,3,5,7',)\n"
     ]
    }
   ],
   "source": [
    "# to convert the data to list and tuple\n",
    "values=input(\"enter some numbers\")\n",
    "list=list(values.split())\n",
    "tuple=tuple(list)\n",
    "print(\"List: \", list)\n",
    "print(\"Tuple: \" ,tuple)"
   ]
  },
  {
   "cell_type": "code",
   "execution_count": 8,
   "id": "66a33e71",
   "metadata": {},
   "outputs": [
    {
     "name": "stdout",
     "output_type": "stream",
     "text": [
      "Enter the filenmae:abc.java\n",
      "java\n"
     ]
    }
   ],
   "source": [
    "#Write a Python program that accepts a filename from the user and prints the extension of the file.\n",
    "filename=input(\"Enter the filenmae:\")\n",
    "extension=filename.split(\".\")\n",
    "print(extension[-1])"
   ]
  },
  {
   "cell_type": "code",
   "execution_count": 10,
   "id": "56f7c597",
   "metadata": {},
   "outputs": [
    {
     "name": "stdout",
     "output_type": "stream",
     "text": [
      "Red Black\n"
     ]
    }
   ],
   "source": [
    "#Write a Python program to display the first and last colors from the following list.\n",
    "color_list = [\"Red\",\"Green\",\"White\" ,\"Black\"]\n",
    "print(color_list[0],color_list[-1])\n"
   ]
  },
  {
   "cell_type": "code",
   "execution_count": 17,
   "id": "93d02b95",
   "metadata": {},
   "outputs": [
    {
     "name": "stdout",
     "output_type": "stream",
     "text": [
      "The examination start from :11/12/2014\n"
     ]
    }
   ],
   "source": [
    "#Write a Python program to display the examination schedule. (extract the date from exam_st_date).\n",
    "exam_st_date = (11, 12, 2014)\n",
    "print(\"The examination start from :%i/%i/%i\"%exam_st_date)"
   ]
  },
  {
   "cell_type": "code",
   "execution_count": 22,
   "id": "ebf189e5",
   "metadata": {},
   "outputs": [
    {
     "name": "stdout",
     "output_type": "stream",
     "text": [
      "Enter the number5\n",
      "615\n"
     ]
    }
   ],
   "source": [
    "#Write a Python program that accepts an integer (n) and computes the value of n+nn+nnn\n",
    "a=int(input(\"Enter the number\"))\n",
    "n1 = int(\"%s\" % a)          # Convert 'a' to an integer\n",
    "n2 = int(\"%s%s\" % (a, a))   # Concatenate 'a' with itself and convert to an integer\n",
    "n3 = int(\"%s%s%s\" % (a, a, a))\n",
    "print(n1+n2+n3)"
   ]
  },
  {
   "cell_type": "code",
   "execution_count": 2,
   "id": "08079917",
   "metadata": {},
   "outputs": [
    {
     "name": "stdout",
     "output_type": "stream",
     "text": [
      "adds two number\n",
      "5\n"
     ]
    }
   ],
   "source": [
    "def add(a,b):\n",
    "    \"\"\"adds two number\"\"\"\n",
    "    print(a+b)\n",
    "print(add.__doc__)\n",
    "add(2,3)\n",
    "    "
   ]
  },
  {
   "cell_type": "code",
   "execution_count": 5,
   "id": "146edcc3",
   "metadata": {},
   "outputs": [
    {
     "name": "stdout",
     "output_type": "stream",
     "text": [
      "enter a month\n",
      "12\n",
      "entr a year\n",
      "2001\n",
      "   December 2001\n",
      "Mo Tu We Th Fr Sa Su\n",
      "                1  2\n",
      " 3  4  5  6  7  8  9\n",
      "10 11 12 13 14 15 16\n",
      "17 18 19 20 21 22 23\n",
      "24 25 26 27 28 29 30\n",
      "31\n",
      "\n"
     ]
    }
   ],
   "source": [
    "#prints the calendar for a given month and year.\n",
    "import calendar\n",
    "a=int(input(\"enter a month\\n\"))\n",
    "b=int(input(\"entr a year\\n\"))\n",
    "print(calendar.month(b,a))"
   ]
  },
  {
   "cell_type": "code",
   "execution_count": 7,
   "id": "5a0e50d1",
   "metadata": {},
   "outputs": [
    {
     "name": "stdout",
     "output_type": "stream",
     "text": [
      "5 days, 0:00:00\n"
     ]
    }
   ],
   "source": [
    "#to calculate the difference between two dates \n",
    "from datetime import date\n",
    "fdate=date(2000,1,10)#y/m/d\n",
    "ldate=date(2000,1,15)\n",
    "final=ldate-fdate\n",
    "print(final)"
   ]
  },
  {
   "cell_type": "code",
   "execution_count": 9,
   "id": "f847208a",
   "metadata": {},
   "outputs": [
    {
     "name": "stdout",
     "output_type": "stream",
     "text": [
      "75.40799999999999\n"
     ]
    }
   ],
   "source": [
    "#volume of a sphere\n",
    "pi=3.142\n",
    "r=6\n",
    "v=4/3 *pi*r*3\n",
    "print(4/3 * pi * r*3 )"
   ]
  },
  {
   "cell_type": "code",
   "execution_count": null,
   "id": "9cc22dee",
   "metadata": {},
   "outputs": [],
   "source": []
  }
 ],
 "metadata": {
  "kernelspec": {
   "display_name": "Python 3 (ipykernel)",
   "language": "python",
   "name": "python3"
  },
  "language_info": {
   "codemirror_mode": {
    "name": "ipython",
    "version": 3
   },
   "file_extension": ".py",
   "mimetype": "text/x-python",
   "name": "python",
   "nbconvert_exporter": "python",
   "pygments_lexer": "ipython3",
   "version": "3.11.5"
  }
 },
 "nbformat": 4,
 "nbformat_minor": 5
}
