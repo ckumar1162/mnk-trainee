{
 "cells": [
  {
   "cell_type": "code",
   "execution_count": 4,
   "id": "b6032e72",
   "metadata": {},
   "outputs": [
    {
     "name": "stdout",
     "output_type": "stream",
     "text": [
      "3\n",
      "46\n"
     ]
    }
   ],
   "source": [
    "#Write a Python function to find the maximum of three numbers.\n",
    "def maximum(x,y,z):\n",
    "    return max(x,y,z)\n",
    "\n",
    "print(maximum(1,2,3))\n",
    "print(maximum(10,39,46))    \n",
    "    \n",
    "   "
   ]
  },
  {
   "cell_type": "code",
   "execution_count": 7,
   "id": "c8bd60e1",
   "metadata": {},
   "outputs": [
    {
     "name": "stdout",
     "output_type": "stream",
     "text": [
      "15\n",
      "15\n"
     ]
    }
   ],
   "source": [
    "#Write a Python function to sum all the numbers in a list.\n",
    "def add(n):\n",
    "    result=0\n",
    "    for i in n:\n",
    "        result+=i\n",
    "    print(result)\n",
    "add([8,2,3,0,2])    \n",
    "add([1,2,3,4,5])    "
   ]
  },
  {
   "cell_type": "code",
   "execution_count": 10,
   "id": "0e06af04",
   "metadata": {},
   "outputs": [
    {
     "name": "stdout",
     "output_type": "stream",
     "text": [
      "-336\n"
     ]
    }
   ],
   "source": [
    "#Write a Python function to multiply all the numbers in a list\n",
    "def multiply(n):\n",
    "    result=1\n",
    "    for i in n:\n",
    "        result*=i\n",
    "    print(result)\n",
    "multiply([8,2,3,-1,7])    "
   ]
  },
  {
   "cell_type": "code",
   "execution_count": 11,
   "id": "c1247ce4",
   "metadata": {},
   "outputs": [
    {
     "name": "stdout",
     "output_type": "stream",
     "text": [
      "dcba4321\n"
     ]
    }
   ],
   "source": [
    "#. Write a Python program to reverse a string.\n",
    "def func(string):\n",
    "    return string[::-1]\n",
    "print(func(\"1234abcd\"))"
   ]
  },
  {
   "cell_type": "code",
   "execution_count": 14,
   "id": "54ff9e3b",
   "metadata": {},
   "outputs": [
    {
     "name": "stdout",
     "output_type": "stream",
     "text": [
      "120\n",
      "6\n"
     ]
    }
   ],
   "source": [
    "# Write a Python function to calculate the factorial of a number (a non-negative integer). The function accepts the number as an argument\n",
    "def fact(n):\n",
    "    if n==0:\n",
    "        return 1\n",
    "    else:\n",
    "        return n*fact(n-1)\n",
    "print(fact(5))  \n",
    "print(fact(3))"
   ]
  },
  {
   "cell_type": "code",
   "execution_count": 20,
   "id": "0e81fafd",
   "metadata": {},
   "outputs": [
    {
     "name": "stdout",
     "output_type": "stream",
     "text": [
      "5 falls within range\n"
     ]
    }
   ],
   "source": [
    "#Write a Python function to check whether a number falls within a given range.\n",
    "def test_range(n):\n",
    "    if n in range(3,8):\n",
    "        print(f\"{n} falls within range\")\n",
    "    else:\n",
    "        print(\"Not in range\")\n",
    "test_range(5)"
   ]
  },
  {
   "cell_type": "code",
   "execution_count": 9,
   "id": "7682b2ef",
   "metadata": {},
   "outputs": [
    {
     "name": "stdout",
     "output_type": "stream",
     "text": [
      "{'upper': 3, 'lower': 12}\n"
     ]
    }
   ],
   "source": [
    "# Write a Python function that accepts a string and counts the number of upper and lower case letters\n",
    "def check(s):\n",
    "    count={\"upper\":0,\"lower\":0}\n",
    "    for char in s:\n",
    "        if char.isupper():\n",
    "            count[\"upper\"] += 1\n",
    "        elif char.islower():\n",
    "            count[\"lower\"] += 1\n",
    "    \n",
    "    return count\n",
    "a=check(\"The quick Brow Fox\")\n",
    "print(a)\n"
   ]
  },
  {
   "cell_type": "code",
   "execution_count": 11,
   "id": "a3c117b1",
   "metadata": {},
   "outputs": [
    {
     "name": "stdout",
     "output_type": "stream",
     "text": [
      "[1, 2, 3, 4, 5]\n"
     ]
    }
   ],
   "source": [
    "# Write a Python function that takes a list and returns a new list with distinct elements from the first list\n",
    "def distinct_list(l):\n",
    "    s=set(l)\n",
    "    l=list(s)\n",
    "    print(l)\n",
    "distinct_list([1,2,3,3,3,3,4,5])    \n",
    "    "
   ]
  },
  {
   "cell_type": "code",
   "execution_count": 15,
   "id": "e0270703",
   "metadata": {},
   "outputs": [
    {
     "name": "stdout",
     "output_type": "stream",
     "text": [
      "Not a prime number\n",
      "Prime number\n"
     ]
    }
   ],
   "source": [
    "#Write a Python function that takes a number as a parameter and checks whether the number is prime or not.\n",
    "def check(number):\n",
    "    for i in range(2,number):\n",
    "        if number%i==0:\n",
    "            print(\"Not a prime number\")\n",
    "            break\n",
    "    else:\n",
    "        print(\"Prime number\")\n",
    "check(6) \n",
    "check(5)"
   ]
  },
  {
   "cell_type": "code",
   "execution_count": 18,
   "id": "532e4421",
   "metadata": {},
   "outputs": [
    {
     "name": "stdout",
     "output_type": "stream",
     "text": [
      "[2, 4, 6, 8]\n"
     ]
    }
   ],
   "source": [
    "#Write a Python program to print the even numbers from a given list.\n",
    "def even_number(l):\n",
    "    result=[]\n",
    "    for i in l:\n",
    "        if i%2==0:\n",
    "            result.append(i)\n",
    "    print(result)       \n",
    "even_number([1,2,3,4,5,6,7,8,9])            \n",
    "            "
   ]
  },
  {
   "cell_type": "code",
   "execution_count": 23,
   "id": "ba5e6f71",
   "metadata": {},
   "outputs": [
    {
     "name": "stdout",
     "output_type": "stream",
     "text": [
      "The madam is palindrom\n",
      "The nurses run is not a palindrom\n"
     ]
    }
   ],
   "source": [
    "#Write a  Python function that checks whether a passed string is a palindrome or not\n",
    "def palindrom(string):\n",
    "    if string==string[::-1]:\n",
    "        print(f\"The {string} is palindrom\")\n",
    "    else:\n",
    "        print(f\"The {string} is not a palindrom\")\n",
    "palindrom(\"madam\")\n",
    "palindrom(\"nurses run\")"
   ]
  },
  {
   "cell_type": "code",
   "execution_count": 29,
   "id": "a2a8aefe",
   "metadata": {},
   "outputs": [
    {
     "name": "stdout",
     "output_type": "stream",
     "text": [
      "      1 \n",
      "     1 1 \n",
      "    1 2 1 \n",
      "   1 3 3 1 \n",
      "  1 4 6 4 1 \n"
     ]
    }
   ],
   "source": [
    "#Write a Python function that prints out the first n rows of Pascal's triangle\n",
    "# Print Pascal's Triangle in Python\n",
    "from math import factorial\n",
    "\n",
    "def pascal(n):\n",
    "    for i in range(n):\n",
    "        for j in range(n-i+1):\n",
    "\n",
    "            # for left spacing\n",
    "            print(end=\" \")\n",
    "\n",
    "        for j in range(i+1):\n",
    "\n",
    "            # nCr = n!/((n-r)!*r!)\n",
    "            print(factorial(i)//(factorial(j)*factorial(i-j)), end=\" \")\n",
    "\n",
    "        # for new line\n",
    "        print()\n",
    "pascal(5)        "
   ]
  },
  {
   "cell_type": "code",
   "execution_count": 30,
   "id": "f7a08ae8",
   "metadata": {},
   "outputs": [
    {
     "name": "stdout",
     "output_type": "stream",
     "text": [
      "The string is a pangram\n"
     ]
    }
   ],
   "source": [
    "#Write a  Python function to check whether a string is a pangram or not\n",
    "# import from string all ascii_lowercase and asc_lower\n",
    "from string import ascii_lowercase as asc_lower\n",
    " \n",
    "# function to check if all elements are present or not\n",
    "def check(s):\n",
    "    return set(asc_lower) - set(s.lower()) == set([])\n",
    "     \n",
    "\n",
    "string =\"The quick brown fox jumps over the lazy dog\"\n",
    "if(check(string)== True):\n",
    "    print(\"The string is a pangram\")\n",
    "else:\n",
    "    print(\"The string isn't a pangram\")\n",
    "    "
   ]
  },
  {
   "cell_type": "code",
   "execution_count": 39,
   "id": "41f46732",
   "metadata": {},
   "outputs": [
    {
     "name": "stdout",
     "output_type": "stream",
     "text": [
      "black-green-red-white\n"
     ]
    }
   ],
   "source": [
    "#Accept a hyphen-separated sequence of words as input and prints the sorted words\n",
    "def func(s):\n",
    "    result=[i for i in s.split('-')]\n",
    "    result.sort() \n",
    "    print('-'.join(result))\n",
    "func(\"green-red-black-white\")    "
   ]
  },
  {
   "cell_type": "code",
   "execution_count": 45,
   "id": "95af7c81",
   "metadata": {},
   "outputs": [
    {
     "name": "stdout",
     "output_type": "stream",
     "text": [
      "[1, 4, 9, 16, 25, 36, 49, 64, 81, 100, 121, 144, 169, 196, 225, 256, 289, 324, 361, 400, 441, 484, 529, 576, 625, 676, 729, 784, 841, 900]\n"
     ]
    }
   ],
   "source": [
    "#Write a Python function to create and print a list where the values are the squares of numbers between 1 and 30\n",
    "def square(n):\n",
    "    result=[]\n",
    "    for i in range(1,n+1):\n",
    "        result.append(i**2)\n",
    "    print(result)   \n",
    "square(30)    "
   ]
  },
  {
   "cell_type": "code",
   "execution_count": 53,
   "id": "50e99550",
   "metadata": {},
   "outputs": [
    {
     "name": "stdout",
     "output_type": "stream",
     "text": [
      "This is python\n"
     ]
    }
   ],
   "source": [
    "#Execute a string containing Python code\n",
    "item=\"print('This is python')\"\n",
    "#exec function helps to excute python code represented as strig\n",
    "exec(item)"
   ]
  },
  {
   "cell_type": "code",
   "execution_count": 55,
   "id": "f8e7ba47",
   "metadata": {},
   "outputs": [
    {
     "name": "stdout",
     "output_type": "stream",
     "text": [
      "3\n"
     ]
    }
   ],
   "source": [
    "# Write a Python program to detect the number of local variables declared in a function\n",
    "def func():\n",
    "    a=1\n",
    "    b=2\n",
    "    s=\"string\"\n",
    "    \n",
    "print(func.__code__.co_nlocals)    "
   ]
  },
  {
   "cell_type": "code",
   "execution_count": null,
   "id": "42d7f055",
   "metadata": {},
   "outputs": [],
   "source": []
  }
 ],
 "metadata": {
  "kernelspec": {
   "display_name": "Python 3 (ipykernel)",
   "language": "python",
   "name": "python3"
  },
  "language_info": {
   "codemirror_mode": {
    "name": "ipython",
    "version": 3
   },
   "file_extension": ".py",
   "mimetype": "text/x-python",
   "name": "python",
   "nbconvert_exporter": "python",
   "pygments_lexer": "ipython3",
   "version": "3.11.5"
  }
 },
 "nbformat": 4,
 "nbformat_minor": 5
}
