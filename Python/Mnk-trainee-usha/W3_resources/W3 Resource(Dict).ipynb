{
 "cells": [
  {
   "cell_type": "code",
   "execution_count": 5,
   "id": "76350815",
   "metadata": {},
   "outputs": [
    {
     "name": "stdout",
     "output_type": "stream",
     "text": [
      "ascending order {'e': 1, 'b': 2, 'a': 5, 'c': 7, 'd': 9}\n",
      "descending order {'d': 9, 'c': 7, 'a': 5, 'b': 2, 'e': 1}\n"
     ]
    }
   ],
   "source": [
    "#Write a Python script to sort (ascending and descending) a dictionary by value\n",
    "my_dict={\"a\":5,\"b\":2,\"c\":7,\"d\":9,\"e\":1}\n",
    "sort_in_acs=dict(sorted(my_dict.items(),key=lambda item:item[1]))\n",
    "sort_in_desc=dict(sorted(my_dict.items(),key=lambda item:item[1], reverse=True))\n",
    "print(f\"ascending order {sort_in_acs}\")\n",
    "print(f\"descending order {sort_in_desc}\")"
   ]
  },
  {
   "cell_type": "code",
   "execution_count": 13,
   "id": "261f3dbd",
   "metadata": {},
   "outputs": [
    {
     "data": {
      "text/plain": [
       "{0: 10, 1: 20, 2: 30}"
      ]
     },
     "execution_count": 13,
     "metadata": {},
     "output_type": "execute_result"
    }
   ],
   "source": [
    "#Write a Python script to add a key to a dictionary\n",
    "d={0:10,1:20}\n",
    "d[2]=30\n",
    "d"
   ]
  },
  {
   "cell_type": "code",
   "execution_count": 17,
   "id": "2131424f",
   "metadata": {},
   "outputs": [
    {
     "data": {
      "text/plain": [
       "{1: 10, 2: 20, 3: 30, 4: 40, 5: 50, 6: 60}"
      ]
     },
     "execution_count": 17,
     "metadata": {},
     "output_type": "execute_result"
    }
   ],
   "source": [
    "#Write a Python script to concatenate the following dictionaries to create a new one\n",
    "dic1={1:10, 2:20}\n",
    "dic2={3:30, 4:40}\n",
    "dic3={5:50,6:60}\n",
    "dic1.update(dic2)\n",
    "dic1.update(dic3)\n",
    "dic1"
   ]
  },
  {
   "cell_type": "code",
   "execution_count": 21,
   "id": "6259ddf4",
   "metadata": {},
   "outputs": [
    {
     "name": "stdout",
     "output_type": "stream",
     "text": [
      "enter the key8\n",
      "Key does'nt exists\n"
     ]
    }
   ],
   "source": [
    "#Write a Python script to check whether a given key already exists in a dictionary.\n",
    "d={1: 10, 2: 20, 3: 30, 4: 40, 5: 50, 6: 60}\n",
    "x=int(input(\"enter the key\"))\n",
    "if x in d:\n",
    "    print(\"Key exits\")\n",
    "else:\n",
    "    print(\"Key does'nt exists\")"
   ]
  },
  {
   "cell_type": "code",
   "execution_count": 22,
   "id": "8b2d1dd9",
   "metadata": {},
   "outputs": [
    {
     "name": "stdout",
     "output_type": "stream",
     "text": [
      "1 10\n",
      "2 20\n",
      "3 30\n",
      "4 40\n",
      "5 50\n",
      "6 60\n"
     ]
    }
   ],
   "source": [
    "#Write a Python program to iterate over dictionaries using for loops.\n",
    "d={1: 10, 2: 20, 3: 30, 4: 40, 5: 50, 6: 60}\n",
    "for x,y in d.items():\n",
    "    print(x,y)"
   ]
  },
  {
   "cell_type": "code",
   "execution_count": 34,
   "id": "68cf9637",
   "metadata": {},
   "outputs": [
    {
     "name": "stdout",
     "output_type": "stream",
     "text": [
      "Enter the number5\n",
      "{1: 1, 2: 4, 3: 9, 4: 16, 5: 25}\n"
     ]
    }
   ],
   "source": [
    "n=int(input(\"Enter the number\"))\n",
    "d=dict()\n",
    "for i in range(1,n+1):\n",
    "    d[i]=i*i\n",
    "print(d)    "
   ]
  },
  {
   "cell_type": "code",
   "execution_count": 35,
   "id": "06ebd01e",
   "metadata": {},
   "outputs": [
    {
     "name": "stdout",
     "output_type": "stream",
     "text": [
      "{1: 1, 2: 4, 3: 9, 4: 16, 5: 25, 6: 36, 7: 49, 8: 64, 9: 81, 10: 100, 11: 121, 12: 144, 13: 169, 14: 196, 15: 225}\n"
     ]
    }
   ],
   "source": [
    "# Write a Python script to print a dictionary where the keys are numbers between 1 and 15 (both included) and the values are the\n",
    "#square of the keys.Sample Dictionary\n",
    "\n",
    "n=15\n",
    "d=dict()\n",
    "for i in range(1,n+1):\n",
    "    d[i]=i*i\n",
    "print(d)    \n",
    "    "
   ]
  },
  {
   "cell_type": "code",
   "execution_count": 36,
   "id": "c6615588",
   "metadata": {},
   "outputs": [
    {
     "name": "stdout",
     "output_type": "stream",
     "text": [
      "{'a': 10, 'b': 20, 'x': 100, 'y': 200}\n"
     ]
    }
   ],
   "source": [
    "#Write a Python script to merge two Python dictionaries\n",
    "d1={\"a\":10,\"b\":20}\n",
    "d2={\"x\":100,\"y\":200}\n",
    "d1.update(d2)\n",
    "print(d1)"
   ]
  },
  {
   "cell_type": "code",
   "execution_count": 38,
   "id": "679359b5",
   "metadata": {},
   "outputs": [
    {
     "name": "stdout",
     "output_type": "stream",
     "text": [
      "a 10\n",
      "b 20\n",
      "x 100\n",
      "y 200\n"
     ]
    }
   ],
   "source": [
    "# Write a Python program to iterate over dictionaries using for loops\n",
    "d={'a': 10, 'b': 20, 'x': 100, 'y': 200}\n",
    "for i,j in d.items():\n",
    "    print(i,j)"
   ]
  },
  {
   "cell_type": "code",
   "execution_count": 41,
   "id": "dcf432fb",
   "metadata": {},
   "outputs": [
    {
     "name": "stdout",
     "output_type": "stream",
     "text": [
      "330\n"
     ]
    }
   ],
   "source": [
    "#Write a Python program to sum all the items in a dictionary.\n",
    "d={'a': 10, 'b': 20, 'x': 100, 'y': 200}\n",
    "d1=(0)\n",
    "for i in d.values():\n",
    "    d1=i+d1\n",
    "print(d1)    "
   ]
  },
  {
   "cell_type": "code",
   "execution_count": 44,
   "id": "caba4a47",
   "metadata": {},
   "outputs": [
    {
     "name": "stdout",
     "output_type": "stream",
     "text": [
      "1200\n"
     ]
    }
   ],
   "source": [
    "#Write a Python program to multiply all the items in a dictionary.\n",
    "d={'a': 10, 'b': 20, 'x': 2, 'y': 3}\n",
    "d1=(1)\n",
    "for i in d.values():\n",
    "    d1=i*d1\n",
    "print(d1)    "
   ]
  },
  {
   "cell_type": "code",
   "execution_count": 48,
   "id": "9d862882",
   "metadata": {},
   "outputs": [
    {
     "name": "stdout",
     "output_type": "stream",
     "text": [
      "{'b': 20, 'x': 2, 'y': 3}\n"
     ]
    }
   ],
   "source": [
    "#Write a Python program to remove a key from a dictionary.\n",
    "d={'a': 10, 'b': 20, 'x': 2, 'y': 3}\n",
    "if \"a\" in d.keys():\n",
    "    d.pop(a)\n",
    "print(d)    "
   ]
  },
  {
   "cell_type": "code",
   "execution_count": 49,
   "id": "86d97cb5",
   "metadata": {},
   "outputs": [
    {
     "data": {
      "text/plain": [
       "{'a': 100, 'b': 200, 'c': 300, 'd': 400}"
      ]
     },
     "execution_count": 49,
     "metadata": {},
     "output_type": "execute_result"
    }
   ],
   "source": [
    "# Write a Python program to map two lists into a dictionary\n",
    "keys=[\"a\",\"b\",\"c\",\"d\"]\n",
    "values=[100,200,300,400]\n",
    "new_dict=dict(zip(keys,values))\n",
    "new_dict"
   ]
  },
  {
   "cell_type": "code",
   "execution_count": 54,
   "id": "1fea36c0",
   "metadata": {},
   "outputs": [
    {
     "name": "stdout",
     "output_type": "stream",
     "text": [
      "a: 100\n",
      "b: 300\n",
      "c: 200\n",
      "d: 400\n"
     ]
    }
   ],
   "source": [
    "#Write a Python program to sort a given dictionary by key\n",
    "d={'a': 100, 'c': 200, 'b': 300, 'd': 400}\n",
    "for key in sorted(d):\n",
    "    print(\"%s: %s\" %(key,d[key]))\n"
   ]
  },
  {
   "cell_type": "code",
   "execution_count": 56,
   "id": "a8bec8a2",
   "metadata": {},
   "outputs": [
    {
     "name": "stdout",
     "output_type": "stream",
     "text": [
      "400\n"
     ]
    },
    {
     "data": {
      "text/plain": [
       "100"
      ]
     },
     "execution_count": 56,
     "metadata": {},
     "output_type": "execute_result"
    }
   ],
   "source": [
    "#Write a Python program to get the maximum and minimum values of a dictionary\n",
    "d={'a': 100, 'c': 200, 'b': 300, 'd': 400}\n",
    "max_value=max(d.values())\n",
    "min_value=min(d.values())\n",
    "print(max_value)\n",
    "print(min_value)"
   ]
  },
  {
   "cell_type": "code",
   "execution_count": 60,
   "id": "8f78b8a0",
   "metadata": {},
   "outputs": [
    {
     "name": "stdout",
     "output_type": "stream",
     "text": [
      "{'name': 'pinky', 'age': '20'}\n"
     ]
    }
   ],
   "source": [
    "#Write a Python program to get a dictionary from an object's fields.\n",
    "class usha():\n",
    "    def __init__(self,name,age):\n",
    "        self.name=name\n",
    "        self.age=age\n",
    "        \n",
    "obj=usha(\"pinky\",\"20\")  \n",
    "print(obj.__dict__)\n",
    "        "
   ]
  },
  {
   "cell_type": "code",
   "execution_count": 63,
   "id": "5c226ff0",
   "metadata": {},
   "outputs": [
    {
     "name": "stdout",
     "output_type": "stream",
     "text": [
      "{'a': 10, 'b': 20, 'd': 30}\n"
     ]
    }
   ],
   "source": [
    "#Write a Python program to remove duplicates from the dictionary.\n",
    "d={\"a\":10,\"b\":20,\"c\":10,\"d\":30,\"e\":20}\n",
    "unique={}\n",
    "for key,value in d.items():\n",
    "    if value not in unique.values():\n",
    "        unique[key]=value\n",
    "print(unique)        "
   ]
  },
  {
   "cell_type": "code",
   "execution_count": 67,
   "id": "9522da6b",
   "metadata": {},
   "outputs": [
    {
     "name": "stdout",
     "output_type": "stream",
     "text": [
      "Dictionary is  empty \n"
     ]
    }
   ],
   "source": [
    "#Write a Python program to check if a dictionary is empty or not\n",
    "d={}\n",
    "if not d:\n",
    "    print(\"Dictionary is  empty \")\n",
    "else:\n",
    "    print(\"dictionary is not empty\")"
   ]
  },
  {
   "cell_type": "code",
   "execution_count": 74,
   "id": "9392003e",
   "metadata": {},
   "outputs": [
    {
     "data": {
      "text/plain": [
       "Counter({'a': 400, 'b': 400, 'd': 400, 'c': 300})"
      ]
     },
     "execution_count": 74,
     "metadata": {},
     "output_type": "execute_result"
    }
   ],
   "source": [
    "#Write a Python program to combine two dictionary by adding values for common keys.\n",
    "# use counter class\n",
    "from collections import Counter\n",
    "d1 = {'a': 100, 'b': 200, 'c':300}\n",
    "d2 = {'a': 300, 'b': 200, 'd':400}\n",
    "d=Counter(d1)+Counter(d2)\n",
    "d"
   ]
  },
  {
   "cell_type": "code",
   "execution_count": 83,
   "id": "da9f7a27",
   "metadata": {},
   "outputs": [
    {
     "ename": "AttributeError",
     "evalue": "'list' object has no attribute 'values'",
     "output_type": "error",
     "traceback": [
      "\u001b[1;31m---------------------------------------------------------------------------\u001b[0m",
      "\u001b[1;31mAttributeError\u001b[0m                            Traceback (most recent call last)",
      "Cell \u001b[1;32mIn[83], line 3\u001b[0m\n\u001b[0;32m      1\u001b[0m \u001b[38;5;66;03m#Write a Python program to print all distinct values in a dictionary.\u001b[39;00m\n\u001b[0;32m      2\u001b[0m d \u001b[38;5;241m=\u001b[39m [{\u001b[38;5;124m\"\u001b[39m\u001b[38;5;124mV\u001b[39m\u001b[38;5;124m\"\u001b[39m:\u001b[38;5;124m\"\u001b[39m\u001b[38;5;124mS001\u001b[39m\u001b[38;5;124m\"\u001b[39m}, {\u001b[38;5;124m\"\u001b[39m\u001b[38;5;124mV\u001b[39m\u001b[38;5;124m\"\u001b[39m: \u001b[38;5;124m\"\u001b[39m\u001b[38;5;124mS002\u001b[39m\u001b[38;5;124m\"\u001b[39m}, {\u001b[38;5;124m\"\u001b[39m\u001b[38;5;124mVI\u001b[39m\u001b[38;5;124m\"\u001b[39m: \u001b[38;5;124m\"\u001b[39m\u001b[38;5;124mS001\u001b[39m\u001b[38;5;124m\"\u001b[39m}, {\u001b[38;5;124m\"\u001b[39m\u001b[38;5;124mVI\u001b[39m\u001b[38;5;124m\"\u001b[39m: \u001b[38;5;124m\"\u001b[39m\u001b[38;5;124mS005\u001b[39m\u001b[38;5;124m\"\u001b[39m}, {\u001b[38;5;124m\"\u001b[39m\u001b[38;5;124mVII\u001b[39m\u001b[38;5;124m\"\u001b[39m:\u001b[38;5;124m\"\u001b[39m\u001b[38;5;124mS005\u001b[39m\u001b[38;5;124m\"\u001b[39m}, {\u001b[38;5;124m\"\u001b[39m\u001b[38;5;124mV\u001b[39m\u001b[38;5;124m\"\u001b[39m:\u001b[38;5;124m\"\u001b[39m\u001b[38;5;124mS009\u001b[39m\u001b[38;5;124m\"\u001b[39m},{\u001b[38;5;124m\"\u001b[39m\u001b[38;5;124mVIII\u001b[39m\u001b[38;5;124m\"\u001b[39m:\u001b[38;5;124m\"\u001b[39m\u001b[38;5;124mS007\u001b[39m\u001b[38;5;124m\"\u001b[39m}]\n\u001b[1;32m----> 3\u001b[0m d1\u001b[38;5;241m=\u001b[39m\u001b[38;5;28mset\u001b[39m(v \u001b[38;5;28;01mfor\u001b[39;00m k \u001b[38;5;129;01min\u001b[39;00m d \u001b[38;5;28;01mfor\u001b[39;00m v \u001b[38;5;129;01min\u001b[39;00m d\u001b[38;5;241m.\u001b[39mvalues())   \n\u001b[0;32m      4\u001b[0m \u001b[38;5;28mprint\u001b[39m(d1)\n",
      "Cell \u001b[1;32mIn[83], line 3\u001b[0m, in \u001b[0;36m<genexpr>\u001b[1;34m(.0)\u001b[0m\n\u001b[0;32m      1\u001b[0m \u001b[38;5;66;03m#Write a Python program to print all distinct values in a dictionary.\u001b[39;00m\n\u001b[0;32m      2\u001b[0m d \u001b[38;5;241m=\u001b[39m [{\u001b[38;5;124m\"\u001b[39m\u001b[38;5;124mV\u001b[39m\u001b[38;5;124m\"\u001b[39m:\u001b[38;5;124m\"\u001b[39m\u001b[38;5;124mS001\u001b[39m\u001b[38;5;124m\"\u001b[39m}, {\u001b[38;5;124m\"\u001b[39m\u001b[38;5;124mV\u001b[39m\u001b[38;5;124m\"\u001b[39m: \u001b[38;5;124m\"\u001b[39m\u001b[38;5;124mS002\u001b[39m\u001b[38;5;124m\"\u001b[39m}, {\u001b[38;5;124m\"\u001b[39m\u001b[38;5;124mVI\u001b[39m\u001b[38;5;124m\"\u001b[39m: \u001b[38;5;124m\"\u001b[39m\u001b[38;5;124mS001\u001b[39m\u001b[38;5;124m\"\u001b[39m}, {\u001b[38;5;124m\"\u001b[39m\u001b[38;5;124mVI\u001b[39m\u001b[38;5;124m\"\u001b[39m: \u001b[38;5;124m\"\u001b[39m\u001b[38;5;124mS005\u001b[39m\u001b[38;5;124m\"\u001b[39m}, {\u001b[38;5;124m\"\u001b[39m\u001b[38;5;124mVII\u001b[39m\u001b[38;5;124m\"\u001b[39m:\u001b[38;5;124m\"\u001b[39m\u001b[38;5;124mS005\u001b[39m\u001b[38;5;124m\"\u001b[39m}, {\u001b[38;5;124m\"\u001b[39m\u001b[38;5;124mV\u001b[39m\u001b[38;5;124m\"\u001b[39m:\u001b[38;5;124m\"\u001b[39m\u001b[38;5;124mS009\u001b[39m\u001b[38;5;124m\"\u001b[39m},{\u001b[38;5;124m\"\u001b[39m\u001b[38;5;124mVIII\u001b[39m\u001b[38;5;124m\"\u001b[39m:\u001b[38;5;124m\"\u001b[39m\u001b[38;5;124mS007\u001b[39m\u001b[38;5;124m\"\u001b[39m}]\n\u001b[1;32m----> 3\u001b[0m d1\u001b[38;5;241m=\u001b[39m\u001b[38;5;28mset\u001b[39m(v \u001b[38;5;28;01mfor\u001b[39;00m k \u001b[38;5;129;01min\u001b[39;00m d \u001b[38;5;28;01mfor\u001b[39;00m v \u001b[38;5;129;01min\u001b[39;00m d\u001b[38;5;241m.\u001b[39mvalues())   \n\u001b[0;32m      4\u001b[0m \u001b[38;5;28mprint\u001b[39m(d1)\n",
      "\u001b[1;31mAttributeError\u001b[0m: 'list' object has no attribute 'values'"
     ]
    }
   ],
   "source": [
    "#Write a Python program to print all distinct values in a dictionary.\n",
    "d = [{\"V\":\"S001\"}, {\"V\": \"S002\"}, {\"VI\": \"S001\"}, {\"VI\": \"S005\"}, {\"VII\":\"S005\"}, {\"V\":\"S009\"},{\"VIII\":\"S007\"}]\n",
    "d1=set(v for k in d for v in d.values())   \n",
    "print(d1)"
   ]
  },
  {
   "cell_type": "code",
   "execution_count": null,
   "id": "bdf8bd66",
   "metadata": {},
   "outputs": [],
   "source": []
  }
 ],
 "metadata": {
  "kernelspec": {
   "display_name": "Python 3 (ipykernel)",
   "language": "python",
   "name": "python3"
  },
  "language_info": {
   "codemirror_mode": {
    "name": "ipython",
    "version": 3
   },
   "file_extension": ".py",
   "mimetype": "text/x-python",
   "name": "python",
   "nbconvert_exporter": "python",
   "pygments_lexer": "ipython3",
   "version": "3.11.5"
  }
 },
 "nbformat": 4,
 "nbformat_minor": 5
}
