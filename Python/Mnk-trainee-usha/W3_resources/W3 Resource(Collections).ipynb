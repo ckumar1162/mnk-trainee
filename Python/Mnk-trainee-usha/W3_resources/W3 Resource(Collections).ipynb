{
 "cells": [
  {
   "cell_type": "code",
   "execution_count": 1,
   "id": "902088d7",
   "metadata": {},
   "outputs": [
    {
     "name": "stdout",
     "output_type": "stream",
     "text": [
      "['p', 'p', 'p', 'p', 'q', 'q']\n"
     ]
    }
   ],
   "source": [
    "#Write a Python program that iterates over elements as many times as its count\n",
    "from  collections import Counter\n",
    "c=Counter(p=4,q=2)\n",
    "print(list(c.elements()))"
   ]
  },
  {
   "cell_type": "code",
   "execution_count": 2,
   "id": "fb2b8cd4",
   "metadata": {},
   "outputs": [
    {
     "name": "stdout",
     "output_type": "stream",
     "text": [
      "[('s', 4), ('e', 3), ('f', 3)]\n"
     ]
    }
   ],
   "source": [
    "# Write a  Python program to find the most common elements and their counts in a specified text\n",
    "s = 'lkseropewdssafsdfafkpwe'\n",
    "print(Counter(s).most_common(3))"
   ]
  },
  {
   "cell_type": "code",
   "execution_count": 3,
   "id": "cd12d87f",
   "metadata": {},
   "outputs": [
    {
     "name": "stdout",
     "output_type": "stream",
     "text": [
      "a\n",
      "e\n",
      "i\n",
      "o\n",
      "u\n"
     ]
    }
   ],
   "source": [
    "#Write a Python program to create a new deque with three items and iterate over the deque's elements\n",
    "from collections import *\n",
    "dq=deque(\"aeiou\")\n",
    "for i in dq:\n",
    "    print(i)"
   ]
  },
  {
   "cell_type": "code",
   "execution_count": 4,
   "id": "25964efd",
   "metadata": {},
   "outputs": [
    {
     "name": "stdout",
     "output_type": "stream",
     "text": [
      "[('Python', 6), ('the', 6), ('and', 5), ('We', 2), ('with', 2), ('The', 1), ('Software', 1), ('Foundation', 1), ('PSF', 1), ('is', 1)]\n"
     ]
    }
   ],
   "source": [
    "import re\n",
    "text=text = \"\"\"The Python Software Foundation (PSF) is a 501(c)(3) non-profit \n",
    "corporation that holds the intellectual property rights behind\n",
    "the Python programming language. We manage the open source licensing \n",
    "for Python version 2.1 and later and own and protect the trademarks \n",
    "associated with Python. We also run the North American PyCon conference \n",
    "annually, support other Python conferences around the world, and \n",
    "fund Python related development with our grants program and by funding \n",
    "special projects.\"\"\"\n",
    "\n",
    "words=re.findall('\\w+',text)\n",
    "print(Counter(words).most_common(10))"
   ]
  },
  {
   "cell_type": "code",
   "execution_count": 5,
   "id": "0f58ea09",
   "metadata": {},
   "outputs": [
    {
     "name": "stdout",
     "output_type": "stream",
     "text": [
      "Enter the words with spaces:a b c d\n",
      "Number of distinct words:4\n"
     ]
    }
   ],
   "source": [
    "#counting distinct word and counting number of occurence\n",
    "# n=input(\" Enter the word with space :\").split()\n",
    "# word_count={}\n",
    "# for i in n:\n",
    "#     if i not in word_count:\n",
    "#         word_count[i]=1\n",
    "#     else:\n",
    "#         word_count[i]+=1\n",
    "# print(f\"Number of distinct word: {len(word_count)}\")        \n",
    "\n",
    "\n",
    "n=input(\"Enter the words with spaces:\").split()\n",
    "c=Counter(n)\n",
    "print(f\"Number of distinct words:{len(c)}\")"
   ]
  },
  {
   "cell_type": "code",
   "execution_count": 8,
   "id": "7d0369c8",
   "metadata": {},
   "outputs": [
    {
     "name": "stdout",
     "output_type": "stream",
     "text": [
      "deque(['Red', 'Green', 'White'])\n",
      "deque(['Pink', 'Red', 'Green', 'White'])\n",
      "deque(['Pink', 'Red', 'Green', 'White', 'Orange'])\n",
      "deque(['Pink', 'Red', 'Green', 'White'])\n",
      "deque(['Red', 'Green', 'White'])\n",
      "deque(['White', 'Green', 'Red'])\n"
     ]
    }
   ],
   "source": [
    "#Write a Python program to create a deque and append a few elements to the left and right. Next, remove some elements from the left and right sides and reverse the deque.\n",
    "import collections\n",
    "d=collections.deque(['Red','Green','White']) \n",
    "print(d)\n",
    "#adding to the left\n",
    "d.appendleft('Pink')\n",
    "print(d)\n",
    "#adding to the right\n",
    "d.append('Orange')\n",
    "print(d)\n",
    "#Removing from right\n",
    "d.pop()\n",
    "print(d)\n",
    "#removing from left\n",
    "d.popleft()\n",
    "print(d)\n",
    "#Reversing a deque\n",
    "d.reverse()\n",
    "print(d)"
   ]
  },
  {
   "cell_type": "code",
   "execution_count": 18,
   "id": "d7ae4ce3",
   "metadata": {},
   "outputs": [
    {
     "name": "stdout",
     "output_type": "stream",
     "text": [
      "(2, 4, 6)\n",
      "<class 'tuple'>\n",
      "Origial deque :\n",
      "deque([2, 4, 6])\n",
      "deque([2, 4, 6, 8, 10, 12])\n",
      "<class 'collections.deque'>\n"
     ]
    }
   ],
   "source": [
    "#Write a Python program to create a deque from an existing iterable object.\n",
    "de=(2,4,6)\n",
    "print(de)\n",
    "print(type(de))\n",
    "print(\"Origial deque :\")\n",
    "d=collections.deque(de)\n",
    "print(d)\n",
    "d.append(8)\n",
    "d.append(10)\n",
    "d.append(12)\n",
    "print(d)\n",
    "print(type(d))"
   ]
  },
  {
   "cell_type": "code",
   "execution_count": 25,
   "id": "227117b2",
   "metadata": {},
   "outputs": [
    {
     "name": "stdout",
     "output_type": "stream",
     "text": [
      "Even numbers:\n",
      "deque([2, 4, 6, 8, 10])\n",
      "More even numbers:\n",
      "deque([2, 4, 6, 8, 10, 12, 14, 16, 18, 20])\n"
     ]
    }
   ],
   "source": [
    "#Write a  Python program to add more elements to a deque object from an iterable object\n",
    "print(\"Even numbers:\")\n",
    "de=collections.deque([2,4,6,8,10])\n",
    "print(de)\n",
    "print(\"More even numbers:\")\n",
    "more_no=12,14,16,18,20\n",
    "de.extend(more_no)\n",
    "print(de)\n"
   ]
  },
  {
   "cell_type": "code",
   "execution_count": 35,
   "id": "8691d298",
   "metadata": {},
   "outputs": [
    {
     "name": "stdout",
     "output_type": "stream",
     "text": [
      "deque([1, 3, 5, 7, 9])\n",
      "Deque length:5\n",
      "Deque object after removing all numbers-deque([])\n",
      "Deque length:0\n"
     ]
    }
   ],
   "source": [
    "#Write a Python program to remove all the elements of a given deque object\n",
    "d=collections.deque([1,3,5,7,9])\n",
    "print(d)\n",
    "print(f\"Deque length:{len(d)}\")\n",
    "d.clear()\n",
    "print(f\"Deque object after removing all numbers-{d}\")\n",
    "print(f\"Deque length:{len(d)}\")\n"
   ]
  },
  {
   "cell_type": "code",
   "execution_count": null,
   "id": "5bc124be",
   "metadata": {},
   "outputs": [],
   "source": []
  }
 ],
 "metadata": {
  "kernelspec": {
   "display_name": "Python 3 (ipykernel)",
   "language": "python",
   "name": "python3"
  },
  "language_info": {
   "codemirror_mode": {
    "name": "ipython",
    "version": 3
   },
   "file_extension": ".py",
   "mimetype": "text/x-python",
   "name": "python",
   "nbconvert_exporter": "python",
   "pygments_lexer": "ipython3",
   "version": "3.11.5"
  }
 },
 "nbformat": 4,
 "nbformat_minor": 5
}
