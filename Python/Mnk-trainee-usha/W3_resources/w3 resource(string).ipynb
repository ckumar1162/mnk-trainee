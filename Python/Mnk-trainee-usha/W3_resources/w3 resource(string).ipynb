{
 "cells": [
  {
   "cell_type": "code",
   "execution_count": 1,
   "id": "54dd72c9",
   "metadata": {},
   "outputs": [
    {
     "name": "stdout",
     "output_type": "stream",
     "text": [
      "Enter the string: usha\n",
      "4\n"
     ]
    }
   ],
   "source": [
    "#Write a Python program to calculate the length of a string\n",
    "n=input(\"Enter the string: \")\n",
    "print(len(n))"
   ]
  },
  {
   "cell_type": "code",
   "execution_count": 2,
   "id": "14022016",
   "metadata": {},
   "outputs": [
    {
     "name": "stdout",
     "output_type": "stream",
     "text": [
      "{'g': 2, 'o': 3, 'l': 1, 'e': 1, '.': 1, 'c': 1, 'm': 1}\n"
     ]
    }
   ],
   "source": [
    "#Write a Python program to count the number of \n",
    "#characters (character frequency) in a string.\n",
    "s=\"google.com\"\n",
    "dict={ }\n",
    "for i in s:\n",
    "    keys=dict.keys()\n",
    "    if i in keys:\n",
    "        dict[i]+=1\n",
    "    else:\n",
    "        dict[i]=1\n",
    "print(dict)        "
   ]
  },
  {
   "cell_type": "code",
   "execution_count": 3,
   "id": "d72b0b8c",
   "metadata": {},
   "outputs": [
    {
     "name": "stdout",
     "output_type": "stream",
     "text": [
      "Enter the Stirng: mnkgcs\n",
      "mncs\n"
     ]
    }
   ],
   "source": [
    "#Write a Python program to get a string made of the first 2 and last 2 characters of a given string.\n",
    "#If the string length is less than 2, return the empty string instead.\n",
    "n=input(\"Enter the Stirng: \")\n",
    "if len(n)<2:\n",
    "    print(\"empty\")\n",
    "else:\n",
    "    print(n[0:2]+n[-2:])"
   ]
  },
  {
   "cell_type": "code",
   "execution_count": 19,
   "id": "2e61ecf8",
   "metadata": {},
   "outputs": [
    {
     "name": "stdout",
     "output_type": "stream",
     "text": [
      "ushaa$\n"
     ]
    }
   ],
   "source": [
    "# to change from restart to resta$t\n",
    "def change(str):\n",
    "    if str==\" \":\n",
    "        print(\"enter valid input\")\n",
    "    else:\n",
    "        modify=str[0]+str[1:].replace(str[0],\"$\")\n",
    "        print(modify)\n",
    "        \n",
    "change(\"ushaau\")        \n",
    "        \n",
    "\n",
    "    "
   ]
  },
  {
   "cell_type": "code",
   "execution_count": 25,
   "id": "bc8d68fe",
   "metadata": {},
   "outputs": [
    {
     "name": "stdout",
     "output_type": "stream",
     "text": [
      "xyc abz\n"
     ]
    }
   ],
   "source": [
    "# swap the first two characters of each string.\n",
    "a=\"abc\"\n",
    "b=\"xyz\"\n",
    "new_a=b[0:2]+a[2:]\n",
    "new_b=a[0:2]+b[2:]\n",
    "join=new_a+ \" \"+new_b\n",
    "print(join)"
   ]
  },
  {
   "cell_type": "code",
   "execution_count": 35,
   "id": "e0213726",
   "metadata": {},
   "outputs": [
    {
     "name": "stdout",
     "output_type": "stream",
     "text": [
      "Enter the stringstring\n",
      "stringly\n"
     ]
    }
   ],
   "source": [
    "s=input(\"Enter the string\")\n",
    "str=\" \"\n",
    "\n",
    "if s.endswith(\"ing\"):\n",
    "    print(s[:]+\"ly\")\n",
    "else:\n",
    "    str+=s+\"ing\"\n",
    "    print(str)"
   ]
  },
  {
   "cell_type": "code",
   "execution_count": 36,
   "id": "78bcef4c",
   "metadata": {},
   "outputs": [],
   "source": [
    "# replace 'the lyric is not that poor ' with 'the lyric is good'\n"
   ]
  },
  {
   "cell_type": "code",
   "execution_count": 61,
   "id": "a8c1aa9a",
   "metadata": {},
   "outputs": [
    {
     "name": "stdout",
     "output_type": "stream",
     "text": [
      "6\n",
      "6\n",
      "8\n",
      "8\n"
     ]
    }
   ],
   "source": [
    "\"\"\"Write a Python function that takes a list of words and return the longest word \n",
    "and the length of the longest one\"\"\"\n",
    "l=[\"mnkgcs\",\"bhive\",\"abcdefgh\",\"mgroad\"]\n",
    "word_len=[]\n",
    "for i in l:\n",
    "    word_len.append(len(i))\n",
    "    a=sorted(word_len)\n",
    "    print(a[-1])\n",
    "#print(word_len)    "
   ]
  },
  {
   "cell_type": "code",
   "execution_count": null,
   "id": "77d6b49d",
   "metadata": {},
   "outputs": [],
   "source": []
  }
 ],
 "metadata": {
  "kernelspec": {
   "display_name": "Python 3 (ipykernel)",
   "language": "python",
   "name": "python3"
  },
  "language_info": {
   "codemirror_mode": {
    "name": "ipython",
    "version": 3
   },
   "file_extension": ".py",
   "mimetype": "text/x-python",
   "name": "python",
   "nbconvert_exporter": "python",
   "pygments_lexer": "ipython3",
   "version": "3.11.5"
  }
 },
 "nbformat": 4,
 "nbformat_minor": 5
}
