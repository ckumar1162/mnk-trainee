{
 "cells": [
  {
   "cell_type": "code",
   "execution_count": 5,
   "id": "bd7e0ce0",
   "metadata": {},
   "outputs": [
    {
     "name": "stdout",
     "output_type": "stream",
     "text": [
      "21\n"
     ]
    }
   ],
   "source": [
    "#Write a  Python program to sum all the items in a list.\n",
    "l=[2,4,5,6,4]\n",
    "x=sum(l)\n",
    "print(x)"
   ]
  },
  {
   "cell_type": "code",
   "execution_count": 13,
   "id": "ab91d685",
   "metadata": {},
   "outputs": [
    {
     "name": "stdout",
     "output_type": "stream",
     "text": [
      "960\n"
     ]
    }
   ],
   "source": [
    "#Write a Python program to multiply all the items in a list.\n",
    "l=[2,4,5,6,4]\n",
    "output=1\n",
    "for i in l:\n",
    "    output*=i\n",
    "print(output)      "
   ]
  },
  {
   "cell_type": "code",
   "execution_count": 21,
   "id": "0861b907",
   "metadata": {},
   "outputs": [
    {
     "name": "stdout",
     "output_type": "stream",
     "text": [
      "6\n"
     ]
    }
   ],
   "source": [
    "#Write a Python program to get the largest number from a list\n",
    "l=[2,4,5,6,4]\n",
    "maxnum=0\n",
    "for i in l:\n",
    "    if i>maxnum:\n",
    "        maxnum=i\n",
    "print(maxnum)        "
   ]
  },
  {
   "cell_type": "code",
   "execution_count": 28,
   "id": "c45f04c6",
   "metadata": {},
   "outputs": [
    {
     "name": "stdout",
     "output_type": "stream",
     "text": [
      "-8\n"
     ]
    }
   ],
   "source": [
    "#. Write a Python program to get the smallest number from a list\n",
    "l=[2,4,5,6,4,-8]\n",
    "minnum=0\n",
    "for i in l:\n",
    "    if i<minnum:\n",
    "        minnum=i\n",
    "print(minnum)        \n",
    "        "
   ]
  },
  {
   "cell_type": "code",
   "execution_count": null,
   "id": "3a48319a",
   "metadata": {},
   "outputs": [],
   "source": []
  }
 ],
 "metadata": {
  "kernelspec": {
   "display_name": "Python 3 (ipykernel)",
   "language": "python",
   "name": "python3"
  },
  "language_info": {
   "codemirror_mode": {
    "name": "ipython",
    "version": 3
   },
   "file_extension": ".py",
   "mimetype": "text/x-python",
   "name": "python",
   "nbconvert_exporter": "python",
   "pygments_lexer": "ipython3",
   "version": "3.11.5"
  }
 },
 "nbformat": 4,
 "nbformat_minor": 5
}
