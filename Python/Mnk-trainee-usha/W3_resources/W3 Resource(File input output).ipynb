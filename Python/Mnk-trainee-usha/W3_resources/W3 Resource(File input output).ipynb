{
 "cells": [
  {
   "cell_type": "code",
   "execution_count": 76,
   "id": "9983a5b9",
   "metadata": {},
   "outputs": [
    {
     "name": "stdout",
     "output_type": "stream",
     "text": [
      "monday\n",
      "tuesday\n",
      "wednesday\n",
      "thursday\n",
      "friday\n",
      "saturday\n"
     ]
    }
   ],
   "source": [
    "#Write a Python program to read an entire text file\n",
    "with open(\"W3 Resources/file.txt\")as f:\n",
    "    print(f.read())"
   ]
  },
  {
   "cell_type": "code",
   "execution_count": 77,
   "id": "dd14f56e",
   "metadata": {},
   "outputs": [
    {
     "name": "stdout",
     "output_type": "stream",
     "text": [
      "thursday\n",
      "\n",
      "tuesday\n",
      "\n"
     ]
    }
   ],
   "source": [
    "#Write a Python program to read first n lines of a file\n",
    "with open(\"W3 Resources/file.txt\")as f:\n",
    "    content=f.readlines()\n",
    "    print(content[3])\n",
    "    print(content[1])"
   ]
  },
  {
   "cell_type": "code",
   "execution_count": 83,
   "id": "aaae1464",
   "metadata": {},
   "outputs": [
    {
     "name": "stdout",
     "output_type": "stream",
     "text": [
      "7\n",
      "saturday sunday\n"
     ]
    }
   ],
   "source": [
    "#Write a Python program to append text to a file and display the text.\n",
    "with open(\"W3 Resources/file.txt\",\"a\")as f:\n",
    "    print(f.write(\" sunday\"))\n",
    "with open(\"W3 Resources/file.txt\")as f:\n",
    "    content=f.readlines()\n",
    "    print(content[5])"
   ]
  },
  {
   "cell_type": "code",
   "execution_count": 84,
   "id": "bf704046",
   "metadata": {},
   "outputs": [
    {
     "name": "stdout",
     "output_type": "stream",
     "text": [
      "thursday\n",
      "friday\n",
      "saturday sunday"
     ]
    }
   ],
   "source": [
    "#Write a Python program to read last n lines of a file\n",
    "with open(\"W3 Resources/file.txt\",\"r\")as f:\n",
    "    for line in (f.readlines() [-3:]):\n",
    "        print(line,end='')"
   ]
  },
  {
   "cell_type": "code",
   "execution_count": 85,
   "id": "ffcba324",
   "metadata": {},
   "outputs": [
    {
     "name": "stdout",
     "output_type": "stream",
     "text": [
      "['monday\\n', 'tuesday\\n', 'wednesday\\n', 'thursday\\n', 'friday\\n', 'saturday sunday']\n"
     ]
    }
   ],
   "source": [
    "#Write a Python program to read a file line by line and store it into a list\n",
    "with open(\"W3 Resources/file.txt\",\"r\")as f:\n",
    "    print(f.readlines())"
   ]
  },
  {
   "cell_type": "code",
   "execution_count": 86,
   "id": "3d859459",
   "metadata": {},
   "outputs": [
    {
     "name": "stdout",
     "output_type": "stream",
     "text": [
      "['monday\\n', 'tuesday\\n', 'wednesday\\n', 'thursday\\n', 'friday\\n', 'saturday sunday']\n"
     ]
    }
   ],
   "source": [
    "#Write a Python program to read a file line by line store it into a variable.\n",
    "with open(\"W3 Resources/file.txt\",\"r\")as f:\n",
    "    content=f.readlines()\n",
    "    print(content)\n",
    "    "
   ]
  },
  {
   "cell_type": "code",
   "execution_count": 87,
   "id": "aee17bee",
   "metadata": {},
   "outputs": [
    {
     "name": "stdout",
     "output_type": "stream",
     "text": [
      "['monday\\n', 'tuesday\\n', 'wednesday\\n', 'thursday\\n', 'friday\\n', 'saturday sunday']\n"
     ]
    }
   ],
   "source": [
    "#Write a Python program to read a file line by line store it into an array\n",
    "with open(\"W3 Resources/file.txt\",\"r\")as f:\n",
    "    array=[]\n",
    "    for line in f:\n",
    "        array.append(line)\n",
    "    print(array)    \n",
    "        "
   ]
  },
  {
   "cell_type": "code",
   "execution_count": 92,
   "id": "c6853b6a",
   "metadata": {},
   "outputs": [
    {
     "name": "stdout",
     "output_type": "stream",
     "text": [
      "wednesday\n"
     ]
    }
   ],
   "source": [
    "#Write a python program to find the longest words\n",
    "with open(\"W3 Resources/file.txt\",\"r\")as f:\n",
    "    words=f.read().split()\n",
    "    print(max(words))"
   ]
  },
  {
   "cell_type": "code",
   "execution_count": 90,
   "id": "017942d5",
   "metadata": {},
   "outputs": [
    {
     "name": "stdout",
     "output_type": "stream",
     "text": [
      "6\n"
     ]
    }
   ],
   "source": [
    "#Write a Python program to count the number of lines in a text file\n",
    "with open(\"W3 Resources/file.txt\",\"r\")as f:\n",
    "    lines=f.readlines()\n",
    "    print(len(lines))\n",
    "    "
   ]
  },
  {
   "cell_type": "code",
   "execution_count": 93,
   "id": "7aa021e6",
   "metadata": {},
   "outputs": [
    {
     "name": "stdout",
     "output_type": "stream",
     "text": [
      "Counter({'monday': 1, 'tuesday': 1, 'wednesday': 1, 'thursday': 1, 'friday': 1, 'saturday': 1, 'sunday': 1})\n"
     ]
    }
   ],
   "source": [
    "#Write a Python program to count the frequency of words in a file\n",
    "from collections import Counter\n",
    "with open(\"W3 Resources/file.txt\",\"r\")as f:\n",
    "    print(Counter(f.read().split()))\n",
    "    "
   ]
  },
  {
   "cell_type": "code",
   "execution_count": 2,
   "id": "7242aba4",
   "metadata": {},
   "outputs": [
    {
     "name": "stdout",
     "output_type": "stream",
     "text": [
      "file size of a plain text 56\n"
     ]
    }
   ],
   "source": [
    "#Write a Python program to get the file size of a plain file.\n",
    "import os\n",
    "size = os.path.getsize(\"W3 Resources/file.txt\")\n",
    "print(f\"file size of a plain text {size}\")\n"
   ]
  },
  {
   "cell_type": "code",
   "execution_count": 15,
   "id": "fbf5fa22",
   "metadata": {},
   "outputs": [
    {
     "name": "stdout",
     "output_type": "stream",
     "text": [
      "monday\n",
      "tuesday\n",
      "wednesday\n",
      "thursday\n",
      "friday\n",
      "saturday sunday\n",
      "pink\n",
      "blue\n",
      "white\n",
      "\n"
     ]
    }
   ],
   "source": [
    "#Write a Python program to write a list to a file\n",
    "color=[\"pink\",\"blue\",\"white\"]\n",
    "with open(\"W3 Resources/file.txt\",\"a\")as f:\n",
    "    for item in color:\n",
    "        f.write(item + \"\\n\")\n",
    "with open(\"W3 Resources/file.txt\",\"r\")as f:\n",
    "    print(f.read())"
   ]
  },
  {
   "cell_type": "code",
   "execution_count": 16,
   "id": "28d3db24",
   "metadata": {},
   "outputs": [
    {
     "data": {
      "text/plain": [
       "'copy.txt'"
      ]
     },
     "execution_count": 16,
     "metadata": {},
     "output_type": "execute_result"
    }
   ],
   "source": [
    "#Write a Python program to copy the contents of a file to another file\n",
    "from shutil import copyfile\n",
    "copyfile('W3 Resources/file.txt',\"copy.txt\")"
   ]
  },
  {
   "cell_type": "code",
   "execution_count": 18,
   "id": "347feea8",
   "metadata": {},
   "outputs": [
    {
     "name": "stdout",
     "output_type": "stream",
     "text": [
      "monday\n",
      "monday\n",
      "\n",
      "tuesday\n",
      "tuesday\n",
      "\n",
      "wednesday\n",
      "wednesday\n",
      "\n",
      "thursday\n",
      "thursday\n",
      "\n",
      "friday\n",
      "friday\n",
      "\n",
      "saturday sunday\n",
      "saturday sunday\n",
      "\n",
      "pink\n",
      "pink\n",
      "\n",
      "blue\n",
      "blue\n",
      "\n",
      "white\n",
      "white\n",
      "\n"
     ]
    }
   ],
   "source": [
    "#Write a Python program to combine each line from first file with the corresponding line in second file\n",
    "with open(\"W3 Resources/file.txt\")as f,open(\"copy.txt\")as f2:\n",
    "        for line1,line2 in zip(f,f2):\n",
    "            print(line1+line2)"
   ]
  },
  {
   "cell_type": "code",
   "execution_count": 23,
   "id": "b4e20d30",
   "metadata": {},
   "outputs": [
    {
     "name": "stdout",
     "output_type": "stream",
     "text": [
      "pink\n",
      "\n"
     ]
    }
   ],
   "source": [
    "#Write a Python program to read a random line from a file\n",
    "import random\n",
    "with open(\"W3 Resources/file.txt\")as f:\n",
    "    lines=f.readlines()\n",
    "    length=len(lines)\n",
    "    k=random.randint(0,length)\n",
    "    print(lines[k])"
   ]
  },
  {
   "cell_type": "code",
   "execution_count": 26,
   "id": "20eab4d2",
   "metadata": {},
   "outputs": [
    {
     "name": "stdout",
     "output_type": "stream",
     "text": [
      "False\n",
      "True\n"
     ]
    }
   ],
   "source": [
    "#Write a Python program to assess if a file is closed or not\n",
    "with open(\"W3 Resources/file.txt\")as f:\n",
    "    print(f.closed)\n",
    "f1=open(\"copy.txt\")\n",
    "f1.close()\n",
    "print(f1.closed)"
   ]
  },
  {
   "cell_type": "code",
   "execution_count": 32,
   "id": "03a1010d",
   "metadata": {},
   "outputs": [
    {
     "name": "stdout",
     "output_type": "stream",
     "text": [
      "['monday', 'tuesday', 'wednesday', 'thursday', 'friday', 'saturday sunday', 'pink', 'blue', 'white']\n"
     ]
    }
   ],
   "source": [
    "# Write a Python program to remove newline characters from a file\n",
    "with open(\"copy.txt\")as f:\n",
    "    lines=f.readlines()\n",
    "result=[i.strip() for i in lines]\n",
    "print(result)\n"
   ]
  },
  {
   "cell_type": "code",
   "execution_count": 35,
   "id": "f9fc8d45",
   "metadata": {},
   "outputs": [
    {
     "name": "stdout",
     "output_type": "stream",
     "text": [
      "10\n"
     ]
    }
   ],
   "source": [
    "#Write a Python program that takes a text file as input and returns the number of words of a given text file\n",
    "with open(\"copy.txt\")as f:\n",
    "    data=f.read()\n",
    "    words=data.split()\n",
    "    word_count=len(words)\n",
    "    print(word_count)\n",
    "    \n",
    "    "
   ]
  }
 ],
 "metadata": {
  "kernelspec": {
   "display_name": "Python 3 (ipykernel)",
   "language": "python",
   "name": "python3"
  },
  "language_info": {
   "codemirror_mode": {
    "name": "ipython",
    "version": 3
   },
   "file_extension": ".py",
   "mimetype": "text/x-python",
   "name": "python",
   "nbconvert_exporter": "python",
   "pygments_lexer": "ipython3",
   "version": "3.11.5"
  }
 },
 "nbformat": 4,
 "nbformat_minor": 5
}
