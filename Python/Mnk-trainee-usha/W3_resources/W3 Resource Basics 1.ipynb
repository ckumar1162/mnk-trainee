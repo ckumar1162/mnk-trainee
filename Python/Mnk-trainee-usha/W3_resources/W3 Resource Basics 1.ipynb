{
 "cells": [
  {
   "cell_type": "code",
   "execution_count": 1,
   "id": "0f9c13a7",
   "metadata": {},
   "outputs": [
    {
     "name": "stdout",
     "output_type": "stream",
     "text": [
      "Twinkle, Twinkle, little star,\n",
      "\tHow i wonder what you are! \n",
      "\t\tUp above the worls so high, \n",
      "\t\tLike a diamond in the sky\n",
      " Twinkle, Twinkle, little star, \n",
      "\t How i wonder what you are!\n"
     ]
    }
   ],
   "source": [
    "print(\"Twinkle, Twinkle, little star,\\n\\tHow i wonder what you are! \\n\\t\\tUp above the worls so high, \\n\\t\\tLike a diamond in the sky\\n Twinkle, Twinkle, little star, \\n\\t How i wonder what you are!\")"
   ]
  },
  {
   "cell_type": "code",
   "execution_count": 2,
   "id": "d59e4cfa",
   "metadata": {},
   "outputs": [
    {
     "name": "stdout",
     "output_type": "stream",
     "text": [
      "Python version\n",
      "3.11.5 | packaged by Anaconda, Inc. | (main, Sep 11 2023, 13:26:23) [MSC v.1916 64 bit (AMD64)]\n"
     ]
    }
   ],
   "source": [
    "#To check pythin version we are using\n",
    "import sys\n",
    "print(\"Python version\")\n",
    "print(sys.version)"
   ]
  },
  {
   "cell_type": "code",
   "execution_count": 3,
   "id": "7bd9b535",
   "metadata": {},
   "outputs": [
    {
     "name": "stdout",
     "output_type": "stream",
     "text": [
      "current date and time:\n",
      "2024-11-07 18:21:04.676789\n"
     ]
    }
   ],
   "source": [
    "import datetime\n",
    "now=datetime.datetime.now()\n",
    "print(\"current date and time:\")\n",
    "print(now)"
   ]
  },
  {
   "cell_type": "code",
   "execution_count": 4,
   "id": "b96e135e",
   "metadata": {},
   "outputs": [
    {
     "name": "stdout",
     "output_type": "stream",
     "text": [
      "enter the radius2\n",
      "12.568\n"
     ]
    }
   ],
   "source": [
    "#Area of a circle\n",
    "r=int(input(\"enter the radius\"))\n",
    "area=3.142*r**2\n",
    "print(area)"
   ]
  },
  {
   "cell_type": "code",
   "execution_count": 1,
   "id": "ae0fff5e",
   "metadata": {},
   "outputs": [
    {
     "name": "stdout",
     "output_type": "stream",
     "text": [
      "Enter the first nameusha\n",
      "Enter the last namek\n",
      "k usha\n"
     ]
    }
   ],
   "source": [
    "fname=input(\"Enter the first name\")\n",
    "lname=input(\"Enter the last name\")\n",
    "#temp=fname\n",
    "#fname=lname\n",
    "#lname=temp\n",
    "fname,lname=lname,fname\n",
    "print(fname,lname)\n"
   ]
  },
  {
   "cell_type": "code",
   "execution_count": 7,
   "id": "887a6bcc",
   "metadata": {},
   "outputs": [
    {
     "name": "stdout",
     "output_type": "stream",
     "text": [
      "enter some numbers2,3,5,7\n",
      "List:  ['2,3,5,7']\n",
      "Tuple:  ('2,3,5,7',)\n"
     ]
    }
   ],
   "source": [
    "# to convert the data to list and tuple\n",
    "values=input(\"enter some numbers\")\n",
    "list=list(values.split())\n",
    "tuple=tuple(list)\n",
    "print(\"List: \", list)\n",
    "print(\"Tuple: \" ,tuple)"
   ]
  },
  {
   "cell_type": "code",
   "execution_count": 8,
   "id": "66a33e71",
   "metadata": {},
   "outputs": [
    {
     "name": "stdout",
     "output_type": "stream",
     "text": [
      "Enter the filenmae:abc.java\n",
      "java\n"
     ]
    }
   ],
   "source": [
    "#Write a Python program that accepts a filename from the user and prints the extension of the file.\n",
    "filename=input(\"Enter the filenmae:\")\n",
    "extension=filename.split(\".\")\n",
    "print(extension[-1])"
   ]
  },
  {
   "cell_type": "code",
   "execution_count": 10,
   "id": "56f7c597",
   "metadata": {},
   "outputs": [
    {
     "name": "stdout",
     "output_type": "stream",
     "text": [
      "Red Black\n"
     ]
    }
   ],
   "source": [
    "#Write a Python program to display the first and last colors from the following list.\n",
    "color_list = [\"Red\",\"Green\",\"White\" ,\"Black\"]\n",
    "print(color_list[0],color_list[-1])\n"
   ]
  },
  {
   "cell_type": "code",
   "execution_count": 17,
   "id": "93d02b95",
   "metadata": {},
   "outputs": [
    {
     "name": "stdout",
     "output_type": "stream",
     "text": [
      "The examination start from :11/12/2014\n"
     ]
    }
   ],
   "source": [
    "#Write a Python program to display the examination schedule. (extract the date from exam_st_date).\n",
    "exam_st_date = (11, 12, 2014)\n",
    "print(\"The examination start from :%i/%i/%i\"%exam_st_date)"
   ]
  },
  {
   "cell_type": "code",
   "execution_count": 22,
   "id": "ebf189e5",
   "metadata": {},
   "outputs": [
    {
     "name": "stdout",
     "output_type": "stream",
     "text": [
      "Enter the number5\n",
      "615\n"
     ]
    }
   ],
   "source": [
    "# Write a Python program that accepts an integer (n) and computes the value of n+nn+nnn\n",
    "a = int(input(\"Enter the number\"))\n",
    "n1 = int(\"%s\" % a)          # Convert 'a' to an integer\n",
    "n2 = int(\"%s%s\" % (a, a))   # Concatenate 'a' with itself and convert to an integer\n",
    "n3 = int(\"%s%s%s\" % (a, a, a))\n",
    "print(n1+n2+n3)"
   ]
  },
  {
   "cell_type": "code",
   "execution_count": 2,
   "id": "08079917",
   "metadata": {},
   "outputs": [
    {
     "name": "stdout",
     "output_type": "stream",
     "text": [
      "adds two number\n",
      "5\n"
     ]
    }
   ],
   "source": [
    "def add(a,b):\n",
    "    \"\"\"adds two number\"\"\"\n",
    "    print(a+b)\n",
    "print(add.__doc__)\n",
    "add(2,3)\n",
    "    "
   ]
  },
  {
   "cell_type": "code",
   "execution_count": 5,
   "id": "146edcc3",
   "metadata": {},
   "outputs": [
    {
     "name": "stdout",
     "output_type": "stream",
     "text": [
      "enter a month\n",
      "12\n",
      "entr a year\n",
      "2001\n",
      "   December 2001\n",
      "Mo Tu We Th Fr Sa Su\n",
      "                1  2\n",
      " 3  4  5  6  7  8  9\n",
      "10 11 12 13 14 15 16\n",
      "17 18 19 20 21 22 23\n",
      "24 25 26 27 28 29 30\n",
      "31\n",
      "\n"
     ]
    }
   ],
   "source": [
    "#prints the calendar for a given month and year.\n",
    "import calendar\n",
    "a=int(input(\"enter a month\\n\"))\n",
    "b=int(input(\"entr a year\\n\"))\n",
    "print(calendar.month(b,a))"
   ]
  },
  {
   "cell_type": "code",
   "execution_count": 6,
   "id": "5a0e50d1",
   "metadata": {},
   "outputs": [
    {
     "name": "stdout",
     "output_type": "stream",
     "text": [
      "371 days, 0:00:00\n"
     ]
    }
   ],
   "source": [
    "#to calculate the difference between two dates \n",
    "from datetime import date\n",
    "fdate=date(2000,1,10)#y/m/d\n",
    "ldate=date(2001,1,15)\n",
    "final=ldate-fdate\n",
    "print(final)"
   ]
  },
  {
   "cell_type": "code",
   "execution_count": 9,
   "id": "f847208a",
   "metadata": {},
   "outputs": [
    {
     "name": "stdout",
     "output_type": "stream",
     "text": [
      "75.40799999999999\n"
     ]
    }
   ],
   "source": [
    "#volume of a sphere\n",
    "pi=3.142\n",
    "r=6\n",
    "v=4/3 *pi*r*3\n",
    "print(4/3 * pi * r*3 )"
   ]
  },
  {
   "cell_type": "code",
   "execution_count": 3,
   "id": "9cc22dee",
   "metadata": {},
   "outputs": [
    {
     "name": "stdout",
     "output_type": "stream",
     "text": [
      "a string that you \"don't\" have to escape\n",
      "This\n",
      "is a ....... multi-line\n",
      "heredoc string --------> example\n"
     ]
    }
   ],
   "source": [
    "3# Write a Python program to print the following 'here document'\n",
    "def function2():\n",
    "    \"\"\"a string that you \"don't\" have to escape\n",
    "This\n",
    "is a ....... multi-line\n",
    "heredoc string --------> example\"\"\"\n",
    "    \n",
    "\n",
    "print(function2.__doc__)"
   ]
  },
  {
   "cell_type": "code",
   "execution_count": 8,
   "id": "3e09647a",
   "metadata": {},
   "outputs": [
    {
     "name": "stdout",
     "output_type": "stream",
     "text": [
      "5\n"
     ]
    }
   ],
   "source": [
    "#Write a Python program to calculate the number of days between two dates.\n",
    "from datetime import date\n",
    "fdate=date(2019,12,15)\n",
    "ldate=date(2019,12,20)\n",
    "final_date=ldate-fdate\n",
    "print(final_date.days)"
   ]
  },
  {
   "cell_type": "code",
   "execution_count": 13,
   "id": "de4579be",
   "metadata": {},
   "outputs": [
    {
     "name": "stdout",
     "output_type": "stream",
     "text": [
      "enter a number20\n",
      "6\n"
     ]
    }
   ],
   "source": [
    "#Write a Python program to calculate the difference between a given number and 17. If the number is greater than 17, return twice the absolute difference.\n",
    "n=int(input(\"enter a number\"))\n",
    "if n<=17:\n",
    "    print(17-n)\n",
    "elif n>17:\n",
    "    print((n-17)*2)"
   ]
  },
  {
   "cell_type": "code",
   "execution_count": 17,
   "id": "f73bdf35",
   "metadata": {},
   "outputs": [
    {
     "name": "stdout",
     "output_type": "stream",
     "text": [
      "Enter the number1522\n",
      "The number is between the 100,1000 and 2000\n"
     ]
    }
   ],
   "source": [
    "#Write a Python program to test whether a number is within 100 of 1000 or 2000.\n",
    "n=int(input(\"Enter the number\"))\n",
    "if n>100 and n>1000 and n<2000:\n",
    "    print(\"The number is between the 100,1000 and 2000\")\n",
    "else:\n",
    "    print(\"not\")"
   ]
  },
  {
   "cell_type": "code",
   "execution_count": 20,
   "id": "ce0f1552",
   "metadata": {},
   "outputs": [
    {
     "name": "stdout",
     "output_type": "stream",
     "text": [
      "Enter the first number2\n",
      "Enter the second number2\n",
      "Enter the third number2\n",
      "12\n"
     ]
    }
   ],
   "source": [
    "# program to calculate the sum of three given numbers. If the values are equal, return three times their sum\n",
    "a=int(input(\"Enter the first number\"))\n",
    "b=int(input(\"Enter the second number\"))\n",
    "c=int(input(\"Enter the third number\"))\n",
    "\n",
    "if a==b==c:\n",
    "    print((a+b+c)*a)\n",
    "else:\n",
    "    print(a+b+c)"
   ]
  },
  {
   "cell_type": "code",
   "execution_count": 21,
   "id": "4eba6da7",
   "metadata": {},
   "outputs": [],
   "source": [
    "#newly generated string\n",
    "#text=input(\"enter the string\")\n",
    "#if len(text)>=2 and \n",
    "\n",
    "        "
   ]
  },
  {
   "cell_type": "code",
   "execution_count": 22,
   "id": "abda0ed0",
   "metadata": {},
   "outputs": [
    {
     "name": "stdout",
     "output_type": "stream",
     "text": [
      "Enter the string: mummyakk i love you\n",
      "Enter the number: 100\n",
      "mummyakk i love you\n",
      "mummyakk i love you\n",
      "mummyakk i love you\n",
      "mummyakk i love you\n",
      "mummyakk i love you\n",
      "mummyakk i love you\n",
      "mummyakk i love you\n",
      "mummyakk i love you\n",
      "mummyakk i love you\n",
      "mummyakk i love you\n",
      "mummyakk i love you\n",
      "mummyakk i love you\n",
      "mummyakk i love you\n",
      "mummyakk i love you\n",
      "mummyakk i love you\n",
      "mummyakk i love you\n",
      "mummyakk i love you\n",
      "mummyakk i love you\n",
      "mummyakk i love you\n",
      "mummyakk i love you\n",
      "mummyakk i love you\n",
      "mummyakk i love you\n",
      "mummyakk i love you\n",
      "mummyakk i love you\n",
      "mummyakk i love you\n",
      "mummyakk i love you\n",
      "mummyakk i love you\n",
      "mummyakk i love you\n",
      "mummyakk i love you\n",
      "mummyakk i love you\n",
      "mummyakk i love you\n",
      "mummyakk i love you\n",
      "mummyakk i love you\n",
      "mummyakk i love you\n",
      "mummyakk i love you\n",
      "mummyakk i love you\n",
      "mummyakk i love you\n",
      "mummyakk i love you\n",
      "mummyakk i love you\n",
      "mummyakk i love you\n",
      "mummyakk i love you\n",
      "mummyakk i love you\n",
      "mummyakk i love you\n",
      "mummyakk i love you\n",
      "mummyakk i love you\n",
      "mummyakk i love you\n",
      "mummyakk i love you\n",
      "mummyakk i love you\n",
      "mummyakk i love you\n",
      "mummyakk i love you\n",
      "mummyakk i love you\n",
      "mummyakk i love you\n",
      "mummyakk i love you\n",
      "mummyakk i love you\n",
      "mummyakk i love you\n",
      "mummyakk i love you\n",
      "mummyakk i love you\n",
      "mummyakk i love you\n",
      "mummyakk i love you\n",
      "mummyakk i love you\n",
      "mummyakk i love you\n",
      "mummyakk i love you\n",
      "mummyakk i love you\n",
      "mummyakk i love you\n",
      "mummyakk i love you\n",
      "mummyakk i love you\n",
      "mummyakk i love you\n",
      "mummyakk i love you\n",
      "mummyakk i love you\n",
      "mummyakk i love you\n",
      "mummyakk i love you\n",
      "mummyakk i love you\n",
      "mummyakk i love you\n",
      "mummyakk i love you\n",
      "mummyakk i love you\n",
      "mummyakk i love you\n",
      "mummyakk i love you\n",
      "mummyakk i love you\n",
      "mummyakk i love you\n",
      "mummyakk i love you\n",
      "mummyakk i love you\n",
      "mummyakk i love you\n",
      "mummyakk i love you\n",
      "mummyakk i love you\n",
      "mummyakk i love you\n",
      "mummyakk i love you\n",
      "mummyakk i love you\n",
      "mummyakk i love you\n",
      "mummyakk i love you\n",
      "mummyakk i love you\n",
      "mummyakk i love you\n",
      "mummyakk i love you\n",
      "mummyakk i love you\n",
      "mummyakk i love you\n",
      "mummyakk i love you\n",
      "mummyakk i love you\n",
      "mummyakk i love you\n",
      "mummyakk i love you\n",
      "mummyakk i love you\n",
      "mummyakk i love you\n"
     ]
    }
   ],
   "source": [
    "#Write a Python program that returns a string that is n (non-negative integer) copies of a given string.\n",
    "text=input(\"Enter the string: \")\n",
    "num=int(input(\"Enter the number: \"))\n",
    "for i in range(num):\n",
    "    print(text)\n"
   ]
  },
  {
   "cell_type": "code",
   "execution_count": 28,
   "id": "f94aee93",
   "metadata": {},
   "outputs": [
    {
     "name": "stdout",
     "output_type": "stream",
     "text": [
      "Enter a number: 1254\n",
      "Number is even\n"
     ]
    }
   ],
   "source": [
    "#Write a Python program that determines whether a given number (accepted from the user) is even or odd, and prints an appropriate message to the user.\n",
    "num=int(input(\"Enter a number: \"))\n",
    "if num%2==0:\n",
    "    print(\"Number is even\")\n",
    "else:\n",
    "    print(\"Number is odd\")\n",
    "    "
   ]
  },
  {
   "cell_type": "code",
   "execution_count": 32,
   "id": "1babf629",
   "metadata": {},
   "outputs": [
    {
     "name": "stdout",
     "output_type": "stream",
     "text": [
      "4\n"
     ]
    }
   ],
   "source": [
    "#Write a Python program to count the number 4 in a given list\n",
    "l=[2,3,4,6,4,2,4,7,4]\n",
    "a=l.count(4)\n",
    "print(a)\n"
   ]
  },
  {
   "cell_type": "code",
   "execution_count": 39,
   "id": "44a02951",
   "metadata": {},
   "outputs": [
    {
     "name": "stdout",
     "output_type": "stream",
     "text": [
      "Enter the text: pinky\n",
      "pi\n"
     ]
    }
   ],
   "source": [
    "#Write a Python program to get n (non-negative integer) \n",
    "#copies of the first 2 characters of a given string. Return n copies of the whole string if the length is less than 2\n",
    "\n",
    "text=input(\"Enter the text: \")\n",
    "for i in range(0,1):\n",
    "    print(text[0:2])"
   ]
  },
  {
   "cell_type": "code",
   "execution_count": 42,
   "id": "8d9487f1",
   "metadata": {},
   "outputs": [
    {
     "name": "stdout",
     "output_type": "stream",
     "text": [
      "Enter the letterj\n",
      "False\n"
     ]
    }
   ],
   "source": [
    "# Write a Python program to test whether a passed letter is a vowel or not.\n",
    "l=[\"a\",\"e\",\"i\",\"o\",\"u\"]\n",
    "text=input(\"Enter the letter\").lower()\n",
    "if text in l:\n",
    "    print(\"True\")\n",
    "else:\n",
    "    print(\"False\")"
   ]
  },
  {
   "cell_type": "code",
   "execution_count": 51,
   "id": "91c138b9",
   "metadata": {},
   "outputs": [
    {
     "name": "stdout",
     "output_type": "stream",
     "text": [
      "False\n"
     ]
    }
   ],
   "source": [
    "# Write a Python program that checks whether a specified value is contained within a group of values.\n",
    "def value(data,n):\n",
    "    for i in data:\n",
    "        if n==i:\n",
    "            return True\n",
    "        \n",
    "    return False\n",
    "print(value([1,2,4,3],-1) )           \n",
    "    "
   ]
  },
  {
   "cell_type": "code",
   "execution_count": 7,
   "id": "cbefdcd3",
   "metadata": {},
   "outputs": [],
   "source": [
    "#histogram\n",
    "\n",
    "        "
   ]
  },
  {
   "cell_type": "code",
   "execution_count": 25,
   "id": "b898adce",
   "metadata": {},
   "outputs": [
    {
     "name": "stdout",
     "output_type": "stream",
     "text": [
      "21\n",
      "<class 'str'>\n"
     ]
    }
   ],
   "source": [
    "#Write a Python program that concatenates all elements in a list into a string and returns it.\n",
    "l=[1,2,3,7,8]\n",
    "res=sum(l)\n",
    "a=str(res)\n",
    "print(a)\n",
    "print(type(a))\n"
   ]
  },
  {
   "cell_type": "code",
   "execution_count": 33,
   "id": "2c9e1b90",
   "metadata": {},
   "outputs": [
    {
     "name": "stdout",
     "output_type": "stream",
     "text": [
      "<class 'str'>\n",
      "21\n"
     ]
    }
   ],
   "source": [
    "#other way\n",
    "from functools import *\n",
    "l=[1,2,3,7,8]\n",
    "a=reduce(lambda x,y:x+y ,l)\n",
    "a=str(a)\n",
    "print(type(a))\n",
    "print(a)"
   ]
  },
  {
   "cell_type": "code",
   "execution_count": 40,
   "id": "becc1cd0",
   "metadata": {},
   "outputs": [
    {
     "ename": "TypeError",
     "evalue": "unsupported operand type(s) for %: 'list' and 'int'",
     "output_type": "error",
     "traceback": [
      "\u001b[1;31m---------------------------------------------------------------------------\u001b[0m",
      "\u001b[1;31mTypeError\u001b[0m                                 Traceback (most recent call last)",
      "Cell \u001b[1;32mIn[40], line 11\u001b[0m\n\u001b[0;32m      9\u001b[0m output\u001b[38;5;241m=\u001b[39m[]\n\u001b[0;32m     10\u001b[0m \u001b[38;5;28;01mfor\u001b[39;00m i \u001b[38;5;129;01min\u001b[39;00m numbers:\n\u001b[1;32m---> 11\u001b[0m     \u001b[38;5;28;01mif\u001b[39;00m numbers\u001b[38;5;241m%\u001b[39m\u001b[38;5;241m2\u001b[39m\u001b[38;5;241m==\u001b[39m\u001b[38;5;241m0\u001b[39m:\n\u001b[0;32m     12\u001b[0m         output\u001b[38;5;241m.\u001b[39mappend(number)\n\u001b[0;32m     13\u001b[0m \u001b[38;5;28mprint\u001b[39m(output)\n",
      "\u001b[1;31mTypeError\u001b[0m: unsupported operand type(s) for %: 'list' and 'int'"
     ]
    }
   ],
   "source": [
    "# Write a Python program to print all even numbers from a given list of numbers in the same order and \n",
    "#stop printing any after 237 in the sequence.\n",
    "numbers = [    \n",
    "    386, 462, 47, 418, 907, 344, 236, 375, 823, 566, 597, 978, 328, 615, 953, 345, \n",
    "    399, 162, 758, 219, 918, 237, 412, 566, 826, 248, 866, 950, 626, 949, 687, 217, \n",
    "    815, 67, 104, 58, 512, 24, 892, 894, 767, 553, 81, 379, 843, 831, 445, 742, 717, \n",
    "    958,743, 527\n",
    "    ]\n",
    "output=[]\n",
    "for i in numbers:S\n",
    "    if numbers%2==0:\n",
    "        output.append(number)\n",
    "print(output)"
   ]
  },
  {
   "cell_type": "code",
   "execution_count": null,
   "id": "c5f813c9",
   "metadata": {},
   "outputs": [],
   "source": []
  },
  {
   "cell_type": "code",
   "execution_count": null,
   "id": "e40b4ecd",
   "metadata": {},
   "outputs": [],
   "source": []
  }
 ],
 "metadata": {
  "kernelspec": {
   "display_name": "Python 3 (ipykernel)",
   "language": "python",
   "name": "python3"
  },
  "language_info": {
   "codemirror_mode": {
    "name": "ipython",
    "version": 3
   },
   "file_extension": ".py",
   "mimetype": "text/x-python",
   "name": "python",
   "nbconvert_exporter": "python",
   "pygments_lexer": "ipython3",
   "version": "3.11.5"
  }
 },
 "nbformat": 4,
 "nbformat_minor": 5
}
