{
 "cells": [
  {
   "cell_type": "code",
   "execution_count": 1,
   "id": "ded0b792",
   "metadata": {
    "scrolled": true
   },
   "outputs": [
    {
     "name": "stdout",
     "output_type": "stream",
     "text": [
      "Enter first number:10\n",
      "Enter second number:0\n",
      "Don't divide by Zero\n",
      "Hello\n"
     ]
    }
   ],
   "source": [
    "#Write a  Python program to handle a ZeroDivisionError exception when dividing a number by zero\n",
    "x=int(input(\"Enter first number:\"))\n",
    "y=int(input(\"Enter second number:\"))\n",
    "try:\n",
    "    z=x/y\n",
    "except ZeroDivisionError:\n",
    "    print(\"Don't divide by Zero\")\n",
    "except ValueError:\n",
    "    print(\"Enter only numbers\")\n",
    "except:\n",
    "    print(\"hi\")\n",
    "finally:\n",
    "    print(\"Hello\")\n",
    "    \n",
    "    "
   ]
  },
  {
   "cell_type": "code",
   "execution_count": 2,
   "id": "511f1d5b",
   "metadata": {},
   "outputs": [
    {
     "name": "stdout",
     "output_type": "stream",
     "text": [
      "Enter first number:ten\n",
      "Value Error: Please enter valid number\n",
      "Program excution complete\n"
     ]
    }
   ],
   "source": [
    "#Write a Python program that prompts the user to input an integer and raises a ValueError exception if the input is not a valid integer\n",
    "try:\n",
    "    x=int(input(\"Enter first number:\"))\n",
    "    y=int(input(\"Enter second number:\"))\n",
    "    try:\n",
    "        z=x/y\n",
    "    except ZeroDivisionError:\n",
    "        print(\"Don't divide by zero\")\n",
    "except ValueError:\n",
    "        print(\"Value Error: Please enter valid number\")\n",
    "finally:\n",
    "    print(\"Program excution complete\")"
   ]
  },
  {
   "cell_type": "code",
   "execution_count": 3,
   "id": "0896cae6",
   "metadata": {},
   "outputs": [
    {
     "name": "stdout",
     "output_type": "stream",
     "text": [
      "Enter a filename:usha\n",
      "\n",
      "Done\n"
     ]
    }
   ],
   "source": [
    "#Write a Python program that opens a file and handles a FileNotFoundError exception if the file does not exist.\n",
    "x=input(\"Enter a filename:\")\n",
    "try:\n",
    "    f=open(x,'r')\n",
    "    print(f.read())\n",
    "except FileNotFoundError:\n",
    "    print(\"Error:file does'nt exist\")\n",
    "finally:\n",
    "    print(\"Done\")"
   ]
  },
  {
   "cell_type": "code",
   "execution_count": 4,
   "id": "0d400ec0",
   "metadata": {},
   "outputs": [
    {
     "name": "stdout",
     "output_type": "stream",
     "text": [
      "Enter first number:ten\n",
      "Enter second number:4\n",
      "Input must be numerical values\n"
     ]
    }
   ],
   "source": [
    "#Write a Python program that prompts the user to input two numbers and raises a TypeError exception if the inputs are not numerical\n",
    "x=input(\"Enter first number:\")\n",
    "y=input(\"Enter second number:\")\n",
    "try:\n",
    "    if not x.isdigit() or not y.isdigit():\n",
    "        raise TypeError(\"Input must be numerical values\")\n",
    "    x=int(x)\n",
    "    y=int(y)\n",
    "    z=x*y\n",
    "    print(f\"Product of {x} and {y} is {z}\")\n",
    "except TypeError as e:\n",
    "    print(e)"
   ]
  },
  {
   "cell_type": "code",
   "execution_count": 12,
   "id": "5eb8112d",
   "metadata": {},
   "outputs": [
    {
     "name": "stdout",
     "output_type": "stream",
     "text": [
      "Enter the filename:0\n",
      "Successfully written\n"
     ]
    }
   ],
   "source": [
    "#Write a Python program that opens a file and handles a PermissionError exception if there is a permission issue\n",
    "try:\n",
    "    f=input(\"Enter the filename:\")\n",
    "    f=open(f,'w')\n",
    "    f.write(\"this is jupyter notebook\")\n",
    "    print(\"Successfully written\")\n",
    "except PermissionError:\n",
    "    print(\"Permisssion denied: you don't have permission to open this file\")"
   ]
  },
  {
   "cell_type": "code",
   "execution_count": 10,
   "id": "74652465",
   "metadata": {},
   "outputs": [
    {
     "name": "stdout",
     "output_type": "stream",
     "text": [
      "Enter the index: 7\n",
      "Index is out of range\n"
     ]
    }
   ],
   "source": [
    "#Write a Python program that executes an operation on a list and handles an IndexError exception if the index is out of range\n",
    "l=[10,20,30,40,50]\n",
    "try:\n",
    "    index=int(input(\"Enter the index: \"))\n",
    "    if index>len(l):\n",
    "        raise IndexError(\"Index is out of range\")\n",
    "except IndexError as e:\n",
    "    print(e)\n",
    "    "
   ]
  },
  {
   "cell_type": "code",
   "execution_count": 20,
   "id": "67bae321",
   "metadata": {},
   "outputs": [
    {
     "name": "stdout",
     "output_type": "stream",
     "text": [
      "Enter a number: 4\n",
      "You enterd 4 \n"
     ]
    }
   ],
   "source": [
    "#Write a Python program that prompts the user to input a number and handles a KeyboardInterrupt exception if the user cancels the input.\n",
    "try:\n",
    "    n=int(input(\"Enter a number: \"))\n",
    "    print(f\"You enterd {n} \")\n",
    "except KeyboardInterrupt:\n",
    "    print(\"Input canceled by user,\")"
   ]
  },
  {
   "cell_type": "code",
   "execution_count": 24,
   "id": "24ecaa8d",
   "metadata": {},
   "outputs": [
    {
     "name": "stdout",
     "output_type": "stream",
     "text": [
      "Enter first number: 10\n",
      "Enter second number: 0\n",
      "Arithmetic Error occured\n",
      "bye\n"
     ]
    }
   ],
   "source": [
    "#Write a Python program that executes division and handles an ArithmeticError exception if there is an arithmetic error.\n",
    "x=int(input(\"Enter first number: \"))\n",
    "y=int(input(\"Enter second number: \"))\n",
    "try:\n",
    "    z=x/y\n",
    "except ArithmeticError:\n",
    "    print(\"Arithmetic Error occured\")\n",
    "finally:\n",
    "    print(\"bye\")"
   ]
  },
  {
   "cell_type": "code",
   "execution_count": 26,
   "id": "32097657",
   "metadata": {},
   "outputs": [
    {
     "name": "stdout",
     "output_type": "stream",
     "text": [
      "Error: The list does not have a 'length' attribut\n"
     ]
    }
   ],
   "source": [
    "#Write a Python program that executes a list operation and handles an AttributeError exception if the attribute does not exist\n",
    "try:\n",
    "    nums = [1, 2, 3, 4, 5]\n",
    "    r = nums.length  \n",
    "    print(\"Length of the list:\", r)\n",
    "except AttributeError:\n",
    "    print(\"Error: The list does not have a 'length' attribut\")\n"
   ]
  },
  {
   "cell_type": "code",
   "execution_count": null,
   "id": "9cc5a316",
   "metadata": {},
   "outputs": [],
   "source": []
  }
 ],
 "metadata": {
  "kernelspec": {
   "display_name": "Python 3 (ipykernel)",
   "language": "python",
   "name": "python3"
  },
  "language_info": {
   "codemirror_mode": {
    "name": "ipython",
    "version": 3
   },
   "file_extension": ".py",
   "mimetype": "text/x-python",
   "name": "python",
   "nbconvert_exporter": "python",
   "pygments_lexer": "ipython3",
   "version": "3.11.5"
  }
 },
 "nbformat": 4,
 "nbformat_minor": 5
}
