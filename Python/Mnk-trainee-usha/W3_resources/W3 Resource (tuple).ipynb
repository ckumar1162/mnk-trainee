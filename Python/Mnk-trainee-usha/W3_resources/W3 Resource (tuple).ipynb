{
 "cells": [
  {
   "cell_type": "code",
   "execution_count": 2,
   "id": "733c985a",
   "metadata": {},
   "outputs": [
    {
     "name": "stdout",
     "output_type": "stream",
     "text": [
      "(1, 23, 4, 'apple', 'banana', 'cherry')\n",
      "<class 'tuple'>\n"
     ]
    }
   ],
   "source": [
    "#Write a  Python program to create a tuple.\n",
    "t=tuple((1,23,4,\"apple\",\"banana\",\"cherry\"))\n",
    "print(t)\n",
    "print(type(t))"
   ]
  },
  {
   "cell_type": "code",
   "execution_count": 4,
   "id": "60a7462f",
   "metadata": {},
   "outputs": [
    {
     "name": "stdout",
     "output_type": "stream",
     "text": [
      "('apple', 1, False)\n",
      "<class 'tuple'>\n"
     ]
    }
   ],
   "source": [
    "#Write a Python program to create a tuple with different data types\n",
    "t=(\"apple\",1,False)\n",
    "print(t)\n",
    "print(type(t))"
   ]
  },
  {
   "cell_type": "code",
   "execution_count": 6,
   "id": "c301b8ae",
   "metadata": {},
   "outputs": [
    {
     "name": "stdout",
     "output_type": "stream",
     "text": [
      "(1, 2, 3, 4)\n"
     ]
    }
   ],
   "source": [
    "#Write a Python program to create a tuple of numbers and print one item\n",
    "x=1,2,3,4\n",
    "print(tuple(x))\n"
   ]
  },
  {
   "cell_type": "code",
   "execution_count": 7,
   "id": "6d5a87bf",
   "metadata": {},
   "outputs": [
    {
     "name": "stdout",
     "output_type": "stream",
     "text": [
      "apple\n",
      "cherry\n",
      "usha\n"
     ]
    }
   ],
   "source": [
    "#Write a Python program to unpack a tuple into several variables.\n",
    "x=(\"apple\",\"cherry\",\"usha\")\n",
    "(usha,good,girl)=x\n",
    "print(usha)\n",
    "print(good)\n",
    "print(girl)"
   ]
  },
  {
   "cell_type": "code",
   "execution_count": 9,
   "id": "f9167ddd",
   "metadata": {},
   "outputs": [
    {
     "name": "stdout",
     "output_type": "stream",
     "text": [
      "usha\n",
      "<class 'str'>\n"
     ]
    }
   ],
   "source": [
    "#Write a Python program to convert a tuple to a string\n",
    "s=(\"usha\")\n",
    "x=str(s)\n",
    "print(x)\n",
    "print(type(x))"
   ]
  },
  {
   "cell_type": "code",
   "execution_count": 10,
   "id": "3792faa5",
   "metadata": {},
   "outputs": [
    {
     "data": {
      "text/plain": [
       "'aishu'"
      ]
     },
     "execution_count": 10,
     "metadata": {},
     "output_type": "execute_result"
    }
   ],
   "source": [
    "#Write a Python program to get the 4th element from the last element of a tuple.\n",
    "t=(\"usha\",\"pinky\",\"aishu\",\"raju\",\"rekha\",\"ratna\")\n",
    "t[-4]"
   ]
  },
  {
   "cell_type": "code",
   "execution_count": 17,
   "id": "653e64e4",
   "metadata": {},
   "outputs": [
    {
     "name": "stdout",
     "output_type": "stream",
     "text": [
      "1:2:3:4:5\n"
     ]
    }
   ],
   "source": [
    "#Write a Python program to create the colon of a tuple\n",
    "x=(1,2,3,4,5)\n",
    "y= ':'.join(map(str,x))\n",
    "print(y)"
   ]
  },
  {
   "cell_type": "code",
   "execution_count": 24,
   "id": "fcf08762",
   "metadata": {},
   "outputs": [
    {
     "name": "stdout",
     "output_type": "stream",
     "text": [
      "('a', 'b', 'c')\n"
     ]
    }
   ],
   "source": [
    "#Write a Python program to find repeated items in a tuple.\n",
    "t=(\"a\",\"b\",\"a\",\"c\",\"d\",\"e\",\"b\",\"c\")\n",
    "t1=()\n",
    "t2=()\n",
    "for i in t:\n",
    "    if i not in t1:\n",
    "        t1+=(i,)\n",
    "    else:\n",
    "        t2+=(i,)\n",
    "print(t2)    "
   ]
  },
  {
   "cell_type": "code",
   "execution_count": 28,
   "id": "72220de5",
   "metadata": {},
   "outputs": [
    {
     "name": "stdout",
     "output_type": "stream",
     "text": [
      "True\n"
     ]
    }
   ],
   "source": [
    "#Write a Python program to check whether an element exists within a tuple\n",
    "t=(\"usha\",\"pinky\",\"aishu\",\"raju\",\"rekha\",\"ratna\")\n",
    "print(\"usha\" in t)"
   ]
  },
  {
   "cell_type": "code",
   "execution_count": 29,
   "id": "6cb44973",
   "metadata": {},
   "outputs": [
    {
     "name": "stdout",
     "output_type": "stream",
     "text": [
      "(1, 2, 3, 4, 5)\n"
     ]
    }
   ],
   "source": [
    "# Write a Python program to convert a list to a tuple\n",
    "l=[1,2,3,4,5]\n",
    "x=tuple(l)\n",
    "print(x)"
   ]
  },
  {
   "cell_type": "code",
   "execution_count": 36,
   "id": "9036b9ca",
   "metadata": {},
   "outputs": [
    {
     "name": "stdout",
     "output_type": "stream",
     "text": [
      "(1, 2, 3, 5)\n"
     ]
    }
   ],
   "source": [
    "#Write a Python program to remove an item from a tuple\n",
    "t=(1, 2, 3, 4, 5)\n",
    "l=list(t)\n",
    "l.remove(4)\n",
    "t=tuple(l)\n",
    "print(t)"
   ]
  },
  {
   "cell_type": "code",
   "execution_count": 38,
   "id": "72273b13",
   "metadata": {},
   "outputs": [
    {
     "data": {
      "text/plain": [
       "('raju', 'rekha')"
      ]
     },
     "execution_count": 38,
     "metadata": {},
     "output_type": "execute_result"
    }
   ],
   "source": [
    "#Write a Python program to slice a tuple\n",
    "t=(\"usha\",\"pinky\",\"aishu\",\"raju\",\"rekha\",\"ratna\")\n",
    "x=t[3:5]\n",
    "x"
   ]
  },
  {
   "cell_type": "code",
   "execution_count": 42,
   "id": "a31202db",
   "metadata": {},
   "outputs": [
    {
     "data": {
      "text/plain": [
       "1"
      ]
     },
     "execution_count": 42,
     "metadata": {},
     "output_type": "execute_result"
    }
   ],
   "source": [
    "#Write a Python program to find the index of an item in a tuple\n",
    "t=(\"usha\",\"pinky\",\"aishu\",\"raju\",\"rekha\",\"ratna\")\n",
    "t.index(\"pinky\")"
   ]
  },
  {
   "cell_type": "code",
   "execution_count": 43,
   "id": "4b4cd52e",
   "metadata": {},
   "outputs": [
    {
     "data": {
      "text/plain": [
       "6"
      ]
     },
     "execution_count": 43,
     "metadata": {},
     "output_type": "execute_result"
    }
   ],
   "source": [
    "#Write a Python program to find the length of a tuple\n",
    "t=(\"usha\",\"pinky\",\"aishu\",\"raju\",\"rekha\",\"ratna\")\n",
    "len(t)"
   ]
  },
  {
   "cell_type": "code",
   "execution_count": 48,
   "id": "6bd83129",
   "metadata": {},
   "outputs": [
    {
     "data": {
      "text/plain": [
       "{1: 2, 3: 4}"
      ]
     },
     "execution_count": 48,
     "metadata": {},
     "output_type": "execute_result"
    }
   ],
   "source": [
    "#Write a Python program to convert a tuple to a dictionary.\n",
    "t=((1,2),(3,4))\n",
    "y=dict((i,j)for i,j in t)\n",
    "#orr\n",
    "y=dict(t)\n",
    "y\n"
   ]
  },
  {
   "cell_type": "code",
   "execution_count": 49,
   "id": "c92629cb",
   "metadata": {},
   "outputs": [
    {
     "name": "stdout",
     "output_type": "stream",
     "text": [
      "[1, 2, 3, 4]\n",
      "['a', 'b', 'c', 'd']\n"
     ]
    }
   ],
   "source": [
    "#Write a Python program to unzip a list of tuples into individual lists\n",
    "l = [(1, 'a'), (2, 'b'), (3, 'c'), (4, 'd')]\n",
    "list1,list2=zip(*l)\n",
    "list1=list(list1)\n",
    "list2=list(list2)\n",
    "print(list1)\n",
    "print(list2)"
   ]
  },
  {
   "cell_type": "code",
   "execution_count": 53,
   "id": "a2d0a2ce",
   "metadata": {},
   "outputs": [
    {
     "data": {
      "text/plain": [
       "(5, 4, 3, 2, 1)"
      ]
     },
     "execution_count": 53,
     "metadata": {},
     "output_type": "execute_result"
    }
   ],
   "source": [
    "#Write a Python program to reverse a tuple\n",
    "t=(1, 2, 3, 4, 5)\n",
    "l=list(t)\n",
    "l.reverse()\n",
    "t=tuple(l)\n",
    "t"
   ]
  },
  {
   "cell_type": "code",
   "execution_count": 54,
   "id": "e8ff9335",
   "metadata": {},
   "outputs": [
    {
     "data": {
      "text/plain": [
       "{'a': 1, 'b': 2, 'c': 3, 'd': 4}"
      ]
     },
     "execution_count": 54,
     "metadata": {},
     "output_type": "execute_result"
    }
   ],
   "source": [
    "#Write a Python program to convert a list of tuples into a dictionary.\n",
    "l = [(\"a\", 1), (\"b\", 2), (\"c\", 3), (\"d\", 4)]\n",
    "x=dict(l)\n",
    "x"
   ]
  },
  {
   "cell_type": "code",
   "execution_count": 58,
   "id": "bcadfea4",
   "metadata": {},
   "outputs": [
    {
     "data": {
      "text/plain": [
       "'usha, 23'"
      ]
     },
     "execution_count": 58,
     "metadata": {},
     "output_type": "execute_result"
    }
   ],
   "source": [
    "# Write a Python program to print a tuple with string formatting.\n",
    "t=(\"usha\",23)\n",
    "output=\"{}, {}\".format(t[0],t[1])\n",
    "output"
   ]
  },
  {
   "cell_type": "code",
   "execution_count": 62,
   "id": "8a3ae79a",
   "metadata": {},
   "outputs": [
    {
     "name": "stdout",
     "output_type": "stream",
     "text": [
      "[(10, 20, 100), (40, 50, 100), (70, 80, 100)]\n"
     ]
    }
   ],
   "source": [
    "#Write a Python program to replace the last value of tuples in a list.\n",
    "l= [(10, 20, 40), (40, 50, 60), (70, 80, 90)]\n",
    "print([t[:-1]+(100,) for t in l])   "
   ]
  },
  {
   "cell_type": "code",
   "execution_count": 71,
   "id": "e6da0820",
   "metadata": {},
   "outputs": [
    {
     "data": {
      "text/plain": [
       "[('',), ('a', 'b'), ('a', 'b', 'c'), 'd']"
      ]
     },
     "execution_count": 71,
     "metadata": {},
     "output_type": "execute_result"
    }
   ],
   "source": [
    "#Write a Python program to remove an empty tuple(s) from a list of tuples.\n",
    "l=[(), (), ('',), ('a', 'b'), ('a', 'b', 'c'), ('d')]\n",
    "[t for t in l if t]        "
   ]
  },
  {
   "cell_type": "code",
   "execution_count": 76,
   "id": "b2b899fc",
   "metadata": {},
   "outputs": [
    {
     "ename": "SyntaxError",
     "evalue": "invalid syntax (1499453960.py, line 3)",
     "output_type": "error",
     "traceback": [
      "\u001b[1;36m  Cell \u001b[1;32mIn[76], line 3\u001b[1;36m\u001b[0m\n\u001b[1;33m    y=sorted(data,key=lambda x:float(x[-],reverse=True))\u001b[0m\n\u001b[1;37m                                        ^\u001b[0m\n\u001b[1;31mSyntaxError\u001b[0m\u001b[1;31m:\u001b[0m invalid syntax\n"
     ]
    }
   ],
   "source": [
    "#Write a Python program to sort a tuple by its float element.\n",
    "data=[('item1', '12.20'), ('item2', '15.10'), ('item3', '24.5')]\n",
    "y=sorted(data,key=lambda x:float(x[-],reverse=True))\n",
    "print(y)"
   ]
  },
  {
   "cell_type": "code",
   "execution_count": null,
   "id": "abc4224c",
   "metadata": {},
   "outputs": [],
   "source": []
  },
  {
   "cell_type": "code",
   "execution_count": null,
   "id": "bdc2bfb6",
   "metadata": {},
   "outputs": [],
   "source": []
  }
 ],
 "metadata": {
  "kernelspec": {
   "display_name": "Python 3 (ipykernel)",
   "language": "python",
   "name": "python3"
  },
  "language_info": {
   "codemirror_mode": {
    "name": "ipython",
    "version": 3
   },
   "file_extension": ".py",
   "mimetype": "text/x-python",
   "name": "python",
   "nbconvert_exporter": "python",
   "pygments_lexer": "ipython3",
   "version": "3.11.5"
  }
 },
 "nbformat": 4,
 "nbformat_minor": 5
}
