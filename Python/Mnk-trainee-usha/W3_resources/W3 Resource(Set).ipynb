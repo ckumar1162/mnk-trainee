{
 "cells": [
  {
   "cell_type": "code",
   "execution_count": 1,
   "id": "2c0689f6",
   "metadata": {},
   "outputs": [
    {
     "name": "stdout",
     "output_type": "stream",
     "text": [
      "{1, 3, 4, 'c', 'a', 'b'}\n"
     ]
    }
   ],
   "source": [
    "#Write a Python program to create a set\n",
    "s={\"a\",\"b\",\"c\",1,3,4,True}# because 1 and true are same\n",
    "print(s)"
   ]
  },
  {
   "cell_type": "code",
   "execution_count": 2,
   "id": "3f96dbe7",
   "metadata": {},
   "outputs": [
    {
     "name": "stdout",
     "output_type": "stream",
     "text": [
      "1\n",
      "3\n",
      "4\n",
      "a\n",
      "c\n",
      "b\n"
     ]
    }
   ],
   "source": [
    "#Write a Python program to iterate over sets\n",
    "s={1, 3, 4, 'c', 'a', 'b'}\n",
    "for i in s:\n",
    "    print(i)"
   ]
  },
  {
   "cell_type": "code",
   "execution_count": 3,
   "id": "c8b0b477",
   "metadata": {},
   "outputs": [
    {
     "data": {
      "text/plain": [
       "{1, 2, 3, 4}"
      ]
     },
     "execution_count": 3,
     "metadata": {},
     "output_type": "execute_result"
    }
   ],
   "source": [
    "#Write a Python program to add member(s) to a set\n",
    "s={1,2,3}\n",
    "s.add(4)\n",
    "s"
   ]
  },
  {
   "cell_type": "code",
   "execution_count": 5,
   "id": "ad04c585",
   "metadata": {},
   "outputs": [
    {
     "data": {
      "text/plain": [
       "{1, 2, 3, 4, 'a', 'b'}"
      ]
     },
     "execution_count": 5,
     "metadata": {},
     "output_type": "execute_result"
    }
   ],
   "source": [
    "s={1,2,3,4}\n",
    "s.update(\"a\",\"b\")\n",
    "s"
   ]
  },
  {
   "cell_type": "code",
   "execution_count": 11,
   "id": "efbfc236",
   "metadata": {},
   "outputs": [
    {
     "name": "stdout",
     "output_type": "stream",
     "text": [
      "{1, 2, 3, 4, 'b'}\n"
     ]
    }
   ],
   "source": [
    "#Write a Python program to remove item(s) from a given set\n",
    "s={1, 2, 3, 4, 'a', 'b'}\n",
    "s.remove(\"a\")\n",
    "print(s)"
   ]
  },
  {
   "cell_type": "code",
   "execution_count": 13,
   "id": "f3bef722",
   "metadata": {},
   "outputs": [
    {
     "data": {
      "text/plain": [
       "{1, 3, 4, 'a', 'b'}"
      ]
     },
     "execution_count": 13,
     "metadata": {},
     "output_type": "execute_result"
    }
   ],
   "source": [
    "#Write a Python program to remove an item from a set if it is present in the set.\n",
    "s={1, 2, 3, 4, 'a', 'b'}\n",
    "s.discard(2)\n",
    "s"
   ]
  },
  {
   "cell_type": "code",
   "execution_count": 14,
   "id": "b4603c1c",
   "metadata": {},
   "outputs": [
    {
     "data": {
      "text/plain": [
       "{'a', 'b'}"
      ]
     },
     "execution_count": 14,
     "metadata": {},
     "output_type": "execute_result"
    }
   ],
   "source": [
    "#Write a Python program to create an intersection of sets.\n",
    "set1={\"a\",\"b\",\"c\",\"d\",\"e\"}\n",
    "set2={\"a\",\"f\",\"g\",\"b\",\"h\"}\n",
    "set3=set1&set2\n",
    "set3"
   ]
  },
  {
   "cell_type": "code",
   "execution_count": 15,
   "id": "f8cb76ee",
   "metadata": {},
   "outputs": [
    {
     "data": {
      "text/plain": [
       "{'a', 'b', 'c', 'd', 'e', 'f', 'g', 'h'}"
      ]
     },
     "execution_count": 15,
     "metadata": {},
     "output_type": "execute_result"
    }
   ],
   "source": [
    "#Write a Python program to create a union of sets\n",
    "set1={\"a\",\"b\",\"c\",\"d\",\"e\"}\n",
    "set2={\"a\",\"f\",\"g\",\"b\",\"h\"}\n",
    "set3=set1|set2\n",
    "set3"
   ]
  },
  {
   "cell_type": "code",
   "execution_count": 16,
   "id": "d4888eae",
   "metadata": {},
   "outputs": [
    {
     "data": {
      "text/plain": [
       "{'c', 'd', 'e'}"
      ]
     },
     "execution_count": 16,
     "metadata": {},
     "output_type": "execute_result"
    }
   ],
   "source": [
    "#Write a Python program to create set difference.\n",
    "set1={\"a\",\"b\",\"c\",\"d\",\"e\"}\n",
    "set2={\"a\",\"f\",\"g\",\"b\",\"h\"}\n",
    "set3=set1.difference(set2)\n",
    "set3"
   ]
  },
  {
   "cell_type": "code",
   "execution_count": 18,
   "id": "24f9d793",
   "metadata": {},
   "outputs": [
    {
     "data": {
      "text/plain": [
       "{'c', 'd', 'e', 'f', 'g', 'h'}"
      ]
     },
     "execution_count": 18,
     "metadata": {},
     "output_type": "execute_result"
    }
   ],
   "source": [
    "#Write a Python program to create a symmetric difference.\n",
    "set1={\"a\",\"b\",\"c\",\"d\",\"e\"}\n",
    "set2={\"a\",\"f\",\"g\",\"b\",\"h\"}\n",
    "set3=set1.symmetric_difference(set2)\n",
    "set3"
   ]
  },
  {
   "cell_type": "code",
   "execution_count": 20,
   "id": "336cfc79",
   "metadata": {},
   "outputs": [
    {
     "name": "stdout",
     "output_type": "stream",
     "text": [
      "{1, 2, 3} is subset of {1, 2, 3, 4, 5, 6}\n"
     ]
    }
   ],
   "source": [
    "#Write a Python program to check if a set is a subset of another set\n",
    "set1={1,2,3}\n",
    "set2={1,3,2,4,5,6}\n",
    "is_subset=True\n",
    "for i in set1:\n",
    "    if i not in set2:\n",
    "        is_subset=False\n",
    "        break\n",
    "\n",
    "if is_subset:\n",
    "    print(f\"{set1} is subset of {set2}\")\n",
    "else:\n",
    "    print(f\"{set1} is  not a subset of {set2}\")"
   ]
  },
  {
   "cell_type": "code",
   "execution_count": 23,
   "id": "099c7daf",
   "metadata": {},
   "outputs": [
    {
     "name": "stdout",
     "output_type": "stream",
     "text": [
      "original_copy {1, 2, 3, 4, 5}\n",
      "shallow_copy {1, 2, 3, 4, 5}\n",
      "original_copy {1, 2, 3, 4, 5}\n",
      "shallow_copy {1, 2, 3, 4, 5, 6}\n"
     ]
    }
   ],
   "source": [
    "#Write a Python program to create a shallow copy of sets\n",
    "original={1,2,3,4,5}\n",
    "shallow=original.copy()\n",
    "print(\"original_copy\",original)\n",
    "print(\"shallow_copy\",shallow)\n",
    "\n",
    "shallow.add(6)\n",
    "print(\"original_copy\",original)\n",
    "print(\"shallow_copy\",shallow)"
   ]
  },
  {
   "cell_type": "code",
   "execution_count": 24,
   "id": "fb5f479d",
   "metadata": {},
   "outputs": [
    {
     "data": {
      "text/plain": [
       "set()"
      ]
     },
     "execution_count": 24,
     "metadata": {},
     "output_type": "execute_result"
    }
   ],
   "source": [
    "#Write a Python program to remove all elements from a given set.\n",
    "s={1,3,2,4,5,6}\n",
    "s.clear()\n",
    "s"
   ]
  },
  {
   "cell_type": "code",
   "execution_count": 25,
   "id": "d83b6e90",
   "metadata": {},
   "outputs": [],
   "source": [
    "#Write a Python program that uses frozensets"
   ]
  },
  {
   "cell_type": "code",
   "execution_count": 27,
   "id": "0405c8aa",
   "metadata": {},
   "outputs": [
    {
     "name": "stdout",
     "output_type": "stream",
     "text": [
      "6\n",
      "1\n"
     ]
    }
   ],
   "source": [
    "#Write a Python program to find the maximum and minimum values in a set.\n",
    "s={1,3,2,4,5,6}\n",
    "print(max(s))\n",
    "print(min(s))"
   ]
  },
  {
   "cell_type": "code",
   "execution_count": 29,
   "id": "4d38ce39",
   "metadata": {},
   "outputs": [
    {
     "name": "stdout",
     "output_type": "stream",
     "text": [
      "7\n"
     ]
    }
   ],
   "source": [
    "#Write a Python program to find the length of a set.\n",
    "s={1,3,2,4,5,6,7}\n",
    "print(len(s))"
   ]
  },
  {
   "cell_type": "code",
   "execution_count": 30,
   "id": "3b9b9918",
   "metadata": {},
   "outputs": [
    {
     "name": "stdout",
     "output_type": "stream",
     "text": [
      "True\n"
     ]
    }
   ],
   "source": [
    "#Write a Python program to check if a given value is present in a set or not.\n",
    "s={2,4,6,8,10}\n",
    "print(6 in s)"
   ]
  },
  {
   "cell_type": "code",
   "execution_count": 32,
   "id": "e3b999c8",
   "metadata": {},
   "outputs": [
    {
     "name": "stdout",
     "output_type": "stream",
     "text": [
      "The sets {1, 2, 3} and {3, 4, 6} have some elements in common.\n"
     ]
    }
   ],
   "source": [
    "#Write a Python program to check if two given sets have no elements in common.\n",
    "set_a = {1, 2, 3}\n",
    "set_b = {4, 3, 6}\n",
    "\n",
    "if set_a.isdisjoint(set_b):  # isdisjoint() returns True if sets have no common elements\n",
    "    print(f\"The sets {set_a} and {set_b} have no elements in common.\")\n",
    "else:\n",
    "    print(f\"The sets {set_a} and {set_b} have some elements in common.\")\n"
   ]
  },
  {
   "cell_type": "code",
   "execution_count": 33,
   "id": "26cc1c75",
   "metadata": {},
   "outputs": [],
   "source": [
    "#Write a Python program to check if a given set is a superset of itself and a superset of another given set\n"
   ]
  },
  {
   "cell_type": "code",
   "execution_count": 35,
   "id": "0ccb5144",
   "metadata": {},
   "outputs": [
    {
     "data": {
      "text/plain": [
       "{1, 2}"
      ]
     },
     "execution_count": 35,
     "metadata": {},
     "output_type": "execute_result"
    }
   ],
   "source": [
    "#Write a Python program to find elements in a given set that are not in another set\n",
    "set1= {1, 2, 3}\n",
    "set2 = {4, 3, 6}\n",
    "set3=set1.difference(set2)\n",
    "set3"
   ]
  },
  {
   "cell_type": "code",
   "execution_count": 37,
   "id": "378d5be6",
   "metadata": {},
   "outputs": [
    {
     "name": "stdout",
     "output_type": "stream",
     "text": [
      "{1, 2}\n",
      "{3, 4, 6}\n"
     ]
    }
   ],
   "source": [
    "#Write a Python program to remove the intersection of a second set with a first set.\n",
    "set1= {1, 2, 3}\n",
    "set2 = {4, 3, 6}\n",
    "for i in set1&set2:\n",
    "    set1.remove(i)\n",
    "print(set1)\n",
    "print(set2)"
   ]
  },
  {
   "cell_type": "code",
   "execution_count": 38,
   "id": "c148afdc",
   "metadata": {},
   "outputs": [],
   "source": [
    "#Write a Python program to find all the unique words and count the frequency of occurrence from a given list of strings. Use Python set data type.\n"
   ]
  },
  {
   "cell_type": "code",
   "execution_count": 39,
   "id": "9486ea5f",
   "metadata": {},
   "outputs": [],
   "source": [
    "#Write a Python program that finds all pairs of elements in a list whose sum is equal to a given value\n"
   ]
  },
  {
   "cell_type": "code",
   "execution_count": 40,
   "id": "221d0fc4",
   "metadata": {},
   "outputs": [
    {
     "data": {
      "text/plain": [
       "{'a', 'b', 'c', 'd'}"
      ]
     },
     "execution_count": 40,
     "metadata": {},
     "output_type": "execute_result"
    }
   ],
   "source": [
    "# Write a Python program to remove all duplicates from a given list of strings and return a list of unique strings. Use the Python set data type.\n",
    "l=[\"a\",\"b\",\"c\",\"d\",\"a\",\"b\"]\n",
    "s=set(l)\n",
    "s"
   ]
  },
  {
   "cell_type": "code",
   "execution_count": 52,
   "id": "e41147f3",
   "metadata": {},
   "outputs": [
    {
     "data": {
      "text/plain": [
       "4"
      ]
     },
     "execution_count": 52,
     "metadata": {},
     "output_type": "execute_result"
    }
   ],
   "source": [
    "# Write a Python program to find the third largest number from a given list of numbers.Use the Python set data type.\n",
    "l=[1,2,3,4,5,6]\n",
    "l.sort()\n",
    "s=l[-3]\n",
    "s\n",
    "y"
   ]
  },
  {
   "cell_type": "code",
   "execution_count": null,
   "id": "4ba0e2f1",
   "metadata": {},
   "outputs": [],
   "source": []
  }
 ],
 "metadata": {
  "kernelspec": {
   "display_name": "Python 3 (ipykernel)",
   "language": "python",
   "name": "python3"
  },
  "language_info": {
   "codemirror_mode": {
    "name": "ipython",
    "version": 3
   },
   "file_extension": ".py",
   "mimetype": "text/x-python",
   "name": "python",
   "nbconvert_exporter": "python",
   "pygments_lexer": "ipython3",
   "version": "3.11.5"
  }
 },
 "nbformat": 4,
 "nbformat_minor": 5
}
