{
 "cells": [
  {
   "cell_type": "code",
   "execution_count": 5,
   "id": "9ef5a73d",
   "metadata": {},
   "outputs": [
    {
     "name": "stdout",
     "output_type": "stream",
     "text": [
      "[2, 4, 6, 8, 10]\n"
     ]
    }
   ],
   "source": [
    "#Write a Python function that filters out even numbers from a list of integers using the filter function.\n",
    "num=[1,2,3,4,5,6,7,8,9,10]\n",
    "output=list(filter(lambda x:x%2==0 ,num))\n",
    "print(output)"
   ]
  },
  {
   "cell_type": "code",
   "execution_count": 9,
   "id": "edd30c96",
   "metadata": {},
   "outputs": [
    {
     "name": "stdout",
     "output_type": "stream",
     "text": [
      "['H', 'E', 'L', 'L', 'O', 'W', 'P']\n"
     ]
    }
   ],
   "source": [
    "#Write a Python program that uses the filter function to extract all uppercase letters from a list of mixed-case strings.\n",
    "str=[\"HELLO\",\"World\",\"Python\"]\n",
    "joined=''.join(str)\n",
    "output=list(filter(lambda x:x.isupper(),joined))\n",
    "print(output)"
   ]
  },
  {
   "cell_type": "code",
   "execution_count": 10,
   "id": "34004da0",
   "metadata": {},
   "outputs": [
    {
     "data": {
      "text/plain": [
       "[1, 2, 3, 4, 5]"
      ]
     },
     "execution_count": 10,
     "metadata": {},
     "output_type": "execute_result"
    }
   ],
   "source": [
    "#Write a Python function that filters out all elements less than or equal than a specified value from a list of numbers using the filter function\n",
    "num=[1,2,3,4,5,6,7,8,9,10]\n",
    "target=5\n",
    "list(filter(lambda x:x<=target,num))"
   ]
  },
  {
   "cell_type": "code",
   "execution_count": 18,
   "id": "fb6e9cfa",
   "metadata": {},
   "outputs": [
    {
     "name": "stdout",
     "output_type": "stream",
     "text": [
      "['Aishu', 'Usha']\n"
     ]
    }
   ],
   "source": [
    "#Write a Python program that creates a list of names and uses the filter function to extract names that start with a vowel (A, E, I, O, U).\n",
    "name=[\"Aishu\",\"Usha\",\"Pinky\",\"Raju\",\"Dolu\"]\n",
    "output=list(filter(lambda x:x[0].upper() in 'AEIOU',name))\n",
    "print(output)"
   ]
  },
  {
   "cell_type": "code",
   "execution_count": 5,
   "id": "14d0f67a",
   "metadata": {},
   "outputs": [
    {
     "name": "stdout",
     "output_type": "stream",
     "text": [
      "['hello', 'world']\n"
     ]
    }
   ],
   "source": [
    "#Write a Python function that filters out all empty strings from a list of strings using the filter function.\n",
    "s=[\"\",\"hello\",\"\",\"world\",\"\"]\n",
    "output=list(filter(lambda x:x!=\"\",s))\n",
    "print(output)\n"
   ]
  },
  {
   "cell_type": "code",
   "execution_count": 18,
   "id": "d414dd83",
   "metadata": {},
   "outputs": [
    {
     "name": "stdout",
     "output_type": "stream",
     "text": [
      "[{'name': 'charli', 'age': 15, 'grade': 95}, {'name': 'python', 'age': 90, 'grade': 98}]\n"
     ]
    }
   ],
   "source": [
    "#Write a Python program that creates a list of dictionaries containing student \n",
    "#information (name, age, grade) and uses the filter function to extract students with a grade greater than or equal to 95\n",
    "student_info=[\n",
    "    {\"name\":\"charli\",\"age\":15,\"grade\":95},\n",
    "    {\"name\":\"python\",\"age\":90,\"grade\":98},\n",
    "    {\"name\":\"java\",\"age\":50,\"grade\":70}\n",
    "]\n",
    "\n",
    "output=list(filter(lambda x:x['grade']>= 95 ,student_info))\n",
    "print(output)"
   ]
  },
  {
   "cell_type": "code",
   "execution_count": 19,
   "id": "b49610fc",
   "metadata": {},
   "outputs": [
    {
     "name": "stdout",
     "output_type": "stream",
     "text": [
      "[2, 3, 5, 7, 11, 13]\n"
     ]
    }
   ],
   "source": [
    "#Write a Python program that filters out prime numbers from a list of integers using the filter function.\n",
    "# List of integers\n",
    "numbers = [1, 2, 3, 4, 5, 6, 7, 8, 9, 10, 11, 12, 13, 14, 15]\n",
    "\n",
    "# Using filter with a lambda function to check for primes\n",
    "prime_numbers = list(filter(lambda x: x > 1 and all(x % i != 0 for i in range(2, int(x ** 0.5) + 1)), numbers))\n",
    "\n",
    "# Output the result\n",
    "print(prime_numbers)\n",
    "#doubt"
   ]
  },
  {
   "cell_type": "code",
   "execution_count": 25,
   "id": "328c44ae",
   "metadata": {},
   "outputs": [
    {
     "name": "stdout",
     "output_type": "stream",
     "text": [
      "['Python', 'helloworld']\n"
     ]
    }
   ],
   "source": [
    "#Write a Python program that creates a list of words and use the filter function to extract words that contain more than five letters\n",
    "l=[\"Hi\",\"Hello\",\"Python\",\"world\",\"helloworld\"]\n",
    "output=list(filter(lambda x:len(x)>5,l))\n",
    "print(output)"
   ]
  },
  {
   "cell_type": "code",
   "execution_count": 29,
   "id": "3ba849da",
   "metadata": {},
   "outputs": [
    {
     "name": "stdout",
     "output_type": "stream",
     "text": [
      "['black', 'yellow']\n"
     ]
    }
   ],
   "source": [
    "#Write a Python function that filters out elements from a list of strings containing a specific substring using the filter function\n",
    "l=[\"red\",\"green\",\"white\",\"black\",\"yellow\"]\n",
    "substring=\"l\"\n",
    "output=list(filter(lambda x:substring in x,l))\n",
    "print(output)"
   ]
  },
  {
   "cell_type": "code",
   "execution_count": 30,
   "id": "6da98b07",
   "metadata": {},
   "outputs": [
    {
     "name": "stdout",
     "output_type": "stream",
     "text": [
      "[('New York', 8500000), ('Los Angeles', 4000000), ('Chicago', 2700000), ('Houston', 2300000)]\n"
     ]
    }
   ],
   "source": [
    "# Write a Python program that creates a list of tuples, each containing a city name and its population. Use the filter function to extract cities with a population greater than 2 million\n",
    "cities=[\n",
    "    (\"New York\", 8500000),\n",
    "    (\"Los Angeles\", 4000000),\n",
    "    (\"Chicago\", 2700000),\n",
    "    (\"Houston\", 2300000),\n",
    "    (\"Phoenix\", 1600000),\n",
    "    (\"Philadelphia\", 1500000),\n",
    "    (\"San Antonio\", 1500000)\n",
    "]\n",
    "output=list(filter(lambda x:x[1]>= 2000000 ,cities))\n",
    "print(output)"
   ]
  },
  {
   "cell_type": "code",
   "execution_count": null,
   "id": "086d7c3e",
   "metadata": {},
   "outputs": [],
   "source": []
  }
 ],
 "metadata": {
  "kernelspec": {
   "display_name": "Python 3 (ipykernel)",
   "language": "python",
   "name": "python3"
  },
  "language_info": {
   "codemirror_mode": {
    "name": "ipython",
    "version": 3
   },
   "file_extension": ".py",
   "mimetype": "text/x-python",
   "name": "python",
   "nbconvert_exporter": "python",
   "pygments_lexer": "ipython3",
   "version": "3.11.5"
  }
 },
 "nbformat": 4,
 "nbformat_minor": 5
}
