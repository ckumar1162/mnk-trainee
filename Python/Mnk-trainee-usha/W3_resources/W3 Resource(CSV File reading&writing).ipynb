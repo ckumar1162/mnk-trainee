{
 "cells": [
  {
   "cell_type": "code",
   "execution_count": 4,
   "id": "7379df70",
   "metadata": {
    "scrolled": true
   },
   "outputs": [
    {
     "name": "stdout",
     "output_type": "stream",
     "text": [
      "['name', 'age', 'grade']\n",
      "['abc', '12', '8']\n",
      "['def', '13', '9']\n",
      "['ghi', '13', '8']\n"
     ]
    }
   ],
   "source": [
    "#Write a Python program to read each row from a given csv file and print a list of strings.\n",
    "import csv\n",
    "with open(\"C:\\\\Users\\\\usha2\\\\Desktop\\\\csvfile.csv\",\"r\")as file:\n",
    "    openfile=csv.reader(file)\n",
    "    for i in openfile:\n",
    "        print(i)"
   ]
  },
  {
   "cell_type": "code",
   "execution_count": 5,
   "id": "5ac71e40",
   "metadata": {},
   "outputs": [
    {
     "name": "stdout",
     "output_type": "stream",
     "text": [
      "['name,age,grade']\n",
      "['abc,12,8']\n",
      "['def,13,9']\n",
      "['ghi,13,8']\n"
     ]
    }
   ],
   "source": [
    "#Write a Python program to read a given CSV file having tab delimiter\n",
    "with open(\"C:\\\\Users\\\\usha2\\\\Desktop\\\\csvfile.csv\") as file:\n",
    "    openfile=csv.reader(file,delimiter=\"\\t\")\n",
    "    for i in openfile:\n",
    "        print(i)"
   ]
  },
  {
   "cell_type": "code",
   "execution_count": 7,
   "id": "0f92eee8",
   "metadata": {},
   "outputs": [
    {
     "name": "stdout",
     "output_type": "stream",
     "text": [
      "[['name', 'age', 'grade'], ['abc', '12', '8'], ['def', '13', '9'], ['ghi', '13', '8']]\n"
     ]
    }
   ],
   "source": [
    "#Write a Python program to read a given CSV file as a list\n",
    "with open(\"C:\\\\Users\\\\usha2\\\\Desktop\\\\csvfile.csv\")as file:\n",
    "    openfile=csv.reader(file)\n",
    "    data=list(openfile)\n",
    "    print(data)"
   ]
  },
  {
   "cell_type": "code",
   "execution_count": 26,
   "id": "1259e529",
   "metadata": {},
   "outputs": [
    {
     "name": "stdout",
     "output_type": "stream",
     "text": [
      "{'name': 'abc', 'age': '12', 'grade': '8'}\n",
      "{'name': 'def', 'age': '13', 'grade': '9'}\n",
      "{'name': 'ghi', 'age': '13', 'grade': '8'}\n"
     ]
    }
   ],
   "source": [
    "#Write a Python program to read a given CSV file as a dictionary\n",
    "with open(\"C:\\\\Users\\\\usha2\\\\Desktop\\\\csvfile.csv\")as file:\n",
    "    openfile=csv.DictReader(file)\n",
    "    for i in openfile:\n",
    "        print(i)"
   ]
  },
  {
   "cell_type": "code",
   "execution_count": 29,
   "id": "b7e56173",
   "metadata": {},
   "outputs": [
    {
     "name": "stdout",
     "output_type": "stream",
     "text": [
      "['name', 'age', 'grade']\n",
      "['      abc', '12', '8']\n",
      "['          def', '13', '9']\n",
      "['    ghi', '13', '8']\n",
      "After\n",
      "['name', 'age', 'grade']\n",
      "['abc', '12', '8']\n",
      "['def', '13', '9']\n",
      "['ghi', '13', '8']\n"
     ]
    }
   ],
   "source": [
    "#Write a Python program to read a given CSV files with initial spaces after a delimiter and remove those initial spaces.\n",
    "#Before\n",
    "with open(\"C:\\\\Users\\\\usha2\\\\Desktop\\\\csvfile.csv\",\"r\")as file:\n",
    "    openfile=csv.reader(file)\n",
    "    for i in openfile:\n",
    "        print(i)\n",
    "print(\"After\")        \n",
    "with open(\"C:\\\\Users\\\\usha2\\\\Desktop\\\\csvfile.csv\",\"r\")as file:\n",
    "    openfile=csv.reader(file,skipinitialspace=True)\n",
    "    for i in openfile:\n",
    "        print(i)"
   ]
  },
  {
   "cell_type": "code",
   "execution_count": 36,
   "id": "7f27db3b",
   "metadata": {},
   "outputs": [
    {
     "name": "stdout",
     "output_type": "stream",
     "text": [
      "Before\n",
      "['name', 'age', 'grade']\n",
      "['      abc', '12', '8']\n",
      "['          def', '13', '9']\n",
      "['   ghi', '13', '10']\n",
      "After\n",
      "['name', 'age', 'grade']\n",
      "['abc', '12', '8']\n",
      "['def', '13', '9']\n",
      "['ghi', '13', '10']\n"
     ]
    }
   ],
   "source": [
    "#Write a Python program that reads a CSV file and remove initial spaces, quotes around each entry and the delimiter.\n",
    "print(\"Before\")\n",
    "with open(\"C:\\\\Users\\\\usha2\\\\Desktop\\\\csvfile.csv\",\"r\")as file:\n",
    "    openfile=csv.reader(file)\n",
    "    for i in openfile:\n",
    "        print(i)\n",
    "print(\"After\")\n",
    "with open(\"C:\\\\Users\\\\usha2\\\\Desktop\\\\csvfile.csv\",\"r\")as file:\n",
    "    reader=csv.reader(file,skipinitialspace=True,quoting=csv.QUOTE_ALL)\n",
    "    for i in reader:\n",
    "        print(i)#doubt space in 3 row is not removed"
   ]
  },
  {
   "cell_type": "code",
   "execution_count": 42,
   "id": "329842b2",
   "metadata": {},
   "outputs": [
    {
     "name": "stdout",
     "output_type": "stream",
     "text": [
      "name\n",
      "abc\n",
      "def\n",
      "ghi\n"
     ]
    }
   ],
   "source": [
    "#Write a Python program to read specific columns of a given CSV file and print the content of the columns\n",
    "with open(\"C:\\\\Users\\\\usha2\\\\Desktop\\\\csvfile.csv\",\"r\")as file:\n",
    "    data=csv.reader(file)\n",
    "    for i in data:\n",
    "        print(i[0])"
   ]
  },
  {
   "cell_type": "code",
   "execution_count": 44,
   "id": "2ba3d80d",
   "metadata": {},
   "outputs": [
    {
     "name": "stdout",
     "output_type": "stream",
     "text": [
      "abc\n",
      "def\n",
      "ghi\n"
     ]
    }
   ],
   "source": [
    "#or\n",
    "with open(\"C:\\\\Users\\\\usha2\\\\Desktop\\\\csvfile.csv\",\"r\")as file:\n",
    "    data=csv.DictReader(file)\n",
    "    for i in data:\n",
    "        print(i[\"name\"])"
   ]
  },
  {
   "cell_type": "code",
   "execution_count": null,
   "id": "2e5c65aa",
   "metadata": {},
   "outputs": [],
   "source": []
  },
  {
   "cell_type": "code",
   "execution_count": 2,
   "id": "cfab4829",
   "metadata": {},
   "outputs": [
    {
     "name": "stdout",
     "output_type": "stream",
     "text": [
      "{'name': 'abc', 'age': '12', 'grade': '8'}\n",
      "{'name': 'def', 'age': '12', 'grade': '9'}\n",
      "{'name': 'ijk', 'age': '13', 'grade': '10'}\n",
      "{'name': 'jkl', 'age': '19', 'grade': '7'}\n",
      "{'name': 'mno', 'age': '20', 'grade': '10'}\n"
     ]
    }
   ],
   "source": [
    "#Write a Python program to write a Python dictionary to a csv file. After writing the CSV file read the CSV file and display the content.\n",
    "import csv\n",
    "mydict=[{\"name\":\"jkl\",\"grade\":7,\"age\":19},\n",
    "       {\"name\":\"mno\",\"grade\":10,\"age\":20}]\n",
    "fields=[\"name\",\"age\",\"grade\"]\n",
    "with open(\"C:\\\\Users\\\\usha2\\\\Desktop\\\\csvfile.csv\",\"a\",newline=\"\")as file:\n",
    "    writer=csv.DictWriter(file,fieldnames=fields)\n",
    "    #writer.writeheader()\n",
    "    writer.writerows(mydict)\n",
    "with open(\"C:\\\\Users\\\\usha2\\\\Desktop\\\\csvfile.csv\")as file:\n",
    "    readfile=csv.DictReader(file)\n",
    "    for i in readfile:\n",
    "        print(i) "
   ]
  },
  {
   "cell_type": "code",
   "execution_count": 3,
   "id": "e1920988",
   "metadata": {},
   "outputs": [
    {
     "name": "stdout",
     "output_type": "stream",
     "text": [
      "['name', 'age', 'grade']\n",
      "['abc', '12', '8']\n",
      "['def', '12', '9']\n",
      "['ijk', '13', '10']\n",
      "['jkl', '19', '7']\n",
      "['mno', '20', '10']\n"
     ]
    }
   ],
   "source": [
    "#reading a file in normal form\n",
    "with open(\"C:\\\\Users\\\\usha2\\\\Desktop\\\\csvfile.csv\",\"r\")as f:\n",
    "    reader=csv.reader(f)\n",
    "    for i in reader:\n",
    "        print(i)"
   ]
  },
  {
   "cell_type": "code",
   "execution_count": 30,
   "id": "96137455",
   "metadata": {},
   "outputs": [
    {
     "name": "stdout",
     "output_type": "stream",
     "text": [
      "Field names are :['name', 'age', 'grade']\n",
      "{'name': 'abc', 'age': '12', 'grade': '8'}\n",
      "{'name': 'def', 'age': '12', 'grade': '9'}\n",
      "{'name': 'ijk', 'age': '13', 'grade': '10'}\n",
      "{'name': 'jkl', 'age': '19', 'grade': '7'}\n",
      "{'name': 'mno', 'age': '20', 'grade': '10'}\n",
      "number of rows :5\n"
     ]
    }
   ],
   "source": [
    "#Write a Python program that reads each row of a given csv file and skip the header of the file. Also print the number of rows and the field names.\n",
    "rows=0\n",
    "with open(\"C:\\\\Users\\\\usha2\\\\Desktop\\\\csvfile.csv\",\"r\")as f:\n",
    "    reader=csv.DictReader(f)\n",
    "    fieldnames=reader.fieldnames\n",
    "    print(f\"Field names are :{fieldnames}\")\n",
    "    for i in reader:\n",
    "        rows+=1\n",
    "        print(i)\n",
    "print(f\"number of rows :{rows}\") \n"
   ]
  },
  {
   "cell_type": "code",
   "execution_count": 35,
   "id": "11a8558b",
   "metadata": {},
   "outputs": [
    {
     "name": "stdout",
     "output_type": "stream",
     "text": [
      "['name', 'age', 'grade']\n",
      "['abc', '12', '8']\n",
      "['def', '12', '9']\n",
      "['ijk', '13', '10']\n",
      "['jkl', '19', '7']\n",
      "['mno', '20', '10']\n",
      "['xyz', '21', '9']\n"
     ]
    }
   ],
   "source": [
    "#Write a  Python program to create an object for  writing and iterate over the rows to print the values\n",
    "data=[[\"xyz\",21,9]]\n",
    "with open(\"C:\\\\Users\\\\usha2\\\\Desktop\\\\csvfile.csv\",\"a\",newline=\"\")as file:\n",
    "    write=csv.writer(file)\n",
    "    for i in data:\n",
    "        write.writerow(i)\n",
    "with open(\"C:\\\\Users\\\\usha2\\\\Desktop\\\\csvfile.csv\",\"r\")as file:\n",
    "    openfile=csv.reader(file)\n",
    "    for i in openfile:\n",
    "        print(i)\n",
    "        "
   ]
  },
  {
   "cell_type": "code",
   "execution_count": null,
   "id": "def3394a",
   "metadata": {},
   "outputs": [],
   "source": []
  }
 ],
 "metadata": {
  "kernelspec": {
   "display_name": "Python 3 (ipykernel)",
   "language": "python",
   "name": "python3"
  },
  "language_info": {
   "codemirror_mode": {
    "name": "ipython",
    "version": 3
   },
   "file_extension": ".py",
   "mimetype": "text/x-python",
   "name": "python",
   "nbconvert_exporter": "python",
   "pygments_lexer": "ipython3",
   "version": "3.11.5"
  }
 },
 "nbformat": 4,
 "nbformat_minor": 5
}
