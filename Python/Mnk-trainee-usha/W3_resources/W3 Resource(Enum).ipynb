{
 "cells": [
  {
   "cell_type": "code",
   "execution_count": 2,
   "id": "70440cd3",
   "metadata": {},
   "outputs": [
    {
     "name": "stdout",
     "output_type": "stream",
     "text": [
      "Member name:Albania\n",
      "Member value:355\n"
     ]
    }
   ],
   "source": [
    "#Write a  Python program to create an Enum object and display a member name and value\n",
    "from enum import Enum\n",
    "class Country(Enum):\n",
    "    Afghanistan = 93\n",
    "    Albania = 355\n",
    "    Algeria = 213\n",
    "    Andorra = 376\n",
    "    Angola = 244\n",
    "    Antarctica = 672\n",
    "print(f\"Member name:{Country.Albania.name}\") \n",
    "print(f\"Member value:{Country.Albania.value}\")"
   ]
  },
  {
   "cell_type": "code",
   "execution_count": 3,
   "id": "a22c631e",
   "metadata": {},
   "outputs": [
    {
     "name": "stdout",
     "output_type": "stream",
     "text": [
      "Afghanistan 93\n",
      "Albania 355\n",
      "Algeria 213\n",
      "Andorra 376\n",
      "Angola 244\n",
      "Antarctica 672\n"
     ]
    }
   ],
   "source": [
    "#Write a Python program that iterates over an enum class and displays each member and their value.\n",
    "class Country(Enum):\n",
    "    Afghanistan = 93\n",
    "    Albania = 355\n",
    "    Algeria = 213\n",
    "    Andorra = 376\n",
    "    Angola = 244\n",
    "    Antarctica = 672\n",
    "    \n",
    "for i in Country:\n",
    "    print(i.name,i.value)"
   ]
  },
  {
   "cell_type": "code",
   "execution_count": 13,
   "id": "5dc3f3e7",
   "metadata": {},
   "outputs": [
    {
     "name": "stdout",
     "output_type": "stream",
     "text": [
      "Afghanistan\n",
      "Algeria\n",
      "Angola\n",
      "Albania\n",
      "Andorra\n",
      "Antarctica\n"
     ]
    }
   ],
   "source": [
    "#Write a Python program to display all the member names of an enum class ordered by their values\n",
    "class Country(Enum):\n",
    "    Afghanistan = 93\n",
    "    Albania = 355\n",
    "    Algeria = 213\n",
    "    Andorra = 376\n",
    "    Angola = 244\n",
    "    Antarctica = 672\n",
    "sorted_countries=sorted(Country,key=lambda country:country.value)    \n",
    "for i in sorted_countries:\n",
    "    print(i.name)"
   ]
  },
  {
   "cell_type": "code",
   "execution_count": 23,
   "id": "72e0260e",
   "metadata": {},
   "outputs": [
    {
     "name": "stdout",
     "output_type": "stream",
     "text": [
      "[93, 355, 213, 376, 244, 672]\n"
     ]
    }
   ],
   "source": [
    "#Write a Python program to get all values from an enum class.\n",
    "class Country(Enum):\n",
    "    Afghanistan = 93\n",
    "    Albania = 355\n",
    "    Algeria = 213\n",
    "    Andorra = 376\n",
    "    Angola = 244\n",
    "    Antarctica = 672\n",
    "country_codes=[i.value for i in Country]\n",
    "print(country_codes)"
   ]
  },
  {
   "cell_type": "code",
   "execution_count": 40,
   "id": "0f5ea1d8",
   "metadata": {},
   "outputs": [
    {
     "name": "stdout",
     "output_type": "stream",
     "text": [
      "[('Afghanistan', 93), ('Albania', 355), ('Algeria', 213), ('Andorra', 376), ('Angola', 244)]\n"
     ]
    }
   ],
   "source": [
    "#Write a Python program to get unique enumeration values\n",
    "class Countries(Enum):\n",
    "    Afghanistan = 93\n",
    "    Albania = 355\n",
    "    Algeria = 213\n",
    "    Andorra = 376\n",
    "    Angola = 244\n",
    "    India = 355\n",
    "    USA = 213\n",
    "    \n",
    "unique_country_code=set((i.name,i.value) for i in Countries)\n",
    "print(sorted(unique_country_code))"
   ]
  },
  {
   "cell_type": "code",
   "execution_count": null,
   "id": "065976a7",
   "metadata": {},
   "outputs": [],
   "source": []
  }
 ],
 "metadata": {
  "kernelspec": {
   "display_name": "Python 3 (ipykernel)",
   "language": "python",
   "name": "python3"
  },
  "language_info": {
   "codemirror_mode": {
    "name": "ipython",
    "version": 3
   },
   "file_extension": ".py",
   "mimetype": "text/x-python",
   "name": "python",
   "nbconvert_exporter": "python",
   "pygments_lexer": "ipython3",
   "version": "3.11.5"
  }
 },
 "nbformat": 4,
 "nbformat_minor": 5
}
