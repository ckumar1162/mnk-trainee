{
 "cells": [
  {
   "cell_type": "code",
   "execution_count": 1,
   "id": "8c84afd1",
   "metadata": {},
   "outputs": [
    {
     "name": "stdout",
     "output_type": "stream",
     "text": [
      "1\n",
      "3\n",
      "5\n",
      "7\n",
      "9\n",
      "Accessing elements :\n",
      "1\n",
      "3\n",
      "5\n"
     ]
    }
   ],
   "source": [
    "#Write a Python program to create an array of 5 integers and display the array items. Access individual elements through indexes.\n",
    "import numpy as np\n",
    "n=np.array([1,3,5,7,9])\n",
    "for i in n:\n",
    "    print(i)\n",
    "print(\"Accessing elements :\")\n",
    "print(n[0])\n",
    "print(n[1])\n",
    "print(n[2])"
   ]
  },
  {
   "cell_type": "code",
   "execution_count": 2,
   "id": "68b7837f",
   "metadata": {},
   "outputs": [
    {
     "name": "stdout",
     "output_type": "stream",
     "text": [
      "array('i', [1, 2, 3, 4, 5])\n",
      "array('i', [1, 2, 3, 4, 5, 11])\n"
     ]
    }
   ],
   "source": [
    "#Write a Python program to append a new item to the end of the array.\n",
    "from array import *\n",
    "n=array('i',[1,2,3,4,5])\n",
    "print(n)\n",
    "n.append(11)\n",
    "print(n)"
   ]
  },
  {
   "cell_type": "code",
   "execution_count": 3,
   "id": "304fb63b",
   "metadata": {},
   "outputs": [
    {
     "name": "stdout",
     "output_type": "stream",
     "text": [
      "array('i', [1, 2, 3, 4, 5])\n"
     ]
    },
    {
     "data": {
      "text/plain": [
       "array('i', [5, 4, 3, 2, 1])"
      ]
     },
     "execution_count": 3,
     "metadata": {},
     "output_type": "execute_result"
    }
   ],
   "source": [
    "#Write a Python program to reverse the order of the items in the array\n",
    "n=array('i',[1,2,3,4,5]) # i stands for signed integer\n",
    "print(n)\n",
    "n.reverse()\n",
    "n"
   ]
  },
  {
   "cell_type": "code",
   "execution_count": 4,
   "id": "2b82f754",
   "metadata": {},
   "outputs": [
    {
     "name": "stdout",
     "output_type": "stream",
     "text": [
      "Length of one byte array is:4\n"
     ]
    }
   ],
   "source": [
    "# Write a Python program to get the length in bytes of one array item in the internal representation\n",
    "n=array('i',[1,2,3,4,5])\n",
    "print(f\"Length of one byte array is:{n.itemsize}\")\n"
   ]
  },
  {
   "cell_type": "code",
   "execution_count": 5,
   "id": "94398d2e",
   "metadata": {},
   "outputs": [
    {
     "name": "stdout",
     "output_type": "stream",
     "text": [
      "array('i', [1, 2, 3, 4, 5])\n",
      "memory address and length in elements of the buffer (2342701738352, 5), and memory size in byte is 20\n"
     ]
    }
   ],
   "source": [
    "# Write a Python program to get the current memory address and the length in elements of the buffer used to hold an array's contents. Also, find the size of the memory buffer in bytes\n",
    "n=array('i',[1,2,3,4,5])\n",
    "print(n)\n",
    "x=n.buffer_info() # addr and len \n",
    "y=n.buffer_info()[1]*n.itemsize\n",
    "print(f\"memory address and length in elements of the buffer {x}, and memory size in byte is {y}\")"
   ]
  },
  {
   "cell_type": "code",
   "execution_count": 6,
   "id": "5c9f57dc",
   "metadata": {},
   "outputs": [
    {
     "data": {
      "text/plain": [
       "2"
      ]
     },
     "execution_count": 6,
     "metadata": {},
     "output_type": "execute_result"
    }
   ],
   "source": [
    "#Write a Python program to get the number of occurrences of a specified element in an array.\n",
    "n=array('i', [1, 3, 5, 1, 7, 9, 3])\n",
    "x=n.count(3)\n",
    "x"
   ]
  },
  {
   "cell_type": "code",
   "execution_count": 7,
   "id": "ec857611",
   "metadata": {},
   "outputs": [
    {
     "name": "stdout",
     "output_type": "stream",
     "text": [
      "Original array array('i', [1, 2, 3, 4, 5])\n",
      "Extended Array array('i', [1, 2, 3, 4, 5, 1, 2, 3, 4, 5])\n"
     ]
    }
   ],
   "source": [
    "#Write a Python program to append items from inerrable to the end of the array.\n",
    "n=array('i',[1,2,3,4,5])\n",
    "print(f\"Original array {n}\")\n",
    "x=n*2\n",
    "print(f\"Extended Array {x}\")"
   ]
  },
  {
   "cell_type": "code",
   "execution_count": 8,
   "id": "a46b3279",
   "metadata": {},
   "outputs": [
    {
     "name": "stdout",
     "output_type": "stream",
     "text": [
      "Bytes to string:\n"
     ]
    },
    {
     "data": {
      "text/plain": [
       "b'\\n\\x00\\x00\\x00\\x14\\x00\\x00\\x00\\x1e\\x00\\x00\\x00(\\x00\\x00\\x002\\x00\\x00\\x00'"
      ]
     },
     "execution_count": 8,
     "metadata": {},
     "output_type": "execute_result"
    }
   ],
   "source": [
    "#Write a Python program to convert an array to an array of machine values and return the bytes representation\n",
    "print(\"Bytes to string:\")\n",
    "x=array('i',[10,20,30,40,50])\n",
    "y=x.tobytes()\n",
    "y"
   ]
  },
  {
   "cell_type": "code",
   "execution_count": 25,
   "id": "1abe4272",
   "metadata": {},
   "outputs": [
    {
     "name": "stdout",
     "output_type": "stream",
     "text": [
      "array('i', [1, 2, 4, 3, 4, 5])\n"
     ]
    }
   ],
   "source": [
    "#Write a Python program to append items to a specified list\n",
    "n=array('i',[1,2,3,4,5])\n",
    "n.insert(2,4) \n",
    "print(n)"
   ]
  },
  {
   "cell_type": "code",
   "execution_count": 29,
   "id": "97b6b473",
   "metadata": {},
   "outputs": [
    {
     "name": "stdout",
     "output_type": "stream",
     "text": [
      "original array array('i', [1, 3, 5, 7, 9])\n",
      "New array :array('i', [1, 4, 3, 5, 7, 9])\n"
     ]
    }
   ],
   "source": [
    "#Write a Python program to insert a newly created item before the second element in an existing array\n",
    "n=array('i',[1,3,5,7,9])\n",
    "print(f\"original array {n}\")\n",
    "n.insert(1,4)\n",
    "print(f\"New array :{n}\")"
   ]
  },
  {
   "cell_type": "code",
   "execution_count": 36,
   "id": "41975989",
   "metadata": {},
   "outputs": [
    {
     "name": "stdout",
     "output_type": "stream",
     "text": [
      "Original array :array('i', [1, 3, 5, 7, 9])\n",
      "Remove the third item from the array\n",
      "New array: array('i', [1, 3, 7, 9])\n"
     ]
    }
   ],
   "source": [
    "#Write a  Python program to remove a specified item using the index of an array.\n",
    "n=array('i',[1,3,5,7,9])\n",
    "print(f\"Original array :{n}\")\n",
    "print(\"Remove the third item from the array\")\n",
    "n.remove(5)\n",
    "print(f\"New array: {n}\")"
   ]
  },
  {
   "cell_type": "code",
   "execution_count": 42,
   "id": "05c944c1",
   "metadata": {},
   "outputs": [
    {
     "name": "stdout",
     "output_type": "stream",
     "text": [
      "Original array:array('i', [1, 3, 5, 3, 7, 1, 9, 3])\n",
      "Remove the first occurence of 3 from tha said array :\n",
      "New array :array('i', [1, 5, 3, 7, 1, 9, 3])\n"
     ]
    }
   ],
   "source": [
    "#Write a Python program to remove the first occurrence of a specified element from an array\n",
    "n=array('i',[1,3,5,3,7,1,9,3])\n",
    "print(f\"Original array:{n}\")\n",
    "print(\"Remove the first occurence of 3 from tha said array :\")\n",
    "n.remove(3)\n",
    "print(f\"New array :{n}\")"
   ]
  },
  {
   "cell_type": "code",
   "execution_count": 45,
   "id": "f78082ee",
   "metadata": {},
   "outputs": [
    {
     "name": "stdout",
     "output_type": "stream",
     "text": [
      "Original array:array('i', [1, 3, 5, 3, 7, 1, 9, 3])\n",
      "Convert the said array to an ordinary list with the same items:\n",
      "[1, 3, 5, 3, 7, 1, 9, 3]\n"
     ]
    }
   ],
   "source": [
    "# Write a Python program to convert an array to an ordinary list with the same items\n",
    "n=array('i',[1,3,5,3,7,1,9,3])\n",
    "print(f\"Original array:{n}\")\n",
    "print(\"Convert the said array to an ordinary list with the same items:\")\n",
    "x=list(n)\n",
    "print(x)"
   ]
  },
  {
   "cell_type": "code",
   "execution_count": 49,
   "id": "a805f3cb",
   "metadata": {},
   "outputs": [
    {
     "name": "stdout",
     "output_type": "stream",
     "text": [
      "False\n",
      "True\n"
     ]
    }
   ],
   "source": [
    "#Write a  Python program to find out if a given array of integers contains any duplicate elements. Return true if any value appears at least twice in the array, and return false if every element is distinct.\n",
    "def check_duplicates(array):\n",
    "    if len(set(array))!=len(array):\n",
    "        print(\"True\")\n",
    "    else:\n",
    "        print(\"False\")\n",
    "check_duplicates([1,2,3,4])        \n",
    "check_duplicates([1,2,3,4,3,2,4])        "
   ]
  },
  {
   "cell_type": "code",
   "execution_count": 58,
   "id": "0b654796",
   "metadata": {},
   "outputs": [
    {
     "name": "stdout",
     "output_type": "stream",
     "text": [
      "4\n",
      "-1\n",
      "1\n"
     ]
    }
   ],
   "source": [
    "#Write a Python program to find the first duplicate element in a given array of integers. Return -1 if there are no such elements\n",
    "def check_first_duplicate(arr):\n",
    "    seen=set()\n",
    "    for i in arr:\n",
    "        if i in seen:\n",
    "            return i\n",
    "        seen.add(i)\n",
    "    return -1\n",
    "print(check_first_duplicate([1,2,3,4,4]))\n",
    "print(check_first_duplicate([1,2,3,4]))\n",
    "print(check_first_duplicate([1,2,3,4,1]))"
   ]
  },
  {
   "cell_type": "code",
   "execution_count": 65,
   "id": "ae35a508",
   "metadata": {},
   "outputs": [
    {
     "name": "stdout",
     "output_type": "stream",
     "text": [
      "True\n"
     ]
    }
   ],
   "source": [
    "#Write a Python program to check whether it follows the sequence given in the patterns array\n",
    "def pattern_check(color,pattern):\n",
    "    color_index = [color.index(c) for c in color]\n",
    "    pattern_index = [pattern.index(p) for p in pattern]\n",
    "    \n",
    "    return color_index == pattern_index\n",
    "\n",
    "color1 = [\"red\",\"green\",\"green\"]\n",
    "pattern1 = [\"a\",\"b\",\"b\"]\n",
    "print(pattern_check(color1,pattern1))"
   ]
  },
  {
   "cell_type": "code",
   "execution_count": 66,
   "id": "27cf7836",
   "metadata": {},
   "outputs": [
    {
     "name": "stdout",
     "output_type": "stream",
     "text": [
      "10\n",
      "20\n",
      "30\n",
      "40\n",
      "50\n",
      "60\n"
     ]
    }
   ],
   "source": [
    "#Write a Python program to create an array of six integers. Print all members of the array.\n",
    "n=array('i',[10,20,30,40,50,60])\n",
    "for i in n:\n",
    "    print(i)"
   ]
  },
  {
   "cell_type": "code",
   "execution_count": 67,
   "id": "3dc5ff3a",
   "metadata": {},
   "outputs": [
    {
     "name": "stdout",
     "output_type": "stream",
     "text": [
      "(2342718821680, 6)\n"
     ]
    }
   ],
   "source": [
    "#Write a Python program to get array buffer information\n",
    "n=array('i',[10,20,30,40,50,60])\n",
    "x=n.buffer_info()\n",
    "print(x)"
   ]
  },
  {
   "cell_type": "code",
   "execution_count": 69,
   "id": "12c916f0",
   "metadata": {},
   "outputs": [
    {
     "name": "stdout",
     "output_type": "stream",
     "text": [
      "6\n"
     ]
    }
   ],
   "source": [
    "#Write a Python program to get the length of an array.\n",
    "n=array('i',[10,20,30,40,50,60])\n",
    "x=len(n)\n",
    "print(x)"
   ]
  },
  {
   "cell_type": "code",
   "execution_count": 72,
   "id": "54484474",
   "metadata": {},
   "outputs": [
    {
     "name": "stdout",
     "output_type": "stream",
     "text": [
      "Unsigned integer:4\n",
      "float:4\n"
     ]
    }
   ],
   "source": [
    "#Write a Python program to get the array size of types unsigned integer and float.\n",
    "a=array('I',[1,2,3])\n",
    "print(f\"Unsigned integer:{a.itemsize}\")\n",
    "b=array('f',[1,2,3])\n",
    "print(f\"float:{b.itemsize}\")"
   ]
  },
  {
   "cell_type": "code",
   "execution_count": 74,
   "id": "f262409d",
   "metadata": {},
   "outputs": [
    {
     "data": {
      "text/plain": [
       "{1, 3, 5, 7, 9}"
      ]
     },
     "execution_count": 74,
     "metadata": {},
     "output_type": "execute_result"
    }
   ],
   "source": [
    "#Write a Python program that removes all duplicate elements from an array and returns a new array\n",
    "n=array('i',[1,3,5,1,3,7,9])\n",
    "x=set(n)\n",
    "x"
   ]
  },
  {
   "cell_type": "code",
   "execution_count": 76,
   "id": "e9930d9e",
   "metadata": {},
   "outputs": [
    {
     "name": "stdout",
     "output_type": "stream",
     "text": [
      "Missing number:15\n"
     ]
    }
   ],
   "source": [
    "#Write a Python program to find the missing number in a given array of numbers between 10 and 20.\n",
    "\n",
    "def test(num):\n",
    "    return sum(range(10,21))-sum(list(num))\n",
    "\n",
    "n=array('i',[10,11,12,13,14,16,17,18,19,20])\n",
    "print(f\"Missing number:{test(n)}\")"
   ]
  },
  {
   "cell_type": "code",
   "execution_count": null,
   "id": "ca892f7a",
   "metadata": {},
   "outputs": [],
   "source": []
  }
 ],
 "metadata": {
  "kernelspec": {
   "display_name": "Python 3 (ipykernel)",
   "language": "python",
   "name": "python3"
  },
  "language_info": {
   "codemirror_mode": {
    "name": "ipython",
    "version": 3
   },
   "file_extension": ".py",
   "mimetype": "text/x-python",
   "name": "python",
   "nbconvert_exporter": "python",
   "pygments_lexer": "ipython3",
   "version": "3.11.5"
  }
 },
 "nbformat": 4,
 "nbformat_minor": 5
}
