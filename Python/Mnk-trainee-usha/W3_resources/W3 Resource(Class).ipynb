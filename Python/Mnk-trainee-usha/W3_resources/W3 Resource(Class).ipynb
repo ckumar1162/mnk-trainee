{
 "cells": [
  {
   "cell_type": "code",
   "execution_count": 1,
   "id": "0a41aafd",
   "metadata": {},
   "outputs": [
    {
     "name": "stdout",
     "output_type": "stream",
     "text": [
      "Namespace of the array module:\n",
      "['ArrayType', '__doc__', '__loader__', '__name__', '__package__', '__spec__', '_array_reconstructor', 'array', 'typecodes']\n"
     ]
    }
   ],
   "source": [
    "# Write a Python program to import a built-in array module and display the namespace of the said module\n",
    "import array\n",
    "print(\"Namespace of the array module:\")\n",
    "print(dir(array))"
   ]
  },
  {
   "cell_type": "code",
   "execution_count": 3,
   "id": "71ca99b1",
   "metadata": {},
   "outputs": [
    {
     "name": "stdout",
     "output_type": "stream",
     "text": [
      "Namespace of myclass: \n",
      "{'__module__': '__main__', 'class_variable1': 20, 'class_variable2': 'I am jully', 'method1': <function Myclass.method1 at 0x0000015820DEA700>, '__dict__': <attribute '__dict__' of 'Myclass' objects>, '__weakref__': <attribute '__weakref__' of 'Myclass' objects>, '__doc__': None}\n"
     ]
    }
   ],
   "source": [
    "#Write a Python program to create a class and display the namespace of that class\n",
    "class Myclass:\n",
    "    class_variable1=20\n",
    "    class_variable2=\"I am jully\"\n",
    "    \n",
    "    def method1(self):\n",
    "        return \"this is method\"\n",
    "    \n",
    "print(\"Namespace of myclass: \")\n",
    "print(Myclass.__dict__)"
   ]
  },
  {
   "cell_type": "code",
   "execution_count": 6,
   "id": "4ea02a45",
   "metadata": {},
   "outputs": [
    {
     "name": "stdout",
     "output_type": "stream",
     "text": [
      "{'name': 'jenny', 'age': 30}\n"
     ]
    }
   ],
   "source": [
    "#Write a  Python program to create an instance of a specified class and display the namespace of the said instance\n",
    "class Employee:\n",
    "    def __init__(self,name,age):\n",
    "        self.name=name\n",
    "        self.age=age\n",
    "s=Employee(\"jenny\",30)\n",
    "print(s.__dict__)"
   ]
  },
  {
   "cell_type": "code",
   "execution_count": 7,
   "id": "03688dfc",
   "metadata": {},
   "outputs": [
    {
     "name": "stdout",
     "output_type": "stream",
     "text": [
      "Help on built-in function abs in module builtins:\n",
      "\n",
      "abs(x, /)\n",
      "    Return the absolute value of the argument.\n",
      "\n",
      "155\n"
     ]
    }
   ],
   "source": [
    "import builtins\n",
    "help(builtins.abs)\n",
    "print(builtins.abs(-155))"
   ]
  },
  {
   "cell_type": "code",
   "execution_count": 9,
   "id": "069fe8ef",
   "metadata": {},
   "outputs": [
    {
     "name": "stdout",
     "output_type": "stream",
     "text": [
      "Student ID :121\n",
      "Student Name :jenny\n",
      "Age :30\n"
     ]
    }
   ],
   "source": [
    "#Define a  Python function student(). Using function attributes display the names of all arguments\n",
    "def student(id,name,age):\n",
    "    print(f\"Student ID :{id}\\nStudent Name :{name}\\nAge :{age}\")\n",
    "student(121,\"jenny\",30)    "
   ]
  },
  {
   "cell_type": "code",
   "execution_count": null,
   "id": "b8002a45",
   "metadata": {},
   "outputs": [],
   "source": []
  }
 ],
 "metadata": {
  "kernelspec": {
   "display_name": "Python 3 (ipykernel)",
   "language": "python",
   "name": "python3"
  },
  "language_info": {
   "codemirror_mode": {
    "name": "ipython",
    "version": 3
   },
   "file_extension": ".py",
   "mimetype": "text/x-python",
   "name": "python",
   "nbconvert_exporter": "python",
   "pygments_lexer": "ipython3",
   "version": "3.11.5"
  }
 },
 "nbformat": 4,
 "nbformat_minor": 5
}
